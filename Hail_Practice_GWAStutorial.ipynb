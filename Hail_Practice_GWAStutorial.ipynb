{
 "cells": [
  {
   "cell_type": "code",
   "execution_count": 1,
   "id": "f0548c20",
   "metadata": {},
   "outputs": [],
   "source": [
    "import hail as hl"
   ]
  },
  {
   "cell_type": "code",
   "execution_count": 2,
   "id": "7c75c533",
   "metadata": {},
   "outputs": [],
   "source": [
    "from hail.plot import show"
   ]
  },
  {
   "cell_type": "code",
   "execution_count": 3,
   "id": "72a29568",
   "metadata": {},
   "outputs": [],
   "source": [
    "from pprint import pprint"
   ]
  },
  {
   "cell_type": "code",
   "execution_count": 4,
   "id": "99ebbf9d",
   "metadata": {},
   "outputs": [
    {
     "data": {
      "text/html": [
       "\n",
       "    <div class=\"bk-root\">\n",
       "        <a href=\"https://bokeh.org\" target=\"_blank\" class=\"bk-logo bk-logo-small bk-logo-notebook\"></a>\n",
       "        <span id=\"1001\">Loading BokehJS ...</span>\n",
       "    </div>"
      ]
     },
     "metadata": {},
     "output_type": "display_data"
    },
    {
     "data": {
      "application/javascript": [
       "\n",
       "(function(root) {\n",
       "  function now() {\n",
       "    return new Date();\n",
       "  }\n",
       "\n",
       "  var force = true;\n",
       "\n",
       "  if (typeof root._bokeh_onload_callbacks === \"undefined\" || force === true) {\n",
       "    root._bokeh_onload_callbacks = [];\n",
       "    root._bokeh_is_loading = undefined;\n",
       "  }\n",
       "\n",
       "  var JS_MIME_TYPE = 'application/javascript';\n",
       "  var HTML_MIME_TYPE = 'text/html';\n",
       "  var EXEC_MIME_TYPE = 'application/vnd.bokehjs_exec.v0+json';\n",
       "  var CLASS_NAME = 'output_bokeh rendered_html';\n",
       "\n",
       "  /**\n",
       "   * Render data to the DOM node\n",
       "   */\n",
       "  function render(props, node) {\n",
       "    var script = document.createElement(\"script\");\n",
       "    node.appendChild(script);\n",
       "  }\n",
       "\n",
       "  /**\n",
       "   * Handle when an output is cleared or removed\n",
       "   */\n",
       "  function handleClearOutput(event, handle) {\n",
       "    var cell = handle.cell;\n",
       "\n",
       "    var id = cell.output_area._bokeh_element_id;\n",
       "    var server_id = cell.output_area._bokeh_server_id;\n",
       "    // Clean up Bokeh references\n",
       "    if (id != null && id in Bokeh.index) {\n",
       "      Bokeh.index[id].model.document.clear();\n",
       "      delete Bokeh.index[id];\n",
       "    }\n",
       "\n",
       "    if (server_id !== undefined) {\n",
       "      // Clean up Bokeh references\n",
       "      var cmd = \"from bokeh.io.state import curstate; print(curstate().uuid_to_server['\" + server_id + \"'].get_sessions()[0].document.roots[0]._id)\";\n",
       "      cell.notebook.kernel.execute(cmd, {\n",
       "        iopub: {\n",
       "          output: function(msg) {\n",
       "            var id = msg.content.text.trim();\n",
       "            if (id in Bokeh.index) {\n",
       "              Bokeh.index[id].model.document.clear();\n",
       "              delete Bokeh.index[id];\n",
       "            }\n",
       "          }\n",
       "        }\n",
       "      });\n",
       "      // Destroy server and session\n",
       "      var cmd = \"import bokeh.io.notebook as ion; ion.destroy_server('\" + server_id + \"')\";\n",
       "      cell.notebook.kernel.execute(cmd);\n",
       "    }\n",
       "  }\n",
       "\n",
       "  /**\n",
       "   * Handle when a new output is added\n",
       "   */\n",
       "  function handleAddOutput(event, handle) {\n",
       "    var output_area = handle.output_area;\n",
       "    var output = handle.output;\n",
       "\n",
       "    // limit handleAddOutput to display_data with EXEC_MIME_TYPE content only\n",
       "    if ((output.output_type != \"display_data\") || (!output.data.hasOwnProperty(EXEC_MIME_TYPE))) {\n",
       "      return\n",
       "    }\n",
       "\n",
       "    var toinsert = output_area.element.find(\".\" + CLASS_NAME.split(' ')[0]);\n",
       "\n",
       "    if (output.metadata[EXEC_MIME_TYPE][\"id\"] !== undefined) {\n",
       "      toinsert[toinsert.length - 1].firstChild.textContent = output.data[JS_MIME_TYPE];\n",
       "      // store reference to embed id on output_area\n",
       "      output_area._bokeh_element_id = output.metadata[EXEC_MIME_TYPE][\"id\"];\n",
       "    }\n",
       "    if (output.metadata[EXEC_MIME_TYPE][\"server_id\"] !== undefined) {\n",
       "      var bk_div = document.createElement(\"div\");\n",
       "      bk_div.innerHTML = output.data[HTML_MIME_TYPE];\n",
       "      var script_attrs = bk_div.children[0].attributes;\n",
       "      for (var i = 0; i < script_attrs.length; i++) {\n",
       "        toinsert[toinsert.length - 1].firstChild.setAttribute(script_attrs[i].name, script_attrs[i].value);\n",
       "      }\n",
       "      // store reference to server id on output_area\n",
       "      output_area._bokeh_server_id = output.metadata[EXEC_MIME_TYPE][\"server_id\"];\n",
       "    }\n",
       "  }\n",
       "\n",
       "  function register_renderer(events, OutputArea) {\n",
       "\n",
       "    function append_mime(data, metadata, element) {\n",
       "      // create a DOM node to render to\n",
       "      var toinsert = this.create_output_subarea(\n",
       "        metadata,\n",
       "        CLASS_NAME,\n",
       "        EXEC_MIME_TYPE\n",
       "      );\n",
       "      this.keyboard_manager.register_events(toinsert);\n",
       "      // Render to node\n",
       "      var props = {data: data, metadata: metadata[EXEC_MIME_TYPE]};\n",
       "      render(props, toinsert[toinsert.length - 1]);\n",
       "      element.append(toinsert);\n",
       "      return toinsert\n",
       "    }\n",
       "\n",
       "    /* Handle when an output is cleared or removed */\n",
       "    events.on('clear_output.CodeCell', handleClearOutput);\n",
       "    events.on('delete.Cell', handleClearOutput);\n",
       "\n",
       "    /* Handle when a new output is added */\n",
       "    events.on('output_added.OutputArea', handleAddOutput);\n",
       "\n",
       "    /**\n",
       "     * Register the mime type and append_mime function with output_area\n",
       "     */\n",
       "    OutputArea.prototype.register_mime_type(EXEC_MIME_TYPE, append_mime, {\n",
       "      /* Is output safe? */\n",
       "      safe: true,\n",
       "      /* Index of renderer in `output_area.display_order` */\n",
       "      index: 0\n",
       "    });\n",
       "  }\n",
       "\n",
       "  // register the mime type if in Jupyter Notebook environment and previously unregistered\n",
       "  if (root.Jupyter !== undefined) {\n",
       "    var events = require('base/js/events');\n",
       "    var OutputArea = require('notebook/js/outputarea').OutputArea;\n",
       "\n",
       "    if (OutputArea.prototype.mime_types().indexOf(EXEC_MIME_TYPE) == -1) {\n",
       "      register_renderer(events, OutputArea);\n",
       "    }\n",
       "  }\n",
       "\n",
       "  \n",
       "  if (typeof (root._bokeh_timeout) === \"undefined\" || force === true) {\n",
       "    root._bokeh_timeout = Date.now() + 5000;\n",
       "    root._bokeh_failed_load = false;\n",
       "  }\n",
       "\n",
       "  var NB_LOAD_WARNING = {'data': {'text/html':\n",
       "     \"<div style='background-color: #fdd'>\\n\"+\n",
       "     \"<p>\\n\"+\n",
       "     \"BokehJS does not appear to have successfully loaded. If loading BokehJS from CDN, this \\n\"+\n",
       "     \"may be due to a slow or bad network connection. Possible fixes:\\n\"+\n",
       "     \"</p>\\n\"+\n",
       "     \"<ul>\\n\"+\n",
       "     \"<li>re-rerun `output_notebook()` to attempt to load from CDN again, or</li>\\n\"+\n",
       "     \"<li>use INLINE resources instead, as so:</li>\\n\"+\n",
       "     \"</ul>\\n\"+\n",
       "     \"<code>\\n\"+\n",
       "     \"from bokeh.resources import INLINE\\n\"+\n",
       "     \"output_notebook(resources=INLINE)\\n\"+\n",
       "     \"</code>\\n\"+\n",
       "     \"</div>\"}};\n",
       "\n",
       "  function display_loaded() {\n",
       "    var el = document.getElementById(\"1001\");\n",
       "    if (el != null) {\n",
       "      el.textContent = \"BokehJS is loading...\";\n",
       "    }\n",
       "    if (root.Bokeh !== undefined) {\n",
       "      if (el != null) {\n",
       "        el.textContent = \"BokehJS \" + root.Bokeh.version + \" successfully loaded.\";\n",
       "      }\n",
       "    } else if (Date.now() < root._bokeh_timeout) {\n",
       "      setTimeout(display_loaded, 100)\n",
       "    }\n",
       "  }\n",
       "\n",
       "\n",
       "  function run_callbacks() {\n",
       "    try {\n",
       "      root._bokeh_onload_callbacks.forEach(function(callback) {\n",
       "        if (callback != null)\n",
       "          callback();\n",
       "      });\n",
       "    } finally {\n",
       "      delete root._bokeh_onload_callbacks\n",
       "    }\n",
       "    console.debug(\"Bokeh: all callbacks have finished\");\n",
       "  }\n",
       "\n",
       "  function load_libs(css_urls, js_urls, callback) {\n",
       "    if (css_urls == null) css_urls = [];\n",
       "    if (js_urls == null) js_urls = [];\n",
       "\n",
       "    root._bokeh_onload_callbacks.push(callback);\n",
       "    if (root._bokeh_is_loading > 0) {\n",
       "      console.debug(\"Bokeh: BokehJS is being loaded, scheduling callback at\", now());\n",
       "      return null;\n",
       "    }\n",
       "    if (js_urls == null || js_urls.length === 0) {\n",
       "      run_callbacks();\n",
       "      return null;\n",
       "    }\n",
       "    console.debug(\"Bokeh: BokehJS not loaded, scheduling load and callback at\", now());\n",
       "    root._bokeh_is_loading = css_urls.length + js_urls.length;\n",
       "\n",
       "    function on_load() {\n",
       "      root._bokeh_is_loading--;\n",
       "      if (root._bokeh_is_loading === 0) {\n",
       "        console.debug(\"Bokeh: all BokehJS libraries/stylesheets loaded\");\n",
       "        run_callbacks()\n",
       "      }\n",
       "    }\n",
       "\n",
       "    function on_error() {\n",
       "      console.error(\"failed to load \" + url);\n",
       "    }\n",
       "\n",
       "    for (var i = 0; i < css_urls.length; i++) {\n",
       "      var url = css_urls[i];\n",
       "      const element = document.createElement(\"link\");\n",
       "      element.onload = on_load;\n",
       "      element.onerror = on_error;\n",
       "      element.rel = \"stylesheet\";\n",
       "      element.type = \"text/css\";\n",
       "      element.href = url;\n",
       "      console.debug(\"Bokeh: injecting link tag for BokehJS stylesheet: \", url);\n",
       "      document.body.appendChild(element);\n",
       "    }\n",
       "\n",
       "    for (var i = 0; i < js_urls.length; i++) {\n",
       "      var url = js_urls[i];\n",
       "      var element = document.createElement('script');\n",
       "      element.onload = on_load;\n",
       "      element.onerror = on_error;\n",
       "      element.async = false;\n",
       "      element.src = url;\n",
       "      console.debug(\"Bokeh: injecting script tag for BokehJS library: \", url);\n",
       "      document.head.appendChild(element);\n",
       "    }\n",
       "  };var element = document.getElementById(\"1001\");\n",
       "  if (element == null) {\n",
       "    console.error(\"Bokeh: ERROR: autoload.js configured with elementid '1001' but no matching script tag was found. \")\n",
       "    return false;\n",
       "  }\n",
       "\n",
       "  function inject_raw_css(css) {\n",
       "    const element = document.createElement(\"style\");\n",
       "    element.appendChild(document.createTextNode(css));\n",
       "    document.body.appendChild(element);\n",
       "  }\n",
       "\n",
       "  \n",
       "  var js_urls = [\"https://cdn.pydata.org/bokeh/release/bokeh-1.4.0.min.js\", \"https://cdn.pydata.org/bokeh/release/bokeh-widgets-1.4.0.min.js\", \"https://cdn.pydata.org/bokeh/release/bokeh-tables-1.4.0.min.js\", \"https://cdn.pydata.org/bokeh/release/bokeh-gl-1.4.0.min.js\"];\n",
       "  var css_urls = [];\n",
       "  \n",
       "\n",
       "  var inline_js = [\n",
       "    function(Bokeh) {\n",
       "      Bokeh.set_log_level(\"info\");\n",
       "    },\n",
       "    function(Bokeh) {\n",
       "    \n",
       "    \n",
       "    }\n",
       "  ];\n",
       "\n",
       "  function run_inline_js() {\n",
       "    \n",
       "    if (root.Bokeh !== undefined || force === true) {\n",
       "      \n",
       "    for (var i = 0; i < inline_js.length; i++) {\n",
       "      inline_js[i].call(root, root.Bokeh);\n",
       "    }\n",
       "    if (force === true) {\n",
       "        display_loaded();\n",
       "      }} else if (Date.now() < root._bokeh_timeout) {\n",
       "      setTimeout(run_inline_js, 100);\n",
       "    } else if (!root._bokeh_failed_load) {\n",
       "      console.log(\"Bokeh: BokehJS failed to load within specified timeout.\");\n",
       "      root._bokeh_failed_load = true;\n",
       "    } else if (force !== true) {\n",
       "      var cell = $(document.getElementById(\"1001\")).parents('.cell').data().cell;\n",
       "      cell.output_area.append_execute_result(NB_LOAD_WARNING)\n",
       "    }\n",
       "\n",
       "  }\n",
       "\n",
       "  if (root._bokeh_is_loading === 0) {\n",
       "    console.debug(\"Bokeh: BokehJS loaded, going straight to plotting\");\n",
       "    run_inline_js();\n",
       "  } else {\n",
       "    load_libs(css_urls, js_urls, function() {\n",
       "      console.debug(\"Bokeh: BokehJS plotting callback run at\", now());\n",
       "      run_inline_js();\n",
       "    });\n",
       "  }\n",
       "}(window));"
      ],
      "application/vnd.bokehjs_load.v0+json": "\n(function(root) {\n  function now() {\n    return new Date();\n  }\n\n  var force = true;\n\n  if (typeof root._bokeh_onload_callbacks === \"undefined\" || force === true) {\n    root._bokeh_onload_callbacks = [];\n    root._bokeh_is_loading = undefined;\n  }\n\n  \n\n  \n  if (typeof (root._bokeh_timeout) === \"undefined\" || force === true) {\n    root._bokeh_timeout = Date.now() + 5000;\n    root._bokeh_failed_load = false;\n  }\n\n  var NB_LOAD_WARNING = {'data': {'text/html':\n     \"<div style='background-color: #fdd'>\\n\"+\n     \"<p>\\n\"+\n     \"BokehJS does not appear to have successfully loaded. If loading BokehJS from CDN, this \\n\"+\n     \"may be due to a slow or bad network connection. Possible fixes:\\n\"+\n     \"</p>\\n\"+\n     \"<ul>\\n\"+\n     \"<li>re-rerun `output_notebook()` to attempt to load from CDN again, or</li>\\n\"+\n     \"<li>use INLINE resources instead, as so:</li>\\n\"+\n     \"</ul>\\n\"+\n     \"<code>\\n\"+\n     \"from bokeh.resources import INLINE\\n\"+\n     \"output_notebook(resources=INLINE)\\n\"+\n     \"</code>\\n\"+\n     \"</div>\"}};\n\n  function display_loaded() {\n    var el = document.getElementById(\"1001\");\n    if (el != null) {\n      el.textContent = \"BokehJS is loading...\";\n    }\n    if (root.Bokeh !== undefined) {\n      if (el != null) {\n        el.textContent = \"BokehJS \" + root.Bokeh.version + \" successfully loaded.\";\n      }\n    } else if (Date.now() < root._bokeh_timeout) {\n      setTimeout(display_loaded, 100)\n    }\n  }\n\n\n  function run_callbacks() {\n    try {\n      root._bokeh_onload_callbacks.forEach(function(callback) {\n        if (callback != null)\n          callback();\n      });\n    } finally {\n      delete root._bokeh_onload_callbacks\n    }\n    console.debug(\"Bokeh: all callbacks have finished\");\n  }\n\n  function load_libs(css_urls, js_urls, callback) {\n    if (css_urls == null) css_urls = [];\n    if (js_urls == null) js_urls = [];\n\n    root._bokeh_onload_callbacks.push(callback);\n    if (root._bokeh_is_loading > 0) {\n      console.debug(\"Bokeh: BokehJS is being loaded, scheduling callback at\", now());\n      return null;\n    }\n    if (js_urls == null || js_urls.length === 0) {\n      run_callbacks();\n      return null;\n    }\n    console.debug(\"Bokeh: BokehJS not loaded, scheduling load and callback at\", now());\n    root._bokeh_is_loading = css_urls.length + js_urls.length;\n\n    function on_load() {\n      root._bokeh_is_loading--;\n      if (root._bokeh_is_loading === 0) {\n        console.debug(\"Bokeh: all BokehJS libraries/stylesheets loaded\");\n        run_callbacks()\n      }\n    }\n\n    function on_error() {\n      console.error(\"failed to load \" + url);\n    }\n\n    for (var i = 0; i < css_urls.length; i++) {\n      var url = css_urls[i];\n      const element = document.createElement(\"link\");\n      element.onload = on_load;\n      element.onerror = on_error;\n      element.rel = \"stylesheet\";\n      element.type = \"text/css\";\n      element.href = url;\n      console.debug(\"Bokeh: injecting link tag for BokehJS stylesheet: \", url);\n      document.body.appendChild(element);\n    }\n\n    for (var i = 0; i < js_urls.length; i++) {\n      var url = js_urls[i];\n      var element = document.createElement('script');\n      element.onload = on_load;\n      element.onerror = on_error;\n      element.async = false;\n      element.src = url;\n      console.debug(\"Bokeh: injecting script tag for BokehJS library: \", url);\n      document.head.appendChild(element);\n    }\n  };var element = document.getElementById(\"1001\");\n  if (element == null) {\n    console.error(\"Bokeh: ERROR: autoload.js configured with elementid '1001' but no matching script tag was found. \")\n    return false;\n  }\n\n  function inject_raw_css(css) {\n    const element = document.createElement(\"style\");\n    element.appendChild(document.createTextNode(css));\n    document.body.appendChild(element);\n  }\n\n  \n  var js_urls = [\"https://cdn.pydata.org/bokeh/release/bokeh-1.4.0.min.js\", \"https://cdn.pydata.org/bokeh/release/bokeh-widgets-1.4.0.min.js\", \"https://cdn.pydata.org/bokeh/release/bokeh-tables-1.4.0.min.js\", \"https://cdn.pydata.org/bokeh/release/bokeh-gl-1.4.0.min.js\"];\n  var css_urls = [];\n  \n\n  var inline_js = [\n    function(Bokeh) {\n      Bokeh.set_log_level(\"info\");\n    },\n    function(Bokeh) {\n    \n    \n    }\n  ];\n\n  function run_inline_js() {\n    \n    if (root.Bokeh !== undefined || force === true) {\n      \n    for (var i = 0; i < inline_js.length; i++) {\n      inline_js[i].call(root, root.Bokeh);\n    }\n    if (force === true) {\n        display_loaded();\n      }} else if (Date.now() < root._bokeh_timeout) {\n      setTimeout(run_inline_js, 100);\n    } else if (!root._bokeh_failed_load) {\n      console.log(\"Bokeh: BokehJS failed to load within specified timeout.\");\n      root._bokeh_failed_load = true;\n    } else if (force !== true) {\n      var cell = $(document.getElementById(\"1001\")).parents('.cell').data().cell;\n      cell.output_area.append_execute_result(NB_LOAD_WARNING)\n    }\n\n  }\n\n  if (root._bokeh_is_loading === 0) {\n    console.debug(\"Bokeh: BokehJS loaded, going straight to plotting\");\n    run_inline_js();\n  } else {\n    load_libs(css_urls, js_urls, function() {\n      console.debug(\"Bokeh: BokehJS plotting callback run at\", now());\n      run_inline_js();\n    });\n  }\n}(window));"
     },
     "metadata": {},
     "output_type": "display_data"
    }
   ],
   "source": [
    " hl.plot.output_notebook()"
   ]
  },
  {
   "cell_type": "code",
   "execution_count": 5,
   "id": "95fb688c",
   "metadata": {
    "scrolled": true
   },
   "outputs": [
    {
     "name": "stderr",
     "output_type": "stream",
     "text": [
      "Initializing Hail with default parameters...\n"
     ]
    },
    {
     "name": "stdout",
     "output_type": "stream",
     "text": [
      "2021-09-24 13:22:06 WARN  Utils:69 - Your hostname, DESKTOP-QBM5TNS resolves to a loopback address: 127.0.1.1; using 172.30.1.39 instead (on interface wifi0)\n",
      "2021-09-24 13:22:06 WARN  Utils:69 - Set SPARK_LOCAL_IP if you need to bind to another address\n",
      "2021-09-24 13:22:07 WARN  NativeCodeLoader:60 - Unable to load native-hadoop library for your platform... using builtin-java classes where applicable\n"
     ]
    },
    {
     "name": "stderr",
     "output_type": "stream",
     "text": [
      "Setting default log level to \"WARN\".\n",
      "To adjust logging level use sc.setLogLevel(newLevel). For SparkR, use setLogLevel(newLevel).\n"
     ]
    },
    {
     "name": "stdout",
     "output_type": "stream",
     "text": [
      "2021-09-24 13:22:09 WARN  Hail:43 - This Hail JAR was compiled for Spark 3.1.1, running with Spark 3.1.2.\n",
      "  Compatibility is not guaranteed.\n"
     ]
    },
    {
     "name": "stderr",
     "output_type": "stream",
     "text": [
      "Running on Apache Spark version 3.1.2\n",
      "SparkUI available at http://172.30.1.39:4040\n",
      "Welcome to\n",
      "     __  __     <>__\n",
      "    / /_/ /__  __/ /\n",
      "   / __  / _ `/ / /\n",
      "  /_/ /_/\\_,_/_/_/   version 0.2.75-52791e9868e4\n",
      "LOGGING: writing to /mnt/c/ubuntu/hail-20210924-1321-0.2.75-52791e9868e4.log\n"
     ]
    }
   ],
   "source": [
    "mt = hl.read_matrix_table('data/1kg.mt')"
   ]
  },
  {
   "cell_type": "markdown",
   "id": "89e2550f",
   "metadata": {},
   "source": [
    "# Getting to Know our Data"
   ]
  },
  {
   "cell_type": "code",
   "execution_count": 6,
   "id": "5bd02925",
   "metadata": {},
   "outputs": [
    {
     "name": "stdout",
     "output_type": "stream",
     "text": [
      "----------------------------------------\n",
      "Global fields:\n",
      "    None\n",
      "----------------------------------------\n",
      "Column fields:\n",
      "    's': str\n",
      "----------------------------------------\n",
      "Row fields:\n",
      "    'locus': locus<GRCh37>\n",
      "    'alleles': array<str>\n",
      "    'rsid': str\n",
      "    'qual': float64\n",
      "    'filters': set<str>\n",
      "    'info': struct {\n",
      "        AC: array<int32>, \n",
      "        AF: array<float64>, \n",
      "        AN: int32, \n",
      "        BaseQRankSum: float64, \n",
      "        ClippingRankSum: float64, \n",
      "        DP: int32, \n",
      "        DS: bool, \n",
      "        FS: float64, \n",
      "        HaplotypeScore: float64, \n",
      "        InbreedingCoeff: float64, \n",
      "        MLEAC: array<int32>, \n",
      "        MLEAF: array<float64>, \n",
      "        MQ: float64, \n",
      "        MQ0: int32, \n",
      "        MQRankSum: float64, \n",
      "        QD: float64, \n",
      "        ReadPosRankSum: float64, \n",
      "        set: str\n",
      "    }\n",
      "----------------------------------------\n",
      "Entry fields:\n",
      "    'GT': call\n",
      "    'AD': array<int32>\n",
      "    'DP': int32\n",
      "    'GQ': int32\n",
      "    'PL': array<int32>\n",
      "----------------------------------------\n",
      "Column key: ['s']\n",
      "Row key: ['locus', 'alleles']\n",
      "----------------------------------------\n"
     ]
    }
   ],
   "source": [
    "mt.describe()"
   ]
  },
  {
   "cell_type": "markdown",
   "id": "8f903bbd",
   "metadata": {},
   "source": [
    "Row fields: fields that are stored once per row. These can contain information about the rows, or summary data calculated per row.\n",
    "\n",
    "Column fields: stored once per column. These can contain information about the columns, or summary data calculated per column.\n",
    "\n",
    "Entry fields: piece that makes this structure a matrix – there is an entry for each (row, column) pair."
   ]
  },
  {
   "cell_type": "code",
   "execution_count": 7,
   "id": "b3cce8c8",
   "metadata": {},
   "outputs": [
    {
     "name": "stderr",
     "output_type": "stream",
     "text": [
      "2021-09-24 13:22:19 Hail: WARN: entries(): Resulting entries table is sorted by '(row_key, col_key)'.\n",
      "    To preserve row-major matrix table order, first unkey columns with 'key_cols_by()'\n",
      "[Stage 0:>                                                          (0 + 1) / 1]\r"
     ]
    },
    {
     "data": {
      "text/html": [
       "<table><thead><tr><td style=\"white-space: nowrap; max-width: 500px; overflow: hidden; text-overflow: ellipsis; \" colspan=\"1\"><div style=\"text-align: left;\"></div></td><td style=\"white-space: nowrap; max-width: 500px; overflow: hidden; text-overflow: ellipsis; \" colspan=\"1\"><div style=\"text-align: left;\"></div></td><td style=\"white-space: nowrap; max-width: 500px; overflow: hidden; text-overflow: ellipsis; \" colspan=\"1\"><div style=\"text-align: left;\"></div></td><td style=\"white-space: nowrap; max-width: 500px; overflow: hidden; text-overflow: ellipsis; \" colspan=\"1\"><div style=\"text-align: left;\"></div></td><td style=\"white-space: nowrap; max-width: 500px; overflow: hidden; text-overflow: ellipsis; \" colspan=\"1\"><div style=\"text-align: left;\"></div></td><td style=\"white-space: nowrap; max-width: 500px; overflow: hidden; text-overflow: ellipsis; \" colspan=\"18\"><div style=\"text-align: left;\"></div></td><td style=\"white-space: nowrap; max-width: 500px; overflow: hidden; text-overflow: ellipsis; \" colspan=\"1\"><div style=\"text-align: left;\"></div></td><td style=\"white-space: nowrap; max-width: 500px; overflow: hidden; text-overflow: ellipsis; \" colspan=\"1\"><div style=\"text-align: left;\"></div></td><td style=\"white-space: nowrap; max-width: 500px; overflow: hidden; text-overflow: ellipsis; \" colspan=\"1\"><div style=\"text-align: left;\"></div></td><td style=\"white-space: nowrap; max-width: 500px; overflow: hidden; text-overflow: ellipsis; \" colspan=\"1\"><div style=\"text-align: left;\"></div></td><td style=\"white-space: nowrap; max-width: 500px; overflow: hidden; text-overflow: ellipsis; \" colspan=\"1\"><div style=\"text-align: left;\"></div></td><td style=\"white-space: nowrap; max-width: 500px; overflow: hidden; text-overflow: ellipsis; \" colspan=\"1\"><div style=\"text-align: left;\"></div></td></tr><tr><td style=\"white-space: nowrap; max-width: 500px; overflow: hidden; text-overflow: ellipsis; \" colspan=\"1\"><div style=\"text-align: left;\"></div></td><td style=\"white-space: nowrap; max-width: 500px; overflow: hidden; text-overflow: ellipsis; \" colspan=\"1\"><div style=\"text-align: left;\"></div></td><td style=\"white-space: nowrap; max-width: 500px; overflow: hidden; text-overflow: ellipsis; \" colspan=\"1\"><div style=\"text-align: left;\"></div></td><td style=\"white-space: nowrap; max-width: 500px; overflow: hidden; text-overflow: ellipsis; \" colspan=\"1\"><div style=\"text-align: left;\"></div></td><td style=\"white-space: nowrap; max-width: 500px; overflow: hidden; text-overflow: ellipsis; \" colspan=\"1\"><div style=\"text-align: left;\"></div></td><td style=\"white-space: nowrap; max-width: 500px; overflow: hidden; text-overflow: ellipsis; \" colspan=\"18\"><div style=\"text-align: left;border-bottom: solid 2px #000; padding-bottom: 5px\">info</div></td><td style=\"white-space: nowrap; max-width: 500px; overflow: hidden; text-overflow: ellipsis; \" colspan=\"1\"><div style=\"text-align: left;\"></div></td><td style=\"white-space: nowrap; max-width: 500px; overflow: hidden; text-overflow: ellipsis; \" colspan=\"1\"><div style=\"text-align: left;\"></div></td><td style=\"white-space: nowrap; max-width: 500px; overflow: hidden; text-overflow: ellipsis; \" colspan=\"1\"><div style=\"text-align: left;\"></div></td><td style=\"white-space: nowrap; max-width: 500px; overflow: hidden; text-overflow: ellipsis; \" colspan=\"1\"><div style=\"text-align: left;\"></div></td><td style=\"white-space: nowrap; max-width: 500px; overflow: hidden; text-overflow: ellipsis; \" colspan=\"1\"><div style=\"text-align: left;\"></div></td><td style=\"white-space: nowrap; max-width: 500px; overflow: hidden; text-overflow: ellipsis; \" colspan=\"1\"><div style=\"text-align: left;\"></div></td></tr><tr><td style=\"white-space: nowrap; max-width: 500px; overflow: hidden; text-overflow: ellipsis; \" colspan=\"1\"><div style=\"text-align: left;border-bottom: solid 2px #000; padding-bottom: 5px\">locus</div></td><td style=\"white-space: nowrap; max-width: 500px; overflow: hidden; text-overflow: ellipsis; \" colspan=\"1\"><div style=\"text-align: left;border-bottom: solid 2px #000; padding-bottom: 5px\">alleles</div></td><td style=\"white-space: nowrap; max-width: 500px; overflow: hidden; text-overflow: ellipsis; \" colspan=\"1\"><div style=\"text-align: left;border-bottom: solid 2px #000; padding-bottom: 5px\">rsid</div></td><td style=\"white-space: nowrap; max-width: 500px; overflow: hidden; text-overflow: ellipsis; \" colspan=\"1\"><div style=\"text-align: left;border-bottom: solid 2px #000; padding-bottom: 5px\">qual</div></td><td style=\"white-space: nowrap; max-width: 500px; overflow: hidden; text-overflow: ellipsis; \" colspan=\"1\"><div style=\"text-align: left;border-bottom: solid 2px #000; padding-bottom: 5px\">filters</div></td><td style=\"white-space: nowrap; max-width: 500px; overflow: hidden; text-overflow: ellipsis; \" colspan=\"1\"><div style=\"text-align: left;border-bottom: solid 2px #000; padding-bottom: 5px\">AC</div></td><td style=\"white-space: nowrap; max-width: 500px; overflow: hidden; text-overflow: ellipsis; \" colspan=\"1\"><div style=\"text-align: left;border-bottom: solid 2px #000; padding-bottom: 5px\">AF</div></td><td style=\"white-space: nowrap; max-width: 500px; overflow: hidden; text-overflow: ellipsis; \" colspan=\"1\"><div style=\"text-align: left;border-bottom: solid 2px #000; padding-bottom: 5px\">AN</div></td><td style=\"white-space: nowrap; max-width: 500px; overflow: hidden; text-overflow: ellipsis; \" colspan=\"1\"><div style=\"text-align: left;border-bottom: solid 2px #000; padding-bottom: 5px\">BaseQRankSum</div></td><td style=\"white-space: nowrap; max-width: 500px; overflow: hidden; text-overflow: ellipsis; \" colspan=\"1\"><div style=\"text-align: left;border-bottom: solid 2px #000; padding-bottom: 5px\">ClippingRankSum</div></td><td style=\"white-space: nowrap; max-width: 500px; overflow: hidden; text-overflow: ellipsis; \" colspan=\"1\"><div style=\"text-align: left;border-bottom: solid 2px #000; padding-bottom: 5px\">DP</div></td><td style=\"white-space: nowrap; max-width: 500px; overflow: hidden; text-overflow: ellipsis; \" colspan=\"1\"><div style=\"text-align: left;border-bottom: solid 2px #000; padding-bottom: 5px\">DS</div></td><td style=\"white-space: nowrap; max-width: 500px; overflow: hidden; text-overflow: ellipsis; \" colspan=\"1\"><div style=\"text-align: left;border-bottom: solid 2px #000; padding-bottom: 5px\">FS</div></td><td style=\"white-space: nowrap; max-width: 500px; overflow: hidden; text-overflow: ellipsis; \" colspan=\"1\"><div style=\"text-align: left;border-bottom: solid 2px #000; padding-bottom: 5px\">HaplotypeScore</div></td><td style=\"white-space: nowrap; max-width: 500px; overflow: hidden; text-overflow: ellipsis; \" colspan=\"1\"><div style=\"text-align: left;border-bottom: solid 2px #000; padding-bottom: 5px\">InbreedingCoeff</div></td><td style=\"white-space: nowrap; max-width: 500px; overflow: hidden; text-overflow: ellipsis; \" colspan=\"1\"><div style=\"text-align: left;border-bottom: solid 2px #000; padding-bottom: 5px\">MLEAC</div></td><td style=\"white-space: nowrap; max-width: 500px; overflow: hidden; text-overflow: ellipsis; \" colspan=\"1\"><div style=\"text-align: left;border-bottom: solid 2px #000; padding-bottom: 5px\">MLEAF</div></td><td style=\"white-space: nowrap; max-width: 500px; overflow: hidden; text-overflow: ellipsis; \" colspan=\"1\"><div style=\"text-align: left;border-bottom: solid 2px #000; padding-bottom: 5px\">MQ</div></td><td style=\"white-space: nowrap; max-width: 500px; overflow: hidden; text-overflow: ellipsis; \" colspan=\"1\"><div style=\"text-align: left;border-bottom: solid 2px #000; padding-bottom: 5px\">MQ0</div></td><td style=\"white-space: nowrap; max-width: 500px; overflow: hidden; text-overflow: ellipsis; \" colspan=\"1\"><div style=\"text-align: left;border-bottom: solid 2px #000; padding-bottom: 5px\">MQRankSum</div></td><td style=\"white-space: nowrap; max-width: 500px; overflow: hidden; text-overflow: ellipsis; \" colspan=\"1\"><div style=\"text-align: left;border-bottom: solid 2px #000; padding-bottom: 5px\">QD</div></td><td style=\"white-space: nowrap; max-width: 500px; overflow: hidden; text-overflow: ellipsis; \" colspan=\"1\"><div style=\"text-align: left;border-bottom: solid 2px #000; padding-bottom: 5px\">ReadPosRankSum</div></td><td style=\"white-space: nowrap; max-width: 500px; overflow: hidden; text-overflow: ellipsis; \" colspan=\"1\"><div style=\"text-align: left;border-bottom: solid 2px #000; padding-bottom: 5px\">set</div></td><td style=\"white-space: nowrap; max-width: 500px; overflow: hidden; text-overflow: ellipsis; \" colspan=\"1\"><div style=\"text-align: left;border-bottom: solid 2px #000; padding-bottom: 5px\">s</div></td><td style=\"white-space: nowrap; max-width: 500px; overflow: hidden; text-overflow: ellipsis; \" colspan=\"1\"><div style=\"text-align: left;border-bottom: solid 2px #000; padding-bottom: 5px\">GT</div></td><td style=\"white-space: nowrap; max-width: 500px; overflow: hidden; text-overflow: ellipsis; \" colspan=\"1\"><div style=\"text-align: left;border-bottom: solid 2px #000; padding-bottom: 5px\">AD</div></td><td style=\"white-space: nowrap; max-width: 500px; overflow: hidden; text-overflow: ellipsis; \" colspan=\"1\"><div style=\"text-align: left;border-bottom: solid 2px #000; padding-bottom: 5px\">DP</div></td><td style=\"white-space: nowrap; max-width: 500px; overflow: hidden; text-overflow: ellipsis; \" colspan=\"1\"><div style=\"text-align: left;border-bottom: solid 2px #000; padding-bottom: 5px\">GQ</div></td><td style=\"white-space: nowrap; max-width: 500px; overflow: hidden; text-overflow: ellipsis; \" colspan=\"1\"><div style=\"text-align: left;border-bottom: solid 2px #000; padding-bottom: 5px\">PL</div></td></tr><tr><td style=\"white-space: nowrap; max-width: 500px; overflow: hidden; text-overflow: ellipsis; text-align: left;\">locus&lt;GRCh37&gt;</td><td style=\"white-space: nowrap; max-width: 500px; overflow: hidden; text-overflow: ellipsis; text-align: left;\">array&lt;str&gt;</td><td style=\"white-space: nowrap; max-width: 500px; overflow: hidden; text-overflow: ellipsis; text-align: left;\">str</td><td style=\"white-space: nowrap; max-width: 500px; overflow: hidden; text-overflow: ellipsis; text-align: left;\">float64</td><td style=\"white-space: nowrap; max-width: 500px; overflow: hidden; text-overflow: ellipsis; text-align: left;\">set&lt;str&gt;</td><td style=\"white-space: nowrap; max-width: 500px; overflow: hidden; text-overflow: ellipsis; text-align: left;\">array&lt;int32&gt;</td><td style=\"white-space: nowrap; max-width: 500px; overflow: hidden; text-overflow: ellipsis; text-align: left;\">array&lt;float64&gt;</td><td style=\"white-space: nowrap; max-width: 500px; overflow: hidden; text-overflow: ellipsis; text-align: left;\">int32</td><td style=\"white-space: nowrap; max-width: 500px; overflow: hidden; text-overflow: ellipsis; text-align: left;\">float64</td><td style=\"white-space: nowrap; max-width: 500px; overflow: hidden; text-overflow: ellipsis; text-align: left;\">float64</td><td style=\"white-space: nowrap; max-width: 500px; overflow: hidden; text-overflow: ellipsis; text-align: left;\">int32</td><td style=\"white-space: nowrap; max-width: 500px; overflow: hidden; text-overflow: ellipsis; text-align: left;\">bool</td><td style=\"white-space: nowrap; max-width: 500px; overflow: hidden; text-overflow: ellipsis; text-align: left;\">float64</td><td style=\"white-space: nowrap; max-width: 500px; overflow: hidden; text-overflow: ellipsis; text-align: left;\">float64</td><td style=\"white-space: nowrap; max-width: 500px; overflow: hidden; text-overflow: ellipsis; text-align: left;\">float64</td><td style=\"white-space: nowrap; max-width: 500px; overflow: hidden; text-overflow: ellipsis; text-align: left;\">array&lt;int32&gt;</td><td style=\"white-space: nowrap; max-width: 500px; overflow: hidden; text-overflow: ellipsis; text-align: left;\">array&lt;float64&gt;</td><td style=\"white-space: nowrap; max-width: 500px; overflow: hidden; text-overflow: ellipsis; text-align: left;\">float64</td><td style=\"white-space: nowrap; max-width: 500px; overflow: hidden; text-overflow: ellipsis; text-align: left;\">int32</td><td style=\"white-space: nowrap; max-width: 500px; overflow: hidden; text-overflow: ellipsis; text-align: left;\">float64</td><td style=\"white-space: nowrap; max-width: 500px; overflow: hidden; text-overflow: ellipsis; text-align: left;\">float64</td><td style=\"white-space: nowrap; max-width: 500px; overflow: hidden; text-overflow: ellipsis; text-align: left;\">float64</td><td style=\"white-space: nowrap; max-width: 500px; overflow: hidden; text-overflow: ellipsis; text-align: left;\">str</td><td style=\"white-space: nowrap; max-width: 500px; overflow: hidden; text-overflow: ellipsis; text-align: left;\">str</td><td style=\"white-space: nowrap; max-width: 500px; overflow: hidden; text-overflow: ellipsis; text-align: left;\">call</td><td style=\"white-space: nowrap; max-width: 500px; overflow: hidden; text-overflow: ellipsis; text-align: left;\">array&lt;int32&gt;</td><td style=\"white-space: nowrap; max-width: 500px; overflow: hidden; text-overflow: ellipsis; text-align: left;\">int32</td><td style=\"white-space: nowrap; max-width: 500px; overflow: hidden; text-overflow: ellipsis; text-align: left;\">int32</td><td style=\"white-space: nowrap; max-width: 500px; overflow: hidden; text-overflow: ellipsis; text-align: left;\">array&lt;int32&gt;</td></tr>\n",
       "</thead><tbody><tr><td style=\"white-space: nowrap; max-width: 500px; overflow: hidden; text-overflow: ellipsis; \">1:904165</td><td style=\"white-space: nowrap; max-width: 500px; overflow: hidden; text-overflow: ellipsis; \">[&quot;G&quot;,&quot;A&quot;]</td><td style=\"white-space: nowrap; max-width: 500px; overflow: hidden; text-overflow: ellipsis; \">NA</td><td style=\"white-space: nowrap; max-width: 500px; overflow: hidden; text-overflow: ellipsis; \">5.23e+04</td><td style=\"white-space: nowrap; max-width: 500px; overflow: hidden; text-overflow: ellipsis; \">NA</td><td style=\"white-space: nowrap; max-width: 500px; overflow: hidden; text-overflow: ellipsis; \">[518]</td><td style=\"white-space: nowrap; max-width: 500px; overflow: hidden; text-overflow: ellipsis; \">[1.03e-01]</td><td style=\"white-space: nowrap; max-width: 500px; overflow: hidden; text-overflow: ellipsis; \">5020</td><td style=\"white-space: nowrap; max-width: 500px; overflow: hidden; text-overflow: ellipsis; \">-3.39e+00</td><td style=\"white-space: nowrap; max-width: 500px; overflow: hidden; text-overflow: ellipsis; \">-1.70e-01</td><td style=\"white-space: nowrap; max-width: 500px; overflow: hidden; text-overflow: ellipsis; \">17827</td><td style=\"white-space: nowrap; max-width: 500px; overflow: hidden; text-overflow: ellipsis; \">False</td><td style=\"white-space: nowrap; max-width: 500px; overflow: hidden; text-overflow: ellipsis; \">2.23e+00</td><td style=\"white-space: nowrap; max-width: 500px; overflow: hidden; text-overflow: ellipsis; \">NA</td><td style=\"white-space: nowrap; max-width: 500px; overflow: hidden; text-overflow: ellipsis; \">9.88e-02</td><td style=\"white-space: nowrap; max-width: 500px; overflow: hidden; text-overflow: ellipsis; \">[514]</td><td style=\"white-space: nowrap; max-width: 500px; overflow: hidden; text-overflow: ellipsis; \">[1.02e-01]</td><td style=\"white-space: nowrap; max-width: 500px; overflow: hidden; text-overflow: ellipsis; \">5.91e+01</td><td style=\"white-space: nowrap; max-width: 500px; overflow: hidden; text-overflow: ellipsis; \">0</td><td style=\"white-space: nowrap; max-width: 500px; overflow: hidden; text-overflow: ellipsis; \">1.45e+00</td><td style=\"white-space: nowrap; max-width: 500px; overflow: hidden; text-overflow: ellipsis; \">1.50e+01</td><td style=\"white-space: nowrap; max-width: 500px; overflow: hidden; text-overflow: ellipsis; \">6.29e+00</td><td style=\"white-space: nowrap; max-width: 500px; overflow: hidden; text-overflow: ellipsis; \">NA</td><td style=\"white-space: nowrap; max-width: 500px; overflow: hidden; text-overflow: ellipsis; \">&quot;HG00096&quot;</td><td style=\"white-space: nowrap; max-width: 500px; overflow: hidden; text-overflow: ellipsis; \">0/0</td><td style=\"white-space: nowrap; max-width: 500px; overflow: hidden; text-overflow: ellipsis; \">[4,0]</td><td style=\"white-space: nowrap; max-width: 500px; overflow: hidden; text-overflow: ellipsis; \">4</td><td style=\"white-space: nowrap; max-width: 500px; overflow: hidden; text-overflow: ellipsis; \">12</td><td style=\"white-space: nowrap; max-width: 500px; overflow: hidden; text-overflow: ellipsis; \">[0,12,147]</td></tr>\n",
       "<tr><td style=\"white-space: nowrap; max-width: 500px; overflow: hidden; text-overflow: ellipsis; \">1:904165</td><td style=\"white-space: nowrap; max-width: 500px; overflow: hidden; text-overflow: ellipsis; \">[&quot;G&quot;,&quot;A&quot;]</td><td style=\"white-space: nowrap; max-width: 500px; overflow: hidden; text-overflow: ellipsis; \">NA</td><td style=\"white-space: nowrap; max-width: 500px; overflow: hidden; text-overflow: ellipsis; \">5.23e+04</td><td style=\"white-space: nowrap; max-width: 500px; overflow: hidden; text-overflow: ellipsis; \">NA</td><td style=\"white-space: nowrap; max-width: 500px; overflow: hidden; text-overflow: ellipsis; \">[518]</td><td style=\"white-space: nowrap; max-width: 500px; overflow: hidden; text-overflow: ellipsis; \">[1.03e-01]</td><td style=\"white-space: nowrap; max-width: 500px; overflow: hidden; text-overflow: ellipsis; \">5020</td><td style=\"white-space: nowrap; max-width: 500px; overflow: hidden; text-overflow: ellipsis; \">-3.39e+00</td><td style=\"white-space: nowrap; max-width: 500px; overflow: hidden; text-overflow: ellipsis; \">-1.70e-01</td><td style=\"white-space: nowrap; max-width: 500px; overflow: hidden; text-overflow: ellipsis; \">17827</td><td style=\"white-space: nowrap; max-width: 500px; overflow: hidden; text-overflow: ellipsis; \">False</td><td style=\"white-space: nowrap; max-width: 500px; overflow: hidden; text-overflow: ellipsis; \">2.23e+00</td><td style=\"white-space: nowrap; max-width: 500px; overflow: hidden; text-overflow: ellipsis; \">NA</td><td style=\"white-space: nowrap; max-width: 500px; overflow: hidden; text-overflow: ellipsis; \">9.88e-02</td><td style=\"white-space: nowrap; max-width: 500px; overflow: hidden; text-overflow: ellipsis; \">[514]</td><td style=\"white-space: nowrap; max-width: 500px; overflow: hidden; text-overflow: ellipsis; \">[1.02e-01]</td><td style=\"white-space: nowrap; max-width: 500px; overflow: hidden; text-overflow: ellipsis; \">5.91e+01</td><td style=\"white-space: nowrap; max-width: 500px; overflow: hidden; text-overflow: ellipsis; \">0</td><td style=\"white-space: nowrap; max-width: 500px; overflow: hidden; text-overflow: ellipsis; \">1.45e+00</td><td style=\"white-space: nowrap; max-width: 500px; overflow: hidden; text-overflow: ellipsis; \">1.50e+01</td><td style=\"white-space: nowrap; max-width: 500px; overflow: hidden; text-overflow: ellipsis; \">6.29e+00</td><td style=\"white-space: nowrap; max-width: 500px; overflow: hidden; text-overflow: ellipsis; \">NA</td><td style=\"white-space: nowrap; max-width: 500px; overflow: hidden; text-overflow: ellipsis; \">&quot;HG00099&quot;</td><td style=\"white-space: nowrap; max-width: 500px; overflow: hidden; text-overflow: ellipsis; \">0/0</td><td style=\"white-space: nowrap; max-width: 500px; overflow: hidden; text-overflow: ellipsis; \">[8,0]</td><td style=\"white-space: nowrap; max-width: 500px; overflow: hidden; text-overflow: ellipsis; \">8</td><td style=\"white-space: nowrap; max-width: 500px; overflow: hidden; text-overflow: ellipsis; \">24</td><td style=\"white-space: nowrap; max-width: 500px; overflow: hidden; text-overflow: ellipsis; \">[0,24,315]</td></tr>\n",
       "<tr><td style=\"white-space: nowrap; max-width: 500px; overflow: hidden; text-overflow: ellipsis; \">1:904165</td><td style=\"white-space: nowrap; max-width: 500px; overflow: hidden; text-overflow: ellipsis; \">[&quot;G&quot;,&quot;A&quot;]</td><td style=\"white-space: nowrap; max-width: 500px; overflow: hidden; text-overflow: ellipsis; \">NA</td><td style=\"white-space: nowrap; max-width: 500px; overflow: hidden; text-overflow: ellipsis; \">5.23e+04</td><td style=\"white-space: nowrap; max-width: 500px; overflow: hidden; text-overflow: ellipsis; \">NA</td><td style=\"white-space: nowrap; max-width: 500px; overflow: hidden; text-overflow: ellipsis; \">[518]</td><td style=\"white-space: nowrap; max-width: 500px; overflow: hidden; text-overflow: ellipsis; \">[1.03e-01]</td><td style=\"white-space: nowrap; max-width: 500px; overflow: hidden; text-overflow: ellipsis; \">5020</td><td style=\"white-space: nowrap; max-width: 500px; overflow: hidden; text-overflow: ellipsis; \">-3.39e+00</td><td style=\"white-space: nowrap; max-width: 500px; overflow: hidden; text-overflow: ellipsis; \">-1.70e-01</td><td style=\"white-space: nowrap; max-width: 500px; overflow: hidden; text-overflow: ellipsis; \">17827</td><td style=\"white-space: nowrap; max-width: 500px; overflow: hidden; text-overflow: ellipsis; \">False</td><td style=\"white-space: nowrap; max-width: 500px; overflow: hidden; text-overflow: ellipsis; \">2.23e+00</td><td style=\"white-space: nowrap; max-width: 500px; overflow: hidden; text-overflow: ellipsis; \">NA</td><td style=\"white-space: nowrap; max-width: 500px; overflow: hidden; text-overflow: ellipsis; \">9.88e-02</td><td style=\"white-space: nowrap; max-width: 500px; overflow: hidden; text-overflow: ellipsis; \">[514]</td><td style=\"white-space: nowrap; max-width: 500px; overflow: hidden; text-overflow: ellipsis; \">[1.02e-01]</td><td style=\"white-space: nowrap; max-width: 500px; overflow: hidden; text-overflow: ellipsis; \">5.91e+01</td><td style=\"white-space: nowrap; max-width: 500px; overflow: hidden; text-overflow: ellipsis; \">0</td><td style=\"white-space: nowrap; max-width: 500px; overflow: hidden; text-overflow: ellipsis; \">1.45e+00</td><td style=\"white-space: nowrap; max-width: 500px; overflow: hidden; text-overflow: ellipsis; \">1.50e+01</td><td style=\"white-space: nowrap; max-width: 500px; overflow: hidden; text-overflow: ellipsis; \">6.29e+00</td><td style=\"white-space: nowrap; max-width: 500px; overflow: hidden; text-overflow: ellipsis; \">NA</td><td style=\"white-space: nowrap; max-width: 500px; overflow: hidden; text-overflow: ellipsis; \">&quot;HG00105&quot;</td><td style=\"white-space: nowrap; max-width: 500px; overflow: hidden; text-overflow: ellipsis; \">0/0</td><td style=\"white-space: nowrap; max-width: 500px; overflow: hidden; text-overflow: ellipsis; \">[8,0]</td><td style=\"white-space: nowrap; max-width: 500px; overflow: hidden; text-overflow: ellipsis; \">8</td><td style=\"white-space: nowrap; max-width: 500px; overflow: hidden; text-overflow: ellipsis; \">23</td><td style=\"white-space: nowrap; max-width: 500px; overflow: hidden; text-overflow: ellipsis; \">[0,23,230]</td></tr>\n",
       "<tr><td style=\"white-space: nowrap; max-width: 500px; overflow: hidden; text-overflow: ellipsis; \">1:904165</td><td style=\"white-space: nowrap; max-width: 500px; overflow: hidden; text-overflow: ellipsis; \">[&quot;G&quot;,&quot;A&quot;]</td><td style=\"white-space: nowrap; max-width: 500px; overflow: hidden; text-overflow: ellipsis; \">NA</td><td style=\"white-space: nowrap; max-width: 500px; overflow: hidden; text-overflow: ellipsis; \">5.23e+04</td><td style=\"white-space: nowrap; max-width: 500px; overflow: hidden; text-overflow: ellipsis; \">NA</td><td style=\"white-space: nowrap; max-width: 500px; overflow: hidden; text-overflow: ellipsis; \">[518]</td><td style=\"white-space: nowrap; max-width: 500px; overflow: hidden; text-overflow: ellipsis; \">[1.03e-01]</td><td style=\"white-space: nowrap; max-width: 500px; overflow: hidden; text-overflow: ellipsis; \">5020</td><td style=\"white-space: nowrap; max-width: 500px; overflow: hidden; text-overflow: ellipsis; \">-3.39e+00</td><td style=\"white-space: nowrap; max-width: 500px; overflow: hidden; text-overflow: ellipsis; \">-1.70e-01</td><td style=\"white-space: nowrap; max-width: 500px; overflow: hidden; text-overflow: ellipsis; \">17827</td><td style=\"white-space: nowrap; max-width: 500px; overflow: hidden; text-overflow: ellipsis; \">False</td><td style=\"white-space: nowrap; max-width: 500px; overflow: hidden; text-overflow: ellipsis; \">2.23e+00</td><td style=\"white-space: nowrap; max-width: 500px; overflow: hidden; text-overflow: ellipsis; \">NA</td><td style=\"white-space: nowrap; max-width: 500px; overflow: hidden; text-overflow: ellipsis; \">9.88e-02</td><td style=\"white-space: nowrap; max-width: 500px; overflow: hidden; text-overflow: ellipsis; \">[514]</td><td style=\"white-space: nowrap; max-width: 500px; overflow: hidden; text-overflow: ellipsis; \">[1.02e-01]</td><td style=\"white-space: nowrap; max-width: 500px; overflow: hidden; text-overflow: ellipsis; \">5.91e+01</td><td style=\"white-space: nowrap; max-width: 500px; overflow: hidden; text-overflow: ellipsis; \">0</td><td style=\"white-space: nowrap; max-width: 500px; overflow: hidden; text-overflow: ellipsis; \">1.45e+00</td><td style=\"white-space: nowrap; max-width: 500px; overflow: hidden; text-overflow: ellipsis; \">1.50e+01</td><td style=\"white-space: nowrap; max-width: 500px; overflow: hidden; text-overflow: ellipsis; \">6.29e+00</td><td style=\"white-space: nowrap; max-width: 500px; overflow: hidden; text-overflow: ellipsis; \">NA</td><td style=\"white-space: nowrap; max-width: 500px; overflow: hidden; text-overflow: ellipsis; \">&quot;HG00118&quot;</td><td style=\"white-space: nowrap; max-width: 500px; overflow: hidden; text-overflow: ellipsis; \">0/0</td><td style=\"white-space: nowrap; max-width: 500px; overflow: hidden; text-overflow: ellipsis; \">[7,0]</td><td style=\"white-space: nowrap; max-width: 500px; overflow: hidden; text-overflow: ellipsis; \">7</td><td style=\"white-space: nowrap; max-width: 500px; overflow: hidden; text-overflow: ellipsis; \">21</td><td style=\"white-space: nowrap; max-width: 500px; overflow: hidden; text-overflow: ellipsis; \">[0,21,270]</td></tr>\n",
       "<tr><td style=\"white-space: nowrap; max-width: 500px; overflow: hidden; text-overflow: ellipsis; \">1:904165</td><td style=\"white-space: nowrap; max-width: 500px; overflow: hidden; text-overflow: ellipsis; \">[&quot;G&quot;,&quot;A&quot;]</td><td style=\"white-space: nowrap; max-width: 500px; overflow: hidden; text-overflow: ellipsis; \">NA</td><td style=\"white-space: nowrap; max-width: 500px; overflow: hidden; text-overflow: ellipsis; \">5.23e+04</td><td style=\"white-space: nowrap; max-width: 500px; overflow: hidden; text-overflow: ellipsis; \">NA</td><td style=\"white-space: nowrap; max-width: 500px; overflow: hidden; text-overflow: ellipsis; \">[518]</td><td style=\"white-space: nowrap; max-width: 500px; overflow: hidden; text-overflow: ellipsis; \">[1.03e-01]</td><td style=\"white-space: nowrap; max-width: 500px; overflow: hidden; text-overflow: ellipsis; \">5020</td><td style=\"white-space: nowrap; max-width: 500px; overflow: hidden; text-overflow: ellipsis; \">-3.39e+00</td><td style=\"white-space: nowrap; max-width: 500px; overflow: hidden; text-overflow: ellipsis; \">-1.70e-01</td><td style=\"white-space: nowrap; max-width: 500px; overflow: hidden; text-overflow: ellipsis; \">17827</td><td style=\"white-space: nowrap; max-width: 500px; overflow: hidden; text-overflow: ellipsis; \">False</td><td style=\"white-space: nowrap; max-width: 500px; overflow: hidden; text-overflow: ellipsis; \">2.23e+00</td><td style=\"white-space: nowrap; max-width: 500px; overflow: hidden; text-overflow: ellipsis; \">NA</td><td style=\"white-space: nowrap; max-width: 500px; overflow: hidden; text-overflow: ellipsis; \">9.88e-02</td><td style=\"white-space: nowrap; max-width: 500px; overflow: hidden; text-overflow: ellipsis; \">[514]</td><td style=\"white-space: nowrap; max-width: 500px; overflow: hidden; text-overflow: ellipsis; \">[1.02e-01]</td><td style=\"white-space: nowrap; max-width: 500px; overflow: hidden; text-overflow: ellipsis; \">5.91e+01</td><td style=\"white-space: nowrap; max-width: 500px; overflow: hidden; text-overflow: ellipsis; \">0</td><td style=\"white-space: nowrap; max-width: 500px; overflow: hidden; text-overflow: ellipsis; \">1.45e+00</td><td style=\"white-space: nowrap; max-width: 500px; overflow: hidden; text-overflow: ellipsis; \">1.50e+01</td><td style=\"white-space: nowrap; max-width: 500px; overflow: hidden; text-overflow: ellipsis; \">6.29e+00</td><td style=\"white-space: nowrap; max-width: 500px; overflow: hidden; text-overflow: ellipsis; \">NA</td><td style=\"white-space: nowrap; max-width: 500px; overflow: hidden; text-overflow: ellipsis; \">&quot;HG00129&quot;</td><td style=\"white-space: nowrap; max-width: 500px; overflow: hidden; text-overflow: ellipsis; \">0/0</td><td style=\"white-space: nowrap; max-width: 500px; overflow: hidden; text-overflow: ellipsis; \">[5,0]</td><td style=\"white-space: nowrap; max-width: 500px; overflow: hidden; text-overflow: ellipsis; \">5</td><td style=\"white-space: nowrap; max-width: 500px; overflow: hidden; text-overflow: ellipsis; \">15</td><td style=\"white-space: nowrap; max-width: 500px; overflow: hidden; text-overflow: ellipsis; \">[0,15,205]</td></tr>\n",
       "<tr><td style=\"white-space: nowrap; max-width: 500px; overflow: hidden; text-overflow: ellipsis; \">1:904165</td><td style=\"white-space: nowrap; max-width: 500px; overflow: hidden; text-overflow: ellipsis; \">[&quot;G&quot;,&quot;A&quot;]</td><td style=\"white-space: nowrap; max-width: 500px; overflow: hidden; text-overflow: ellipsis; \">NA</td><td style=\"white-space: nowrap; max-width: 500px; overflow: hidden; text-overflow: ellipsis; \">5.23e+04</td><td style=\"white-space: nowrap; max-width: 500px; overflow: hidden; text-overflow: ellipsis; \">NA</td><td style=\"white-space: nowrap; max-width: 500px; overflow: hidden; text-overflow: ellipsis; \">[518]</td><td style=\"white-space: nowrap; max-width: 500px; overflow: hidden; text-overflow: ellipsis; \">[1.03e-01]</td><td style=\"white-space: nowrap; max-width: 500px; overflow: hidden; text-overflow: ellipsis; \">5020</td><td style=\"white-space: nowrap; max-width: 500px; overflow: hidden; text-overflow: ellipsis; \">-3.39e+00</td><td style=\"white-space: nowrap; max-width: 500px; overflow: hidden; text-overflow: ellipsis; \">-1.70e-01</td><td style=\"white-space: nowrap; max-width: 500px; overflow: hidden; text-overflow: ellipsis; \">17827</td><td style=\"white-space: nowrap; max-width: 500px; overflow: hidden; text-overflow: ellipsis; \">False</td><td style=\"white-space: nowrap; max-width: 500px; overflow: hidden; text-overflow: ellipsis; \">2.23e+00</td><td style=\"white-space: nowrap; max-width: 500px; overflow: hidden; text-overflow: ellipsis; \">NA</td><td style=\"white-space: nowrap; max-width: 500px; overflow: hidden; text-overflow: ellipsis; \">9.88e-02</td><td style=\"white-space: nowrap; max-width: 500px; overflow: hidden; text-overflow: ellipsis; \">[514]</td><td style=\"white-space: nowrap; max-width: 500px; overflow: hidden; text-overflow: ellipsis; \">[1.02e-01]</td><td style=\"white-space: nowrap; max-width: 500px; overflow: hidden; text-overflow: ellipsis; \">5.91e+01</td><td style=\"white-space: nowrap; max-width: 500px; overflow: hidden; text-overflow: ellipsis; \">0</td><td style=\"white-space: nowrap; max-width: 500px; overflow: hidden; text-overflow: ellipsis; \">1.45e+00</td><td style=\"white-space: nowrap; max-width: 500px; overflow: hidden; text-overflow: ellipsis; \">1.50e+01</td><td style=\"white-space: nowrap; max-width: 500px; overflow: hidden; text-overflow: ellipsis; \">6.29e+00</td><td style=\"white-space: nowrap; max-width: 500px; overflow: hidden; text-overflow: ellipsis; \">NA</td><td style=\"white-space: nowrap; max-width: 500px; overflow: hidden; text-overflow: ellipsis; \">&quot;HG00148&quot;</td><td style=\"white-space: nowrap; max-width: 500px; overflow: hidden; text-overflow: ellipsis; \">0/0</td><td style=\"white-space: nowrap; max-width: 500px; overflow: hidden; text-overflow: ellipsis; \">[4,0]</td><td style=\"white-space: nowrap; max-width: 500px; overflow: hidden; text-overflow: ellipsis; \">4</td><td style=\"white-space: nowrap; max-width: 500px; overflow: hidden; text-overflow: ellipsis; \">11</td><td style=\"white-space: nowrap; max-width: 500px; overflow: hidden; text-overflow: ellipsis; \">[0,11,88]</td></tr>\n",
       "<tr><td style=\"white-space: nowrap; max-width: 500px; overflow: hidden; text-overflow: ellipsis; \">1:904165</td><td style=\"white-space: nowrap; max-width: 500px; overflow: hidden; text-overflow: ellipsis; \">[&quot;G&quot;,&quot;A&quot;]</td><td style=\"white-space: nowrap; max-width: 500px; overflow: hidden; text-overflow: ellipsis; \">NA</td><td style=\"white-space: nowrap; max-width: 500px; overflow: hidden; text-overflow: ellipsis; \">5.23e+04</td><td style=\"white-space: nowrap; max-width: 500px; overflow: hidden; text-overflow: ellipsis; \">NA</td><td style=\"white-space: nowrap; max-width: 500px; overflow: hidden; text-overflow: ellipsis; \">[518]</td><td style=\"white-space: nowrap; max-width: 500px; overflow: hidden; text-overflow: ellipsis; \">[1.03e-01]</td><td style=\"white-space: nowrap; max-width: 500px; overflow: hidden; text-overflow: ellipsis; \">5020</td><td style=\"white-space: nowrap; max-width: 500px; overflow: hidden; text-overflow: ellipsis; \">-3.39e+00</td><td style=\"white-space: nowrap; max-width: 500px; overflow: hidden; text-overflow: ellipsis; \">-1.70e-01</td><td style=\"white-space: nowrap; max-width: 500px; overflow: hidden; text-overflow: ellipsis; \">17827</td><td style=\"white-space: nowrap; max-width: 500px; overflow: hidden; text-overflow: ellipsis; \">False</td><td style=\"white-space: nowrap; max-width: 500px; overflow: hidden; text-overflow: ellipsis; \">2.23e+00</td><td style=\"white-space: nowrap; max-width: 500px; overflow: hidden; text-overflow: ellipsis; \">NA</td><td style=\"white-space: nowrap; max-width: 500px; overflow: hidden; text-overflow: ellipsis; \">9.88e-02</td><td style=\"white-space: nowrap; max-width: 500px; overflow: hidden; text-overflow: ellipsis; \">[514]</td><td style=\"white-space: nowrap; max-width: 500px; overflow: hidden; text-overflow: ellipsis; \">[1.02e-01]</td><td style=\"white-space: nowrap; max-width: 500px; overflow: hidden; text-overflow: ellipsis; \">5.91e+01</td><td style=\"white-space: nowrap; max-width: 500px; overflow: hidden; text-overflow: ellipsis; \">0</td><td style=\"white-space: nowrap; max-width: 500px; overflow: hidden; text-overflow: ellipsis; \">1.45e+00</td><td style=\"white-space: nowrap; max-width: 500px; overflow: hidden; text-overflow: ellipsis; \">1.50e+01</td><td style=\"white-space: nowrap; max-width: 500px; overflow: hidden; text-overflow: ellipsis; \">6.29e+00</td><td style=\"white-space: nowrap; max-width: 500px; overflow: hidden; text-overflow: ellipsis; \">NA</td><td style=\"white-space: nowrap; max-width: 500px; overflow: hidden; text-overflow: ellipsis; \">&quot;HG00177&quot;</td><td style=\"white-space: nowrap; max-width: 500px; overflow: hidden; text-overflow: ellipsis; \">0/0</td><td style=\"white-space: nowrap; max-width: 500px; overflow: hidden; text-overflow: ellipsis; \">[2,0]</td><td style=\"white-space: nowrap; max-width: 500px; overflow: hidden; text-overflow: ellipsis; \">2</td><td style=\"white-space: nowrap; max-width: 500px; overflow: hidden; text-overflow: ellipsis; \">6</td><td style=\"white-space: nowrap; max-width: 500px; overflow: hidden; text-overflow: ellipsis; \">[0,6,58]</td></tr>\n",
       "<tr><td style=\"white-space: nowrap; max-width: 500px; overflow: hidden; text-overflow: ellipsis; \">1:904165</td><td style=\"white-space: nowrap; max-width: 500px; overflow: hidden; text-overflow: ellipsis; \">[&quot;G&quot;,&quot;A&quot;]</td><td style=\"white-space: nowrap; max-width: 500px; overflow: hidden; text-overflow: ellipsis; \">NA</td><td style=\"white-space: nowrap; max-width: 500px; overflow: hidden; text-overflow: ellipsis; \">5.23e+04</td><td style=\"white-space: nowrap; max-width: 500px; overflow: hidden; text-overflow: ellipsis; \">NA</td><td style=\"white-space: nowrap; max-width: 500px; overflow: hidden; text-overflow: ellipsis; \">[518]</td><td style=\"white-space: nowrap; max-width: 500px; overflow: hidden; text-overflow: ellipsis; \">[1.03e-01]</td><td style=\"white-space: nowrap; max-width: 500px; overflow: hidden; text-overflow: ellipsis; \">5020</td><td style=\"white-space: nowrap; max-width: 500px; overflow: hidden; text-overflow: ellipsis; \">-3.39e+00</td><td style=\"white-space: nowrap; max-width: 500px; overflow: hidden; text-overflow: ellipsis; \">-1.70e-01</td><td style=\"white-space: nowrap; max-width: 500px; overflow: hidden; text-overflow: ellipsis; \">17827</td><td style=\"white-space: nowrap; max-width: 500px; overflow: hidden; text-overflow: ellipsis; \">False</td><td style=\"white-space: nowrap; max-width: 500px; overflow: hidden; text-overflow: ellipsis; \">2.23e+00</td><td style=\"white-space: nowrap; max-width: 500px; overflow: hidden; text-overflow: ellipsis; \">NA</td><td style=\"white-space: nowrap; max-width: 500px; overflow: hidden; text-overflow: ellipsis; \">9.88e-02</td><td style=\"white-space: nowrap; max-width: 500px; overflow: hidden; text-overflow: ellipsis; \">[514]</td><td style=\"white-space: nowrap; max-width: 500px; overflow: hidden; text-overflow: ellipsis; \">[1.02e-01]</td><td style=\"white-space: nowrap; max-width: 500px; overflow: hidden; text-overflow: ellipsis; \">5.91e+01</td><td style=\"white-space: nowrap; max-width: 500px; overflow: hidden; text-overflow: ellipsis; \">0</td><td style=\"white-space: nowrap; max-width: 500px; overflow: hidden; text-overflow: ellipsis; \">1.45e+00</td><td style=\"white-space: nowrap; max-width: 500px; overflow: hidden; text-overflow: ellipsis; \">1.50e+01</td><td style=\"white-space: nowrap; max-width: 500px; overflow: hidden; text-overflow: ellipsis; \">6.29e+00</td><td style=\"white-space: nowrap; max-width: 500px; overflow: hidden; text-overflow: ellipsis; \">NA</td><td style=\"white-space: nowrap; max-width: 500px; overflow: hidden; text-overflow: ellipsis; \">&quot;HG00182&quot;</td><td style=\"white-space: nowrap; max-width: 500px; overflow: hidden; text-overflow: ellipsis; \">0/0</td><td style=\"white-space: nowrap; max-width: 500px; overflow: hidden; text-overflow: ellipsis; \">[5,0]</td><td style=\"white-space: nowrap; max-width: 500px; overflow: hidden; text-overflow: ellipsis; \">5</td><td style=\"white-space: nowrap; max-width: 500px; overflow: hidden; text-overflow: ellipsis; \">14</td><td style=\"white-space: nowrap; max-width: 500px; overflow: hidden; text-overflow: ellipsis; \">[0,14,138]</td></tr>\n",
       "<tr><td style=\"white-space: nowrap; max-width: 500px; overflow: hidden; text-overflow: ellipsis; \">1:904165</td><td style=\"white-space: nowrap; max-width: 500px; overflow: hidden; text-overflow: ellipsis; \">[&quot;G&quot;,&quot;A&quot;]</td><td style=\"white-space: nowrap; max-width: 500px; overflow: hidden; text-overflow: ellipsis; \">NA</td><td style=\"white-space: nowrap; max-width: 500px; overflow: hidden; text-overflow: ellipsis; \">5.23e+04</td><td style=\"white-space: nowrap; max-width: 500px; overflow: hidden; text-overflow: ellipsis; \">NA</td><td style=\"white-space: nowrap; max-width: 500px; overflow: hidden; text-overflow: ellipsis; \">[518]</td><td style=\"white-space: nowrap; max-width: 500px; overflow: hidden; text-overflow: ellipsis; \">[1.03e-01]</td><td style=\"white-space: nowrap; max-width: 500px; overflow: hidden; text-overflow: ellipsis; \">5020</td><td style=\"white-space: nowrap; max-width: 500px; overflow: hidden; text-overflow: ellipsis; \">-3.39e+00</td><td style=\"white-space: nowrap; max-width: 500px; overflow: hidden; text-overflow: ellipsis; \">-1.70e-01</td><td style=\"white-space: nowrap; max-width: 500px; overflow: hidden; text-overflow: ellipsis; \">17827</td><td style=\"white-space: nowrap; max-width: 500px; overflow: hidden; text-overflow: ellipsis; \">False</td><td style=\"white-space: nowrap; max-width: 500px; overflow: hidden; text-overflow: ellipsis; \">2.23e+00</td><td style=\"white-space: nowrap; max-width: 500px; overflow: hidden; text-overflow: ellipsis; \">NA</td><td style=\"white-space: nowrap; max-width: 500px; overflow: hidden; text-overflow: ellipsis; \">9.88e-02</td><td style=\"white-space: nowrap; max-width: 500px; overflow: hidden; text-overflow: ellipsis; \">[514]</td><td style=\"white-space: nowrap; max-width: 500px; overflow: hidden; text-overflow: ellipsis; \">[1.02e-01]</td><td style=\"white-space: nowrap; max-width: 500px; overflow: hidden; text-overflow: ellipsis; \">5.91e+01</td><td style=\"white-space: nowrap; max-width: 500px; overflow: hidden; text-overflow: ellipsis; \">0</td><td style=\"white-space: nowrap; max-width: 500px; overflow: hidden; text-overflow: ellipsis; \">1.45e+00</td><td style=\"white-space: nowrap; max-width: 500px; overflow: hidden; text-overflow: ellipsis; \">1.50e+01</td><td style=\"white-space: nowrap; max-width: 500px; overflow: hidden; text-overflow: ellipsis; \">6.29e+00</td><td style=\"white-space: nowrap; max-width: 500px; overflow: hidden; text-overflow: ellipsis; \">NA</td><td style=\"white-space: nowrap; max-width: 500px; overflow: hidden; text-overflow: ellipsis; \">&quot;HG00242&quot;</td><td style=\"white-space: nowrap; max-width: 500px; overflow: hidden; text-overflow: ellipsis; \">0/0</td><td style=\"white-space: nowrap; max-width: 500px; overflow: hidden; text-overflow: ellipsis; \">[5,0]</td><td style=\"white-space: nowrap; max-width: 500px; overflow: hidden; text-overflow: ellipsis; \">5</td><td style=\"white-space: nowrap; max-width: 500px; overflow: hidden; text-overflow: ellipsis; \">15</td><td style=\"white-space: nowrap; max-width: 500px; overflow: hidden; text-overflow: ellipsis; \">[0,15,189]</td></tr>\n",
       "<tr><td style=\"white-space: nowrap; max-width: 500px; overflow: hidden; text-overflow: ellipsis; \">1:904165</td><td style=\"white-space: nowrap; max-width: 500px; overflow: hidden; text-overflow: ellipsis; \">[&quot;G&quot;,&quot;A&quot;]</td><td style=\"white-space: nowrap; max-width: 500px; overflow: hidden; text-overflow: ellipsis; \">NA</td><td style=\"white-space: nowrap; max-width: 500px; overflow: hidden; text-overflow: ellipsis; \">5.23e+04</td><td style=\"white-space: nowrap; max-width: 500px; overflow: hidden; text-overflow: ellipsis; \">NA</td><td style=\"white-space: nowrap; max-width: 500px; overflow: hidden; text-overflow: ellipsis; \">[518]</td><td style=\"white-space: nowrap; max-width: 500px; overflow: hidden; text-overflow: ellipsis; \">[1.03e-01]</td><td style=\"white-space: nowrap; max-width: 500px; overflow: hidden; text-overflow: ellipsis; \">5020</td><td style=\"white-space: nowrap; max-width: 500px; overflow: hidden; text-overflow: ellipsis; \">-3.39e+00</td><td style=\"white-space: nowrap; max-width: 500px; overflow: hidden; text-overflow: ellipsis; \">-1.70e-01</td><td style=\"white-space: nowrap; max-width: 500px; overflow: hidden; text-overflow: ellipsis; \">17827</td><td style=\"white-space: nowrap; max-width: 500px; overflow: hidden; text-overflow: ellipsis; \">False</td><td style=\"white-space: nowrap; max-width: 500px; overflow: hidden; text-overflow: ellipsis; \">2.23e+00</td><td style=\"white-space: nowrap; max-width: 500px; overflow: hidden; text-overflow: ellipsis; \">NA</td><td style=\"white-space: nowrap; max-width: 500px; overflow: hidden; text-overflow: ellipsis; \">9.88e-02</td><td style=\"white-space: nowrap; max-width: 500px; overflow: hidden; text-overflow: ellipsis; \">[514]</td><td style=\"white-space: nowrap; max-width: 500px; overflow: hidden; text-overflow: ellipsis; \">[1.02e-01]</td><td style=\"white-space: nowrap; max-width: 500px; overflow: hidden; text-overflow: ellipsis; \">5.91e+01</td><td style=\"white-space: nowrap; max-width: 500px; overflow: hidden; text-overflow: ellipsis; \">0</td><td style=\"white-space: nowrap; max-width: 500px; overflow: hidden; text-overflow: ellipsis; \">1.45e+00</td><td style=\"white-space: nowrap; max-width: 500px; overflow: hidden; text-overflow: ellipsis; \">1.50e+01</td><td style=\"white-space: nowrap; max-width: 500px; overflow: hidden; text-overflow: ellipsis; \">6.29e+00</td><td style=\"white-space: nowrap; max-width: 500px; overflow: hidden; text-overflow: ellipsis; \">NA</td><td style=\"white-space: nowrap; max-width: 500px; overflow: hidden; text-overflow: ellipsis; \">&quot;HG00254&quot;</td><td style=\"white-space: nowrap; max-width: 500px; overflow: hidden; text-overflow: ellipsis; \">0/0</td><td style=\"white-space: nowrap; max-width: 500px; overflow: hidden; text-overflow: ellipsis; \">[13,0]</td><td style=\"white-space: nowrap; max-width: 500px; overflow: hidden; text-overflow: ellipsis; \">13</td><td style=\"white-space: nowrap; max-width: 500px; overflow: hidden; text-overflow: ellipsis; \">39</td><td style=\"white-space: nowrap; max-width: 500px; overflow: hidden; text-overflow: ellipsis; \">[0,39,405]</td></tr>\n",
       "</tbody></table><p style=\"background: #fdd; padding: 0.4em;\">showing top 10 rows</p>\n"
      ],
      "text/plain": [
       "+---------------+------------+------+----------+----------+--------------+\n",
       "| locus         | alleles    | rsid |     qual | filters  | info.AC      |\n",
       "+---------------+------------+------+----------+----------+--------------+\n",
       "| locus<GRCh37> | array<str> | str  |  float64 | set<str> | array<int32> |\n",
       "+---------------+------------+------+----------+----------+--------------+\n",
       "| 1:904165      | [\"G\",\"A\"]  | NA   | 5.23e+04 | NA       | [518]        |\n",
       "| 1:904165      | [\"G\",\"A\"]  | NA   | 5.23e+04 | NA       | [518]        |\n",
       "| 1:904165      | [\"G\",\"A\"]  | NA   | 5.23e+04 | NA       | [518]        |\n",
       "| 1:904165      | [\"G\",\"A\"]  | NA   | 5.23e+04 | NA       | [518]        |\n",
       "| 1:904165      | [\"G\",\"A\"]  | NA   | 5.23e+04 | NA       | [518]        |\n",
       "| 1:904165      | [\"G\",\"A\"]  | NA   | 5.23e+04 | NA       | [518]        |\n",
       "| 1:904165      | [\"G\",\"A\"]  | NA   | 5.23e+04 | NA       | [518]        |\n",
       "| 1:904165      | [\"G\",\"A\"]  | NA   | 5.23e+04 | NA       | [518]        |\n",
       "| 1:904165      | [\"G\",\"A\"]  | NA   | 5.23e+04 | NA       | [518]        |\n",
       "| 1:904165      | [\"G\",\"A\"]  | NA   | 5.23e+04 | NA       | [518]        |\n",
       "+---------------+------------+------+----------+----------+--------------+\n",
       "\n",
       "+----------------+---------+-------------------+----------------------+\n",
       "| info.AF        | info.AN | info.BaseQRankSum | info.ClippingRankSum |\n",
       "+----------------+---------+-------------------+----------------------+\n",
       "| array<float64> |   int32 |           float64 |              float64 |\n",
       "+----------------+---------+-------------------+----------------------+\n",
       "| [1.03e-01]     |    5020 |         -3.39e+00 |            -1.70e-01 |\n",
       "| [1.03e-01]     |    5020 |         -3.39e+00 |            -1.70e-01 |\n",
       "| [1.03e-01]     |    5020 |         -3.39e+00 |            -1.70e-01 |\n",
       "| [1.03e-01]     |    5020 |         -3.39e+00 |            -1.70e-01 |\n",
       "| [1.03e-01]     |    5020 |         -3.39e+00 |            -1.70e-01 |\n",
       "| [1.03e-01]     |    5020 |         -3.39e+00 |            -1.70e-01 |\n",
       "| [1.03e-01]     |    5020 |         -3.39e+00 |            -1.70e-01 |\n",
       "| [1.03e-01]     |    5020 |         -3.39e+00 |            -1.70e-01 |\n",
       "| [1.03e-01]     |    5020 |         -3.39e+00 |            -1.70e-01 |\n",
       "| [1.03e-01]     |    5020 |         -3.39e+00 |            -1.70e-01 |\n",
       "+----------------+---------+-------------------+----------------------+\n",
       "\n",
       "+---------+---------+----------+---------------------+----------------------+\n",
       "| info.DP | info.DS |  info.FS | info.HaplotypeScore | info.InbreedingCoeff |\n",
       "+---------+---------+----------+---------------------+----------------------+\n",
       "|   int32 |    bool |  float64 |             float64 |              float64 |\n",
       "+---------+---------+----------+---------------------+----------------------+\n",
       "|   17827 |   False | 2.23e+00 |                  NA |             9.88e-02 |\n",
       "|   17827 |   False | 2.23e+00 |                  NA |             9.88e-02 |\n",
       "|   17827 |   False | 2.23e+00 |                  NA |             9.88e-02 |\n",
       "|   17827 |   False | 2.23e+00 |                  NA |             9.88e-02 |\n",
       "|   17827 |   False | 2.23e+00 |                  NA |             9.88e-02 |\n",
       "|   17827 |   False | 2.23e+00 |                  NA |             9.88e-02 |\n",
       "|   17827 |   False | 2.23e+00 |                  NA |             9.88e-02 |\n",
       "|   17827 |   False | 2.23e+00 |                  NA |             9.88e-02 |\n",
       "|   17827 |   False | 2.23e+00 |                  NA |             9.88e-02 |\n",
       "|   17827 |   False | 2.23e+00 |                  NA |             9.88e-02 |\n",
       "+---------+---------+----------+---------------------+----------------------+\n",
       "\n",
       "+--------------+----------------+----------+----------+----------------+\n",
       "| info.MLEAC   | info.MLEAF     |  info.MQ | info.MQ0 | info.MQRankSum |\n",
       "+--------------+----------------+----------+----------+----------------+\n",
       "| array<int32> | array<float64> |  float64 |    int32 |        float64 |\n",
       "+--------------+----------------+----------+----------+----------------+\n",
       "| [514]        | [1.02e-01]     | 5.91e+01 |        0 |       1.45e+00 |\n",
       "| [514]        | [1.02e-01]     | 5.91e+01 |        0 |       1.45e+00 |\n",
       "| [514]        | [1.02e-01]     | 5.91e+01 |        0 |       1.45e+00 |\n",
       "| [514]        | [1.02e-01]     | 5.91e+01 |        0 |       1.45e+00 |\n",
       "| [514]        | [1.02e-01]     | 5.91e+01 |        0 |       1.45e+00 |\n",
       "| [514]        | [1.02e-01]     | 5.91e+01 |        0 |       1.45e+00 |\n",
       "| [514]        | [1.02e-01]     | 5.91e+01 |        0 |       1.45e+00 |\n",
       "| [514]        | [1.02e-01]     | 5.91e+01 |        0 |       1.45e+00 |\n",
       "| [514]        | [1.02e-01]     | 5.91e+01 |        0 |       1.45e+00 |\n",
       "| [514]        | [1.02e-01]     | 5.91e+01 |        0 |       1.45e+00 |\n",
       "+--------------+----------------+----------+----------+----------------+\n",
       "\n",
       "+----------+---------------------+----------+-----------+------+--------------+\n",
       "|  info.QD | info.ReadPosRankSum | info.set | s         | GT   | AD           |\n",
       "+----------+---------------------+----------+-----------+------+--------------+\n",
       "|  float64 |             float64 | str      | str       | call | array<int32> |\n",
       "+----------+---------------------+----------+-----------+------+--------------+\n",
       "| 1.50e+01 |            6.29e+00 | NA       | \"HG00096\" | 0/0  | [4,0]        |\n",
       "| 1.50e+01 |            6.29e+00 | NA       | \"HG00099\" | 0/0  | [8,0]        |\n",
       "| 1.50e+01 |            6.29e+00 | NA       | \"HG00105\" | 0/0  | [8,0]        |\n",
       "| 1.50e+01 |            6.29e+00 | NA       | \"HG00118\" | 0/0  | [7,0]        |\n",
       "| 1.50e+01 |            6.29e+00 | NA       | \"HG00129\" | 0/0  | [5,0]        |\n",
       "| 1.50e+01 |            6.29e+00 | NA       | \"HG00148\" | 0/0  | [4,0]        |\n",
       "| 1.50e+01 |            6.29e+00 | NA       | \"HG00177\" | 0/0  | [2,0]        |\n",
       "| 1.50e+01 |            6.29e+00 | NA       | \"HG00182\" | 0/0  | [5,0]        |\n",
       "| 1.50e+01 |            6.29e+00 | NA       | \"HG00242\" | 0/0  | [5,0]        |\n",
       "| 1.50e+01 |            6.29e+00 | NA       | \"HG00254\" | 0/0  | [13,0]       |\n",
       "+----------+---------------------+----------+-----------+------+--------------+\n",
       "\n",
       "+-------+-------+--------------+\n",
       "|    DP |    GQ | PL           |\n",
       "+-------+-------+--------------+\n",
       "| int32 | int32 | array<int32> |\n",
       "+-------+-------+--------------+\n",
       "|     4 |    12 | [0,12,147]   |\n",
       "|     8 |    24 | [0,24,315]   |\n",
       "|     8 |    23 | [0,23,230]   |\n",
       "|     7 |    21 | [0,21,270]   |\n",
       "|     5 |    15 | [0,15,205]   |\n",
       "|     4 |    11 | [0,11,88]    |\n",
       "|     2 |     6 | [0,6,58]     |\n",
       "|     5 |    14 | [0,14,138]   |\n",
       "|     5 |    15 | [0,15,189]   |\n",
       "|    13 |    39 | [0,39,405]   |\n",
       "+-------+-------+--------------+\n",
       "showing top 10 rows"
      ]
     },
     "metadata": {},
     "output_type": "display_data"
    }
   ],
   "source": [
    "mt.entries().show()"
   ]
  },
  {
   "cell_type": "markdown",
   "id": "e6c1dc2c",
   "metadata": {},
   "source": [
    "## Fixed Fields\n",
    "alleles : ref,alt\n",
    "\n",
    "qual: Phred-scaled quality score for assertion made in alt: - 10log10(probability that alt is wrong)\n",
    "\n",
    "filter: has the position passed all the filters? (ex. quality, sample number)\n",
    "\n",
    "info.AC : allele count in genotypes for each alt allele\n",
    "\n",
    "info.AF : allele frequency for each allele\n",
    "\n",
    "info.AN: total n. of alleles (AC/AN = AF)\n",
    "\n",
    "BaseQRankSum:  REF versus ALT base quality scores. ideal score is close to 0.\n",
    "\n",
    "ClippingRankSum: annotation tests whether the data supporting the reference allele shows more or less base clipping (hard clips) than \n",
    "those supporting the alternate allele.ideal result is a value close to zero\n",
    "\n",
    "info.DP: combined depth across samples\n",
    "\n",
    "info.DS: dbSNP membership\n",
    "\n",
    "FS: fisher strand. measurement of sequencing bias.\n",
    "\n",
    "InbreedingCoeff: Likelihood-based test for the consanguinuity among samples. \n",
    "\n",
    "MLE: maximum likelihood estimation\n",
    "\n",
    "MQ: RMS of mapping quality\n",
    "\n",
    "MQ0: number of MAPQ == 0 reads covering this record\n",
    "\n",
    "ReadPosRankSum:  whether there is evidence of bias in the position of alleles within the reads that support them. ideal score is close to 0.\n",
    "\n",
    "## Genotype Fields\n",
    "GT: genotype. 0: ref, 1: alt, /: unphased, |: phased\n",
    "\n",
    "AD: unfiltered allele depth\n",
    "\n",
    "DP: filtered depth\n",
    "\n",
    "GQ: genotype quality. Phred-scaled confidence that the genotype assignment (GT) is correct. −10log10 p (p: chance that genotype call is wrong)\n",
    "\n",
    "PL: \"Normalized\" Phred-scaled likelihood of possible genotype. Three numbers corresponding to the genotypes (0/0, 0/1, and 1/1). Higher the probability, lower the score."
   ]
  },
  {
   "cell_type": "code",
   "execution_count": 59,
   "id": "334acaa0",
   "metadata": {
    "scrolled": true
   },
   "outputs": [
    {
     "data": {
      "text/html": [
       "<table><thead><tr><td style=\"white-space: nowrap; max-width: 500px; overflow: hidden; text-overflow: ellipsis; \" colspan=\"1\"><div style=\"text-align: left;\"></div></td></tr><tr><td style=\"white-space: nowrap; max-width: 500px; overflow: hidden; text-overflow: ellipsis; \" colspan=\"1\"><div style=\"text-align: left;border-bottom: solid 2px #000; padding-bottom: 5px\">s</div></td></tr><tr><td style=\"white-space: nowrap; max-width: 500px; overflow: hidden; text-overflow: ellipsis; text-align: left;\">str</td></tr>\n",
       "</thead><tbody><tr><td style=\"white-space: nowrap; max-width: 500px; overflow: hidden; text-overflow: ellipsis; \">&quot;HG00096&quot;</td></tr>\n",
       "<tr><td style=\"white-space: nowrap; max-width: 500px; overflow: hidden; text-overflow: ellipsis; \">&quot;HG00099&quot;</td></tr>\n",
       "<tr><td style=\"white-space: nowrap; max-width: 500px; overflow: hidden; text-overflow: ellipsis; \">&quot;HG00105&quot;</td></tr>\n",
       "<tr><td style=\"white-space: nowrap; max-width: 500px; overflow: hidden; text-overflow: ellipsis; \">&quot;HG00118&quot;</td></tr>\n",
       "<tr><td style=\"white-space: nowrap; max-width: 500px; overflow: hidden; text-overflow: ellipsis; \">&quot;HG00129&quot;</td></tr>\n",
       "</tbody></table><p style=\"background: #fdd; padding: 0.4em;\">showing top 5 rows</p>\n"
      ],
      "text/plain": [
       "+-----------+\n",
       "| s         |\n",
       "+-----------+\n",
       "| str       |\n",
       "+-----------+\n",
       "| \"HG00096\" |\n",
       "| \"HG00099\" |\n",
       "| \"HG00105\" |\n",
       "| \"HG00118\" |\n",
       "| \"HG00129\" |\n",
       "+-----------+\n",
       "showing top 5 rows"
      ]
     },
     "metadata": {},
     "output_type": "display_data"
    }
   ],
   "source": [
    "mt.s.show(5)\n",
    "#shows 5 of our samples"
   ]
  },
  {
   "cell_type": "markdown",
   "id": "ac2cebc3",
   "metadata": {},
   "source": [
    "take(n): collects the first n rows into a list."
   ]
  },
  {
   "cell_type": "code",
   "execution_count": 60,
   "id": "b384692e",
   "metadata": {},
   "outputs": [
    {
     "data": {
      "text/plain": [
       "[Struct(locus=Locus(contig=1, position=904165, reference_genome=GRCh37), alleles=['G', 'A'], rsid=None, qual=52346.37, filters=None, info=Struct(AC=[518], AF=[0.103], AN=5020, BaseQRankSum=-3.394, ClippingRankSum=-0.17, DP=17827, DS=False, FS=2.233, HaplotypeScore=None, InbreedingCoeff=0.0988, MLEAC=[514], MLEAF=[0.102], MQ=59.05, MQ0=0, MQRankSum=1.447, QD=15.02, ReadPosRankSum=6.286, set=None), variant_qc=Struct(dp_stats=Struct(mean=7.24468085106383, stdev=3.855601534912068, min=1.0, max=21.0), gq_stats=Struct(mean=27.673758865248228, stdev=22.91906711984547, min=3.0, max=99.0), AC=[501, 63], AF=[0.8882978723404256, 0.11170212765957446], AN=564, homozygote_count=[228, 9], call_rate=0.9929577464788732, n_called=282, n_not_called=2, n_filtered=0, n_het=45, n_non_ref=54, het_freq_hwe=0.19880201050602772, p_value_hwe=0.0018835367574337716)),\n",
       " Struct(locus=Locus(contig=1, position=1707740, reference_genome=GRCh37), alleles=['T', 'G'], rsid=None, qual=93517.82, filters=None, info=Struct(AC=[997], AF=[0.198], AN=5034, BaseQRankSum=-40.42, ClippingRankSum=-0.287, DP=19902, DS=False, FS=3.311, HaplotypeScore=None, InbreedingCoeff=0.0387, MLEAC=[983], MLEAF=[0.195], MQ=58.32, MQ0=0, MQRankSum=9.478, QD=13.59, ReadPosRankSum=2.259, set=None), variant_qc=Struct(dp_stats=Struct(mean=7.809187279151944, stdev=4.20234500960684, min=1.0, max=26.0), gq_stats=Struct(mean=34.02826855123675, stdev=26.095893686940602, min=3.0, max=99.0), AC=[464, 102], AF=[0.8197879858657244, 0.18021201413427562], AN=566, homozygote_count=[194, 13], call_rate=0.9964788732394366, n_called=283, n_not_called=1, n_filtered=0, n_het=76, n_non_ref=89, het_freq_hwe=0.29599424622408455, p_value_hwe=0.13232596512393519)),\n",
       " Struct(locus=Locus(contig=1, position=2284195, reference_genome=GRCh37), alleles=['T', 'C'], rsid=None, qual=142480.77, filters=None, info=Struct(AC=[1559], AF=[0.312], AN=4990, BaseQRankSum=-45.982, ClippingRankSum=0.35, DP=18176, DS=False, FS=2.945, HaplotypeScore=None, InbreedingCoeff=0.0925, MLEAC=[1552], MLEAF=[0.311], MQ=58.57, MQ0=0, MQRankSum=16.136, QD=15.48, ReadPosRankSum=-0.682, set=None), variant_qc=Struct(dp_stats=Struct(mean=7.501818181818182, stdev=4.208540706234532, min=1.0, max=22.0), gq_stats=Struct(mean=35.29818181818182, stdev=28.986865307076215, min=0.0, max=99.0), AC=[383, 167], AF=[0.6963636363636364, 0.30363636363636365], AN=550, homozygote_count=[141, 33], call_rate=0.9683098591549296, n_called=275, n_not_called=9, n_filtered=0, n_het=101, n_non_ref=134, het_freq_hwe=0.4236529226693161, p_value_hwe=0.027139187650156212)),\n",
       " Struct(locus=Locus(contig=1, position=2779043, reference_genome=GRCh37), alleles=['T', 'C'], rsid=None, qual=288791.96, filters=None, info=Struct(AC=[3532], AF=[0.726], AN=4866, BaseQRankSum=17.361, ClippingRankSum=2.132, DP=12878, DS=False, FS=25.49, HaplotypeScore=None, InbreedingCoeff=0.1436, MLEAC=[3545], MLEAF=[0.729], MQ=58.79, MQ0=0, MQRankSum=-0.07, QD=25.22, ReadPosRankSum=-1.801, set=None), variant_qc=Struct(dp_stats=Struct(mean=5.036764705882353, stdev=2.800756432054651, min=1.0, max=15.0), gq_stats=Struct(mean=23.845588235294116, stdev=22.38266092197478, min=0.0, max=99.0), AC=[147, 397], AF=[0.2702205882352941, 0.7297794117647058], AN=544, homozygote_count=[31, 156], call_rate=0.9577464788732394, n_called=272, n_not_called=12, n_filtered=0, n_het=85, n_non_ref=241, het_freq_hwe=0.39512918427039323, p_value_hwe=0.0008762700143669953)),\n",
       " Struct(locus=Locus(contig=1, position=2944527, reference_genome=GRCh37), alleles=['G', 'A'], rsid=None, qual=124329.15, filters=None, info=Struct(AC=[1206], AF=[0.245], AN=4928, BaseQRankSum=0.063, ClippingRankSum=-0.655, DP=17698, DS=False, FS=0.449, HaplotypeScore=None, InbreedingCoeff=0.1232, MLEAC=[1192], MLEAF=[0.242], MQ=58.15, MQ0=0, MQRankSum=12.011, QD=17.54, ReadPosRankSum=21.754, set=None), variant_qc=Struct(dp_stats=Struct(mean=7.590579710144928, stdev=4.717657053001336, min=1.0, max=31.0), gq_stats=Struct(mean=35.43115942028985, stdev=29.796391914450194, min=3.0, max=99.0), AC=[436, 116], AF=[0.7898550724637681, 0.21014492753623187], AN=552, homozygote_count=[173, 13], call_rate=0.971830985915493, n_called=276, n_not_called=8, n_filtered=0, n_het=90, n_non_ref=103, het_freq_hwe=0.3325705568268497, p_value_hwe=0.6525351293103766))]"
      ]
     },
     "execution_count": 60,
     "metadata": {},
     "output_type": "execute_result"
    }
   ],
   "source": [
    "mt.row.take(5)"
   ]
  },
  {
   "cell_type": "markdown",
   "id": "355f3774",
   "metadata": {},
   "source": [
    "# Adding Column Fields"
   ]
  },
  {
   "cell_type": "markdown",
   "id": "de0ca755",
   "metadata": {},
   "source": [
    "Column fields are where you’ll store information about sample phenotypes, ancestry, sex, and covariates. Row fields can be used to store information like gene membership and functional impact for use in QC or analysis.\n",
    "\n",
    "Importing Tables:"
   ]
  },
  {
   "cell_type": "code",
   "execution_count": 61,
   "id": "c1483ca3",
   "metadata": {
    "scrolled": true
   },
   "outputs": [
    {
     "name": "stderr",
     "output_type": "stream",
     "text": [
      "2021-09-24 16:52:01 Hail: INFO: Reading table to impute column types\n",
      "2021-09-24 16:52:03 Hail: INFO: Finished type imputation\n",
      "  Loading field 'Sample' as type str (imputed)\n",
      "  Loading field 'Population' as type str (imputed)\n",
      "  Loading field 'SuperPopulation' as type str (imputed)\n",
      "  Loading field 'isFemale' as type bool (imputed)\n",
      "  Loading field 'PurpleHair' as type bool (imputed)\n",
      "  Loading field 'CaffeineConsumption' as type int32 (imputed)\n"
     ]
    }
   ],
   "source": [
    "Table = (hl.import_table('data/1kg_annotations.txt', impute=True)\n",
    "         .key_by('Sample'))"
   ]
  },
  {
   "cell_type": "code",
   "execution_count": 62,
   "id": "7c88279b",
   "metadata": {},
   "outputs": [
    {
     "name": "stdout",
     "output_type": "stream",
     "text": [
      "----------------------------------------\n",
      "Global fields:\n",
      "    None\n",
      "----------------------------------------\n",
      "Row fields:\n",
      "    'Sample': str \n",
      "    'Population': str \n",
      "    'SuperPopulation': str \n",
      "    'isFemale': bool \n",
      "    'PurpleHair': bool \n",
      "    'CaffeineConsumption': int32 \n",
      "----------------------------------------\n",
      "Key: ['Sample']\n",
      "----------------------------------------\n"
     ]
    }
   ],
   "source": [
    "Table.describe()"
   ]
  },
  {
   "cell_type": "markdown",
   "id": "b17bdca6",
   "metadata": {},
   "source": [
    "Looking at first few values:"
   ]
  },
  {
   "cell_type": "code",
   "execution_count": 63,
   "id": "832bfb85",
   "metadata": {},
   "outputs": [
    {
     "data": {
      "text/html": [
       "<table><thead><tr><td style=\"white-space: nowrap; max-width: 500px; overflow: hidden; text-overflow: ellipsis; \" colspan=\"1\"><div style=\"text-align: left;\"></div></td><td style=\"white-space: nowrap; max-width: 500px; overflow: hidden; text-overflow: ellipsis; \" colspan=\"1\"><div style=\"text-align: left;\"></div></td><td style=\"white-space: nowrap; max-width: 500px; overflow: hidden; text-overflow: ellipsis; \" colspan=\"1\"><div style=\"text-align: left;\"></div></td><td style=\"white-space: nowrap; max-width: 500px; overflow: hidden; text-overflow: ellipsis; \" colspan=\"1\"><div style=\"text-align: left;\"></div></td><td style=\"white-space: nowrap; max-width: 500px; overflow: hidden; text-overflow: ellipsis; \" colspan=\"1\"><div style=\"text-align: left;\"></div></td><td style=\"white-space: nowrap; max-width: 500px; overflow: hidden; text-overflow: ellipsis; \" colspan=\"1\"><div style=\"text-align: left;\"></div></td></tr><tr><td style=\"white-space: nowrap; max-width: 500px; overflow: hidden; text-overflow: ellipsis; \" colspan=\"1\"><div style=\"text-align: left;border-bottom: solid 2px #000; padding-bottom: 5px\">Sample</div></td><td style=\"white-space: nowrap; max-width: 500px; overflow: hidden; text-overflow: ellipsis; \" colspan=\"1\"><div style=\"text-align: left;border-bottom: solid 2px #000; padding-bottom: 5px\">Population</div></td><td style=\"white-space: nowrap; max-width: 500px; overflow: hidden; text-overflow: ellipsis; \" colspan=\"1\"><div style=\"text-align: left;border-bottom: solid 2px #000; padding-bottom: 5px\">SuperPopulation</div></td><td style=\"white-space: nowrap; max-width: 500px; overflow: hidden; text-overflow: ellipsis; \" colspan=\"1\"><div style=\"text-align: left;border-bottom: solid 2px #000; padding-bottom: 5px\">isFemale</div></td><td style=\"white-space: nowrap; max-width: 500px; overflow: hidden; text-overflow: ellipsis; \" colspan=\"1\"><div style=\"text-align: left;border-bottom: solid 2px #000; padding-bottom: 5px\">PurpleHair</div></td><td style=\"white-space: nowrap; max-width: 500px; overflow: hidden; text-overflow: ellipsis; \" colspan=\"1\"><div style=\"text-align: left;border-bottom: solid 2px #000; padding-bottom: 5px\">CaffeineConsumption</div></td></tr><tr><td style=\"white-space: nowrap; max-width: 500px; overflow: hidden; text-overflow: ellipsis; text-align: left;\">str</td><td style=\"white-space: nowrap; max-width: 500px; overflow: hidden; text-overflow: ellipsis; text-align: left;\">str</td><td style=\"white-space: nowrap; max-width: 500px; overflow: hidden; text-overflow: ellipsis; text-align: left;\">str</td><td style=\"white-space: nowrap; max-width: 500px; overflow: hidden; text-overflow: ellipsis; text-align: left;\">bool</td><td style=\"white-space: nowrap; max-width: 500px; overflow: hidden; text-overflow: ellipsis; text-align: left;\">bool</td><td style=\"white-space: nowrap; max-width: 500px; overflow: hidden; text-overflow: ellipsis; text-align: left;\">int32</td></tr>\n",
       "</thead><tbody><tr><td style=\"white-space: nowrap; max-width: 500px; overflow: hidden; text-overflow: ellipsis; \">&quot;HG00096&quot;</td><td style=\"white-space: nowrap; max-width: 500px; overflow: hidden; text-overflow: ellipsis; \">&quot;GBR&quot;</td><td style=\"white-space: nowrap; max-width: 500px; overflow: hidden; text-overflow: ellipsis; \">&quot;EUR&quot;</td><td style=\"white-space: nowrap; max-width: 500px; overflow: hidden; text-overflow: ellipsis; \">False</td><td style=\"white-space: nowrap; max-width: 500px; overflow: hidden; text-overflow: ellipsis; \">False</td><td style=\"white-space: nowrap; max-width: 500px; overflow: hidden; text-overflow: ellipsis; \">4</td></tr>\n",
       "<tr><td style=\"white-space: nowrap; max-width: 500px; overflow: hidden; text-overflow: ellipsis; \">&quot;HG00097&quot;</td><td style=\"white-space: nowrap; max-width: 500px; overflow: hidden; text-overflow: ellipsis; \">&quot;GBR&quot;</td><td style=\"white-space: nowrap; max-width: 500px; overflow: hidden; text-overflow: ellipsis; \">&quot;EUR&quot;</td><td style=\"white-space: nowrap; max-width: 500px; overflow: hidden; text-overflow: ellipsis; \">True</td><td style=\"white-space: nowrap; max-width: 500px; overflow: hidden; text-overflow: ellipsis; \">True</td><td style=\"white-space: nowrap; max-width: 500px; overflow: hidden; text-overflow: ellipsis; \">4</td></tr>\n",
       "<tr><td style=\"white-space: nowrap; max-width: 500px; overflow: hidden; text-overflow: ellipsis; \">&quot;HG00098&quot;</td><td style=\"white-space: nowrap; max-width: 500px; overflow: hidden; text-overflow: ellipsis; \">&quot;GBR&quot;</td><td style=\"white-space: nowrap; max-width: 500px; overflow: hidden; text-overflow: ellipsis; \">&quot;EUR&quot;</td><td style=\"white-space: nowrap; max-width: 500px; overflow: hidden; text-overflow: ellipsis; \">False</td><td style=\"white-space: nowrap; max-width: 500px; overflow: hidden; text-overflow: ellipsis; \">False</td><td style=\"white-space: nowrap; max-width: 500px; overflow: hidden; text-overflow: ellipsis; \">5</td></tr>\n",
       "<tr><td style=\"white-space: nowrap; max-width: 500px; overflow: hidden; text-overflow: ellipsis; \">&quot;HG00099&quot;</td><td style=\"white-space: nowrap; max-width: 500px; overflow: hidden; text-overflow: ellipsis; \">&quot;GBR&quot;</td><td style=\"white-space: nowrap; max-width: 500px; overflow: hidden; text-overflow: ellipsis; \">&quot;EUR&quot;</td><td style=\"white-space: nowrap; max-width: 500px; overflow: hidden; text-overflow: ellipsis; \">True</td><td style=\"white-space: nowrap; max-width: 500px; overflow: hidden; text-overflow: ellipsis; \">False</td><td style=\"white-space: nowrap; max-width: 500px; overflow: hidden; text-overflow: ellipsis; \">4</td></tr>\n",
       "<tr><td style=\"white-space: nowrap; max-width: 500px; overflow: hidden; text-overflow: ellipsis; \">&quot;HG00100&quot;</td><td style=\"white-space: nowrap; max-width: 500px; overflow: hidden; text-overflow: ellipsis; \">&quot;GBR&quot;</td><td style=\"white-space: nowrap; max-width: 500px; overflow: hidden; text-overflow: ellipsis; \">&quot;EUR&quot;</td><td style=\"white-space: nowrap; max-width: 500px; overflow: hidden; text-overflow: ellipsis; \">True</td><td style=\"white-space: nowrap; max-width: 500px; overflow: hidden; text-overflow: ellipsis; \">False</td><td style=\"white-space: nowrap; max-width: 500px; overflow: hidden; text-overflow: ellipsis; \">5</td></tr>\n",
       "<tr><td style=\"white-space: nowrap; max-width: 500px; overflow: hidden; text-overflow: ellipsis; \">&quot;HG00101&quot;</td><td style=\"white-space: nowrap; max-width: 500px; overflow: hidden; text-overflow: ellipsis; \">&quot;GBR&quot;</td><td style=\"white-space: nowrap; max-width: 500px; overflow: hidden; text-overflow: ellipsis; \">&quot;EUR&quot;</td><td style=\"white-space: nowrap; max-width: 500px; overflow: hidden; text-overflow: ellipsis; \">False</td><td style=\"white-space: nowrap; max-width: 500px; overflow: hidden; text-overflow: ellipsis; \">True</td><td style=\"white-space: nowrap; max-width: 500px; overflow: hidden; text-overflow: ellipsis; \">1</td></tr>\n",
       "<tr><td style=\"white-space: nowrap; max-width: 500px; overflow: hidden; text-overflow: ellipsis; \">&quot;HG00102&quot;</td><td style=\"white-space: nowrap; max-width: 500px; overflow: hidden; text-overflow: ellipsis; \">&quot;GBR&quot;</td><td style=\"white-space: nowrap; max-width: 500px; overflow: hidden; text-overflow: ellipsis; \">&quot;EUR&quot;</td><td style=\"white-space: nowrap; max-width: 500px; overflow: hidden; text-overflow: ellipsis; \">True</td><td style=\"white-space: nowrap; max-width: 500px; overflow: hidden; text-overflow: ellipsis; \">True</td><td style=\"white-space: nowrap; max-width: 500px; overflow: hidden; text-overflow: ellipsis; \">6</td></tr>\n",
       "<tr><td style=\"white-space: nowrap; max-width: 500px; overflow: hidden; text-overflow: ellipsis; \">&quot;HG00103&quot;</td><td style=\"white-space: nowrap; max-width: 500px; overflow: hidden; text-overflow: ellipsis; \">&quot;GBR&quot;</td><td style=\"white-space: nowrap; max-width: 500px; overflow: hidden; text-overflow: ellipsis; \">&quot;EUR&quot;</td><td style=\"white-space: nowrap; max-width: 500px; overflow: hidden; text-overflow: ellipsis; \">False</td><td style=\"white-space: nowrap; max-width: 500px; overflow: hidden; text-overflow: ellipsis; \">True</td><td style=\"white-space: nowrap; max-width: 500px; overflow: hidden; text-overflow: ellipsis; \">5</td></tr>\n",
       "<tr><td style=\"white-space: nowrap; max-width: 500px; overflow: hidden; text-overflow: ellipsis; \">&quot;HG00104&quot;</td><td style=\"white-space: nowrap; max-width: 500px; overflow: hidden; text-overflow: ellipsis; \">&quot;GBR&quot;</td><td style=\"white-space: nowrap; max-width: 500px; overflow: hidden; text-overflow: ellipsis; \">&quot;EUR&quot;</td><td style=\"white-space: nowrap; max-width: 500px; overflow: hidden; text-overflow: ellipsis; \">True</td><td style=\"white-space: nowrap; max-width: 500px; overflow: hidden; text-overflow: ellipsis; \">False</td><td style=\"white-space: nowrap; max-width: 500px; overflow: hidden; text-overflow: ellipsis; \">5</td></tr>\n",
       "<tr><td style=\"white-space: nowrap; max-width: 500px; overflow: hidden; text-overflow: ellipsis; \">&quot;HG00105&quot;</td><td style=\"white-space: nowrap; max-width: 500px; overflow: hidden; text-overflow: ellipsis; \">&quot;GBR&quot;</td><td style=\"white-space: nowrap; max-width: 500px; overflow: hidden; text-overflow: ellipsis; \">&quot;EUR&quot;</td><td style=\"white-space: nowrap; max-width: 500px; overflow: hidden; text-overflow: ellipsis; \">False</td><td style=\"white-space: nowrap; max-width: 500px; overflow: hidden; text-overflow: ellipsis; \">False</td><td style=\"white-space: nowrap; max-width: 500px; overflow: hidden; text-overflow: ellipsis; \">4</td></tr>\n",
       "</tbody></table><p style=\"background: #fdd; padding: 0.4em;\">showing top 10 rows</p>\n"
      ],
      "text/plain": [
       "+-----------+------------+-----------------+----------+------------+---------------------+\n",
       "| Sample    | Population | SuperPopulation | isFemale | PurpleHair | CaffeineConsumption |\n",
       "+-----------+------------+-----------------+----------+------------+---------------------+\n",
       "| str       | str        | str             |     bool |       bool |               int32 |\n",
       "+-----------+------------+-----------------+----------+------------+---------------------+\n",
       "| \"HG00096\" | \"GBR\"      | \"EUR\"           |    False |      False |                   4 |\n",
       "| \"HG00097\" | \"GBR\"      | \"EUR\"           |     True |       True |                   4 |\n",
       "| \"HG00098\" | \"GBR\"      | \"EUR\"           |    False |      False |                   5 |\n",
       "| \"HG00099\" | \"GBR\"      | \"EUR\"           |     True |      False |                   4 |\n",
       "| \"HG00100\" | \"GBR\"      | \"EUR\"           |     True |      False |                   5 |\n",
       "| \"HG00101\" | \"GBR\"      | \"EUR\"           |    False |       True |                   1 |\n",
       "| \"HG00102\" | \"GBR\"      | \"EUR\"           |     True |       True |                   6 |\n",
       "| \"HG00103\" | \"GBR\"      | \"EUR\"           |    False |       True |                   5 |\n",
       "| \"HG00104\" | \"GBR\"      | \"EUR\"           |     True |      False |                   5 |\n",
       "| \"HG00105\" | \"GBR\"      | \"EUR\"           |    False |      False |                   4 |\n",
       "+-----------+------------+-----------------+----------+------------+---------------------+\n",
       "showing top 10 rows"
      ]
     },
     "metadata": {},
     "output_type": "display_data"
    }
   ],
   "source": [
    "Table.show(width = 100)"
   ]
  },
  {
   "cell_type": "markdown",
   "id": "e3a57d9b",
   "metadata": {},
   "source": [
    "## add sample annotations to our matrix table\n",
    "printing existing column schema:"
   ]
  },
  {
   "cell_type": "code",
   "execution_count": 64,
   "id": "70cace53",
   "metadata": {},
   "outputs": [
    {
     "name": "stdout",
     "output_type": "stream",
     "text": [
      "struct{s: str}\n"
     ]
    }
   ],
   "source": [
    "print(mt.col.dtype)"
   ]
  },
  {
   "cell_type": "markdown",
   "id": "d89a05c8",
   "metadata": {},
   "source": [
    "join our table with Matrix Table:"
   ]
  },
  {
   "cell_type": "code",
   "execution_count": 65,
   "id": "070d1a0e",
   "metadata": {},
   "outputs": [],
   "source": [
    "mt = mt.annotate_cols(pheno = Table[mt.s])"
   ]
  },
  {
   "cell_type": "code",
   "execution_count": 66,
   "id": "8d9134ec",
   "metadata": {},
   "outputs": [
    {
     "name": "stdout",
     "output_type": "stream",
     "text": [
      "--------------------------------------------------------\n",
      "Type:\n",
      "        struct {\n",
      "        s: str, \n",
      "        pheno: struct {\n",
      "            Population: str, \n",
      "            SuperPopulation: str, \n",
      "            isFemale: bool, \n",
      "            PurpleHair: bool, \n",
      "            CaffeineConsumption: int32\n",
      "        }\n",
      "    }\n",
      "--------------------------------------------------------\n",
      "Source:\n",
      "    <hail.matrixtable.MatrixTable object at 0x7fc7c3e62220>\n",
      "Index:\n",
      "    ['column']\n",
      "--------------------------------------------------------\n"
     ]
    }
   ],
   "source": [
    "mt.col.describe()"
   ]
  },
  {
   "cell_type": "markdown",
   "id": "ef9077bb",
   "metadata": {},
   "source": [
    "A new column field has been added! Has name that we set 'pheno', containing row fields of the table."
   ]
  },
  {
   "cell_type": "code",
   "execution_count": 67,
   "id": "df753d33",
   "metadata": {},
   "outputs": [
    {
     "name": "stderr",
     "output_type": "stream",
     "text": [
      "2021-09-24 16:52:17 Hail: WARN: cols(): Resulting column table is sorted by 'col_key'.\n",
      "    To preserve matrix table column order, first unkey columns with 'key_cols_by()'\n",
      "2021-09-24 16:52:18 Hail: INFO: Coerced sorted dataset\n"
     ]
    },
    {
     "data": {
      "text/html": [
       "<table><thead><tr><td style=\"white-space: nowrap; max-width: 500px; overflow: hidden; text-overflow: ellipsis; \" colspan=\"1\"><div style=\"text-align: left;\"></div></td><td style=\"white-space: nowrap; max-width: 500px; overflow: hidden; text-overflow: ellipsis; \" colspan=\"5\"><div style=\"text-align: left;\"></div></td></tr><tr><td style=\"white-space: nowrap; max-width: 500px; overflow: hidden; text-overflow: ellipsis; \" colspan=\"1\"><div style=\"text-align: left;\"></div></td><td style=\"white-space: nowrap; max-width: 500px; overflow: hidden; text-overflow: ellipsis; \" colspan=\"5\"><div style=\"text-align: left;border-bottom: solid 2px #000; padding-bottom: 5px\">pheno</div></td></tr><tr><td style=\"white-space: nowrap; max-width: 500px; overflow: hidden; text-overflow: ellipsis; \" colspan=\"1\"><div style=\"text-align: left;border-bottom: solid 2px #000; padding-bottom: 5px\">s</div></td><td style=\"white-space: nowrap; max-width: 500px; overflow: hidden; text-overflow: ellipsis; \" colspan=\"1\"><div style=\"text-align: left;border-bottom: solid 2px #000; padding-bottom: 5px\">Population</div></td><td style=\"white-space: nowrap; max-width: 500px; overflow: hidden; text-overflow: ellipsis; \" colspan=\"1\"><div style=\"text-align: left;border-bottom: solid 2px #000; padding-bottom: 5px\">SuperPopulation</div></td><td style=\"white-space: nowrap; max-width: 500px; overflow: hidden; text-overflow: ellipsis; \" colspan=\"1\"><div style=\"text-align: left;border-bottom: solid 2px #000; padding-bottom: 5px\">isFemale</div></td><td style=\"white-space: nowrap; max-width: 500px; overflow: hidden; text-overflow: ellipsis; \" colspan=\"1\"><div style=\"text-align: left;border-bottom: solid 2px #000; padding-bottom: 5px\">PurpleHair</div></td><td style=\"white-space: nowrap; max-width: 500px; overflow: hidden; text-overflow: ellipsis; \" colspan=\"1\"><div style=\"text-align: left;border-bottom: solid 2px #000; padding-bottom: 5px\">CaffeineConsumption</div></td></tr><tr><td style=\"white-space: nowrap; max-width: 500px; overflow: hidden; text-overflow: ellipsis; text-align: left;\">str</td><td style=\"white-space: nowrap; max-width: 500px; overflow: hidden; text-overflow: ellipsis; text-align: left;\">str</td><td style=\"white-space: nowrap; max-width: 500px; overflow: hidden; text-overflow: ellipsis; text-align: left;\">str</td><td style=\"white-space: nowrap; max-width: 500px; overflow: hidden; text-overflow: ellipsis; text-align: left;\">bool</td><td style=\"white-space: nowrap; max-width: 500px; overflow: hidden; text-overflow: ellipsis; text-align: left;\">bool</td><td style=\"white-space: nowrap; max-width: 500px; overflow: hidden; text-overflow: ellipsis; text-align: left;\">int32</td></tr>\n",
       "</thead><tbody><tr><td style=\"white-space: nowrap; max-width: 500px; overflow: hidden; text-overflow: ellipsis; \">&quot;HG00096&quot;</td><td style=\"white-space: nowrap; max-width: 500px; overflow: hidden; text-overflow: ellipsis; \">&quot;GBR&quot;</td><td style=\"white-space: nowrap; max-width: 500px; overflow: hidden; text-overflow: ellipsis; \">&quot;EUR&quot;</td><td style=\"white-space: nowrap; max-width: 500px; overflow: hidden; text-overflow: ellipsis; \">False</td><td style=\"white-space: nowrap; max-width: 500px; overflow: hidden; text-overflow: ellipsis; \">False</td><td style=\"white-space: nowrap; max-width: 500px; overflow: hidden; text-overflow: ellipsis; \">4</td></tr>\n",
       "<tr><td style=\"white-space: nowrap; max-width: 500px; overflow: hidden; text-overflow: ellipsis; \">&quot;HG00099&quot;</td><td style=\"white-space: nowrap; max-width: 500px; overflow: hidden; text-overflow: ellipsis; \">&quot;GBR&quot;</td><td style=\"white-space: nowrap; max-width: 500px; overflow: hidden; text-overflow: ellipsis; \">&quot;EUR&quot;</td><td style=\"white-space: nowrap; max-width: 500px; overflow: hidden; text-overflow: ellipsis; \">True</td><td style=\"white-space: nowrap; max-width: 500px; overflow: hidden; text-overflow: ellipsis; \">False</td><td style=\"white-space: nowrap; max-width: 500px; overflow: hidden; text-overflow: ellipsis; \">4</td></tr>\n",
       "<tr><td style=\"white-space: nowrap; max-width: 500px; overflow: hidden; text-overflow: ellipsis; \">&quot;HG00105&quot;</td><td style=\"white-space: nowrap; max-width: 500px; overflow: hidden; text-overflow: ellipsis; \">&quot;GBR&quot;</td><td style=\"white-space: nowrap; max-width: 500px; overflow: hidden; text-overflow: ellipsis; \">&quot;EUR&quot;</td><td style=\"white-space: nowrap; max-width: 500px; overflow: hidden; text-overflow: ellipsis; \">False</td><td style=\"white-space: nowrap; max-width: 500px; overflow: hidden; text-overflow: ellipsis; \">False</td><td style=\"white-space: nowrap; max-width: 500px; overflow: hidden; text-overflow: ellipsis; \">4</td></tr>\n",
       "<tr><td style=\"white-space: nowrap; max-width: 500px; overflow: hidden; text-overflow: ellipsis; \">&quot;HG00118&quot;</td><td style=\"white-space: nowrap; max-width: 500px; overflow: hidden; text-overflow: ellipsis; \">&quot;GBR&quot;</td><td style=\"white-space: nowrap; max-width: 500px; overflow: hidden; text-overflow: ellipsis; \">&quot;EUR&quot;</td><td style=\"white-space: nowrap; max-width: 500px; overflow: hidden; text-overflow: ellipsis; \">True</td><td style=\"white-space: nowrap; max-width: 500px; overflow: hidden; text-overflow: ellipsis; \">False</td><td style=\"white-space: nowrap; max-width: 500px; overflow: hidden; text-overflow: ellipsis; \">3</td></tr>\n",
       "<tr><td style=\"white-space: nowrap; max-width: 500px; overflow: hidden; text-overflow: ellipsis; \">&quot;HG00129&quot;</td><td style=\"white-space: nowrap; max-width: 500px; overflow: hidden; text-overflow: ellipsis; \">&quot;GBR&quot;</td><td style=\"white-space: nowrap; max-width: 500px; overflow: hidden; text-overflow: ellipsis; \">&quot;EUR&quot;</td><td style=\"white-space: nowrap; max-width: 500px; overflow: hidden; text-overflow: ellipsis; \">False</td><td style=\"white-space: nowrap; max-width: 500px; overflow: hidden; text-overflow: ellipsis; \">False</td><td style=\"white-space: nowrap; max-width: 500px; overflow: hidden; text-overflow: ellipsis; \">6</td></tr>\n",
       "<tr><td style=\"white-space: nowrap; max-width: 500px; overflow: hidden; text-overflow: ellipsis; \">&quot;HG00148&quot;</td><td style=\"white-space: nowrap; max-width: 500px; overflow: hidden; text-overflow: ellipsis; \">&quot;GBR&quot;</td><td style=\"white-space: nowrap; max-width: 500px; overflow: hidden; text-overflow: ellipsis; \">&quot;EUR&quot;</td><td style=\"white-space: nowrap; max-width: 500px; overflow: hidden; text-overflow: ellipsis; \">False</td><td style=\"white-space: nowrap; max-width: 500px; overflow: hidden; text-overflow: ellipsis; \">True</td><td style=\"white-space: nowrap; max-width: 500px; overflow: hidden; text-overflow: ellipsis; \">2</td></tr>\n",
       "<tr><td style=\"white-space: nowrap; max-width: 500px; overflow: hidden; text-overflow: ellipsis; \">&quot;HG00177&quot;</td><td style=\"white-space: nowrap; max-width: 500px; overflow: hidden; text-overflow: ellipsis; \">&quot;FIN&quot;</td><td style=\"white-space: nowrap; max-width: 500px; overflow: hidden; text-overflow: ellipsis; \">&quot;EUR&quot;</td><td style=\"white-space: nowrap; max-width: 500px; overflow: hidden; text-overflow: ellipsis; \">True</td><td style=\"white-space: nowrap; max-width: 500px; overflow: hidden; text-overflow: ellipsis; \">True</td><td style=\"white-space: nowrap; max-width: 500px; overflow: hidden; text-overflow: ellipsis; \">4</td></tr>\n",
       "<tr><td style=\"white-space: nowrap; max-width: 500px; overflow: hidden; text-overflow: ellipsis; \">&quot;HG00182&quot;</td><td style=\"white-space: nowrap; max-width: 500px; overflow: hidden; text-overflow: ellipsis; \">&quot;FIN&quot;</td><td style=\"white-space: nowrap; max-width: 500px; overflow: hidden; text-overflow: ellipsis; \">&quot;EUR&quot;</td><td style=\"white-space: nowrap; max-width: 500px; overflow: hidden; text-overflow: ellipsis; \">False</td><td style=\"white-space: nowrap; max-width: 500px; overflow: hidden; text-overflow: ellipsis; \">False</td><td style=\"white-space: nowrap; max-width: 500px; overflow: hidden; text-overflow: ellipsis; \">2</td></tr>\n",
       "<tr><td style=\"white-space: nowrap; max-width: 500px; overflow: hidden; text-overflow: ellipsis; \">&quot;HG00242&quot;</td><td style=\"white-space: nowrap; max-width: 500px; overflow: hidden; text-overflow: ellipsis; \">&quot;GBR&quot;</td><td style=\"white-space: nowrap; max-width: 500px; overflow: hidden; text-overflow: ellipsis; \">&quot;EUR&quot;</td><td style=\"white-space: nowrap; max-width: 500px; overflow: hidden; text-overflow: ellipsis; \">False</td><td style=\"white-space: nowrap; max-width: 500px; overflow: hidden; text-overflow: ellipsis; \">False</td><td style=\"white-space: nowrap; max-width: 500px; overflow: hidden; text-overflow: ellipsis; \">1</td></tr>\n",
       "<tr><td style=\"white-space: nowrap; max-width: 500px; overflow: hidden; text-overflow: ellipsis; \">&quot;HG00254&quot;</td><td style=\"white-space: nowrap; max-width: 500px; overflow: hidden; text-overflow: ellipsis; \">&quot;GBR&quot;</td><td style=\"white-space: nowrap; max-width: 500px; overflow: hidden; text-overflow: ellipsis; \">&quot;EUR&quot;</td><td style=\"white-space: nowrap; max-width: 500px; overflow: hidden; text-overflow: ellipsis; \">True</td><td style=\"white-space: nowrap; max-width: 500px; overflow: hidden; text-overflow: ellipsis; \">False</td><td style=\"white-space: nowrap; max-width: 500px; overflow: hidden; text-overflow: ellipsis; \">2</td></tr>\n",
       "</tbody></table><p style=\"background: #fdd; padding: 0.4em;\">showing top 10 rows</p>\n"
      ],
      "text/plain": [
       "+-----------+------------------+-----------------------+----------------+\n",
       "| s         | pheno.Population | pheno.SuperPopulation | pheno.isFemale |\n",
       "+-----------+------------------+-----------------------+----------------+\n",
       "| str       | str              | str                   |           bool |\n",
       "+-----------+------------------+-----------------------+----------------+\n",
       "| \"HG00096\" | \"GBR\"            | \"EUR\"                 |          False |\n",
       "| \"HG00099\" | \"GBR\"            | \"EUR\"                 |           True |\n",
       "| \"HG00105\" | \"GBR\"            | \"EUR\"                 |          False |\n",
       "| \"HG00118\" | \"GBR\"            | \"EUR\"                 |           True |\n",
       "| \"HG00129\" | \"GBR\"            | \"EUR\"                 |          False |\n",
       "| \"HG00148\" | \"GBR\"            | \"EUR\"                 |          False |\n",
       "| \"HG00177\" | \"FIN\"            | \"EUR\"                 |           True |\n",
       "| \"HG00182\" | \"FIN\"            | \"EUR\"                 |          False |\n",
       "| \"HG00242\" | \"GBR\"            | \"EUR\"                 |          False |\n",
       "| \"HG00254\" | \"GBR\"            | \"EUR\"                 |           True |\n",
       "+-----------+------------------+-----------------------+----------------+\n",
       "\n",
       "+------------------+---------------------------+\n",
       "| pheno.PurpleHair | pheno.CaffeineConsumption |\n",
       "+------------------+---------------------------+\n",
       "|             bool |                     int32 |\n",
       "+------------------+---------------------------+\n",
       "|            False |                         4 |\n",
       "|            False |                         4 |\n",
       "|            False |                         4 |\n",
       "|            False |                         3 |\n",
       "|            False |                         6 |\n",
       "|             True |                         2 |\n",
       "|             True |                         4 |\n",
       "|            False |                         2 |\n",
       "|            False |                         1 |\n",
       "|            False |                         2 |\n",
       "+------------------+---------------------------+\n",
       "showing top 10 rows"
      ]
     },
     "metadata": {},
     "output_type": "display_data"
    }
   ],
   "source": [
    "mt.key_cols_by()\n",
    "mt.cols().show()"
   ]
  },
  {
   "cell_type": "markdown",
   "id": "741eff9e",
   "metadata": {},
   "source": [
    "New columns (description on phenotype) has been added for each sample."
   ]
  },
  {
   "cell_type": "markdown",
   "id": "ce6d25ef",
   "metadata": {},
   "source": [
    "# Query functions and the Hail Expression Language\n",
    "## counter\n",
    " :counts the number of occurrences of each unique element"
   ]
  },
  {
   "cell_type": "code",
   "execution_count": 68,
   "id": "643fc489",
   "metadata": {},
   "outputs": [
    {
     "name": "stdout",
     "output_type": "stream",
     "text": [
      "frozendict({'AFR': 1018, 'EAS': 617, 'AMR': 535, 'SAS': 661, 'EUR': 669})\n"
     ]
    }
   ],
   "source": [
    "pprint(Table.aggregate(hl.agg.counter(Table.SuperPopulation)))"
   ]
  },
  {
   "cell_type": "markdown",
   "id": "c530db6c",
   "metadata": {},
   "source": [
    "Counting SuperPopulation in our table is not a good representative of our dataset:"
   ]
  },
  {
   "cell_type": "code",
   "execution_count": 69,
   "id": "12892ef4",
   "metadata": {},
   "outputs": [
    {
     "data": {
      "text/plain": [
       "3500"
      ]
     },
     "execution_count": 69,
     "metadata": {},
     "output_type": "execute_result"
    }
   ],
   "source": [
    "Table.count()"
   ]
  },
  {
   "cell_type": "code",
   "execution_count": 70,
   "id": "719e65e4",
   "metadata": {},
   "outputs": [
    {
     "data": {
      "text/plain": [
       "284"
      ]
     },
     "execution_count": 70,
     "metadata": {},
     "output_type": "execute_result"
    }
   ],
   "source": [
    "mt.count_cols()"
   ]
  },
  {
   "cell_type": "markdown",
   "id": "6e16167d",
   "metadata": {},
   "source": [
    "Data Size does not match. We need to look at the annotations in our dataset:"
   ]
  },
  {
   "cell_type": "code",
   "execution_count": 71,
   "id": "c499dae7",
   "metadata": {},
   "outputs": [
    {
     "data": {
      "text/plain": [
       "frozendict({'AFR': 76, 'EAS': 72, 'AMR': 34, 'SAS': 55, 'EUR': 47})"
      ]
     },
     "execution_count": 71,
     "metadata": {},
     "output_type": "execute_result"
    }
   ],
   "source": [
    "mt.aggregate_cols(hl.agg.counter(mt.pheno.SuperPopulation))\n",
    "#aggregate_cols gets the metrics for only the samples in our datase"
   ]
  },
  {
   "cell_type": "code",
   "execution_count": 72,
   "id": "9c4a1e2f",
   "metadata": {},
   "outputs": [
    {
     "name": "stdout",
     "output_type": "stream",
     "text": [
      "{'max': 9.0,\n",
      " 'mean': 4.415492957746479,\n",
      " 'min': 0.0,\n",
      " 'n': 284,\n",
      " 'stdev': 1.577763427465917,\n",
      " 'sum': 1254.0}\n"
     ]
    }
   ],
   "source": [
    "pprint(mt.aggregate_cols(hl.agg.stats(mt.pheno.CaffeineConsumption)))"
   ]
  },
  {
   "cell_type": "markdown",
   "id": "118b1312",
   "metadata": {},
   "source": [
    "**Calculating the counts of each of the 12 possible unique SNPs:**\n",
    "\n",
    "We need to get the alternate allele of each variant and then count the occurences of each unique ref/alt pair:"
   ]
  },
  {
   "cell_type": "code",
   "execution_count": 73,
   "id": "ea4c1427",
   "metadata": {},
   "outputs": [
    {
     "name": "stderr",
     "output_type": "stream",
     "text": [
      "\r",
      "[Stage 72:>                                                         (0 + 1) / 1]\r"
     ]
    }
   ],
   "source": [
    "snp_count = mt.aggregate_rows(hl.agg.counter(hl.struct(ref = mt.alleles[0], alt = mt.alleles[1])))"
   ]
  },
  {
   "cell_type": "code",
   "execution_count": 74,
   "id": "f8df1d72",
   "metadata": {},
   "outputs": [
    {
     "name": "stdout",
     "output_type": "stream",
     "text": [
      "frozendict({Struct(ref='C', alt='A'): 452, Struct(ref='A', alt='C'): 427, Struct(ref='C', alt='T'): 2241, Struct(ref='C', alt='G'): 126, Struct(ref='A', alt='T'): 58, Struct(ref='G', alt='A'): 2175, Struct(ref='G', alt='C'): 96, Struct(ref='T', alt='G'): 419, Struct(ref='A', alt='G'): 1871, Struct(ref='G', alt='T'): 447, Struct(ref='T', alt='C'): 1787, Struct(ref='T', alt='A'): 68})\n"
     ]
    }
   ],
   "source": [
    "pprint(snp_count)"
   ]
  },
  {
   "cell_type": "markdown",
   "id": "e9aa6806",
   "metadata": {},
   "source": [
    "Listing counts in descending order:"
   ]
  },
  {
   "cell_type": "code",
   "execution_count": 75,
   "id": "b1e710b5",
   "metadata": {},
   "outputs": [
    {
     "data": {
      "text/plain": [
       "[(Struct(ref='C', alt='T'), 2241),\n",
       " (Struct(ref='G', alt='A'), 2175),\n",
       " (Struct(ref='A', alt='G'), 1871),\n",
       " (Struct(ref='T', alt='C'), 1787),\n",
       " (Struct(ref='C', alt='A'), 452),\n",
       " (Struct(ref='G', alt='T'), 447),\n",
       " (Struct(ref='A', alt='C'), 427),\n",
       " (Struct(ref='T', alt='G'), 419),\n",
       " (Struct(ref='C', alt='G'), 126),\n",
       " (Struct(ref='G', alt='C'), 96),\n",
       " (Struct(ref='T', alt='A'), 68),\n",
       " (Struct(ref='A', alt='T'), 58)]"
      ]
     },
     "execution_count": 75,
     "metadata": {},
     "output_type": "execute_result"
    }
   ],
   "source": [
    "from collections import Counter\n",
    "counts = Counter(snp_count)\n",
    "counts.most_common()"
   ]
  },
  {
   "cell_type": "markdown",
   "id": "1e9fbaaa",
   "metadata": {},
   "source": [
    "You can see that transitions are much more common than transversions.\n",
    "\n",
    "Hail Plotting:"
   ]
  },
  {
   "cell_type": "code",
   "execution_count": 76,
   "id": "ae8092bb",
   "metadata": {},
   "outputs": [
    {
     "name": "stderr",
     "output_type": "stream",
     "text": [
      "[Stage 74:>                                                         (0 + 1) / 1]\r"
     ]
    }
   ],
   "source": [
    "p = hl.plot.histogram(mt.DP, title = 'DP Histogram', legend = 'DP')"
   ]
  },
  {
   "cell_type": "code",
   "execution_count": 77,
   "id": "4b5e9a86",
   "metadata": {
    "scrolled": true
   },
   "outputs": [
    {
     "data": {
      "text/html": [
       "\n",
       "\n",
       "\n",
       "\n",
       "\n",
       "\n",
       "  <div class=\"bk-root\" id=\"3495ca63-8421-4ec3-9131-f7b429210ed8\" data-root-id=\"1389\"></div>\n"
      ]
     },
     "metadata": {},
     "output_type": "display_data"
    },
    {
     "data": {
      "application/javascript": [
       "(function(root) {\n",
       "  function embed_document(root) {\n",
       "    \n",
       "  var docs_json = {\"41cc66fc-53b4-4291-b9ec-300f67815905\":{\"roots\":{\"references\":[{\"attributes\":{\"background_fill_color\":{\"value\":\"#EEEEEE\"},\"below\":[{\"id\":\"1400\",\"type\":\"LinearAxis\"}],\"center\":[{\"id\":\"1404\",\"type\":\"Grid\"},{\"id\":\"1409\",\"type\":\"Grid\"},{\"id\":\"1434\",\"type\":\"Legend\"}],\"left\":[{\"id\":\"1405\",\"type\":\"LinearAxis\"}],\"renderers\":[{\"id\":\"1426\",\"type\":\"GlyphRenderer\"}],\"title\":{\"id\":\"1390\",\"type\":\"Title\"},\"toolbar\":{\"id\":\"1416\",\"type\":\"Toolbar\"},\"x_range\":{\"id\":\"1392\",\"type\":\"Range1d\"},\"x_scale\":{\"id\":\"1396\",\"type\":\"LinearScale\"},\"y_range\":{\"id\":\"1394\",\"type\":\"DataRange1d\"},\"y_scale\":{\"id\":\"1398\",\"type\":\"LinearScale\"}},\"id\":\"1389\",\"subtype\":\"Figure\",\"type\":\"Plot\"},{\"attributes\":{\"source\":{\"id\":\"1423\",\"type\":\"ColumnDataSource\"}},\"id\":\"1427\",\"type\":\"CDSView\"},{\"attributes\":{},\"id\":\"1470\",\"type\":\"UnionRenderers\"},{\"attributes\":{},\"id\":\"1471\",\"type\":\"Selection\"},{\"attributes\":{\"callback\":null},\"id\":\"1394\",\"type\":\"DataRange1d\"},{\"attributes\":{},\"id\":\"1432\",\"type\":\"BasicTickFormatter\"},{\"attributes\":{},\"id\":\"1406\",\"type\":\"BasicTicker\"},{\"attributes\":{},\"id\":\"1410\",\"type\":\"PanTool\"},{\"attributes\":{},\"id\":\"1430\",\"type\":\"BasicTickFormatter\"},{\"attributes\":{\"callback\":null,\"data\":{\"left\":[0.0,1.36,2.72,4.08,5.44,6.800000000000001,8.16,9.520000000000001,10.88,12.24,13.600000000000001,14.96,16.32,17.68,19.040000000000003,20.400000000000002,21.76,23.12,24.48,25.840000000000003,27.200000000000003,28.560000000000002,29.92,31.28,32.64,34.0,35.36,36.720000000000006,38.080000000000005,39.440000000000005,40.800000000000004,42.160000000000004,43.52,44.88,46.24,47.6,48.96,50.32,51.68000000000001,53.040000000000006,54.400000000000006,55.760000000000005,57.120000000000005,58.480000000000004,59.84,61.2,62.56,63.92,65.28,66.64],\"right\":[1.36,2.72,4.08,5.44,6.800000000000001,8.16,9.520000000000001,10.88,12.24,13.600000000000001,14.96,16.32,17.68,19.040000000000003,20.400000000000002,21.76,23.12,24.48,25.840000000000003,27.200000000000003,28.560000000000002,29.92,31.28,32.64,34.0,35.36,36.720000000000006,38.080000000000005,39.440000000000005,40.800000000000004,42.160000000000004,43.52,44.88,46.24,47.6,48.96,50.32,51.68000000000001,53.040000000000006,54.400000000000006,55.760000000000005,57.120000000000005,58.480000000000004,59.84,61.2,62.56,63.92,65.28,66.64,68.0],\"top\":[93726,167671,523356,308807,305108,532638,209881,171039,240668,79219,59459,75359,23450,29589,9121,6710,8471,2664,1922,2495,740,492,609,162,219,54,32,35,17,5,7,6,2,1,1,1,0,0,0,0,1,0,0,0,0,0,1,0,0,1]},\"selected\":{\"id\":\"1471\",\"type\":\"Selection\"},\"selection_policy\":{\"id\":\"1470\",\"type\":\"UnionRenderers\"}},\"id\":\"1423\",\"type\":\"ColumnDataSource\"},{\"attributes\":{\"bottom_units\":\"screen\",\"fill_alpha\":{\"value\":0.5},\"fill_color\":{\"value\":\"lightgrey\"},\"left_units\":\"screen\",\"level\":\"overlay\",\"line_alpha\":{\"value\":1.0},\"line_color\":{\"value\":\"black\"},\"line_dash\":[4,4],\"line_width\":{\"value\":2},\"render_mode\":\"css\",\"right_units\":\"screen\",\"top_units\":\"screen\"},\"id\":\"1433\",\"type\":\"BoxAnnotation\"},{\"attributes\":{\"items\":[{\"id\":\"1435\",\"type\":\"LegendItem\"}]},\"id\":\"1434\",\"type\":\"Legend\"},{\"attributes\":{\"callback\":null,\"end\":71.4,\"start\":-3.4000000000000004},\"id\":\"1392\",\"type\":\"Range1d\"},{\"attributes\":{},\"id\":\"1411\",\"type\":\"WheelZoomTool\"},{\"attributes\":{\"active_drag\":\"auto\",\"active_inspect\":\"auto\",\"active_multi\":null,\"active_scroll\":\"auto\",\"active_tap\":\"auto\",\"tools\":[{\"id\":\"1410\",\"type\":\"PanTool\"},{\"id\":\"1411\",\"type\":\"WheelZoomTool\"},{\"id\":\"1412\",\"type\":\"BoxZoomTool\"},{\"id\":\"1413\",\"type\":\"SaveTool\"},{\"id\":\"1414\",\"type\":\"ResetTool\"},{\"id\":\"1415\",\"type\":\"HelpTool\"}]},\"id\":\"1416\",\"type\":\"Toolbar\"},{\"attributes\":{},\"id\":\"1414\",\"type\":\"ResetTool\"},{\"attributes\":{\"text\":\"DP Histogram\"},\"id\":\"1390\",\"type\":\"Title\"},{\"attributes\":{\"dimension\":1,\"ticker\":{\"id\":\"1406\",\"type\":\"BasicTicker\"}},\"id\":\"1409\",\"type\":\"Grid\"},{\"attributes\":{\"ticker\":{\"id\":\"1401\",\"type\":\"BasicTicker\"}},\"id\":\"1404\",\"type\":\"Grid\"},{\"attributes\":{},\"id\":\"1415\",\"type\":\"HelpTool\"},{\"attributes\":{\"label\":{\"value\":\"DP\"},\"renderers\":[{\"id\":\"1426\",\"type\":\"GlyphRenderer\"}]},\"id\":\"1435\",\"type\":\"LegendItem\"},{\"attributes\":{},\"id\":\"1413\",\"type\":\"SaveTool\"},{\"attributes\":{\"bottom\":{\"value\":0},\"fill_color\":{\"value\":\"#1f77b4\"},\"left\":{\"field\":\"left\"},\"right\":{\"field\":\"right\"},\"top\":{\"field\":\"top\"}},\"id\":\"1424\",\"type\":\"Quad\"},{\"attributes\":{\"axis_label\":\"Frequency\",\"formatter\":{\"id\":\"1432\",\"type\":\"BasicTickFormatter\"},\"ticker\":{\"id\":\"1406\",\"type\":\"BasicTicker\"}},\"id\":\"1405\",\"type\":\"LinearAxis\"},{\"attributes\":{},\"id\":\"1398\",\"type\":\"LinearScale\"},{\"attributes\":{\"data_source\":{\"id\":\"1423\",\"type\":\"ColumnDataSource\"},\"glyph\":{\"id\":\"1424\",\"type\":\"Quad\"},\"hover_glyph\":null,\"muted_glyph\":null,\"nonselection_glyph\":{\"id\":\"1425\",\"type\":\"Quad\"},\"selection_glyph\":null,\"view\":{\"id\":\"1427\",\"type\":\"CDSView\"}},\"id\":\"1426\",\"type\":\"GlyphRenderer\"},{\"attributes\":{\"axis_label\":\"DP\",\"formatter\":{\"id\":\"1430\",\"type\":\"BasicTickFormatter\"},\"ticker\":{\"id\":\"1401\",\"type\":\"BasicTicker\"}},\"id\":\"1400\",\"type\":\"LinearAxis\"},{\"attributes\":{},\"id\":\"1401\",\"type\":\"BasicTicker\"},{\"attributes\":{\"overlay\":{\"id\":\"1433\",\"type\":\"BoxAnnotation\"}},\"id\":\"1412\",\"type\":\"BoxZoomTool\"},{\"attributes\":{\"bottom\":{\"value\":0},\"fill_alpha\":{\"value\":0.1},\"fill_color\":{\"value\":\"#1f77b4\"},\"left\":{\"field\":\"left\"},\"line_alpha\":{\"value\":0.1},\"line_color\":{\"value\":\"#1f77b4\"},\"right\":{\"field\":\"right\"},\"top\":{\"field\":\"top\"}},\"id\":\"1425\",\"type\":\"Quad\"},{\"attributes\":{},\"id\":\"1396\",\"type\":\"LinearScale\"}],\"root_ids\":[\"1389\"]},\"title\":\"Bokeh Application\",\"version\":\"1.4.0\"}};\n",
       "  var render_items = [{\"docid\":\"41cc66fc-53b4-4291-b9ec-300f67815905\",\"roots\":{\"1389\":\"3495ca63-8421-4ec3-9131-f7b429210ed8\"}}];\n",
       "  root.Bokeh.embed.embed_items_notebook(docs_json, render_items);\n",
       "\n",
       "  }\n",
       "  if (root.Bokeh !== undefined) {\n",
       "    embed_document(root);\n",
       "  } else {\n",
       "    var attempts = 0;\n",
       "    var timer = setInterval(function(root) {\n",
       "      if (root.Bokeh !== undefined) {\n",
       "        clearInterval(timer);\n",
       "        embed_document(root);\n",
       "      } else {\n",
       "        attempts++;\n",
       "        if (attempts > 100) {\n",
       "          clearInterval(timer);\n",
       "          console.log(\"Bokeh: ERROR: Unable to run BokehJS code because BokehJS library is missing\");\n",
       "        }\n",
       "      }\n",
       "    }, 10, root)\n",
       "  }\n",
       "})(window);"
      ],
      "application/vnd.bokehjs_exec.v0+json": ""
     },
     "metadata": {
      "application/vnd.bokehjs_exec.v0+json": {
       "id": "1389"
      }
     },
     "output_type": "display_data"
    }
   ],
   "source": [
    "show(p)"
   ]
  },
  {
   "cell_type": "markdown",
   "id": "1cdc9b0b",
   "metadata": {},
   "source": [
    "_My Exercise_\n",
    "\n",
    "1. Count: Number of samples that are heterozygote, homozygote (ref, alt):"
   ]
  },
  {
   "cell_type": "code",
   "execution_count": 78,
   "id": "c67beff9",
   "metadata": {
    "scrolled": true
   },
   "outputs": [
    {
     "name": "stderr",
     "output_type": "stream",
     "text": [
      "\r",
      "[Stage 75:>                                                         (0 + 1) / 1]\r"
     ]
    }
   ],
   "source": [
    "genotype_count = mt.aggregate_entries(hl.agg.counter(mt.GT))"
   ]
  },
  {
   "cell_type": "code",
   "execution_count": 79,
   "id": "777f9d8a",
   "metadata": {},
   "outputs": [
    {
     "name": "stdout",
     "output_type": "stream",
     "text": [
      "frozendict({Call(alleles=[0, 0], phased=False): 1555217, Call(alleles=[0, 1], phased=False): 734446, Call(alleles=[1, 1], phased=False): 566472, None: 31293})\n"
     ]
    }
   ],
   "source": [
    "pprint(genotype_count)"
   ]
  },
  {
   "cell_type": "markdown",
   "id": "f1af57df",
   "metadata": {},
   "source": [
    "2. What is the observed genotype of each allele in the given location?"
   ]
  },
  {
   "cell_type": "code",
   "execution_count": 80,
   "id": "457edba0",
   "metadata": {},
   "outputs": [
    {
     "data": {
      "text/html": [
       "<table><thead><tr><td style=\"white-space: nowrap; max-width: 500px; overflow: hidden; text-overflow: ellipsis; \" colspan=\"1\"><div style=\"text-align: left;\"></div></td><td style=\"white-space: nowrap; max-width: 500px; overflow: hidden; text-overflow: ellipsis; \" colspan=\"1\"><div style=\"text-align: left;\"></div></td><td style=\"white-space: nowrap; max-width: 500px; overflow: hidden; text-overflow: ellipsis; \" colspan=\"1\"><div style=\"text-align: left;\"></div></td></tr><tr><td style=\"white-space: nowrap; max-width: 500px; overflow: hidden; text-overflow: ellipsis; \" colspan=\"1\"><div style=\"text-align: left;border-bottom: solid 2px #000; padding-bottom: 5px\">locus</div></td><td style=\"white-space: nowrap; max-width: 500px; overflow: hidden; text-overflow: ellipsis; \" colspan=\"1\"><div style=\"text-align: left;border-bottom: solid 2px #000; padding-bottom: 5px\">alleles</div></td><td style=\"white-space: nowrap; max-width: 500px; overflow: hidden; text-overflow: ellipsis; \" colspan=\"1\"><div style=\"text-align: left;border-bottom: solid 2px #000; padding-bottom: 5px\">gt_counter</div></td></tr><tr><td style=\"white-space: nowrap; max-width: 500px; overflow: hidden; text-overflow: ellipsis; text-align: left;\">locus&lt;GRCh37&gt;</td><td style=\"white-space: nowrap; max-width: 500px; overflow: hidden; text-overflow: ellipsis; text-align: left;\">array&lt;str&gt;</td><td style=\"white-space: nowrap; max-width: 500px; overflow: hidden; text-overflow: ellipsis; text-align: left;\">dict&lt;call, int64&gt;</td></tr>\n",
       "</thead><tbody><tr><td style=\"white-space: nowrap; max-width: 500px; overflow: hidden; text-overflow: ellipsis; \">1:904165</td><td style=\"white-space: nowrap; max-width: 500px; overflow: hidden; text-overflow: ellipsis; \">[&quot;G&quot;,&quot;A&quot;]</td><td style=\"white-space: nowrap; max-width: 500px; overflow: hidden; text-overflow: ellipsis; \">{0/0:228,0/1:45,1/1:9,NA:2}</td></tr>\n",
       "<tr><td style=\"white-space: nowrap; max-width: 500px; overflow: hidden; text-overflow: ellipsis; \">1:1707740</td><td style=\"white-space: nowrap; max-width: 500px; overflow: hidden; text-overflow: ellipsis; \">[&quot;T&quot;,&quot;G&quot;]</td><td style=\"white-space: nowrap; max-width: 500px; overflow: hidden; text-overflow: ellipsis; \">{0/0:194,0/1:76,1/1:13,NA:1}</td></tr>\n",
       "<tr><td style=\"white-space: nowrap; max-width: 500px; overflow: hidden; text-overflow: ellipsis; \">1:2284195</td><td style=\"white-space: nowrap; max-width: 500px; overflow: hidden; text-overflow: ellipsis; \">[&quot;T&quot;,&quot;C&quot;]</td><td style=\"white-space: nowrap; max-width: 500px; overflow: hidden; text-overflow: ellipsis; \">{0/0:141,0/1:101,1/1:33,NA:9}</td></tr>\n",
       "<tr><td style=\"white-space: nowrap; max-width: 500px; overflow: hidden; text-overflow: ellipsis; \">1:2779043</td><td style=\"white-space: nowrap; max-width: 500px; overflow: hidden; text-overflow: ellipsis; \">[&quot;T&quot;,&quot;C&quot;]</td><td style=\"white-space: nowrap; max-width: 500px; overflow: hidden; text-overflow: ellipsis; \">{0/0:31,0/1:85,1/1:156,NA:12}</td></tr>\n",
       "<tr><td style=\"white-space: nowrap; max-width: 500px; overflow: hidden; text-overflow: ellipsis; \">1:2944527</td><td style=\"white-space: nowrap; max-width: 500px; overflow: hidden; text-overflow: ellipsis; \">[&quot;G&quot;,&quot;A&quot;]</td><td style=\"white-space: nowrap; max-width: 500px; overflow: hidden; text-overflow: ellipsis; \">{0/0:173,0/1:90,1/1:13,NA:8}</td></tr>\n",
       "<tr><td style=\"white-space: nowrap; max-width: 500px; overflow: hidden; text-overflow: ellipsis; \">1:3761547</td><td style=\"white-space: nowrap; max-width: 500px; overflow: hidden; text-overflow: ellipsis; \">[&quot;C&quot;,&quot;A&quot;]</td><td style=\"white-space: nowrap; max-width: 500px; overflow: hidden; text-overflow: ellipsis; \">{0/0:277,0/1:6,NA:1}</td></tr>\n",
       "<tr><td style=\"white-space: nowrap; max-width: 500px; overflow: hidden; text-overflow: ellipsis; \">1:3803755</td><td style=\"white-space: nowrap; max-width: 500px; overflow: hidden; text-overflow: ellipsis; \">[&quot;T&quot;,&quot;C&quot;]</td><td style=\"white-space: nowrap; max-width: 500px; overflow: hidden; text-overflow: ellipsis; \">{0/0:40,0/1:91,1/1:152,NA:1}</td></tr>\n",
       "<tr><td style=\"white-space: nowrap; max-width: 500px; overflow: hidden; text-overflow: ellipsis; \">1:4121584</td><td style=\"white-space: nowrap; max-width: 500px; overflow: hidden; text-overflow: ellipsis; \">[&quot;A&quot;,&quot;G&quot;]</td><td style=\"white-space: nowrap; max-width: 500px; overflow: hidden; text-overflow: ellipsis; \">{0/0:155,0/1:75,1/1:49,NA:5}</td></tr>\n",
       "<tr><td style=\"white-space: nowrap; max-width: 500px; overflow: hidden; text-overflow: ellipsis; \">1:4170048</td><td style=\"white-space: nowrap; max-width: 500px; overflow: hidden; text-overflow: ellipsis; \">[&quot;C&quot;,&quot;T&quot;]</td><td style=\"white-space: nowrap; max-width: 500px; overflow: hidden; text-overflow: ellipsis; \">{0/0:167,0/1:89,1/1:24,NA:4}</td></tr>\n",
       "<tr><td style=\"white-space: nowrap; max-width: 500px; overflow: hidden; text-overflow: ellipsis; \">1:4180842</td><td style=\"white-space: nowrap; max-width: 500px; overflow: hidden; text-overflow: ellipsis; \">[&quot;C&quot;,&quot;T&quot;]</td><td style=\"white-space: nowrap; max-width: 500px; overflow: hidden; text-overflow: ellipsis; \">{0/0:155,0/1:95,1/1:27,NA:7}</td></tr>\n",
       "</tbody></table><p style=\"background: #fdd; padding: 0.4em;\">showing top 10 rows</p>\n"
      ],
      "text/plain": [
       "+---------------+------------+-------------------------------+\n",
       "| locus         | alleles    | gt_counter                    |\n",
       "+---------------+------------+-------------------------------+\n",
       "| locus<GRCh37> | array<str> | dict<call, int64>             |\n",
       "+---------------+------------+-------------------------------+\n",
       "| 1:904165      | [\"G\",\"A\"]  | {0/0:228,0/1:45,1/1:9,NA:2}   |\n",
       "| 1:1707740     | [\"T\",\"G\"]  | {0/0:194,0/1:76,1/1:13,NA:1}  |\n",
       "| 1:2284195     | [\"T\",\"C\"]  | {0/0:141,0/1:101,1/1:33,NA:9} |\n",
       "| 1:2779043     | [\"T\",\"C\"]  | {0/0:31,0/1:85,1/1:156,NA:12} |\n",
       "| 1:2944527     | [\"G\",\"A\"]  | {0/0:173,0/1:90,1/1:13,NA:8}  |\n",
       "| 1:3761547     | [\"C\",\"A\"]  | {0/0:277,0/1:6,NA:1}          |\n",
       "| 1:3803755     | [\"T\",\"C\"]  | {0/0:40,0/1:91,1/1:152,NA:1}  |\n",
       "| 1:4121584     | [\"A\",\"G\"]  | {0/0:155,0/1:75,1/1:49,NA:5}  |\n",
       "| 1:4170048     | [\"C\",\"T\"]  | {0/0:167,0/1:89,1/1:24,NA:4}  |\n",
       "| 1:4180842     | [\"C\",\"T\"]  | {0/0:155,0/1:95,1/1:27,NA:7}  |\n",
       "+---------------+------------+-------------------------------+\n",
       "showing top 10 rows"
      ]
     },
     "metadata": {},
     "output_type": "display_data"
    }
   ],
   "source": [
    "result_mt = mt.annotate_rows(gt_counter=hl.agg.counter(mt.GT))\n",
    "result_mt.gt_counter.show()"
   ]
  },
  {
   "cell_type": "markdown",
   "id": "0325928b",
   "metadata": {},
   "source": [
    "### Aggregators (Functions):\n",
    "- collect(expr): Collect records into an array.\n",
    "\n",
    "- collect_as_set(expr): Collect records into a set.\n",
    "\n",
    "- count(): Count the number of records.\n",
    "\n",
    "- count_where(condition): Count the number of records where a predicate is True.\n",
    "\n",
    "- counter(expr, * [, weight]): Count the occurrences of each unique record and return a dictionary.\n",
    "\n",
    "- any(condition): Returns True if condition is True for any record.\n",
    "\n",
    "- all(condition): Returns True if condition is True for every record.\n",
    "\n",
    "- take(expr, n[, ordering]): Take n records of expr, optionally ordered by ordering.\n",
    "\n",
    "- min(expr): Compute the minimum expr.\n",
    "\n",
    "- max(expr): Compute the maximum expr.\n",
    "\n",
    "- sum(expr): Compute the sum of all records of expr.\n",
    "\n",
    "- array_sum(expr): Compute the coordinate-wise sum of all records of expr.\n",
    "\n",
    "- mean(expr): Compute the mean value of records of expr.\n",
    "\n",
    "- approx_quantiles(expr, qs[, k]): Compute an array of approximate quantiles.\n",
    "\n",
    "- approx_median(expr): Compute the approximate median.\n",
    "\n",
    "- stats(expr): Compute a number of useful statistics about expr.\n",
    "\n",
    "- product(expr): Compute the product of all records of expr.\n",
    "\n",
    "- fraction(predicate): Compute the fraction of records where predicate is True.\n",
    "\n",
    "- hardy_weinberg_test(expr): Performs test of Hardy-Weinberg equilibrium.\n",
    "\n",
    "- explode(f, array_agg_expr): Explode an array or set expression to aggregate the elements of all records.\n",
    "\n",
    "- filter(condition, aggregation): Filter records according to a predicate.\n",
    "\n",
    "- inbreeding(expr, prior): Compute inbreeding statistics on calls.\n",
    "\n",
    "GATK: Inbreeding Coefficient measures the excess heterozygosity at a variant site. It can be used as a proxy for poor mapping; sites that have high Inbreeding Coefficients are typically locations in the genome where the mapping is bad. (Equation: 1- n. observed heterozygotes/n. expected heterozygotes)\n",
    "\n",
    "- call_stats(call, alleles): Compute useful call statistics.\n",
    "\n",
    "- info_score(gp): Compute the IMPUTE information score.\n",
    "\n",
    "Genotype Imputation: process of estimating missing genotypes using the haplotype or genotype reference panel.\n",
    "IMPUTE score reports an information metric (info score). This metric typically takes values between 0 and 1, where values near 1 indicate that a SNP has been imputed with high certainty. \n",
    "\n",
    "- hist(expr, start, end, bins): Compute binned counts of a numeric expression.\n",
    "\n",
    "- linreg(y, x[, nested_dim, weight]): Compute multivariate linear regression statistics.\n",
    "\n",
    "- corr(x, y): Computes the Pearson correlation coefficient between x and y.\n",
    "\n",
    "- group_by(group, agg_expr): Compute aggregation statistics stratified by one or more groups.\n",
    "\n",
    "- array_agg(f, array): Aggregate an array element-wise using a user-specified aggregation function.\n",
    "\n",
    "- downsample(x, y[, label, n_divisions]): Downsample (x, y) coordinate datapoints.\n",
    "\n",
    "Downsampling : the process of reducing the sampling rate of a signal\n",
    "\n",
    "- approx_cdf(expr[, k]): Produce a summary of the distribution of values.\n",
    "two arrays: values array -> contains an ordered sample of values seen. /ranks array -> contains the approximate ranks for the corresponding values.\n",
    "\n",
    "for any value x = values(i) in the summary, we estimate that there are ranks(i) values strictly less than x, and that there are ranks(i+1) values less than or equal to x. \n",
    "\n",
    "For any value y (not necessarily in the summary), we estimate CDF(y) to be ranks(i), where i is such that values(i-1) < y ≤ values(i)."
   ]
  },
  {
   "cell_type": "markdown",
   "id": "92c79cb6",
   "metadata": {},
   "source": [
    "# Quality Control\n",
    "\n",
    "sample_qc() function: produces a set of useful metrics and stores them in a column field"
   ]
  },
  {
   "cell_type": "code",
   "execution_count": 81,
   "id": "a79c76ef",
   "metadata": {},
   "outputs": [
    {
     "name": "stdout",
     "output_type": "stream",
     "text": [
      "--------------------------------------------------------\n",
      "Type:\n",
      "        struct {\n",
      "        s: str, \n",
      "        pheno: struct {\n",
      "            Population: str, \n",
      "            SuperPopulation: str, \n",
      "            isFemale: bool, \n",
      "            PurpleHair: bool, \n",
      "            CaffeineConsumption: int32\n",
      "        }\n",
      "    }\n",
      "--------------------------------------------------------\n",
      "Source:\n",
      "    <hail.matrixtable.MatrixTable object at 0x7fc7c3e62220>\n",
      "Index:\n",
      "    ['column']\n",
      "--------------------------------------------------------\n"
     ]
    }
   ],
   "source": [
    "mt.col.describe()"
   ]
  },
  {
   "cell_type": "code",
   "execution_count": 82,
   "id": "a5afc4ea",
   "metadata": {},
   "outputs": [],
   "source": [
    "mt = hl.sample_qc(mt)"
   ]
  },
  {
   "cell_type": "code",
   "execution_count": 83,
   "id": "29cdadaa",
   "metadata": {},
   "outputs": [
    {
     "name": "stdout",
     "output_type": "stream",
     "text": [
      "--------------------------------------------------------\n",
      "Type:\n",
      "        struct {\n",
      "        s: str, \n",
      "        pheno: struct {\n",
      "            Population: str, \n",
      "            SuperPopulation: str, \n",
      "            isFemale: bool, \n",
      "            PurpleHair: bool, \n",
      "            CaffeineConsumption: int32\n",
      "        }, \n",
      "        sample_qc: struct {\n",
      "            dp_stats: struct {\n",
      "                mean: float64, \n",
      "                stdev: float64, \n",
      "                min: float64, \n",
      "                max: float64\n",
      "            }, \n",
      "            gq_stats: struct {\n",
      "                mean: float64, \n",
      "                stdev: float64, \n",
      "                min: float64, \n",
      "                max: float64\n",
      "            }, \n",
      "            call_rate: float64, \n",
      "            n_called: int64, \n",
      "            n_not_called: int64, \n",
      "            n_filtered: int64, \n",
      "            n_hom_ref: int64, \n",
      "            n_het: int64, \n",
      "            n_hom_var: int64, \n",
      "            n_non_ref: int64, \n",
      "            n_singleton: int64, \n",
      "            n_snp: int64, \n",
      "            n_insertion: int64, \n",
      "            n_deletion: int64, \n",
      "            n_transition: int64, \n",
      "            n_transversion: int64, \n",
      "            n_star: int64, \n",
      "            r_ti_tv: float64, \n",
      "            r_het_hom_var: float64, \n",
      "            r_insertion_deletion: float64\n",
      "        }\n",
      "    }\n",
      "--------------------------------------------------------\n",
      "Source:\n",
      "    <hail.matrixtable.MatrixTable object at 0x7fc7c3ee90a0>\n",
      "Index:\n",
      "    ['column']\n",
      "--------------------------------------------------------\n"
     ]
    }
   ],
   "source": [
    "mt.col.describe()"
   ]
  },
  {
   "cell_type": "code",
   "execution_count": 84,
   "id": "ee36b0d7",
   "metadata": {},
   "outputs": [
    {
     "name": "stderr",
     "output_type": "stream",
     "text": [
      "\r",
      "[Stage 79:>                                                         (0 + 1) / 1]\r"
     ]
    },
    {
     "data": {
      "text/plain": [
       "10167"
      ]
     },
     "execution_count": 84,
     "metadata": {},
     "output_type": "execute_result"
    }
   ],
   "source": [
    "mt.count_rows()\n",
    "# total number of alleles in each sample"
   ]
  },
  {
   "cell_type": "code",
   "execution_count": 85,
   "id": "8eb6ca5f",
   "metadata": {
    "scrolled": true
   },
   "outputs": [
    {
     "name": "stderr",
     "output_type": "stream",
     "text": [
      "\r",
      "[Stage 81:>                                                         (0 + 1) / 1]\r"
     ]
    },
    {
     "data": {
      "text/html": [
       "<table><thead><tr><td style=\"white-space: nowrap; max-width: 500px; overflow: hidden; text-overflow: ellipsis; \" colspan=\"1\"><div style=\"text-align: left;\"></div></td><td style=\"white-space: nowrap; max-width: 500px; overflow: hidden; text-overflow: ellipsis; \" colspan=\"5\"><div style=\"text-align: left;\"></div></td><td style=\"white-space: nowrap; max-width: 500px; overflow: hidden; text-overflow: ellipsis; \" colspan=\"26\"><div style=\"text-align: left;\"></div></td></tr><tr><td style=\"white-space: nowrap; max-width: 500px; overflow: hidden; text-overflow: ellipsis; \" colspan=\"1\"><div style=\"text-align: left;\"></div></td><td style=\"white-space: nowrap; max-width: 500px; overflow: hidden; text-overflow: ellipsis; \" colspan=\"5\"><div style=\"text-align: left;\"></div></td><td style=\"white-space: nowrap; max-width: 500px; overflow: hidden; text-overflow: ellipsis; \" colspan=\"26\"><div style=\"text-align: left;border-bottom: solid 2px #000; padding-bottom: 5px\">sample_qc</div></td></tr><tr><td style=\"white-space: nowrap; max-width: 500px; overflow: hidden; text-overflow: ellipsis; \" colspan=\"1\"><div style=\"text-align: left;\"></div></td><td style=\"white-space: nowrap; max-width: 500px; overflow: hidden; text-overflow: ellipsis; \" colspan=\"5\"><div style=\"text-align: left;border-bottom: solid 2px #000; padding-bottom: 5px\">pheno</div></td><td style=\"white-space: nowrap; max-width: 500px; overflow: hidden; text-overflow: ellipsis; \" colspan=\"4\"><div style=\"text-align: left;border-bottom: solid 2px #000; padding-bottom: 5px\">dp_stats</div></td><td style=\"white-space: nowrap; max-width: 500px; overflow: hidden; text-overflow: ellipsis; \" colspan=\"4\"><div style=\"text-align: left;border-bottom: solid 2px #000; padding-bottom: 5px\">gq_stats</div></td><td style=\"white-space: nowrap; max-width: 500px; overflow: hidden; text-overflow: ellipsis; \" colspan=\"1\"><div style=\"text-align: left;\"></div></td><td style=\"white-space: nowrap; max-width: 500px; overflow: hidden; text-overflow: ellipsis; \" colspan=\"1\"><div style=\"text-align: left;\"></div></td><td style=\"white-space: nowrap; max-width: 500px; overflow: hidden; text-overflow: ellipsis; \" colspan=\"1\"><div style=\"text-align: left;\"></div></td><td style=\"white-space: nowrap; max-width: 500px; overflow: hidden; text-overflow: ellipsis; \" colspan=\"1\"><div style=\"text-align: left;\"></div></td><td style=\"white-space: nowrap; max-width: 500px; overflow: hidden; text-overflow: ellipsis; \" colspan=\"1\"><div style=\"text-align: left;\"></div></td><td style=\"white-space: nowrap; max-width: 500px; overflow: hidden; text-overflow: ellipsis; \" colspan=\"1\"><div style=\"text-align: left;\"></div></td><td style=\"white-space: nowrap; max-width: 500px; overflow: hidden; text-overflow: ellipsis; \" colspan=\"1\"><div style=\"text-align: left;\"></div></td><td style=\"white-space: nowrap; max-width: 500px; overflow: hidden; text-overflow: ellipsis; \" colspan=\"1\"><div style=\"text-align: left;\"></div></td><td style=\"white-space: nowrap; max-width: 500px; overflow: hidden; text-overflow: ellipsis; \" colspan=\"1\"><div style=\"text-align: left;\"></div></td><td style=\"white-space: nowrap; max-width: 500px; overflow: hidden; text-overflow: ellipsis; \" colspan=\"1\"><div style=\"text-align: left;\"></div></td><td style=\"white-space: nowrap; max-width: 500px; overflow: hidden; text-overflow: ellipsis; \" colspan=\"1\"><div style=\"text-align: left;\"></div></td><td style=\"white-space: nowrap; max-width: 500px; overflow: hidden; text-overflow: ellipsis; \" colspan=\"1\"><div style=\"text-align: left;\"></div></td><td style=\"white-space: nowrap; max-width: 500px; overflow: hidden; text-overflow: ellipsis; \" colspan=\"1\"><div style=\"text-align: left;\"></div></td><td style=\"white-space: nowrap; max-width: 500px; overflow: hidden; text-overflow: ellipsis; \" colspan=\"1\"><div style=\"text-align: left;\"></div></td><td style=\"white-space: nowrap; max-width: 500px; overflow: hidden; text-overflow: ellipsis; \" colspan=\"1\"><div style=\"text-align: left;\"></div></td><td style=\"white-space: nowrap; max-width: 500px; overflow: hidden; text-overflow: ellipsis; \" colspan=\"1\"><div style=\"text-align: left;\"></div></td><td style=\"white-space: nowrap; max-width: 500px; overflow: hidden; text-overflow: ellipsis; \" colspan=\"1\"><div style=\"text-align: left;\"></div></td><td style=\"white-space: nowrap; max-width: 500px; overflow: hidden; text-overflow: ellipsis; \" colspan=\"1\"><div style=\"text-align: left;\"></div></td></tr><tr><td style=\"white-space: nowrap; max-width: 500px; overflow: hidden; text-overflow: ellipsis; \" colspan=\"1\"><div style=\"text-align: left;border-bottom: solid 2px #000; padding-bottom: 5px\">s</div></td><td style=\"white-space: nowrap; max-width: 500px; overflow: hidden; text-overflow: ellipsis; \" colspan=\"1\"><div style=\"text-align: left;border-bottom: solid 2px #000; padding-bottom: 5px\">Population</div></td><td style=\"white-space: nowrap; max-width: 500px; overflow: hidden; text-overflow: ellipsis; \" colspan=\"1\"><div style=\"text-align: left;border-bottom: solid 2px #000; padding-bottom: 5px\">SuperPopulation</div></td><td style=\"white-space: nowrap; max-width: 500px; overflow: hidden; text-overflow: ellipsis; \" colspan=\"1\"><div style=\"text-align: left;border-bottom: solid 2px #000; padding-bottom: 5px\">isFemale</div></td><td style=\"white-space: nowrap; max-width: 500px; overflow: hidden; text-overflow: ellipsis; \" colspan=\"1\"><div style=\"text-align: left;border-bottom: solid 2px #000; padding-bottom: 5px\">PurpleHair</div></td><td style=\"white-space: nowrap; max-width: 500px; overflow: hidden; text-overflow: ellipsis; \" colspan=\"1\"><div style=\"text-align: left;border-bottom: solid 2px #000; padding-bottom: 5px\">CaffeineConsumption</div></td><td style=\"white-space: nowrap; max-width: 500px; overflow: hidden; text-overflow: ellipsis; \" colspan=\"1\"><div style=\"text-align: left;border-bottom: solid 2px #000; padding-bottom: 5px\">mean</div></td><td style=\"white-space: nowrap; max-width: 500px; overflow: hidden; text-overflow: ellipsis; \" colspan=\"1\"><div style=\"text-align: left;border-bottom: solid 2px #000; padding-bottom: 5px\">stdev</div></td><td style=\"white-space: nowrap; max-width: 500px; overflow: hidden; text-overflow: ellipsis; \" colspan=\"1\"><div style=\"text-align: left;border-bottom: solid 2px #000; padding-bottom: 5px\">min</div></td><td style=\"white-space: nowrap; max-width: 500px; overflow: hidden; text-overflow: ellipsis; \" colspan=\"1\"><div style=\"text-align: left;border-bottom: solid 2px #000; padding-bottom: 5px\">max</div></td><td style=\"white-space: nowrap; max-width: 500px; overflow: hidden; text-overflow: ellipsis; \" colspan=\"1\"><div style=\"text-align: left;border-bottom: solid 2px #000; padding-bottom: 5px\">mean</div></td><td style=\"white-space: nowrap; max-width: 500px; overflow: hidden; text-overflow: ellipsis; \" colspan=\"1\"><div style=\"text-align: left;border-bottom: solid 2px #000; padding-bottom: 5px\">stdev</div></td><td style=\"white-space: nowrap; max-width: 500px; overflow: hidden; text-overflow: ellipsis; \" colspan=\"1\"><div style=\"text-align: left;border-bottom: solid 2px #000; padding-bottom: 5px\">min</div></td><td style=\"white-space: nowrap; max-width: 500px; overflow: hidden; text-overflow: ellipsis; \" colspan=\"1\"><div style=\"text-align: left;border-bottom: solid 2px #000; padding-bottom: 5px\">max</div></td><td style=\"white-space: nowrap; max-width: 500px; overflow: hidden; text-overflow: ellipsis; \" colspan=\"1\"><div style=\"text-align: left;border-bottom: solid 2px #000; padding-bottom: 5px\">call_rate</div></td><td style=\"white-space: nowrap; max-width: 500px; overflow: hidden; text-overflow: ellipsis; \" colspan=\"1\"><div style=\"text-align: left;border-bottom: solid 2px #000; padding-bottom: 5px\">n_called</div></td><td style=\"white-space: nowrap; max-width: 500px; overflow: hidden; text-overflow: ellipsis; \" colspan=\"1\"><div style=\"text-align: left;border-bottom: solid 2px #000; padding-bottom: 5px\">n_not_called</div></td><td style=\"white-space: nowrap; max-width: 500px; overflow: hidden; text-overflow: ellipsis; \" colspan=\"1\"><div style=\"text-align: left;border-bottom: solid 2px #000; padding-bottom: 5px\">n_filtered</div></td><td style=\"white-space: nowrap; max-width: 500px; overflow: hidden; text-overflow: ellipsis; \" colspan=\"1\"><div style=\"text-align: left;border-bottom: solid 2px #000; padding-bottom: 5px\">n_hom_ref</div></td><td style=\"white-space: nowrap; max-width: 500px; overflow: hidden; text-overflow: ellipsis; \" colspan=\"1\"><div style=\"text-align: left;border-bottom: solid 2px #000; padding-bottom: 5px\">n_het</div></td><td style=\"white-space: nowrap; max-width: 500px; overflow: hidden; text-overflow: ellipsis; \" colspan=\"1\"><div style=\"text-align: left;border-bottom: solid 2px #000; padding-bottom: 5px\">n_hom_var</div></td><td style=\"white-space: nowrap; max-width: 500px; overflow: hidden; text-overflow: ellipsis; \" colspan=\"1\"><div style=\"text-align: left;border-bottom: solid 2px #000; padding-bottom: 5px\">n_non_ref</div></td><td style=\"white-space: nowrap; max-width: 500px; overflow: hidden; text-overflow: ellipsis; \" colspan=\"1\"><div style=\"text-align: left;border-bottom: solid 2px #000; padding-bottom: 5px\">n_singleton</div></td><td style=\"white-space: nowrap; max-width: 500px; overflow: hidden; text-overflow: ellipsis; \" colspan=\"1\"><div style=\"text-align: left;border-bottom: solid 2px #000; padding-bottom: 5px\">n_snp</div></td><td style=\"white-space: nowrap; max-width: 500px; overflow: hidden; text-overflow: ellipsis; \" colspan=\"1\"><div style=\"text-align: left;border-bottom: solid 2px #000; padding-bottom: 5px\">n_insertion</div></td><td style=\"white-space: nowrap; max-width: 500px; overflow: hidden; text-overflow: ellipsis; \" colspan=\"1\"><div style=\"text-align: left;border-bottom: solid 2px #000; padding-bottom: 5px\">n_deletion</div></td><td style=\"white-space: nowrap; max-width: 500px; overflow: hidden; text-overflow: ellipsis; \" colspan=\"1\"><div style=\"text-align: left;border-bottom: solid 2px #000; padding-bottom: 5px\">n_transition</div></td><td style=\"white-space: nowrap; max-width: 500px; overflow: hidden; text-overflow: ellipsis; \" colspan=\"1\"><div style=\"text-align: left;border-bottom: solid 2px #000; padding-bottom: 5px\">n_transversion</div></td><td style=\"white-space: nowrap; max-width: 500px; overflow: hidden; text-overflow: ellipsis; \" colspan=\"1\"><div style=\"text-align: left;border-bottom: solid 2px #000; padding-bottom: 5px\">n_star</div></td><td style=\"white-space: nowrap; max-width: 500px; overflow: hidden; text-overflow: ellipsis; \" colspan=\"1\"><div style=\"text-align: left;border-bottom: solid 2px #000; padding-bottom: 5px\">r_ti_tv</div></td><td style=\"white-space: nowrap; max-width: 500px; overflow: hidden; text-overflow: ellipsis; \" colspan=\"1\"><div style=\"text-align: left;border-bottom: solid 2px #000; padding-bottom: 5px\">r_het_hom_var</div></td><td style=\"white-space: nowrap; max-width: 500px; overflow: hidden; text-overflow: ellipsis; \" colspan=\"1\"><div style=\"text-align: left;border-bottom: solid 2px #000; padding-bottom: 5px\">r_insertion_deletion</div></td></tr><tr><td style=\"white-space: nowrap; max-width: 500px; overflow: hidden; text-overflow: ellipsis; text-align: left;\">str</td><td style=\"white-space: nowrap; max-width: 500px; overflow: hidden; text-overflow: ellipsis; text-align: left;\">str</td><td style=\"white-space: nowrap; max-width: 500px; overflow: hidden; text-overflow: ellipsis; text-align: left;\">str</td><td style=\"white-space: nowrap; max-width: 500px; overflow: hidden; text-overflow: ellipsis; text-align: left;\">bool</td><td style=\"white-space: nowrap; max-width: 500px; overflow: hidden; text-overflow: ellipsis; text-align: left;\">bool</td><td style=\"white-space: nowrap; max-width: 500px; overflow: hidden; text-overflow: ellipsis; text-align: left;\">int32</td><td style=\"white-space: nowrap; max-width: 500px; overflow: hidden; text-overflow: ellipsis; text-align: left;\">float64</td><td style=\"white-space: nowrap; max-width: 500px; overflow: hidden; text-overflow: ellipsis; text-align: left;\">float64</td><td style=\"white-space: nowrap; max-width: 500px; overflow: hidden; text-overflow: ellipsis; text-align: left;\">float64</td><td style=\"white-space: nowrap; max-width: 500px; overflow: hidden; text-overflow: ellipsis; text-align: left;\">float64</td><td style=\"white-space: nowrap; max-width: 500px; overflow: hidden; text-overflow: ellipsis; text-align: left;\">float64</td><td style=\"white-space: nowrap; max-width: 500px; overflow: hidden; text-overflow: ellipsis; text-align: left;\">float64</td><td style=\"white-space: nowrap; max-width: 500px; overflow: hidden; text-overflow: ellipsis; text-align: left;\">float64</td><td style=\"white-space: nowrap; max-width: 500px; overflow: hidden; text-overflow: ellipsis; text-align: left;\">float64</td><td style=\"white-space: nowrap; max-width: 500px; overflow: hidden; text-overflow: ellipsis; text-align: left;\">float64</td><td style=\"white-space: nowrap; max-width: 500px; overflow: hidden; text-overflow: ellipsis; text-align: left;\">int64</td><td style=\"white-space: nowrap; max-width: 500px; overflow: hidden; text-overflow: ellipsis; text-align: left;\">int64</td><td style=\"white-space: nowrap; max-width: 500px; overflow: hidden; text-overflow: ellipsis; text-align: left;\">int64</td><td style=\"white-space: nowrap; max-width: 500px; overflow: hidden; text-overflow: ellipsis; text-align: left;\">int64</td><td style=\"white-space: nowrap; max-width: 500px; overflow: hidden; text-overflow: ellipsis; text-align: left;\">int64</td><td style=\"white-space: nowrap; max-width: 500px; overflow: hidden; text-overflow: ellipsis; text-align: left;\">int64</td><td style=\"white-space: nowrap; max-width: 500px; overflow: hidden; text-overflow: ellipsis; text-align: left;\">int64</td><td style=\"white-space: nowrap; max-width: 500px; overflow: hidden; text-overflow: ellipsis; text-align: left;\">int64</td><td style=\"white-space: nowrap; max-width: 500px; overflow: hidden; text-overflow: ellipsis; text-align: left;\">int64</td><td style=\"white-space: nowrap; max-width: 500px; overflow: hidden; text-overflow: ellipsis; text-align: left;\">int64</td><td style=\"white-space: nowrap; max-width: 500px; overflow: hidden; text-overflow: ellipsis; text-align: left;\">int64</td><td style=\"white-space: nowrap; max-width: 500px; overflow: hidden; text-overflow: ellipsis; text-align: left;\">int64</td><td style=\"white-space: nowrap; max-width: 500px; overflow: hidden; text-overflow: ellipsis; text-align: left;\">int64</td><td style=\"white-space: nowrap; max-width: 500px; overflow: hidden; text-overflow: ellipsis; text-align: left;\">int64</td><td style=\"white-space: nowrap; max-width: 500px; overflow: hidden; text-overflow: ellipsis; text-align: left;\">float64</td><td style=\"white-space: nowrap; max-width: 500px; overflow: hidden; text-overflow: ellipsis; text-align: left;\">float64</td><td style=\"white-space: nowrap; max-width: 500px; overflow: hidden; text-overflow: ellipsis; text-align: left;\">float64</td></tr>\n",
       "</thead><tbody><tr><td style=\"white-space: nowrap; max-width: 500px; overflow: hidden; text-overflow: ellipsis; \">&quot;HG00096&quot;</td><td style=\"white-space: nowrap; max-width: 500px; overflow: hidden; text-overflow: ellipsis; \">&quot;GBR&quot;</td><td style=\"white-space: nowrap; max-width: 500px; overflow: hidden; text-overflow: ellipsis; \">&quot;EUR&quot;</td><td style=\"white-space: nowrap; max-width: 500px; overflow: hidden; text-overflow: ellipsis; \">False</td><td style=\"white-space: nowrap; max-width: 500px; overflow: hidden; text-overflow: ellipsis; \">False</td><td style=\"white-space: nowrap; max-width: 500px; overflow: hidden; text-overflow: ellipsis; \">4</td><td style=\"white-space: nowrap; max-width: 500px; overflow: hidden; text-overflow: ellipsis; \">4.64e+00</td><td style=\"white-space: nowrap; max-width: 500px; overflow: hidden; text-overflow: ellipsis; \">2.35e+00</td><td style=\"white-space: nowrap; max-width: 500px; overflow: hidden; text-overflow: ellipsis; \">1.00e+00</td><td style=\"white-space: nowrap; max-width: 500px; overflow: hidden; text-overflow: ellipsis; \">2.00e+01</td><td style=\"white-space: nowrap; max-width: 500px; overflow: hidden; text-overflow: ellipsis; \">2.32e+01</td><td style=\"white-space: nowrap; max-width: 500px; overflow: hidden; text-overflow: ellipsis; \">2.29e+01</td><td style=\"white-space: nowrap; max-width: 500px; overflow: hidden; text-overflow: ellipsis; \">0.00e+00</td><td style=\"white-space: nowrap; max-width: 500px; overflow: hidden; text-overflow: ellipsis; \">9.90e+01</td><td style=\"white-space: nowrap; max-width: 500px; overflow: hidden; text-overflow: ellipsis; \">9.83e-01</td><td style=\"white-space: nowrap; max-width: 500px; overflow: hidden; text-overflow: ellipsis; \">9994</td><td style=\"white-space: nowrap; max-width: 500px; overflow: hidden; text-overflow: ellipsis; \">173</td><td style=\"white-space: nowrap; max-width: 500px; overflow: hidden; text-overflow: ellipsis; \">0</td><td style=\"white-space: nowrap; max-width: 500px; overflow: hidden; text-overflow: ellipsis; \">5671</td><td style=\"white-space: nowrap; max-width: 500px; overflow: hidden; text-overflow: ellipsis; \">2362</td><td style=\"white-space: nowrap; max-width: 500px; overflow: hidden; text-overflow: ellipsis; \">1961</td><td style=\"white-space: nowrap; max-width: 500px; overflow: hidden; text-overflow: ellipsis; \">4323</td><td style=\"white-space: nowrap; max-width: 500px; overflow: hidden; text-overflow: ellipsis; \">1</td><td style=\"white-space: nowrap; max-width: 500px; overflow: hidden; text-overflow: ellipsis; \">6284</td><td style=\"white-space: nowrap; max-width: 500px; overflow: hidden; text-overflow: ellipsis; \">0</td><td style=\"white-space: nowrap; max-width: 500px; overflow: hidden; text-overflow: ellipsis; \">0</td><td style=\"white-space: nowrap; max-width: 500px; overflow: hidden; text-overflow: ellipsis; \">5128</td><td style=\"white-space: nowrap; max-width: 500px; overflow: hidden; text-overflow: ellipsis; \">1156</td><td style=\"white-space: nowrap; max-width: 500px; overflow: hidden; text-overflow: ellipsis; \">0</td><td style=\"white-space: nowrap; max-width: 500px; overflow: hidden; text-overflow: ellipsis; \">4.44e+00</td><td style=\"white-space: nowrap; max-width: 500px; overflow: hidden; text-overflow: ellipsis; \">1.20e+00</td><td style=\"white-space: nowrap; max-width: 500px; overflow: hidden; text-overflow: ellipsis; \">NA</td></tr>\n",
       "<tr><td style=\"white-space: nowrap; max-width: 500px; overflow: hidden; text-overflow: ellipsis; \">&quot;HG00099&quot;</td><td style=\"white-space: nowrap; max-width: 500px; overflow: hidden; text-overflow: ellipsis; \">&quot;GBR&quot;</td><td style=\"white-space: nowrap; max-width: 500px; overflow: hidden; text-overflow: ellipsis; \">&quot;EUR&quot;</td><td style=\"white-space: nowrap; max-width: 500px; overflow: hidden; text-overflow: ellipsis; \">True</td><td style=\"white-space: nowrap; max-width: 500px; overflow: hidden; text-overflow: ellipsis; \">False</td><td style=\"white-space: nowrap; max-width: 500px; overflow: hidden; text-overflow: ellipsis; \">4</td><td style=\"white-space: nowrap; max-width: 500px; overflow: hidden; text-overflow: ellipsis; \">8.40e+00</td><td style=\"white-space: nowrap; max-width: 500px; overflow: hidden; text-overflow: ellipsis; \">3.69e+00</td><td style=\"white-space: nowrap; max-width: 500px; overflow: hidden; text-overflow: ellipsis; \">1.00e+00</td><td style=\"white-space: nowrap; max-width: 500px; overflow: hidden; text-overflow: ellipsis; \">2.90e+01</td><td style=\"white-space: nowrap; max-width: 500px; overflow: hidden; text-overflow: ellipsis; \">3.87e+01</td><td style=\"white-space: nowrap; max-width: 500px; overflow: hidden; text-overflow: ellipsis; \">2.84e+01</td><td style=\"white-space: nowrap; max-width: 500px; overflow: hidden; text-overflow: ellipsis; \">1.00e+00</td><td style=\"white-space: nowrap; max-width: 500px; overflow: hidden; text-overflow: ellipsis; \">9.90e+01</td><td style=\"white-space: nowrap; max-width: 500px; overflow: hidden; text-overflow: ellipsis; \">9.96e-01</td><td style=\"white-space: nowrap; max-width: 500px; overflow: hidden; text-overflow: ellipsis; \">10124</td><td style=\"white-space: nowrap; max-width: 500px; overflow: hidden; text-overflow: ellipsis; \">43</td><td style=\"white-space: nowrap; max-width: 500px; overflow: hidden; text-overflow: ellipsis; \">0</td><td style=\"white-space: nowrap; max-width: 500px; overflow: hidden; text-overflow: ellipsis; \">5503</td><td style=\"white-space: nowrap; max-width: 500px; overflow: hidden; text-overflow: ellipsis; \">2795</td><td style=\"white-space: nowrap; max-width: 500px; overflow: hidden; text-overflow: ellipsis; \">1826</td><td style=\"white-space: nowrap; max-width: 500px; overflow: hidden; text-overflow: ellipsis; \">4621</td><td style=\"white-space: nowrap; max-width: 500px; overflow: hidden; text-overflow: ellipsis; \">1</td><td style=\"white-space: nowrap; max-width: 500px; overflow: hidden; text-overflow: ellipsis; \">6447</td><td style=\"white-space: nowrap; max-width: 500px; overflow: hidden; text-overflow: ellipsis; \">0</td><td style=\"white-space: nowrap; max-width: 500px; overflow: hidden; text-overflow: ellipsis; \">0</td><td style=\"white-space: nowrap; max-width: 500px; overflow: hidden; text-overflow: ellipsis; \">5254</td><td style=\"white-space: nowrap; max-width: 500px; overflow: hidden; text-overflow: ellipsis; \">1193</td><td style=\"white-space: nowrap; max-width: 500px; overflow: hidden; text-overflow: ellipsis; \">0</td><td style=\"white-space: nowrap; max-width: 500px; overflow: hidden; text-overflow: ellipsis; \">4.40e+00</td><td style=\"white-space: nowrap; max-width: 500px; overflow: hidden; text-overflow: ellipsis; \">1.53e+00</td><td style=\"white-space: nowrap; max-width: 500px; overflow: hidden; text-overflow: ellipsis; \">NA</td></tr>\n",
       "<tr><td style=\"white-space: nowrap; max-width: 500px; overflow: hidden; text-overflow: ellipsis; \">&quot;HG00105&quot;</td><td style=\"white-space: nowrap; max-width: 500px; overflow: hidden; text-overflow: ellipsis; \">&quot;GBR&quot;</td><td style=\"white-space: nowrap; max-width: 500px; overflow: hidden; text-overflow: ellipsis; \">&quot;EUR&quot;</td><td style=\"white-space: nowrap; max-width: 500px; overflow: hidden; text-overflow: ellipsis; \">False</td><td style=\"white-space: nowrap; max-width: 500px; overflow: hidden; text-overflow: ellipsis; \">False</td><td style=\"white-space: nowrap; max-width: 500px; overflow: hidden; text-overflow: ellipsis; \">4</td><td style=\"white-space: nowrap; max-width: 500px; overflow: hidden; text-overflow: ellipsis; \">6.83e+00</td><td style=\"white-space: nowrap; max-width: 500px; overflow: hidden; text-overflow: ellipsis; \">2.92e+00</td><td style=\"white-space: nowrap; max-width: 500px; overflow: hidden; text-overflow: ellipsis; \">1.00e+00</td><td style=\"white-space: nowrap; max-width: 500px; overflow: hidden; text-overflow: ellipsis; \">2.20e+01</td><td style=\"white-space: nowrap; max-width: 500px; overflow: hidden; text-overflow: ellipsis; \">3.22e+01</td><td style=\"white-space: nowrap; max-width: 500px; overflow: hidden; text-overflow: ellipsis; \">2.61e+01</td><td style=\"white-space: nowrap; max-width: 500px; overflow: hidden; text-overflow: ellipsis; \">0.00e+00</td><td style=\"white-space: nowrap; max-width: 500px; overflow: hidden; text-overflow: ellipsis; \">9.90e+01</td><td style=\"white-space: nowrap; max-width: 500px; overflow: hidden; text-overflow: ellipsis; \">9.97e-01</td><td style=\"white-space: nowrap; max-width: 500px; overflow: hidden; text-overflow: ellipsis; \">10137</td><td style=\"white-space: nowrap; max-width: 500px; overflow: hidden; text-overflow: ellipsis; \">30</td><td style=\"white-space: nowrap; max-width: 500px; overflow: hidden; text-overflow: ellipsis; \">0</td><td style=\"white-space: nowrap; max-width: 500px; overflow: hidden; text-overflow: ellipsis; \">5604</td><td style=\"white-space: nowrap; max-width: 500px; overflow: hidden; text-overflow: ellipsis; \">2738</td><td style=\"white-space: nowrap; max-width: 500px; overflow: hidden; text-overflow: ellipsis; \">1795</td><td style=\"white-space: nowrap; max-width: 500px; overflow: hidden; text-overflow: ellipsis; \">4533</td><td style=\"white-space: nowrap; max-width: 500px; overflow: hidden; text-overflow: ellipsis; \">0</td><td style=\"white-space: nowrap; max-width: 500px; overflow: hidden; text-overflow: ellipsis; \">6328</td><td style=\"white-space: nowrap; max-width: 500px; overflow: hidden; text-overflow: ellipsis; \">0</td><td style=\"white-space: nowrap; max-width: 500px; overflow: hidden; text-overflow: ellipsis; \">0</td><td style=\"white-space: nowrap; max-width: 500px; overflow: hidden; text-overflow: ellipsis; \">5109</td><td style=\"white-space: nowrap; max-width: 500px; overflow: hidden; text-overflow: ellipsis; \">1219</td><td style=\"white-space: nowrap; max-width: 500px; overflow: hidden; text-overflow: ellipsis; \">0</td><td style=\"white-space: nowrap; max-width: 500px; overflow: hidden; text-overflow: ellipsis; \">4.19e+00</td><td style=\"white-space: nowrap; max-width: 500px; overflow: hidden; text-overflow: ellipsis; \">1.53e+00</td><td style=\"white-space: nowrap; max-width: 500px; overflow: hidden; text-overflow: ellipsis; \">NA</td></tr>\n",
       "<tr><td style=\"white-space: nowrap; max-width: 500px; overflow: hidden; text-overflow: ellipsis; \">&quot;HG00118&quot;</td><td style=\"white-space: nowrap; max-width: 500px; overflow: hidden; text-overflow: ellipsis; \">&quot;GBR&quot;</td><td style=\"white-space: nowrap; max-width: 500px; overflow: hidden; text-overflow: ellipsis; \">&quot;EUR&quot;</td><td style=\"white-space: nowrap; max-width: 500px; overflow: hidden; text-overflow: ellipsis; \">True</td><td style=\"white-space: nowrap; max-width: 500px; overflow: hidden; text-overflow: ellipsis; \">False</td><td style=\"white-space: nowrap; max-width: 500px; overflow: hidden; text-overflow: ellipsis; \">3</td><td style=\"white-space: nowrap; max-width: 500px; overflow: hidden; text-overflow: ellipsis; \">1.16e+01</td><td style=\"white-space: nowrap; max-width: 500px; overflow: hidden; text-overflow: ellipsis; \">3.76e+00</td><td style=\"white-space: nowrap; max-width: 500px; overflow: hidden; text-overflow: ellipsis; \">2.00e+00</td><td style=\"white-space: nowrap; max-width: 500px; overflow: hidden; text-overflow: ellipsis; \">3.90e+01</td><td style=\"white-space: nowrap; max-width: 500px; overflow: hidden; text-overflow: ellipsis; \">5.01e+01</td><td style=\"white-space: nowrap; max-width: 500px; overflow: hidden; text-overflow: ellipsis; \">2.82e+01</td><td style=\"white-space: nowrap; max-width: 500px; overflow: hidden; text-overflow: ellipsis; \">0.00e+00</td><td style=\"white-space: nowrap; max-width: 500px; overflow: hidden; text-overflow: ellipsis; \">9.90e+01</td><td style=\"white-space: nowrap; max-width: 500px; overflow: hidden; text-overflow: ellipsis; \">1.00e+00</td><td style=\"white-space: nowrap; max-width: 500px; overflow: hidden; text-overflow: ellipsis; \">10167</td><td style=\"white-space: nowrap; max-width: 500px; overflow: hidden; text-overflow: ellipsis; \">0</td><td style=\"white-space: nowrap; max-width: 500px; overflow: hidden; text-overflow: ellipsis; \">0</td><td style=\"white-space: nowrap; max-width: 500px; overflow: hidden; text-overflow: ellipsis; \">5460</td><td style=\"white-space: nowrap; max-width: 500px; overflow: hidden; text-overflow: ellipsis; \">2934</td><td style=\"white-space: nowrap; max-width: 500px; overflow: hidden; text-overflow: ellipsis; \">1773</td><td style=\"white-space: nowrap; max-width: 500px; overflow: hidden; text-overflow: ellipsis; \">4707</td><td style=\"white-space: nowrap; max-width: 500px; overflow: hidden; text-overflow: ellipsis; \">3</td><td style=\"white-space: nowrap; max-width: 500px; overflow: hidden; text-overflow: ellipsis; \">6480</td><td style=\"white-space: nowrap; max-width: 500px; overflow: hidden; text-overflow: ellipsis; \">0</td><td style=\"white-space: nowrap; max-width: 500px; overflow: hidden; text-overflow: ellipsis; \">0</td><td style=\"white-space: nowrap; max-width: 500px; overflow: hidden; text-overflow: ellipsis; \">5216</td><td style=\"white-space: nowrap; max-width: 500px; overflow: hidden; text-overflow: ellipsis; \">1264</td><td style=\"white-space: nowrap; max-width: 500px; overflow: hidden; text-overflow: ellipsis; \">0</td><td style=\"white-space: nowrap; max-width: 500px; overflow: hidden; text-overflow: ellipsis; \">4.13e+00</td><td style=\"white-space: nowrap; max-width: 500px; overflow: hidden; text-overflow: ellipsis; \">1.65e+00</td><td style=\"white-space: nowrap; max-width: 500px; overflow: hidden; text-overflow: ellipsis; \">NA</td></tr>\n",
       "<tr><td style=\"white-space: nowrap; max-width: 500px; overflow: hidden; text-overflow: ellipsis; \">&quot;HG00129&quot;</td><td style=\"white-space: nowrap; max-width: 500px; overflow: hidden; text-overflow: ellipsis; \">&quot;GBR&quot;</td><td style=\"white-space: nowrap; max-width: 500px; overflow: hidden; text-overflow: ellipsis; \">&quot;EUR&quot;</td><td style=\"white-space: nowrap; max-width: 500px; overflow: hidden; text-overflow: ellipsis; \">False</td><td style=\"white-space: nowrap; max-width: 500px; overflow: hidden; text-overflow: ellipsis; \">False</td><td style=\"white-space: nowrap; max-width: 500px; overflow: hidden; text-overflow: ellipsis; \">6</td><td style=\"white-space: nowrap; max-width: 500px; overflow: hidden; text-overflow: ellipsis; \">7.59e+00</td><td style=\"white-space: nowrap; max-width: 500px; overflow: hidden; text-overflow: ellipsis; \">3.42e+00</td><td style=\"white-space: nowrap; max-width: 500px; overflow: hidden; text-overflow: ellipsis; \">1.00e+00</td><td style=\"white-space: nowrap; max-width: 500px; overflow: hidden; text-overflow: ellipsis; \">3.20e+01</td><td style=\"white-space: nowrap; max-width: 500px; overflow: hidden; text-overflow: ellipsis; \">3.63e+01</td><td style=\"white-space: nowrap; max-width: 500px; overflow: hidden; text-overflow: ellipsis; \">2.80e+01</td><td style=\"white-space: nowrap; max-width: 500px; overflow: hidden; text-overflow: ellipsis; \">0.00e+00</td><td style=\"white-space: nowrap; max-width: 500px; overflow: hidden; text-overflow: ellipsis; \">9.90e+01</td><td style=\"white-space: nowrap; max-width: 500px; overflow: hidden; text-overflow: ellipsis; \">9.94e-01</td><td style=\"white-space: nowrap; max-width: 500px; overflow: hidden; text-overflow: ellipsis; \">10105</td><td style=\"white-space: nowrap; max-width: 500px; overflow: hidden; text-overflow: ellipsis; \">62</td><td style=\"white-space: nowrap; max-width: 500px; overflow: hidden; text-overflow: ellipsis; \">0</td><td style=\"white-space: nowrap; max-width: 500px; overflow: hidden; text-overflow: ellipsis; \">5497</td><td style=\"white-space: nowrap; max-width: 500px; overflow: hidden; text-overflow: ellipsis; \">2788</td><td style=\"white-space: nowrap; max-width: 500px; overflow: hidden; text-overflow: ellipsis; \">1820</td><td style=\"white-space: nowrap; max-width: 500px; overflow: hidden; text-overflow: ellipsis; \">4608</td><td style=\"white-space: nowrap; max-width: 500px; overflow: hidden; text-overflow: ellipsis; \">2</td><td style=\"white-space: nowrap; max-width: 500px; overflow: hidden; text-overflow: ellipsis; \">6428</td><td style=\"white-space: nowrap; max-width: 500px; overflow: hidden; text-overflow: ellipsis; \">0</td><td style=\"white-space: nowrap; max-width: 500px; overflow: hidden; text-overflow: ellipsis; \">0</td><td style=\"white-space: nowrap; max-width: 500px; overflow: hidden; text-overflow: ellipsis; \">5247</td><td style=\"white-space: nowrap; max-width: 500px; overflow: hidden; text-overflow: ellipsis; \">1181</td><td style=\"white-space: nowrap; max-width: 500px; overflow: hidden; text-overflow: ellipsis; \">0</td><td style=\"white-space: nowrap; max-width: 500px; overflow: hidden; text-overflow: ellipsis; \">4.44e+00</td><td style=\"white-space: nowrap; max-width: 500px; overflow: hidden; text-overflow: ellipsis; \">1.53e+00</td><td style=\"white-space: nowrap; max-width: 500px; overflow: hidden; text-overflow: ellipsis; \">NA</td></tr>\n",
       "<tr><td style=\"white-space: nowrap; max-width: 500px; overflow: hidden; text-overflow: ellipsis; \">&quot;HG00148&quot;</td><td style=\"white-space: nowrap; max-width: 500px; overflow: hidden; text-overflow: ellipsis; \">&quot;GBR&quot;</td><td style=\"white-space: nowrap; max-width: 500px; overflow: hidden; text-overflow: ellipsis; \">&quot;EUR&quot;</td><td style=\"white-space: nowrap; max-width: 500px; overflow: hidden; text-overflow: ellipsis; \">False</td><td style=\"white-space: nowrap; max-width: 500px; overflow: hidden; text-overflow: ellipsis; \">True</td><td style=\"white-space: nowrap; max-width: 500px; overflow: hidden; text-overflow: ellipsis; \">2</td><td style=\"white-space: nowrap; max-width: 500px; overflow: hidden; text-overflow: ellipsis; \">9.12e+00</td><td style=\"white-space: nowrap; max-width: 500px; overflow: hidden; text-overflow: ellipsis; \">3.42e+00</td><td style=\"white-space: nowrap; max-width: 500px; overflow: hidden; text-overflow: ellipsis; \">1.00e+00</td><td style=\"white-space: nowrap; max-width: 500px; overflow: hidden; text-overflow: ellipsis; \">2.40e+01</td><td style=\"white-space: nowrap; max-width: 500px; overflow: hidden; text-overflow: ellipsis; \">4.11e+01</td><td style=\"white-space: nowrap; max-width: 500px; overflow: hidden; text-overflow: ellipsis; \">2.82e+01</td><td style=\"white-space: nowrap; max-width: 500px; overflow: hidden; text-overflow: ellipsis; \">0.00e+00</td><td style=\"white-space: nowrap; max-width: 500px; overflow: hidden; text-overflow: ellipsis; \">9.90e+01</td><td style=\"white-space: nowrap; max-width: 500px; overflow: hidden; text-overflow: ellipsis; \">1.00e+00</td><td style=\"white-space: nowrap; max-width: 500px; overflow: hidden; text-overflow: ellipsis; \">10164</td><td style=\"white-space: nowrap; max-width: 500px; overflow: hidden; text-overflow: ellipsis; \">3</td><td style=\"white-space: nowrap; max-width: 500px; overflow: hidden; text-overflow: ellipsis; \">0</td><td style=\"white-space: nowrap; max-width: 500px; overflow: hidden; text-overflow: ellipsis; \">5486</td><td style=\"white-space: nowrap; max-width: 500px; overflow: hidden; text-overflow: ellipsis; \">2834</td><td style=\"white-space: nowrap; max-width: 500px; overflow: hidden; text-overflow: ellipsis; \">1844</td><td style=\"white-space: nowrap; max-width: 500px; overflow: hidden; text-overflow: ellipsis; \">4678</td><td style=\"white-space: nowrap; max-width: 500px; overflow: hidden; text-overflow: ellipsis; \">3</td><td style=\"white-space: nowrap; max-width: 500px; overflow: hidden; text-overflow: ellipsis; \">6522</td><td style=\"white-space: nowrap; max-width: 500px; overflow: hidden; text-overflow: ellipsis; \">0</td><td style=\"white-space: nowrap; max-width: 500px; overflow: hidden; text-overflow: ellipsis; \">0</td><td style=\"white-space: nowrap; max-width: 500px; overflow: hidden; text-overflow: ellipsis; \">5266</td><td style=\"white-space: nowrap; max-width: 500px; overflow: hidden; text-overflow: ellipsis; \">1256</td><td style=\"white-space: nowrap; max-width: 500px; overflow: hidden; text-overflow: ellipsis; \">0</td><td style=\"white-space: nowrap; max-width: 500px; overflow: hidden; text-overflow: ellipsis; \">4.19e+00</td><td style=\"white-space: nowrap; max-width: 500px; overflow: hidden; text-overflow: ellipsis; \">1.54e+00</td><td style=\"white-space: nowrap; max-width: 500px; overflow: hidden; text-overflow: ellipsis; \">NA</td></tr>\n",
       "<tr><td style=\"white-space: nowrap; max-width: 500px; overflow: hidden; text-overflow: ellipsis; \">&quot;HG00177&quot;</td><td style=\"white-space: nowrap; max-width: 500px; overflow: hidden; text-overflow: ellipsis; \">&quot;FIN&quot;</td><td style=\"white-space: nowrap; max-width: 500px; overflow: hidden; text-overflow: ellipsis; \">&quot;EUR&quot;</td><td style=\"white-space: nowrap; max-width: 500px; overflow: hidden; text-overflow: ellipsis; \">True</td><td style=\"white-space: nowrap; max-width: 500px; overflow: hidden; text-overflow: ellipsis; \">True</td><td style=\"white-space: nowrap; max-width: 500px; overflow: hidden; text-overflow: ellipsis; \">4</td><td style=\"white-space: nowrap; max-width: 500px; overflow: hidden; text-overflow: ellipsis; \">3.51e+00</td><td style=\"white-space: nowrap; max-width: 500px; overflow: hidden; text-overflow: ellipsis; \">1.90e+00</td><td style=\"white-space: nowrap; max-width: 500px; overflow: hidden; text-overflow: ellipsis; \">0.00e+00</td><td style=\"white-space: nowrap; max-width: 500px; overflow: hidden; text-overflow: ellipsis; \">1.50e+01</td><td style=\"white-space: nowrap; max-width: 500px; overflow: hidden; text-overflow: ellipsis; \">1.64e+01</td><td style=\"white-space: nowrap; max-width: 500px; overflow: hidden; text-overflow: ellipsis; \">1.73e+01</td><td style=\"white-space: nowrap; max-width: 500px; overflow: hidden; text-overflow: ellipsis; \">0.00e+00</td><td style=\"white-space: nowrap; max-width: 500px; overflow: hidden; text-overflow: ellipsis; \">9.90e+01</td><td style=\"white-space: nowrap; max-width: 500px; overflow: hidden; text-overflow: ellipsis; \">9.52e-01</td><td style=\"white-space: nowrap; max-width: 500px; overflow: hidden; text-overflow: ellipsis; \">9678</td><td style=\"white-space: nowrap; max-width: 500px; overflow: hidden; text-overflow: ellipsis; \">489</td><td style=\"white-space: nowrap; max-width: 500px; overflow: hidden; text-overflow: ellipsis; \">0</td><td style=\"white-space: nowrap; max-width: 500px; overflow: hidden; text-overflow: ellipsis; \">5635</td><td style=\"white-space: nowrap; max-width: 500px; overflow: hidden; text-overflow: ellipsis; \">1921</td><td style=\"white-space: nowrap; max-width: 500px; overflow: hidden; text-overflow: ellipsis; \">2122</td><td style=\"white-space: nowrap; max-width: 500px; overflow: hidden; text-overflow: ellipsis; \">4043</td><td style=\"white-space: nowrap; max-width: 500px; overflow: hidden; text-overflow: ellipsis; \">0</td><td style=\"white-space: nowrap; max-width: 500px; overflow: hidden; text-overflow: ellipsis; \">6165</td><td style=\"white-space: nowrap; max-width: 500px; overflow: hidden; text-overflow: ellipsis; \">0</td><td style=\"white-space: nowrap; max-width: 500px; overflow: hidden; text-overflow: ellipsis; \">0</td><td style=\"white-space: nowrap; max-width: 500px; overflow: hidden; text-overflow: ellipsis; \">4992</td><td style=\"white-space: nowrap; max-width: 500px; overflow: hidden; text-overflow: ellipsis; \">1173</td><td style=\"white-space: nowrap; max-width: 500px; overflow: hidden; text-overflow: ellipsis; \">0</td><td style=\"white-space: nowrap; max-width: 500px; overflow: hidden; text-overflow: ellipsis; \">4.26e+00</td><td style=\"white-space: nowrap; max-width: 500px; overflow: hidden; text-overflow: ellipsis; \">9.05e-01</td><td style=\"white-space: nowrap; max-width: 500px; overflow: hidden; text-overflow: ellipsis; \">NA</td></tr>\n",
       "<tr><td style=\"white-space: nowrap; max-width: 500px; overflow: hidden; text-overflow: ellipsis; \">&quot;HG00182&quot;</td><td style=\"white-space: nowrap; max-width: 500px; overflow: hidden; text-overflow: ellipsis; \">&quot;FIN&quot;</td><td style=\"white-space: nowrap; max-width: 500px; overflow: hidden; text-overflow: ellipsis; \">&quot;EUR&quot;</td><td style=\"white-space: nowrap; max-width: 500px; overflow: hidden; text-overflow: ellipsis; \">False</td><td style=\"white-space: nowrap; max-width: 500px; overflow: hidden; text-overflow: ellipsis; \">False</td><td style=\"white-space: nowrap; max-width: 500px; overflow: hidden; text-overflow: ellipsis; \">2</td><td style=\"white-space: nowrap; max-width: 500px; overflow: hidden; text-overflow: ellipsis; \">3.59e+00</td><td style=\"white-space: nowrap; max-width: 500px; overflow: hidden; text-overflow: ellipsis; \">2.27e+00</td><td style=\"white-space: nowrap; max-width: 500px; overflow: hidden; text-overflow: ellipsis; \">1.00e+00</td><td style=\"white-space: nowrap; max-width: 500px; overflow: hidden; text-overflow: ellipsis; \">2.20e+01</td><td style=\"white-space: nowrap; max-width: 500px; overflow: hidden; text-overflow: ellipsis; \">1.59e+01</td><td style=\"white-space: nowrap; max-width: 500px; overflow: hidden; text-overflow: ellipsis; \">1.70e+01</td><td style=\"white-space: nowrap; max-width: 500px; overflow: hidden; text-overflow: ellipsis; \">0.00e+00</td><td style=\"white-space: nowrap; max-width: 500px; overflow: hidden; text-overflow: ellipsis; \">9.90e+01</td><td style=\"white-space: nowrap; max-width: 500px; overflow: hidden; text-overflow: ellipsis; \">9.21e-01</td><td style=\"white-space: nowrap; max-width: 500px; overflow: hidden; text-overflow: ellipsis; \">9368</td><td style=\"white-space: nowrap; max-width: 500px; overflow: hidden; text-overflow: ellipsis; \">799</td><td style=\"white-space: nowrap; max-width: 500px; overflow: hidden; text-overflow: ellipsis; \">0</td><td style=\"white-space: nowrap; max-width: 500px; overflow: hidden; text-overflow: ellipsis; \">5448</td><td style=\"white-space: nowrap; max-width: 500px; overflow: hidden; text-overflow: ellipsis; \">1810</td><td style=\"white-space: nowrap; max-width: 500px; overflow: hidden; text-overflow: ellipsis; \">2110</td><td style=\"white-space: nowrap; max-width: 500px; overflow: hidden; text-overflow: ellipsis; \">3920</td><td style=\"white-space: nowrap; max-width: 500px; overflow: hidden; text-overflow: ellipsis; \">1</td><td style=\"white-space: nowrap; max-width: 500px; overflow: hidden; text-overflow: ellipsis; \">6030</td><td style=\"white-space: nowrap; max-width: 500px; overflow: hidden; text-overflow: ellipsis; \">0</td><td style=\"white-space: nowrap; max-width: 500px; overflow: hidden; text-overflow: ellipsis; \">0</td><td style=\"white-space: nowrap; max-width: 500px; overflow: hidden; text-overflow: ellipsis; \">4916</td><td style=\"white-space: nowrap; max-width: 500px; overflow: hidden; text-overflow: ellipsis; \">1114</td><td style=\"white-space: nowrap; max-width: 500px; overflow: hidden; text-overflow: ellipsis; \">0</td><td style=\"white-space: nowrap; max-width: 500px; overflow: hidden; text-overflow: ellipsis; \">4.41e+00</td><td style=\"white-space: nowrap; max-width: 500px; overflow: hidden; text-overflow: ellipsis; \">8.58e-01</td><td style=\"white-space: nowrap; max-width: 500px; overflow: hidden; text-overflow: ellipsis; \">NA</td></tr>\n",
       "<tr><td style=\"white-space: nowrap; max-width: 500px; overflow: hidden; text-overflow: ellipsis; \">&quot;HG00242&quot;</td><td style=\"white-space: nowrap; max-width: 500px; overflow: hidden; text-overflow: ellipsis; \">&quot;GBR&quot;</td><td style=\"white-space: nowrap; max-width: 500px; overflow: hidden; text-overflow: ellipsis; \">&quot;EUR&quot;</td><td style=\"white-space: nowrap; max-width: 500px; overflow: hidden; text-overflow: ellipsis; \">False</td><td style=\"white-space: nowrap; max-width: 500px; overflow: hidden; text-overflow: ellipsis; \">False</td><td style=\"white-space: nowrap; max-width: 500px; overflow: hidden; text-overflow: ellipsis; \">1</td><td style=\"white-space: nowrap; max-width: 500px; overflow: hidden; text-overflow: ellipsis; \">3.93e+00</td><td style=\"white-space: nowrap; max-width: 500px; overflow: hidden; text-overflow: ellipsis; \">2.16e+00</td><td style=\"white-space: nowrap; max-width: 500px; overflow: hidden; text-overflow: ellipsis; \">1.00e+00</td><td style=\"white-space: nowrap; max-width: 500px; overflow: hidden; text-overflow: ellipsis; \">1.80e+01</td><td style=\"white-space: nowrap; max-width: 500px; overflow: hidden; text-overflow: ellipsis; \">1.79e+01</td><td style=\"white-space: nowrap; max-width: 500px; overflow: hidden; text-overflow: ellipsis; \">1.77e+01</td><td style=\"white-space: nowrap; max-width: 500px; overflow: hidden; text-overflow: ellipsis; \">0.00e+00</td><td style=\"white-space: nowrap; max-width: 500px; overflow: hidden; text-overflow: ellipsis; \">9.90e+01</td><td style=\"white-space: nowrap; max-width: 500px; overflow: hidden; text-overflow: ellipsis; \">9.63e-01</td><td style=\"white-space: nowrap; max-width: 500px; overflow: hidden; text-overflow: ellipsis; \">9791</td><td style=\"white-space: nowrap; max-width: 500px; overflow: hidden; text-overflow: ellipsis; \">376</td><td style=\"white-space: nowrap; max-width: 500px; overflow: hidden; text-overflow: ellipsis; \">0</td><td style=\"white-space: nowrap; max-width: 500px; overflow: hidden; text-overflow: ellipsis; \">5621</td><td style=\"white-space: nowrap; max-width: 500px; overflow: hidden; text-overflow: ellipsis; \">2128</td><td style=\"white-space: nowrap; max-width: 500px; overflow: hidden; text-overflow: ellipsis; \">2042</td><td style=\"white-space: nowrap; max-width: 500px; overflow: hidden; text-overflow: ellipsis; \">4170</td><td style=\"white-space: nowrap; max-width: 500px; overflow: hidden; text-overflow: ellipsis; \">2</td><td style=\"white-space: nowrap; max-width: 500px; overflow: hidden; text-overflow: ellipsis; \">6212</td><td style=\"white-space: nowrap; max-width: 500px; overflow: hidden; text-overflow: ellipsis; \">0</td><td style=\"white-space: nowrap; max-width: 500px; overflow: hidden; text-overflow: ellipsis; \">0</td><td style=\"white-space: nowrap; max-width: 500px; overflow: hidden; text-overflow: ellipsis; \">5030</td><td style=\"white-space: nowrap; max-width: 500px; overflow: hidden; text-overflow: ellipsis; \">1182</td><td style=\"white-space: nowrap; max-width: 500px; overflow: hidden; text-overflow: ellipsis; \">0</td><td style=\"white-space: nowrap; max-width: 500px; overflow: hidden; text-overflow: ellipsis; \">4.26e+00</td><td style=\"white-space: nowrap; max-width: 500px; overflow: hidden; text-overflow: ellipsis; \">1.04e+00</td><td style=\"white-space: nowrap; max-width: 500px; overflow: hidden; text-overflow: ellipsis; \">NA</td></tr>\n",
       "<tr><td style=\"white-space: nowrap; max-width: 500px; overflow: hidden; text-overflow: ellipsis; \">&quot;HG00254&quot;</td><td style=\"white-space: nowrap; max-width: 500px; overflow: hidden; text-overflow: ellipsis; \">&quot;GBR&quot;</td><td style=\"white-space: nowrap; max-width: 500px; overflow: hidden; text-overflow: ellipsis; \">&quot;EUR&quot;</td><td style=\"white-space: nowrap; max-width: 500px; overflow: hidden; text-overflow: ellipsis; \">True</td><td style=\"white-space: nowrap; max-width: 500px; overflow: hidden; text-overflow: ellipsis; \">False</td><td style=\"white-space: nowrap; max-width: 500px; overflow: hidden; text-overflow: ellipsis; \">2</td><td style=\"white-space: nowrap; max-width: 500px; overflow: hidden; text-overflow: ellipsis; \">7.20e+00</td><td style=\"white-space: nowrap; max-width: 500px; overflow: hidden; text-overflow: ellipsis; \">2.96e+00</td><td style=\"white-space: nowrap; max-width: 500px; overflow: hidden; text-overflow: ellipsis; \">1.00e+00</td><td style=\"white-space: nowrap; max-width: 500px; overflow: hidden; text-overflow: ellipsis; \">2.40e+01</td><td style=\"white-space: nowrap; max-width: 500px; overflow: hidden; text-overflow: ellipsis; \">3.38e+01</td><td style=\"white-space: nowrap; max-width: 500px; overflow: hidden; text-overflow: ellipsis; \">2.59e+01</td><td style=\"white-space: nowrap; max-width: 500px; overflow: hidden; text-overflow: ellipsis; \">0.00e+00</td><td style=\"white-space: nowrap; max-width: 500px; overflow: hidden; text-overflow: ellipsis; \">9.90e+01</td><td style=\"white-space: nowrap; max-width: 500px; overflow: hidden; text-overflow: ellipsis; \">9.98e-01</td><td style=\"white-space: nowrap; max-width: 500px; overflow: hidden; text-overflow: ellipsis; \">10145</td><td style=\"white-space: nowrap; max-width: 500px; overflow: hidden; text-overflow: ellipsis; \">22</td><td style=\"white-space: nowrap; max-width: 500px; overflow: hidden; text-overflow: ellipsis; \">0</td><td style=\"white-space: nowrap; max-width: 500px; overflow: hidden; text-overflow: ellipsis; \">5450</td><td style=\"white-space: nowrap; max-width: 500px; overflow: hidden; text-overflow: ellipsis; \">2844</td><td style=\"white-space: nowrap; max-width: 500px; overflow: hidden; text-overflow: ellipsis; \">1851</td><td style=\"white-space: nowrap; max-width: 500px; overflow: hidden; text-overflow: ellipsis; \">4695</td><td style=\"white-space: nowrap; max-width: 500px; overflow: hidden; text-overflow: ellipsis; \">1</td><td style=\"white-space: nowrap; max-width: 500px; overflow: hidden; text-overflow: ellipsis; \">6546</td><td style=\"white-space: nowrap; max-width: 500px; overflow: hidden; text-overflow: ellipsis; \">0</td><td style=\"white-space: nowrap; max-width: 500px; overflow: hidden; text-overflow: ellipsis; \">0</td><td style=\"white-space: nowrap; max-width: 500px; overflow: hidden; text-overflow: ellipsis; \">5317</td><td style=\"white-space: nowrap; max-width: 500px; overflow: hidden; text-overflow: ellipsis; \">1229</td><td style=\"white-space: nowrap; max-width: 500px; overflow: hidden; text-overflow: ellipsis; \">0</td><td style=\"white-space: nowrap; max-width: 500px; overflow: hidden; text-overflow: ellipsis; \">4.33e+00</td><td style=\"white-space: nowrap; max-width: 500px; overflow: hidden; text-overflow: ellipsis; \">1.54e+00</td><td style=\"white-space: nowrap; max-width: 500px; overflow: hidden; text-overflow: ellipsis; \">NA</td></tr>\n",
       "</tbody></table><p style=\"background: #fdd; padding: 0.4em;\">showing top 10 rows</p>\n"
      ],
      "text/plain": [
       "+-----------+------------------+-----------------------+----------------+\n",
       "| s         | pheno.Population | pheno.SuperPopulation | pheno.isFemale |\n",
       "+-----------+------------------+-----------------------+----------------+\n",
       "| str       | str              | str                   |           bool |\n",
       "+-----------+------------------+-----------------------+----------------+\n",
       "| \"HG00096\" | \"GBR\"            | \"EUR\"                 |          False |\n",
       "| \"HG00099\" | \"GBR\"            | \"EUR\"                 |           True |\n",
       "| \"HG00105\" | \"GBR\"            | \"EUR\"                 |          False |\n",
       "| \"HG00118\" | \"GBR\"            | \"EUR\"                 |           True |\n",
       "| \"HG00129\" | \"GBR\"            | \"EUR\"                 |          False |\n",
       "| \"HG00148\" | \"GBR\"            | \"EUR\"                 |          False |\n",
       "| \"HG00177\" | \"FIN\"            | \"EUR\"                 |           True |\n",
       "| \"HG00182\" | \"FIN\"            | \"EUR\"                 |          False |\n",
       "| \"HG00242\" | \"GBR\"            | \"EUR\"                 |          False |\n",
       "| \"HG00254\" | \"GBR\"            | \"EUR\"                 |           True |\n",
       "+-----------+------------------+-----------------------+----------------+\n",
       "\n",
       "+------------------+---------------------------+-------------------------+\n",
       "| pheno.PurpleHair | pheno.CaffeineConsumption | sample_qc.dp_stats.mean |\n",
       "+------------------+---------------------------+-------------------------+\n",
       "|             bool |                     int32 |                 float64 |\n",
       "+------------------+---------------------------+-------------------------+\n",
       "|            False |                         4 |                4.64e+00 |\n",
       "|            False |                         4 |                8.40e+00 |\n",
       "|            False |                         4 |                6.83e+00 |\n",
       "|            False |                         3 |                1.16e+01 |\n",
       "|            False |                         6 |                7.59e+00 |\n",
       "|             True |                         2 |                9.12e+00 |\n",
       "|             True |                         4 |                3.51e+00 |\n",
       "|            False |                         2 |                3.59e+00 |\n",
       "|            False |                         1 |                3.93e+00 |\n",
       "|            False |                         2 |                7.20e+00 |\n",
       "+------------------+---------------------------+-------------------------+\n",
       "\n",
       "+--------------------------+------------------------+------------------------+\n",
       "| sample_qc.dp_stats.stdev | sample_qc.dp_stats.min | sample_qc.dp_stats.max |\n",
       "+--------------------------+------------------------+------------------------+\n",
       "|                  float64 |                float64 |                float64 |\n",
       "+--------------------------+------------------------+------------------------+\n",
       "|                 2.35e+00 |               1.00e+00 |               2.00e+01 |\n",
       "|                 3.69e+00 |               1.00e+00 |               2.90e+01 |\n",
       "|                 2.92e+00 |               1.00e+00 |               2.20e+01 |\n",
       "|                 3.76e+00 |               2.00e+00 |               3.90e+01 |\n",
       "|                 3.42e+00 |               1.00e+00 |               3.20e+01 |\n",
       "|                 3.42e+00 |               1.00e+00 |               2.40e+01 |\n",
       "|                 1.90e+00 |               0.00e+00 |               1.50e+01 |\n",
       "|                 2.27e+00 |               1.00e+00 |               2.20e+01 |\n",
       "|                 2.16e+00 |               1.00e+00 |               1.80e+01 |\n",
       "|                 2.96e+00 |               1.00e+00 |               2.40e+01 |\n",
       "+--------------------------+------------------------+------------------------+\n",
       "\n",
       "+-------------------------+--------------------------+------------------------+\n",
       "| sample_qc.gq_stats.mean | sample_qc.gq_stats.stdev | sample_qc.gq_stats.min |\n",
       "+-------------------------+--------------------------+------------------------+\n",
       "|                 float64 |                  float64 |                float64 |\n",
       "+-------------------------+--------------------------+------------------------+\n",
       "|                2.32e+01 |                 2.29e+01 |               0.00e+00 |\n",
       "|                3.87e+01 |                 2.84e+01 |               1.00e+00 |\n",
       "|                3.22e+01 |                 2.61e+01 |               0.00e+00 |\n",
       "|                5.01e+01 |                 2.82e+01 |               0.00e+00 |\n",
       "|                3.63e+01 |                 2.80e+01 |               0.00e+00 |\n",
       "|                4.11e+01 |                 2.82e+01 |               0.00e+00 |\n",
       "|                1.64e+01 |                 1.73e+01 |               0.00e+00 |\n",
       "|                1.59e+01 |                 1.70e+01 |               0.00e+00 |\n",
       "|                1.79e+01 |                 1.77e+01 |               0.00e+00 |\n",
       "|                3.38e+01 |                 2.59e+01 |               0.00e+00 |\n",
       "+-------------------------+--------------------------+------------------------+\n",
       "\n",
       "+------------------------+---------------------+--------------------+\n",
       "| sample_qc.gq_stats.max | sample_qc.call_rate | sample_qc.n_called |\n",
       "+------------------------+---------------------+--------------------+\n",
       "|                float64 |             float64 |              int64 |\n",
       "+------------------------+---------------------+--------------------+\n",
       "|               9.90e+01 |            9.83e-01 |               9994 |\n",
       "|               9.90e+01 |            9.96e-01 |              10124 |\n",
       "|               9.90e+01 |            9.97e-01 |              10137 |\n",
       "|               9.90e+01 |            1.00e+00 |              10167 |\n",
       "|               9.90e+01 |            9.94e-01 |              10105 |\n",
       "|               9.90e+01 |            1.00e+00 |              10164 |\n",
       "|               9.90e+01 |            9.52e-01 |               9678 |\n",
       "|               9.90e+01 |            9.21e-01 |               9368 |\n",
       "|               9.90e+01 |            9.63e-01 |               9791 |\n",
       "|               9.90e+01 |            9.98e-01 |              10145 |\n",
       "+------------------------+---------------------+--------------------+\n",
       "\n",
       "+------------------------+----------------------+---------------------+\n",
       "| sample_qc.n_not_called | sample_qc.n_filtered | sample_qc.n_hom_ref |\n",
       "+------------------------+----------------------+---------------------+\n",
       "|                  int64 |                int64 |               int64 |\n",
       "+------------------------+----------------------+---------------------+\n",
       "|                    173 |                    0 |                5671 |\n",
       "|                     43 |                    0 |                5503 |\n",
       "|                     30 |                    0 |                5604 |\n",
       "|                      0 |                    0 |                5460 |\n",
       "|                     62 |                    0 |                5497 |\n",
       "|                      3 |                    0 |                5486 |\n",
       "|                    489 |                    0 |                5635 |\n",
       "|                    799 |                    0 |                5448 |\n",
       "|                    376 |                    0 |                5621 |\n",
       "|                     22 |                    0 |                5450 |\n",
       "+------------------------+----------------------+---------------------+\n",
       "\n",
       "+-----------------+---------------------+---------------------+\n",
       "| sample_qc.n_het | sample_qc.n_hom_var | sample_qc.n_non_ref |\n",
       "+-----------------+---------------------+---------------------+\n",
       "|           int64 |               int64 |               int64 |\n",
       "+-----------------+---------------------+---------------------+\n",
       "|            2362 |                1961 |                4323 |\n",
       "|            2795 |                1826 |                4621 |\n",
       "|            2738 |                1795 |                4533 |\n",
       "|            2934 |                1773 |                4707 |\n",
       "|            2788 |                1820 |                4608 |\n",
       "|            2834 |                1844 |                4678 |\n",
       "|            1921 |                2122 |                4043 |\n",
       "|            1810 |                2110 |                3920 |\n",
       "|            2128 |                2042 |                4170 |\n",
       "|            2844 |                1851 |                4695 |\n",
       "+-----------------+---------------------+---------------------+\n",
       "\n",
       "+-----------------------+-----------------+-----------------------+\n",
       "| sample_qc.n_singleton | sample_qc.n_snp | sample_qc.n_insertion |\n",
       "+-----------------------+-----------------+-----------------------+\n",
       "|                 int64 |           int64 |                 int64 |\n",
       "+-----------------------+-----------------+-----------------------+\n",
       "|                     1 |            6284 |                     0 |\n",
       "|                     1 |            6447 |                     0 |\n",
       "|                     0 |            6328 |                     0 |\n",
       "|                     3 |            6480 |                     0 |\n",
       "|                     2 |            6428 |                     0 |\n",
       "|                     3 |            6522 |                     0 |\n",
       "|                     0 |            6165 |                     0 |\n",
       "|                     1 |            6030 |                     0 |\n",
       "|                     2 |            6212 |                     0 |\n",
       "|                     1 |            6546 |                     0 |\n",
       "+-----------------------+-----------------+-----------------------+\n",
       "\n",
       "+----------------------+------------------------+--------------------------+\n",
       "| sample_qc.n_deletion | sample_qc.n_transition | sample_qc.n_transversion |\n",
       "+----------------------+------------------------+--------------------------+\n",
       "|                int64 |                  int64 |                    int64 |\n",
       "+----------------------+------------------------+--------------------------+\n",
       "|                    0 |                   5128 |                     1156 |\n",
       "|                    0 |                   5254 |                     1193 |\n",
       "|                    0 |                   5109 |                     1219 |\n",
       "|                    0 |                   5216 |                     1264 |\n",
       "|                    0 |                   5247 |                     1181 |\n",
       "|                    0 |                   5266 |                     1256 |\n",
       "|                    0 |                   4992 |                     1173 |\n",
       "|                    0 |                   4916 |                     1114 |\n",
       "|                    0 |                   5030 |                     1182 |\n",
       "|                    0 |                   5317 |                     1229 |\n",
       "+----------------------+------------------------+--------------------------+\n",
       "\n",
       "+------------------+-------------------+-------------------------+\n",
       "| sample_qc.n_star | sample_qc.r_ti_tv | sample_qc.r_het_hom_var |\n",
       "+------------------+-------------------+-------------------------+\n",
       "|            int64 |           float64 |                 float64 |\n",
       "+------------------+-------------------+-------------------------+\n",
       "|                0 |          4.44e+00 |                1.20e+00 |\n",
       "|                0 |          4.40e+00 |                1.53e+00 |\n",
       "|                0 |          4.19e+00 |                1.53e+00 |\n",
       "|                0 |          4.13e+00 |                1.65e+00 |\n",
       "|                0 |          4.44e+00 |                1.53e+00 |\n",
       "|                0 |          4.19e+00 |                1.54e+00 |\n",
       "|                0 |          4.26e+00 |                9.05e-01 |\n",
       "|                0 |          4.41e+00 |                8.58e-01 |\n",
       "|                0 |          4.26e+00 |                1.04e+00 |\n",
       "|                0 |          4.33e+00 |                1.54e+00 |\n",
       "+------------------+-------------------+-------------------------+\n",
       "\n",
       "+--------------------------------+\n",
       "| sample_qc.r_insertion_deletion |\n",
       "+--------------------------------+\n",
       "|                        float64 |\n",
       "+--------------------------------+\n",
       "|                             NA |\n",
       "|                             NA |\n",
       "|                             NA |\n",
       "|                             NA |\n",
       "|                             NA |\n",
       "|                             NA |\n",
       "|                             NA |\n",
       "|                             NA |\n",
       "|                             NA |\n",
       "|                             NA |\n",
       "+--------------------------------+\n",
       "showing top 10 rows"
      ]
     },
     "metadata": {},
     "output_type": "display_data"
    }
   ],
   "source": [
    "mt.cols().show()"
   ]
  },
  {
   "cell_type": "markdown",
   "id": "5c5a838e",
   "metadata": {},
   "source": [
    "call_rate: fraction of calls not missing or filtered. Equivalent to n_called divided by count_rows().\n",
    "\n",
    "n_called + n_not_called = 10879\n",
    "\n",
    "n_home_ref: number of homozygous reference calls (0/0)\n",
    "\n",
    "n_het: number of heterozygous calls(0/1)\n",
    "\n",
    "n_hom_var: number of homozygous alternative calls (1/1)\n",
    "\n",
    "n_non_ref: n_het + n_hom_var (SNP occurrence)\n",
    "\n",
    "n_singleton: number of private alleles\n",
    "\n",
    "n_snp: n_het + (n_hom_var * 2)\n",
    "\n",
    "n_star: number of star (upstream deletion) alleles. Deletion spanning the position of interest.\n",
    "\n",
    "r_ti_tv: transition/transversion ratio\n",
    "\n",
    "r_het_hom_var – Het/HomVar call ratio.\n",
    "\n",
    "r_insertion_deletion – Insertion/Deletion allele ratio."
   ]
  },
  {
   "cell_type": "markdown",
   "id": "97f54b82",
   "metadata": {},
   "source": [
    "**Sample Quality Check**\n",
    "\n",
    "Plotting out metrices:"
   ]
  },
  {
   "cell_type": "code",
   "execution_count": 86,
   "id": "cdf719a4",
   "metadata": {},
   "outputs": [
    {
     "name": "stderr",
     "output_type": "stream",
     "text": [
      "\r",
      "[Stage 85:>                                                         (0 + 1) / 1]\r"
     ]
    }
   ],
   "source": [
    "p = hl.plot.histogram(mt.sample_qc.call_rate, range=(.88,1), legend='Call Rate')\n",
    "#legend = labels the data"
   ]
  },
  {
   "cell_type": "code",
   "execution_count": 87,
   "id": "3c393bb0",
   "metadata": {},
   "outputs": [
    {
     "data": {
      "text/html": [
       "\n",
       "\n",
       "\n",
       "\n",
       "\n",
       "\n",
       "  <div class=\"bk-root\" id=\"7988f80b-b99f-40fb-9661-7b39872a4efe\" data-root-id=\"1520\"></div>\n"
      ]
     },
     "metadata": {},
     "output_type": "display_data"
    },
    {
     "data": {
      "application/javascript": [
       "(function(root) {\n",
       "  function embed_document(root) {\n",
       "    \n",
       "  var docs_json = {\"2ee66b91-433b-4cbd-8645-a957591d4a91\":{\"roots\":{\"references\":[{\"attributes\":{\"background_fill_color\":{\"value\":\"#EEEEEE\"},\"below\":[{\"id\":\"1530\",\"type\":\"LinearAxis\"}],\"center\":[{\"id\":\"1534\",\"type\":\"Grid\"},{\"id\":\"1539\",\"type\":\"Grid\"},{\"id\":\"1564\",\"type\":\"Legend\"}],\"left\":[{\"id\":\"1535\",\"type\":\"LinearAxis\"}],\"renderers\":[{\"id\":\"1556\",\"type\":\"GlyphRenderer\"}],\"title\":null,\"toolbar\":{\"id\":\"1546\",\"type\":\"Toolbar\"},\"x_range\":{\"id\":\"1522\",\"type\":\"Range1d\"},\"x_scale\":{\"id\":\"1526\",\"type\":\"LinearScale\"},\"y_range\":{\"id\":\"1524\",\"type\":\"DataRange1d\"},\"y_scale\":{\"id\":\"1528\",\"type\":\"LinearScale\"}},\"id\":\"1520\",\"subtype\":\"Figure\",\"type\":\"Plot\"},{\"attributes\":{\"dimension\":1,\"ticker\":{\"id\":\"1536\",\"type\":\"BasicTicker\"}},\"id\":\"1539\",\"type\":\"Grid\"},{\"attributes\":{},\"id\":\"1562\",\"type\":\"BasicTickFormatter\"},{\"attributes\":{},\"id\":\"1560\",\"type\":\"BasicTickFormatter\"},{\"attributes\":{},\"id\":\"1528\",\"type\":\"LinearScale\"},{\"attributes\":{\"active_drag\":\"auto\",\"active_inspect\":\"auto\",\"active_multi\":null,\"active_scroll\":\"auto\",\"active_tap\":\"auto\",\"tools\":[{\"id\":\"1540\",\"type\":\"PanTool\"},{\"id\":\"1541\",\"type\":\"WheelZoomTool\"},{\"id\":\"1542\",\"type\":\"BoxZoomTool\"},{\"id\":\"1543\",\"type\":\"SaveTool\"},{\"id\":\"1544\",\"type\":\"ResetTool\"},{\"id\":\"1545\",\"type\":\"HelpTool\"}]},\"id\":\"1546\",\"type\":\"Toolbar\"},{\"attributes\":{\"bottom_units\":\"screen\",\"fill_alpha\":{\"value\":0.5},\"fill_color\":{\"value\":\"lightgrey\"},\"left_units\":\"screen\",\"level\":\"overlay\",\"line_alpha\":{\"value\":1.0},\"line_color\":{\"value\":\"black\"},\"line_dash\":[4,4],\"line_width\":{\"value\":2},\"render_mode\":\"css\",\"right_units\":\"screen\",\"top_units\":\"screen\"},\"id\":\"1563\",\"type\":\"BoxAnnotation\"},{\"attributes\":{},\"id\":\"1608\",\"type\":\"UnionRenderers\"},{\"attributes\":{\"ticker\":{\"id\":\"1531\",\"type\":\"BasicTicker\"}},\"id\":\"1534\",\"type\":\"Grid\"},{\"attributes\":{\"label\":{\"value\":\"Call Rate\"},\"renderers\":[{\"id\":\"1556\",\"type\":\"GlyphRenderer\"}]},\"id\":\"1565\",\"type\":\"LegendItem\"},{\"attributes\":{},\"id\":\"1531\",\"type\":\"BasicTicker\"},{\"attributes\":{},\"id\":\"1609\",\"type\":\"Selection\"},{\"attributes\":{\"callback\":null},\"id\":\"1524\",\"type\":\"DataRange1d\"},{\"attributes\":{},\"id\":\"1536\",\"type\":\"BasicTicker\"},{\"attributes\":{\"source\":{\"id\":\"1553\",\"type\":\"ColumnDataSource\"}},\"id\":\"1557\",\"type\":\"CDSView\"},{\"attributes\":{},\"id\":\"1540\",\"type\":\"PanTool\"},{\"attributes\":{},\"id\":\"1541\",\"type\":\"WheelZoomTool\"},{\"attributes\":{\"callback\":null,\"end\":1.006,\"start\":0.874},\"id\":\"1522\",\"type\":\"Range1d\"},{\"attributes\":{},\"id\":\"1545\",\"type\":\"HelpTool\"},{\"attributes\":{\"callback\":null,\"data\":{\"left\":[0.88,0.8824,0.8848,0.8872,0.8896000000000001,0.892,0.8944,0.8968,0.8992,0.9016,0.904,0.9064,0.9088,0.9112,0.9136,0.916,0.9184,0.9208,0.9232,0.9256,0.928,0.9304,0.9328,0.9352,0.9376,0.94,0.9424,0.9448,0.9472,0.9496,0.952,0.9544,0.9568,0.9592,0.9616,0.964,0.9664,0.9688,0.9712,0.9736,0.976,0.9783999999999999,0.9808,0.9832,0.9856,0.988,0.9904,0.9928,0.9952,0.9976],\"right\":[0.8824,0.8848,0.8872,0.8896000000000001,0.892,0.8944,0.8968,0.8992,0.9016,0.904,0.9064,0.9088,0.9112,0.9136,0.916,0.9184,0.9208,0.9232,0.9256,0.928,0.9304,0.9328,0.9352,0.9376,0.94,0.9424,0.9448,0.9472,0.9496,0.952,0.9544,0.9568,0.9592,0.9616,0.964,0.9664,0.9688,0.9712,0.9736,0.976,0.9783999999999999,0.9808,0.9832,0.9856,0.988,0.9904,0.9928,0.9952,0.9976,1.0],\"top\":[0,0,0,1,0,1,0,0,0,1,0,0,0,0,0,0,0,3,0,0,1,0,0,0,1,1,0,1,3,2,1,3,0,1,3,1,0,3,5,4,2,6,10,12,14,8,18,24,40,114]},\"selected\":{\"id\":\"1609\",\"type\":\"Selection\"},\"selection_policy\":{\"id\":\"1608\",\"type\":\"UnionRenderers\"}},\"id\":\"1553\",\"type\":\"ColumnDataSource\"},{\"attributes\":{\"items\":[{\"id\":\"1565\",\"type\":\"LegendItem\"}]},\"id\":\"1564\",\"type\":\"Legend\"},{\"attributes\":{},\"id\":\"1526\",\"type\":\"LinearScale\"},{\"attributes\":{\"overlay\":{\"id\":\"1563\",\"type\":\"BoxAnnotation\"}},\"id\":\"1542\",\"type\":\"BoxZoomTool\"},{\"attributes\":{},\"id\":\"1544\",\"type\":\"ResetTool\"},{\"attributes\":{\"bottom\":{\"value\":0},\"fill_color\":{\"value\":\"#1f77b4\"},\"left\":{\"field\":\"left\"},\"right\":{\"field\":\"right\"},\"top\":{\"field\":\"top\"}},\"id\":\"1554\",\"type\":\"Quad\"},{\"attributes\":{\"axis_label\":\"Frequency\",\"formatter\":{\"id\":\"1562\",\"type\":\"BasicTickFormatter\"},\"ticker\":{\"id\":\"1536\",\"type\":\"BasicTicker\"}},\"id\":\"1535\",\"type\":\"LinearAxis\"},{\"attributes\":{\"axis_label\":\"Call Rate\",\"formatter\":{\"id\":\"1560\",\"type\":\"BasicTickFormatter\"},\"ticker\":{\"id\":\"1531\",\"type\":\"BasicTicker\"}},\"id\":\"1530\",\"type\":\"LinearAxis\"},{\"attributes\":{},\"id\":\"1543\",\"type\":\"SaveTool\"},{\"attributes\":{\"data_source\":{\"id\":\"1553\",\"type\":\"ColumnDataSource\"},\"glyph\":{\"id\":\"1554\",\"type\":\"Quad\"},\"hover_glyph\":null,\"muted_glyph\":null,\"nonselection_glyph\":{\"id\":\"1555\",\"type\":\"Quad\"},\"selection_glyph\":null,\"view\":{\"id\":\"1557\",\"type\":\"CDSView\"}},\"id\":\"1556\",\"type\":\"GlyphRenderer\"},{\"attributes\":{\"bottom\":{\"value\":0},\"fill_alpha\":{\"value\":0.1},\"fill_color\":{\"value\":\"#1f77b4\"},\"left\":{\"field\":\"left\"},\"line_alpha\":{\"value\":0.1},\"line_color\":{\"value\":\"#1f77b4\"},\"right\":{\"field\":\"right\"},\"top\":{\"field\":\"top\"}},\"id\":\"1555\",\"type\":\"Quad\"}],\"root_ids\":[\"1520\"]},\"title\":\"Bokeh Application\",\"version\":\"1.4.0\"}};\n",
       "  var render_items = [{\"docid\":\"2ee66b91-433b-4cbd-8645-a957591d4a91\",\"roots\":{\"1520\":\"7988f80b-b99f-40fb-9661-7b39872a4efe\"}}];\n",
       "  root.Bokeh.embed.embed_items_notebook(docs_json, render_items);\n",
       "\n",
       "  }\n",
       "  if (root.Bokeh !== undefined) {\n",
       "    embed_document(root);\n",
       "  } else {\n",
       "    var attempts = 0;\n",
       "    var timer = setInterval(function(root) {\n",
       "      if (root.Bokeh !== undefined) {\n",
       "        clearInterval(timer);\n",
       "        embed_document(root);\n",
       "      } else {\n",
       "        attempts++;\n",
       "        if (attempts > 100) {\n",
       "          clearInterval(timer);\n",
       "          console.log(\"Bokeh: ERROR: Unable to run BokehJS code because BokehJS library is missing\");\n",
       "        }\n",
       "      }\n",
       "    }, 10, root)\n",
       "  }\n",
       "})(window);"
      ],
      "application/vnd.bokehjs_exec.v0+json": ""
     },
     "metadata": {
      "application/vnd.bokehjs_exec.v0+json": {
       "id": "1520"
      }
     },
     "output_type": "display_data"
    }
   ],
   "source": [
    "show(p)"
   ]
  },
  {
   "cell_type": "markdown",
   "id": "b8d17283",
   "metadata": {},
   "source": [
    "Most samples have a call_rate close to 1. It can be considered a good sample."
   ]
  },
  {
   "cell_type": "code",
   "execution_count": 88,
   "id": "3e43a8e3",
   "metadata": {},
   "outputs": [
    {
     "name": "stderr",
     "output_type": "stream",
     "text": [
      "\r",
      "[Stage 87:>                                                         (0 + 1) / 1]\r"
     ]
    }
   ],
   "source": [
    "p = hl.plot.histogram(mt.sample_qc.gq_stats.mean, range=(10,70), legend='Mean Sample GQ')"
   ]
  },
  {
   "cell_type": "code",
   "execution_count": 89,
   "id": "0376f0b9",
   "metadata": {},
   "outputs": [
    {
     "data": {
      "text/html": [
       "\n",
       "\n",
       "\n",
       "\n",
       "\n",
       "\n",
       "  <div class=\"bk-root\" id=\"72f05ac4-d2f6-4aa8-943f-87cbbdb0b81f\" data-root-id=\"1658\"></div>\n"
      ]
     },
     "metadata": {},
     "output_type": "display_data"
    },
    {
     "data": {
      "application/javascript": [
       "(function(root) {\n",
       "  function embed_document(root) {\n",
       "    \n",
       "  var docs_json = {\"4a72d071-18a1-4f7c-9be0-1a9562fd2e24\":{\"roots\":{\"references\":[{\"attributes\":{\"background_fill_color\":{\"value\":\"#EEEEEE\"},\"below\":[{\"id\":\"1668\",\"type\":\"LinearAxis\"}],\"center\":[{\"id\":\"1672\",\"type\":\"Grid\"},{\"id\":\"1677\",\"type\":\"Grid\"},{\"id\":\"1702\",\"type\":\"Legend\"}],\"left\":[{\"id\":\"1673\",\"type\":\"LinearAxis\"}],\"renderers\":[{\"id\":\"1694\",\"type\":\"GlyphRenderer\"},{\"id\":\"1707\",\"type\":\"GlyphRenderer\"}],\"title\":null,\"toolbar\":{\"id\":\"1684\",\"type\":\"Toolbar\"},\"x_range\":{\"id\":\"1660\",\"type\":\"Range1d\"},\"x_scale\":{\"id\":\"1664\",\"type\":\"LinearScale\"},\"y_range\":{\"id\":\"1662\",\"type\":\"DataRange1d\"},\"y_scale\":{\"id\":\"1666\",\"type\":\"LinearScale\"}},\"id\":\"1658\",\"subtype\":\"Figure\",\"type\":\"Plot\"},{\"attributes\":{\"axis_label\":\"Mean Sample GQ\",\"formatter\":{\"id\":\"1698\",\"type\":\"BasicTickFormatter\"},\"ticker\":{\"id\":\"1669\",\"type\":\"BasicTicker\"}},\"id\":\"1668\",\"type\":\"LinearAxis\"},{\"attributes\":{\"bottom\":{\"value\":0},\"fill_color\":{\"value\":\"green\"},\"left\":{\"value\":70.0},\"right\":{\"value\":71.2},\"top\":{\"value\":1}},\"id\":\"1705\",\"type\":\"Quad\"},{\"attributes\":{\"label\":{\"value\":\"Mean Sample GQ\"},\"renderers\":[{\"id\":\"1694\",\"type\":\"GlyphRenderer\"}]},\"id\":\"1703\",\"type\":\"LegendItem\"},{\"attributes\":{\"items\":[{\"id\":\"1703\",\"type\":\"LegendItem\"},{\"id\":\"1717\",\"type\":\"LegendItem\"}]},\"id\":\"1702\",\"type\":\"Legend\"},{\"attributes\":{},\"id\":\"1678\",\"type\":\"PanTool\"},{\"attributes\":{\"active_drag\":\"auto\",\"active_inspect\":\"auto\",\"active_multi\":null,\"active_scroll\":\"auto\",\"active_tap\":\"auto\",\"tools\":[{\"id\":\"1678\",\"type\":\"PanTool\"},{\"id\":\"1679\",\"type\":\"WheelZoomTool\"},{\"id\":\"1680\",\"type\":\"BoxZoomTool\"},{\"id\":\"1681\",\"type\":\"SaveTool\"},{\"id\":\"1682\",\"type\":\"ResetTool\"},{\"id\":\"1683\",\"type\":\"HelpTool\"}]},\"id\":\"1684\",\"type\":\"Toolbar\"},{\"attributes\":{},\"id\":\"1683\",\"type\":\"HelpTool\"},{\"attributes\":{},\"id\":\"1716\",\"type\":\"Selection\"},{\"attributes\":{\"data_source\":{\"id\":\"1691\",\"type\":\"ColumnDataSource\"},\"glyph\":{\"id\":\"1692\",\"type\":\"Quad\"},\"hover_glyph\":null,\"muted_glyph\":null,\"nonselection_glyph\":{\"id\":\"1693\",\"type\":\"Quad\"},\"selection_glyph\":null,\"view\":{\"id\":\"1695\",\"type\":\"CDSView\"}},\"id\":\"1694\",\"type\":\"GlyphRenderer\"},{\"attributes\":{\"source\":{\"id\":\"1691\",\"type\":\"ColumnDataSource\"}},\"id\":\"1695\",\"type\":\"CDSView\"},{\"attributes\":{\"data_source\":{\"id\":\"1704\",\"type\":\"ColumnDataSource\"},\"glyph\":{\"id\":\"1705\",\"type\":\"Quad\"},\"hover_glyph\":null,\"muted_glyph\":null,\"nonselection_glyph\":{\"id\":\"1706\",\"type\":\"Quad\"},\"selection_glyph\":null,\"view\":{\"id\":\"1708\",\"type\":\"CDSView\"}},\"id\":\"1707\",\"type\":\"GlyphRenderer\"},{\"attributes\":{},\"id\":\"1682\",\"type\":\"ResetTool\"},{\"attributes\":{\"callback\":null},\"id\":\"1662\",\"type\":\"DataRange1d\"},{\"attributes\":{},\"id\":\"1770\",\"type\":\"UnionRenderers\"},{\"attributes\":{\"callback\":null,\"data\":{},\"selected\":{\"id\":\"1771\",\"type\":\"Selection\"},\"selection_policy\":{\"id\":\"1770\",\"type\":\"UnionRenderers\"}},\"id\":\"1704\",\"type\":\"ColumnDataSource\"},{\"attributes\":{\"overlay\":{\"id\":\"1701\",\"type\":\"BoxAnnotation\"}},\"id\":\"1680\",\"type\":\"BoxZoomTool\"},{\"attributes\":{\"bottom\":{\"value\":0},\"fill_color\":{\"value\":\"#1f77b4\"},\"left\":{\"field\":\"left\"},\"right\":{\"field\":\"right\"},\"top\":{\"field\":\"top\"}},\"id\":\"1692\",\"type\":\"Quad\"},{\"attributes\":{},\"id\":\"1666\",\"type\":\"LinearScale\"},{\"attributes\":{},\"id\":\"1771\",\"type\":\"Selection\"},{\"attributes\":{\"dimension\":1,\"ticker\":{\"id\":\"1674\",\"type\":\"BasicTicker\"}},\"id\":\"1677\",\"type\":\"Grid\"},{\"attributes\":{},\"id\":\"1669\",\"type\":\"BasicTicker\"},{\"attributes\":{\"bottom\":{\"value\":0},\"fill_alpha\":{\"value\":0.1},\"fill_color\":{\"value\":\"#1f77b4\"},\"left\":{\"field\":\"left\"},\"line_alpha\":{\"value\":0.1},\"line_color\":{\"value\":\"#1f77b4\"},\"right\":{\"field\":\"right\"},\"top\":{\"field\":\"top\"}},\"id\":\"1693\",\"type\":\"Quad\"},{\"attributes\":{\"ticker\":{\"id\":\"1669\",\"type\":\"BasicTicker\"}},\"id\":\"1672\",\"type\":\"Grid\"},{\"attributes\":{},\"id\":\"1700\",\"type\":\"BasicTickFormatter\"},{\"attributes\":{\"source\":{\"id\":\"1704\",\"type\":\"ColumnDataSource\"}},\"id\":\"1708\",\"type\":\"CDSView\"},{\"attributes\":{},\"id\":\"1715\",\"type\":\"UnionRenderers\"},{\"attributes\":{\"label\":{\"value\":\"Outliers Above\"},\"renderers\":[{\"id\":\"1707\",\"type\":\"GlyphRenderer\"}]},\"id\":\"1717\",\"type\":\"LegendItem\"},{\"attributes\":{},\"id\":\"1679\",\"type\":\"WheelZoomTool\"},{\"attributes\":{\"bottom\":{\"value\":0},\"fill_alpha\":{\"value\":0.1},\"fill_color\":{\"value\":\"#1f77b4\"},\"left\":{\"value\":70.0},\"line_alpha\":{\"value\":0.1},\"line_color\":{\"value\":\"#1f77b4\"},\"right\":{\"value\":71.2},\"top\":{\"value\":1}},\"id\":\"1706\",\"type\":\"Quad\"},{\"attributes\":{},\"id\":\"1681\",\"type\":\"SaveTool\"},{\"attributes\":{\"bottom_units\":\"screen\",\"fill_alpha\":{\"value\":0.5},\"fill_color\":{\"value\":\"lightgrey\"},\"left_units\":\"screen\",\"level\":\"overlay\",\"line_alpha\":{\"value\":1.0},\"line_color\":{\"value\":\"black\"},\"line_dash\":[4,4],\"line_width\":{\"value\":2},\"render_mode\":\"css\",\"right_units\":\"screen\",\"top_units\":\"screen\"},\"id\":\"1701\",\"type\":\"BoxAnnotation\"},{\"attributes\":{},\"id\":\"1664\",\"type\":\"LinearScale\"},{\"attributes\":{\"axis_label\":\"Frequency\",\"formatter\":{\"id\":\"1700\",\"type\":\"BasicTickFormatter\"},\"ticker\":{\"id\":\"1674\",\"type\":\"BasicTicker\"}},\"id\":\"1673\",\"type\":\"LinearAxis\"},{\"attributes\":{\"callback\":null,\"data\":{\"left\":[10.0,11.2,12.4,13.6,14.8,16.0,17.2,18.4,19.6,20.799999999999997,22.0,23.2,24.4,25.6,26.8,28.0,29.2,30.4,31.599999999999998,32.8,34.0,35.2,36.4,37.599999999999994,38.8,40.0,41.2,42.4,43.6,44.8,46.0,47.199999999999996,48.4,49.6,50.8,52.0,53.199999999999996,54.4,55.6,56.8,58.0,59.199999999999996,60.4,61.6,62.8,64.0,65.19999999999999,66.4,67.6,68.8],\"right\":[11.2,12.4,13.6,14.8,16.0,17.2,18.4,19.6,20.799999999999997,22.0,23.2,24.4,25.6,26.8,28.0,29.2,30.4,31.599999999999998,32.8,34.0,35.2,36.4,37.599999999999994,38.8,40.0,41.2,42.4,43.6,44.8,46.0,47.199999999999996,48.4,49.6,50.8,52.0,53.199999999999996,54.4,55.6,56.8,58.0,59.199999999999996,60.4,61.6,62.8,64.0,65.19999999999999,66.4,67.6,68.8,70.0],\"top\":[1,0,1,5,4,5,5,4,9,10,10,14,10,12,12,13,10,15,9,15,15,9,14,14,8,7,6,14,3,6,4,2,3,2,1,3,1,1,1,1,2,0,0,0,1,0,1,0,0,0]},\"selected\":{\"id\":\"1716\",\"type\":\"Selection\"},\"selection_policy\":{\"id\":\"1715\",\"type\":\"UnionRenderers\"}},\"id\":\"1691\",\"type\":\"ColumnDataSource\"},{\"attributes\":{\"callback\":null,\"end\":73.0,\"start\":7.0},\"id\":\"1660\",\"type\":\"Range1d\"},{\"attributes\":{},\"id\":\"1674\",\"type\":\"BasicTicker\"},{\"attributes\":{},\"id\":\"1698\",\"type\":\"BasicTickFormatter\"}],\"root_ids\":[\"1658\"]},\"title\":\"Bokeh Application\",\"version\":\"1.4.0\"}};\n",
       "  var render_items = [{\"docid\":\"4a72d071-18a1-4f7c-9be0-1a9562fd2e24\",\"roots\":{\"1658\":\"72f05ac4-d2f6-4aa8-943f-87cbbdb0b81f\"}}];\n",
       "  root.Bokeh.embed.embed_items_notebook(docs_json, render_items);\n",
       "\n",
       "  }\n",
       "  if (root.Bokeh !== undefined) {\n",
       "    embed_document(root);\n",
       "  } else {\n",
       "    var attempts = 0;\n",
       "    var timer = setInterval(function(root) {\n",
       "      if (root.Bokeh !== undefined) {\n",
       "        clearInterval(timer);\n",
       "        embed_document(root);\n",
       "      } else {\n",
       "        attempts++;\n",
       "        if (attempts > 100) {\n",
       "          clearInterval(timer);\n",
       "          console.log(\"Bokeh: ERROR: Unable to run BokehJS code because BokehJS library is missing\");\n",
       "        }\n",
       "      }\n",
       "    }, 10, root)\n",
       "  }\n",
       "})(window);"
      ],
      "application/vnd.bokehjs_exec.v0+json": ""
     },
     "metadata": {
      "application/vnd.bokehjs_exec.v0+json": {
       "id": "1658"
      }
     },
     "output_type": "display_data"
    }
   ],
   "source": [
    "show(p)"
   ]
  },
  {
   "cell_type": "markdown",
   "id": "53de76dd",
   "metadata": {},
   "source": [
    "Correlate the metrices:"
   ]
  },
  {
   "cell_type": "code",
   "execution_count": 90,
   "id": "8468054b",
   "metadata": {},
   "outputs": [
    {
     "name": "stderr",
     "output_type": "stream",
     "text": [
      "\r",
      "[Stage 89:>                                                         (0 + 1) / 1]\r"
     ]
    }
   ],
   "source": [
    "p = hl.plot.scatter(mt.sample_qc.dp_stats.mean, mt.sample_qc.call_rate, xlabel='Mean DP', ylabel='Call Rate')"
   ]
  },
  {
   "cell_type": "code",
   "execution_count": 91,
   "id": "3681e126",
   "metadata": {},
   "outputs": [
    {
     "data": {
      "text/html": [
       "\n",
       "\n",
       "\n",
       "\n",
       "\n",
       "\n",
       "  <div class=\"bk-root\" id=\"bd030f5c-dd61-4573-abee-95bfdbee3ac0\" data-root-id=\"1832\"></div>\n"
      ]
     },
     "metadata": {},
     "output_type": "display_data"
    },
    {
     "data": {
      "application/javascript": [
       "(function(root) {\n",
       "  function embed_document(root) {\n",
       "    \n",
       "  var docs_json = {\"d9a6b7e8-e245-4b2c-9440-a0be2ea54164\":{\"roots\":{\"references\":[{\"attributes\":{\"below\":[{\"id\":\"1842\",\"type\":\"LinearAxis\"}],\"center\":[{\"id\":\"1846\",\"type\":\"Grid\"},{\"id\":\"1851\",\"type\":\"Grid\"}],\"left\":[{\"id\":\"1847\",\"type\":\"LinearAxis\"}],\"plot_height\":800,\"plot_width\":800,\"renderers\":[{\"id\":\"1871\",\"type\":\"GlyphRenderer\"}],\"title\":null,\"toolbar\":{\"id\":\"1858\",\"type\":\"Toolbar\"},\"x_range\":{\"id\":\"1834\",\"type\":\"DataRange1d\"},\"x_scale\":{\"id\":\"1838\",\"type\":\"LinearScale\"},\"y_range\":{\"id\":\"1836\",\"type\":\"DataRange1d\"},\"y_scale\":{\"id\":\"1840\",\"type\":\"LinearScale\"}},\"id\":\"1832\",\"subtype\":\"Figure\",\"type\":\"Plot\"},{\"attributes\":{},\"id\":\"1933\",\"type\":\"UnionRenderers\"},{\"attributes\":{\"fill_color\":{\"value\":\"#1f77b4\"},\"line_color\":{\"value\":\"#1f77b4\"},\"x\":{\"field\":\"x\"},\"y\":{\"field\":\"y\"}},\"id\":\"1869\",\"type\":\"Circle\"},{\"attributes\":{\"active_drag\":\"auto\",\"active_inspect\":\"auto\",\"active_multi\":null,\"active_scroll\":\"auto\",\"active_tap\":\"auto\",\"tools\":[{\"id\":\"1852\",\"type\":\"PanTool\"},{\"id\":\"1853\",\"type\":\"WheelZoomTool\"},{\"id\":\"1854\",\"type\":\"BoxZoomTool\"},{\"id\":\"1855\",\"type\":\"SaveTool\"},{\"id\":\"1856\",\"type\":\"ResetTool\"},{\"id\":\"1857\",\"type\":\"HelpTool\"},{\"id\":\"1866\",\"type\":\"HoverTool\"}]},\"id\":\"1858\",\"type\":\"Toolbar\"},{\"attributes\":{\"callback\":null,\"tooltips\":[[\"x\",\"@x\"],[\"y\",\"@y\"]]},\"id\":\"1866\",\"type\":\"HoverTool\"},{\"attributes\":{},\"id\":\"1848\",\"type\":\"BasicTicker\"},{\"attributes\":{\"ticker\":{\"id\":\"1843\",\"type\":\"BasicTicker\"}},\"id\":\"1846\",\"type\":\"Grid\"},{\"attributes\":{},\"id\":\"1931\",\"type\":\"BasicTickFormatter\"},{\"attributes\":{\"bottom_units\":\"screen\",\"fill_alpha\":{\"value\":0.5},\"fill_color\":{\"value\":\"lightgrey\"},\"left_units\":\"screen\",\"level\":\"overlay\",\"line_alpha\":{\"value\":1.0},\"line_color\":{\"value\":\"black\"},\"line_dash\":[4,4],\"line_width\":{\"value\":2},\"render_mode\":\"css\",\"right_units\":\"screen\",\"top_units\":\"screen\"},\"id\":\"1932\",\"type\":\"BoxAnnotation\"},{\"attributes\":{\"callback\":null},\"id\":\"1834\",\"type\":\"DataRange1d\"},{\"attributes\":{},\"id\":\"1853\",\"type\":\"WheelZoomTool\"},{\"attributes\":{\"source\":{\"id\":\"1867\",\"type\":\"ColumnDataSource\"}},\"id\":\"1872\",\"type\":\"CDSView\"},{\"attributes\":{},\"id\":\"1838\",\"type\":\"LinearScale\"},{\"attributes\":{},\"id\":\"1934\",\"type\":\"Selection\"},{\"attributes\":{},\"id\":\"1852\",\"type\":\"PanTool\"},{\"attributes\":{\"dimension\":1,\"ticker\":{\"id\":\"1848\",\"type\":\"BasicTicker\"}},\"id\":\"1851\",\"type\":\"Grid\"},{\"attributes\":{},\"id\":\"1855\",\"type\":\"SaveTool\"},{\"attributes\":{},\"id\":\"1843\",\"type\":\"BasicTicker\"},{\"attributes\":{},\"id\":\"1857\",\"type\":\"HelpTool\"},{\"attributes\":{\"callback\":null},\"id\":\"1836\",\"type\":\"DataRange1d\"},{\"attributes\":{},\"id\":\"1840\",\"type\":\"LinearScale\"},{\"attributes\":{},\"id\":\"1856\",\"type\":\"ResetTool\"},{\"attributes\":{\"callback\":null,\"data\":{\"index\":[0,1,2,3,4,5,6,7,8,9,10,11,12,13,14,15,16,17,18,19,20,21,22,23,24,25,26,27,28,29,30,31,32,33,34,35,36,37,38,39,40,41,42,43,44,45,46,47,48,49,50,51,52,53,54,55,56,57,58,59,60,61,62,63,64,65,66,67,68,69,70,71,72,73,74,75,76,77,78,79,80,81,82,83,84,85,86,87,88,89,90,91,92,93,94,95,96,97,98,99,100,101,102,103,104,105,106,107,108,109,110,111,112,113,114,115,116,117,118,119,120,121,122,123,124,125,126,127,128,129,130,131,132,133,134,135,136,137,138,139,140,141,142,143,144,145,146,147,148,149,150,151,152,153,154,155,156,157,158,159,160,161,162,163,164,165,166,167,168,169,170,171,172,173,174,175,176,177,178,179,180,181,182,183,184,185,186,187,188,189,190,191,192,193,194,195,196,197,198,199,200,201,202,203,204,205,206,207,208,209,210,211,212,213,214,215,216,217,218,219,220,221,222,223,224,225,226],\"x\":{\"__ndarray__\":\"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\",\"dtype\":\"float64\",\"shape\":[227]},\"y\":{\"__ndarray__\":\"Vjb+8EuI7T85Jn4CS4vsP07TiGpPwu0/rAbBYsLo7D80iQFVsIPuP5H+jreqnO4/XCvqtIl17D/XE3TytWruP5ZA3bv9de4/0cYYGNWX7j/4qlbiNXztPzrWXC+RVu4/U1cs2SmO7j+ttp+PCLTuPykFZUwK0e4/e/ZVpl437z/A9SA1ThLvP/twT7uXOu8/ozIDh2IB7z9nobpU/eXuP9qB/bR0Q+8/VcW1m+hm7z9fPkXOACDvP9o0m3RfV+4/9zkOjdJa7z+ALZfUIxfvP5WCMiaFaO8/OA2lw4pP7z8zy1a/N3bvPwFmO3/VJ+4//YZpZ7Mt7z/VSryGr2PvP3OI00nUd+8/KfpXdnzX7j+Xo1moLlXvP9/DS7nHHO8/8w3aNJt07z/RE3tY6oPvPyxz7g7Jqe8//5yDE88g7z8xtTwTHIPvP68ZHHw5k+8/sS82KFWG7z801mOVxW/vP40fvZ+Iou8/blGSGw+Y7z+xLzYoVYbvP48110ukle8/LX775Faj7z86I79vpkLvP7Vmd1YaZu8/rPj0+Y+m7z9ziNNJ1HfvP3BnrMcqi+8/jirKdRac7z9Qg2eXlY3vPypd1GKttu8/DrDQYN2Y7z+J84hHUbzvP/QY5wopbu8/53MjgNnO7z+TbBh6aXXvP+7LizBIm+8/qczAoVjA7z9BeycgFQ/vP8mwBdLtve8/iOh7ccPC7z/UNKLak3DvP2kPRBe8vu8/9i4Bt0Rh7z8wqi89jonvPyc8reADyu8/xoTRebbX7z8Lj6neM6zvPwVCTgRT2e8//YZpZ7Mt7z8uiQi75JzvP8q7Eqh7t+8/q+3nIwKt7z+H0mHFp8/vP2slXsPXse8/53MjgNnO7z9IIPIQmcfvP4r+lR3fte8/yKX4+1/E7z9ziNNJ1HfvP/DssrLxh+8/w2Oq9wzr7z+H3W6bNcnvP0YK2GR91O8/h91umzXJ7z/jR+8noujvPxv9JNWJUu4/B1hosG7M7z/ofjBWZ8jvPwVCTgRT2e8/5FL8/S/i7z9JK//mJsHvP+VdCdS92+8/fKnzZUlL7j9L9LZSLcjuP4fdbps1ye8/ZM31Emnl7z/oiT0s9cHvP0X/yo7v2u8/Jzyt4APK7z/Gj95PRNHvP8JYnSF/8e8/SCDyEJnH7z8ELDRYN+bvP6WgjEkh2u8/w2Oq9wzr7z/CWJ0hf/HvP0LeowxG7u8/paCMSSHa7z9kzfUSaeXvP8aP3k9E0e8/gZATwVT27z8LhJwIprLvP2TN9RJp5e8/Q+mw4tPn7z+Dpi1tcOnvPyMFbLI+6u8/Ivpe3LDw7z9GZQYOxQLuPwQ3QS7F3+8/xG63zZrk7z+jf2XHd+3vP0LeowxG7u8/T3hawQeU7z/plEoCg7vvPwMhJ4Kp7O8/YrfbZk3y7z8i+l7csPDvP4bHVO8Z1u8/o39lx3ft7z+CmyCX4u/vPyL6Xtyw8O8/BCw0WDfm7z8i+l7csPDvP0cV5ToLzu8/4THVe4b17z+jf2XHd+3vP+Ex1XuG9e8/C4ScCKay7z/CWJ0hf/HvP2K322ZN8u8/zdw5KiWk7z/CWJ0hf/HvP44qynUWnO8/53MjgNnO7z9hrM6Qv/jvP2GszpC/+O8/QtOWNrj07z+haUsbXPrvP+ZoFqpL1e8/gZATwVT27z8DISeCqezvP6N/Zcd37e8/5FL8/S/i7z/BTZBL8ffvP83cOSolpO8/4THVe4b17z+BkBPBVPbvPyUbhl5a3e8/Ie9RBiP37z/AQoN1Y/7vP6FpSxtc+u8/Y8LoPNvr7z9hrM6Qv/jvP4CFBuvG/O8/YKHBujH/7z/hMdV7hvXvPyDkRDCV/e8/UINnl5WN7z8g5EQwlf3vPyDkRDCV/e8/v98GiTIf7z9gocG6Mf/vP4GQE8FU9u8/AQsN1o357z/hMdV7hvXvPyDkRDCV/e8/6H4wVmfI7z+haUsbXPrvP0HIiWAq++8/IOREMJX97z9gocG6Mf/vP+EmyKX4++8/paCMSSHa7z8g5EQwlf3vP0HIiWAq++8/4SbIpfj77z9it9tmTfLvP3FyuZ24hO8/gIUG68b87z/hJsil+PvvPyDkRDCV/e8/wEKDdWP+7z8g5EQwlf3vP4CFBuvG/O8/AAAAAAAA8D9gocG6Mf/vP+/WmAbWlO8/gIUG68b87z8AAAAAAADwPwAAAAAAAPA/QciJYCr77z/AQoN1Y/7vPwAAAAAAAPA/YKHBujH/7z9gocG6Mf/vPwAAAAAAAPA/4THVe4b17z9gocG6Mf/vPwAAAAAAAPA/YKHBujH/7z8AAAAAAADwP8BCg3Vj/u8/4SbIpfj77z8AAAAAAADwPwAAAAAAAPA/YKHBujH/7z9gocG6Mf/vPyDkRDCV/e8/AAAAAAAA8D8AAAAAAADwPw==\",\"dtype\":\"float64\",\"shape\":[227]}},\"selected\":{\"id\":\"1934\",\"type\":\"Selection\"},\"selection_policy\":{\"id\":\"1933\",\"type\":\"UnionRenderers\"}},\"id\":\"1867\",\"type\":\"ColumnDataSource\"},{\"attributes\":{\"axis_label\":\"Mean DP\",\"formatter\":{\"id\":\"1929\",\"type\":\"BasicTickFormatter\"},\"ticker\":{\"id\":\"1843\",\"type\":\"BasicTicker\"}},\"id\":\"1842\",\"type\":\"LinearAxis\"},{\"attributes\":{\"data_source\":{\"id\":\"1867\",\"type\":\"ColumnDataSource\"},\"glyph\":{\"id\":\"1869\",\"type\":\"Circle\"},\"hover_glyph\":null,\"muted_glyph\":null,\"nonselection_glyph\":{\"id\":\"1870\",\"type\":\"Circle\"},\"selection_glyph\":null,\"view\":{\"id\":\"1872\",\"type\":\"CDSView\"}},\"id\":\"1871\",\"type\":\"GlyphRenderer\"},{\"attributes\":{},\"id\":\"1929\",\"type\":\"BasicTickFormatter\"},{\"attributes\":{\"overlay\":{\"id\":\"1932\",\"type\":\"BoxAnnotation\"}},\"id\":\"1854\",\"type\":\"BoxZoomTool\"},{\"attributes\":{\"axis_label\":\"Call Rate\",\"formatter\":{\"id\":\"1931\",\"type\":\"BasicTickFormatter\"},\"ticker\":{\"id\":\"1848\",\"type\":\"BasicTicker\"}},\"id\":\"1847\",\"type\":\"LinearAxis\"},{\"attributes\":{\"fill_alpha\":{\"value\":0.1},\"fill_color\":{\"value\":\"#1f77b4\"},\"line_alpha\":{\"value\":0.1},\"line_color\":{\"value\":\"#1f77b4\"},\"x\":{\"field\":\"x\"},\"y\":{\"field\":\"y\"}},\"id\":\"1870\",\"type\":\"Circle\"}],\"root_ids\":[\"1832\"]},\"title\":\"Bokeh Application\",\"version\":\"1.4.0\"}};\n",
       "  var render_items = [{\"docid\":\"d9a6b7e8-e245-4b2c-9440-a0be2ea54164\",\"roots\":{\"1832\":\"bd030f5c-dd61-4573-abee-95bfdbee3ac0\"}}];\n",
       "  root.Bokeh.embed.embed_items_notebook(docs_json, render_items);\n",
       "\n",
       "  }\n",
       "  if (root.Bokeh !== undefined) {\n",
       "    embed_document(root);\n",
       "  } else {\n",
       "    var attempts = 0;\n",
       "    var timer = setInterval(function(root) {\n",
       "      if (root.Bokeh !== undefined) {\n",
       "        clearInterval(timer);\n",
       "        embed_document(root);\n",
       "      } else {\n",
       "        attempts++;\n",
       "        if (attempts > 100) {\n",
       "          clearInterval(timer);\n",
       "          console.log(\"Bokeh: ERROR: Unable to run BokehJS code because BokehJS library is missing\");\n",
       "        }\n",
       "      }\n",
       "    }, 10, root)\n",
       "  }\n",
       "})(window);"
      ],
      "application/vnd.bokehjs_exec.v0+json": ""
     },
     "metadata": {
      "application/vnd.bokehjs_exec.v0+json": {
       "id": "1832"
      }
     },
     "output_type": "display_data"
    }
   ],
   "source": [
    "show(p)"
   ]
  },
  {
   "cell_type": "markdown",
   "id": "0c328579",
   "metadata": {},
   "source": [
    "Reading depth and call rate is correlated."
   ]
  },
  {
   "cell_type": "code",
   "execution_count": 92,
   "id": "afdbe5b1",
   "metadata": {},
   "outputs": [
    {
     "name": "stderr",
     "output_type": "stream",
     "text": [
      "\r",
      "[Stage 91:>                                                         (0 + 1) / 1]\r"
     ]
    }
   ],
   "source": [
    "p = hl.plot.scatter(mt.sample_qc.gq_stats.mean, mt.sample_qc.call_rate, xlabel = 'Mean GQ', ylabel = 'Call Rate')"
   ]
  },
  {
   "cell_type": "code",
   "execution_count": 93,
   "id": "33fa3bd4",
   "metadata": {},
   "outputs": [
    {
     "data": {
      "text/html": [
       "\n",
       "\n",
       "\n",
       "\n",
       "\n",
       "\n",
       "  <div class=\"bk-root\" id=\"5061f84f-0f0e-42bd-aff9-23b5237d69b7\" data-root-id=\"1983\"></div>\n"
      ]
     },
     "metadata": {},
     "output_type": "display_data"
    },
    {
     "data": {
      "application/javascript": [
       "(function(root) {\n",
       "  function embed_document(root) {\n",
       "    \n",
       "  var docs_json = {\"5e50eed1-b9f1-49b8-b8aa-d3dfc423d94f\":{\"roots\":{\"references\":[{\"attributes\":{\"below\":[{\"id\":\"1993\",\"type\":\"LinearAxis\"}],\"center\":[{\"id\":\"1997\",\"type\":\"Grid\"},{\"id\":\"2002\",\"type\":\"Grid\"}],\"left\":[{\"id\":\"1998\",\"type\":\"LinearAxis\"}],\"plot_height\":800,\"plot_width\":800,\"renderers\":[{\"id\":\"2022\",\"type\":\"GlyphRenderer\"}],\"title\":null,\"toolbar\":{\"id\":\"2009\",\"type\":\"Toolbar\"},\"x_range\":{\"id\":\"1985\",\"type\":\"DataRange1d\"},\"x_scale\":{\"id\":\"1989\",\"type\":\"LinearScale\"},\"y_range\":{\"id\":\"1987\",\"type\":\"DataRange1d\"},\"y_scale\":{\"id\":\"1991\",\"type\":\"LinearScale\"}},\"id\":\"1983\",\"subtype\":\"Figure\",\"type\":\"Plot\"},{\"attributes\":{},\"id\":\"2092\",\"type\":\"UnionRenderers\"},{\"attributes\":{\"callback\":null},\"id\":\"1987\",\"type\":\"DataRange1d\"},{\"attributes\":{\"callback\":null,\"data\":{\"index\":[0,1,2,3,4,5,6,7,8,9,10,11,12,13,14,15,16,17,18,19,20,21,22,23,24,25,26,27,28,29,30,31,32,33,34,35,36,37,38,39,40,41,42,43,44,45,46,47,48,49,50,51,52,53,54,55,56,57,58,59,60,61,62,63,64,65,66,67,68,69,70,71,72,73,74,75,76,77,78,79,80,81,82,83,84,85,86,87,88,89,90,91,92,93,94,95,96,97,98,99,100,101,102,103,104,105,106,107,108,109,110,111,112,113,114,115,116,117,118,119,120,121,122,123,124,125,126,127,128,129,130,131,132,133,134,135,136,137,138,139,140,141,142,143,144,145,146,147,148,149,150,151,152,153,154,155,156,157,158,159,160,161,162,163,164,165,166,167,168,169,170,171,172,173,174,175,176,177,178,179,180,181,182,183,184,185,186,187,188,189,190,191,192,193,194,195,196,197,198,199,200,201,202,203,204,205,206,207,208,209,210,211,212,213,214,215,216,217,218,219,220,221,222,223,224,225,226,227,228,229,230,231,232,233,234,235,236],\"x\":{\"__ndarray__\":\"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\",\"dtype\":\"float64\",\"shape\":[237]},\"y\":{\"__ndarray__\":\"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\",\"dtype\":\"float64\",\"shape\":[237]}},\"selected\":{\"id\":\"2093\",\"type\":\"Selection\"},\"selection_policy\":{\"id\":\"2092\",\"type\":\"UnionRenderers\"}},\"id\":\"2018\",\"type\":\"ColumnDataSource\"},{\"attributes\":{},\"id\":\"1994\",\"type\":\"BasicTicker\"},{\"attributes\":{},\"id\":\"2006\",\"type\":\"SaveTool\"},{\"attributes\":{\"dimension\":1,\"ticker\":{\"id\":\"1999\",\"type\":\"BasicTicker\"}},\"id\":\"2002\",\"type\":\"Grid\"},{\"attributes\":{\"source\":{\"id\":\"2018\",\"type\":\"ColumnDataSource\"}},\"id\":\"2023\",\"type\":\"CDSView\"},{\"attributes\":{},\"id\":\"2004\",\"type\":\"WheelZoomTool\"},{\"attributes\":{\"fill_alpha\":{\"value\":0.1},\"fill_color\":{\"value\":\"#1f77b4\"},\"line_alpha\":{\"value\":0.1},\"line_color\":{\"value\":\"#1f77b4\"},\"x\":{\"field\":\"x\"},\"y\":{\"field\":\"y\"}},\"id\":\"2021\",\"type\":\"Circle\"},{\"attributes\":{\"axis_label\":\"Mean GQ\",\"formatter\":{\"id\":\"2088\",\"type\":\"BasicTickFormatter\"},\"ticker\":{\"id\":\"1994\",\"type\":\"BasicTicker\"}},\"id\":\"1993\",\"type\":\"LinearAxis\"},{\"attributes\":{},\"id\":\"2003\",\"type\":\"PanTool\"},{\"attributes\":{},\"id\":\"1989\",\"type\":\"LinearScale\"},{\"attributes\":{\"callback\":null},\"id\":\"1985\",\"type\":\"DataRange1d\"},{\"attributes\":{\"data_source\":{\"id\":\"2018\",\"type\":\"ColumnDataSource\"},\"glyph\":{\"id\":\"2020\",\"type\":\"Circle\"},\"hover_glyph\":null,\"muted_glyph\":null,\"nonselection_glyph\":{\"id\":\"2021\",\"type\":\"Circle\"},\"selection_glyph\":null,\"view\":{\"id\":\"2023\",\"type\":\"CDSView\"}},\"id\":\"2022\",\"type\":\"GlyphRenderer\"},{\"attributes\":{\"axis_label\":\"Call Rate\",\"formatter\":{\"id\":\"2090\",\"type\":\"BasicTickFormatter\"},\"ticker\":{\"id\":\"1999\",\"type\":\"BasicTicker\"}},\"id\":\"1998\",\"type\":\"LinearAxis\"},{\"attributes\":{},\"id\":\"2007\",\"type\":\"ResetTool\"},{\"attributes\":{},\"id\":\"1999\",\"type\":\"BasicTicker\"},{\"attributes\":{\"fill_color\":{\"value\":\"#1f77b4\"},\"line_color\":{\"value\":\"#1f77b4\"},\"x\":{\"field\":\"x\"},\"y\":{\"field\":\"y\"}},\"id\":\"2020\",\"type\":\"Circle\"},{\"attributes\":{},\"id\":\"2093\",\"type\":\"Selection\"},{\"attributes\":{},\"id\":\"2090\",\"type\":\"BasicTickFormatter\"},{\"attributes\":{},\"id\":\"2008\",\"type\":\"HelpTool\"},{\"attributes\":{\"ticker\":{\"id\":\"1994\",\"type\":\"BasicTicker\"}},\"id\":\"1997\",\"type\":\"Grid\"},{\"attributes\":{},\"id\":\"1991\",\"type\":\"LinearScale\"},{\"attributes\":{\"overlay\":{\"id\":\"2091\",\"type\":\"BoxAnnotation\"}},\"id\":\"2005\",\"type\":\"BoxZoomTool\"},{\"attributes\":{},\"id\":\"2088\",\"type\":\"BasicTickFormatter\"},{\"attributes\":{\"bottom_units\":\"screen\",\"fill_alpha\":{\"value\":0.5},\"fill_color\":{\"value\":\"lightgrey\"},\"left_units\":\"screen\",\"level\":\"overlay\",\"line_alpha\":{\"value\":1.0},\"line_color\":{\"value\":\"black\"},\"line_dash\":[4,4],\"line_width\":{\"value\":2},\"render_mode\":\"css\",\"right_units\":\"screen\",\"top_units\":\"screen\"},\"id\":\"2091\",\"type\":\"BoxAnnotation\"},{\"attributes\":{\"active_drag\":\"auto\",\"active_inspect\":\"auto\",\"active_multi\":null,\"active_scroll\":\"auto\",\"active_tap\":\"auto\",\"tools\":[{\"id\":\"2003\",\"type\":\"PanTool\"},{\"id\":\"2004\",\"type\":\"WheelZoomTool\"},{\"id\":\"2005\",\"type\":\"BoxZoomTool\"},{\"id\":\"2006\",\"type\":\"SaveTool\"},{\"id\":\"2007\",\"type\":\"ResetTool\"},{\"id\":\"2008\",\"type\":\"HelpTool\"},{\"id\":\"2017\",\"type\":\"HoverTool\"}]},\"id\":\"2009\",\"type\":\"Toolbar\"},{\"attributes\":{\"callback\":null,\"tooltips\":[[\"x\",\"@x\"],[\"y\",\"@y\"]]},\"id\":\"2017\",\"type\":\"HoverTool\"}],\"root_ids\":[\"1983\"]},\"title\":\"Bokeh Application\",\"version\":\"1.4.0\"}};\n",
       "  var render_items = [{\"docid\":\"5e50eed1-b9f1-49b8-b8aa-d3dfc423d94f\",\"roots\":{\"1983\":\"5061f84f-0f0e-42bd-aff9-23b5237d69b7\"}}];\n",
       "  root.Bokeh.embed.embed_items_notebook(docs_json, render_items);\n",
       "\n",
       "  }\n",
       "  if (root.Bokeh !== undefined) {\n",
       "    embed_document(root);\n",
       "  } else {\n",
       "    var attempts = 0;\n",
       "    var timer = setInterval(function(root) {\n",
       "      if (root.Bokeh !== undefined) {\n",
       "        clearInterval(timer);\n",
       "        embed_document(root);\n",
       "      } else {\n",
       "        attempts++;\n",
       "        if (attempts > 100) {\n",
       "          clearInterval(timer);\n",
       "          console.log(\"Bokeh: ERROR: Unable to run BokehJS code because BokehJS library is missing\");\n",
       "        }\n",
       "      }\n",
       "    }, 10, root)\n",
       "  }\n",
       "})(window);"
      ],
      "application/vnd.bokehjs_exec.v0+json": ""
     },
     "metadata": {
      "application/vnd.bokehjs_exec.v0+json": {
       "id": "1983"
      }
     },
     "output_type": "display_data"
    }
   ],
   "source": [
    "show(p)"
   ]
  },
  {
   "cell_type": "markdown",
   "id": "f160b74d",
   "metadata": {},
   "source": [
    "Quality score (GQ) and call rate is also correlated."
   ]
  },
  {
   "cell_type": "markdown",
   "id": "ce75c6a7",
   "metadata": {},
   "source": [
    "**Removing outliers from the dataset: generally improves association results**"
   ]
  },
  {
   "cell_type": "code",
   "execution_count": 94,
   "id": "2862916a",
   "metadata": {},
   "outputs": [],
   "source": [
    "# filtering results with reading depth higher than 4, and call rate higher than 0.97.\n",
    "mt = mt.filter_cols((mt.sample_qc.dp_stats.mean >= 4) & (mt.sample_qc.call_rate >= 0.97))"
   ]
  },
  {
   "cell_type": "code",
   "execution_count": 95,
   "id": "4aac6f0d",
   "metadata": {},
   "outputs": [
    {
     "name": "stderr",
     "output_type": "stream",
     "text": [
      "\r",
      "[Stage 93:>                                                         (0 + 1) / 1]\r"
     ]
    },
    {
     "name": "stdout",
     "output_type": "stream",
     "text": [
      "After filter, 257/284 samples remain.\n"
     ]
    }
   ],
   "source": [
    "print('After filter, %d/284 samples remain.' % mt.count_cols())"
   ]
  },
  {
   "cell_type": "code",
   "execution_count": 96,
   "id": "ae71c5d9",
   "metadata": {},
   "outputs": [],
   "source": [
    "#filtering results with GQ(score) higher than 20\n",
    "mt = mt.filter_cols((mt.sample_qc.gq_stats.mean >= 20))"
   ]
  },
  {
   "cell_type": "code",
   "execution_count": 97,
   "id": "e815d0b6",
   "metadata": {},
   "outputs": [
    {
     "name": "stderr",
     "output_type": "stream",
     "text": [
      "\r",
      "[Stage 94:>                                                         (0 + 1) / 1]\r"
     ]
    },
    {
     "name": "stdout",
     "output_type": "stream",
     "text": [
      "After filter, 253/250 samples remain.\n"
     ]
    }
   ],
   "source": [
    "print('After filter, %d/250 samples remain.' %mt.count_cols())"
   ]
  },
  {
   "cell_type": "markdown",
   "id": "0bb95f7e",
   "metadata": {},
   "source": [
    "**Genotype Quality Check**\n",
    "\n",
    "Example of cases that is likely to be an error:\n",
    "- genotype called homozygous reference with >10% alternate reads\n",
    "- a genotype called homozygous alternate with >10% reference reads\n",
    "- genotype called heterozygote without a ref / alt balance near 1:1\n",
    "\n",
    "We have to filter them out!"
   ]
  },
  {
   "cell_type": "code",
   "execution_count": 98,
   "id": "ef87d016",
   "metadata": {},
   "outputs": [
    {
     "name": "stderr",
     "output_type": "stream",
     "text": [
      "[Stage 96:>                                                         (0 + 1) / 1]\r"
     ]
    },
    {
     "name": "stdout",
     "output_type": "stream",
     "text": [
      "Filtering 3.71% entries out of downstream analysis.\n"
     ]
    }
   ],
   "source": [
    "# rate of reference allele \n",
    "ab = mt.AD[1] / hl.sum(mt.AD)\n",
    "\n",
    "filter_condition_ab = ((mt.GT.is_hom_ref() & (ab <= 0.1)) |\n",
    "                        (mt.GT.is_het() & (ab >= 0.25) & (ab <= 0.75)) |\n",
    "                        (mt.GT.is_hom_var() & (ab >= 0.9)))\n",
    "\n",
    "fraction_filtered = mt.aggregate_entries(hl.agg.fraction(~filter_condition_ab))\n",
    "print(f'Filtering {fraction_filtered * 100:.2f}% entries out of downstream analysis.')\n",
    "mt = mt.filter_entries(filter_condition_ab)"
   ]
  },
  {
   "cell_type": "markdown",
   "id": "1319513a",
   "metadata": {},
   "source": [
    "**Practice: Variant Quality Check**"
   ]
  },
  {
   "cell_type": "code",
   "execution_count": 99,
   "id": "d8e6f878",
   "metadata": {},
   "outputs": [],
   "source": [
    "mt = hl.variant_qc(mt)"
   ]
  },
  {
   "cell_type": "code",
   "execution_count": 100,
   "id": "106e1799",
   "metadata": {},
   "outputs": [
    {
     "name": "stdout",
     "output_type": "stream",
     "text": [
      "--------------------------------------------------------\n",
      "Type:\n",
      "        struct {\n",
      "        dp_stats: struct {\n",
      "            mean: float64, \n",
      "            stdev: float64, \n",
      "            min: float64, \n",
      "            max: float64\n",
      "        }, \n",
      "        gq_stats: struct {\n",
      "            mean: float64, \n",
      "            stdev: float64, \n",
      "            min: float64, \n",
      "            max: float64\n",
      "        }, \n",
      "        AC: array<int32>, \n",
      "        AF: array<float64>, \n",
      "        AN: int32, \n",
      "        homozygote_count: array<int32>, \n",
      "        call_rate: float64, \n",
      "        n_called: int64, \n",
      "        n_not_called: int64, \n",
      "        n_filtered: int64, \n",
      "        n_het: int64, \n",
      "        n_non_ref: int64, \n",
      "        het_freq_hwe: float64, \n",
      "        p_value_hwe: float64\n",
      "    }\n",
      "--------------------------------------------------------\n",
      "Source:\n",
      "    <hail.matrixtable.MatrixTable object at 0x7fc7c41d51c0>\n",
      "Index:\n",
      "    ['row']\n",
      "--------------------------------------------------------\n"
     ]
    }
   ],
   "source": [
    "mt.variant_qc.describe()"
   ]
  },
  {
   "cell_type": "code",
   "execution_count": 101,
   "id": "23c925a7",
   "metadata": {
    "scrolled": true
   },
   "outputs": [
    {
     "name": "stderr",
     "output_type": "stream",
     "text": [
      "\r",
      "[Stage 97:>                                                         (0 + 1) / 1]\r"
     ]
    },
    {
     "data": {
      "text/html": [
       "<table><thead><tr><td style=\"white-space: nowrap; max-width: 500px; overflow: hidden; text-overflow: ellipsis; \" colspan=\"1\"><div style=\"text-align: left;\"></div></td><td style=\"white-space: nowrap; max-width: 500px; overflow: hidden; text-overflow: ellipsis; \" colspan=\"1\"><div style=\"text-align: left;\"></div></td><td style=\"white-space: nowrap; max-width: 500px; overflow: hidden; text-overflow: ellipsis; \" colspan=\"20\"><div style=\"text-align: left;\"></div></td></tr><tr><td style=\"white-space: nowrap; max-width: 500px; overflow: hidden; text-overflow: ellipsis; \" colspan=\"1\"><div style=\"text-align: left;\"></div></td><td style=\"white-space: nowrap; max-width: 500px; overflow: hidden; text-overflow: ellipsis; \" colspan=\"1\"><div style=\"text-align: left;\"></div></td><td style=\"white-space: nowrap; max-width: 500px; overflow: hidden; text-overflow: ellipsis; \" colspan=\"20\"><div style=\"text-align: left;border-bottom: solid 2px #000; padding-bottom: 5px\">variant_qc</div></td></tr><tr><td style=\"white-space: nowrap; max-width: 500px; overflow: hidden; text-overflow: ellipsis; \" colspan=\"1\"><div style=\"text-align: left;\"></div></td><td style=\"white-space: nowrap; max-width: 500px; overflow: hidden; text-overflow: ellipsis; \" colspan=\"1\"><div style=\"text-align: left;\"></div></td><td style=\"white-space: nowrap; max-width: 500px; overflow: hidden; text-overflow: ellipsis; \" colspan=\"4\"><div style=\"text-align: left;border-bottom: solid 2px #000; padding-bottom: 5px\">dp_stats</div></td><td style=\"white-space: nowrap; max-width: 500px; overflow: hidden; text-overflow: ellipsis; \" colspan=\"4\"><div style=\"text-align: left;border-bottom: solid 2px #000; padding-bottom: 5px\">gq_stats</div></td><td style=\"white-space: nowrap; max-width: 500px; overflow: hidden; text-overflow: ellipsis; \" colspan=\"1\"><div style=\"text-align: left;\"></div></td><td style=\"white-space: nowrap; max-width: 500px; overflow: hidden; text-overflow: ellipsis; \" colspan=\"1\"><div style=\"text-align: left;\"></div></td><td style=\"white-space: nowrap; max-width: 500px; overflow: hidden; text-overflow: ellipsis; \" colspan=\"1\"><div style=\"text-align: left;\"></div></td><td style=\"white-space: nowrap; max-width: 500px; overflow: hidden; text-overflow: ellipsis; \" colspan=\"1\"><div style=\"text-align: left;\"></div></td><td style=\"white-space: nowrap; max-width: 500px; overflow: hidden; text-overflow: ellipsis; \" colspan=\"1\"><div style=\"text-align: left;\"></div></td><td style=\"white-space: nowrap; max-width: 500px; overflow: hidden; text-overflow: ellipsis; \" colspan=\"1\"><div style=\"text-align: left;\"></div></td><td style=\"white-space: nowrap; max-width: 500px; overflow: hidden; text-overflow: ellipsis; \" colspan=\"1\"><div style=\"text-align: left;\"></div></td><td style=\"white-space: nowrap; max-width: 500px; overflow: hidden; text-overflow: ellipsis; \" colspan=\"1\"><div style=\"text-align: left;\"></div></td><td style=\"white-space: nowrap; max-width: 500px; overflow: hidden; text-overflow: ellipsis; \" colspan=\"1\"><div style=\"text-align: left;\"></div></td><td style=\"white-space: nowrap; max-width: 500px; overflow: hidden; text-overflow: ellipsis; \" colspan=\"1\"><div style=\"text-align: left;\"></div></td><td style=\"white-space: nowrap; max-width: 500px; overflow: hidden; text-overflow: ellipsis; \" colspan=\"1\"><div style=\"text-align: left;\"></div></td><td style=\"white-space: nowrap; max-width: 500px; overflow: hidden; text-overflow: ellipsis; \" colspan=\"1\"><div style=\"text-align: left;\"></div></td></tr><tr><td style=\"white-space: nowrap; max-width: 500px; overflow: hidden; text-overflow: ellipsis; \" colspan=\"1\"><div style=\"text-align: left;border-bottom: solid 2px #000; padding-bottom: 5px\">locus</div></td><td style=\"white-space: nowrap; max-width: 500px; overflow: hidden; text-overflow: ellipsis; \" colspan=\"1\"><div style=\"text-align: left;border-bottom: solid 2px #000; padding-bottom: 5px\">alleles</div></td><td style=\"white-space: nowrap; max-width: 500px; overflow: hidden; text-overflow: ellipsis; \" colspan=\"1\"><div style=\"text-align: left;border-bottom: solid 2px #000; padding-bottom: 5px\">mean</div></td><td style=\"white-space: nowrap; max-width: 500px; overflow: hidden; text-overflow: ellipsis; \" colspan=\"1\"><div style=\"text-align: left;border-bottom: solid 2px #000; padding-bottom: 5px\">stdev</div></td><td style=\"white-space: nowrap; max-width: 500px; overflow: hidden; text-overflow: ellipsis; \" colspan=\"1\"><div style=\"text-align: left;border-bottom: solid 2px #000; padding-bottom: 5px\">min</div></td><td style=\"white-space: nowrap; max-width: 500px; overflow: hidden; text-overflow: ellipsis; \" colspan=\"1\"><div style=\"text-align: left;border-bottom: solid 2px #000; padding-bottom: 5px\">max</div></td><td style=\"white-space: nowrap; max-width: 500px; overflow: hidden; text-overflow: ellipsis; \" colspan=\"1\"><div style=\"text-align: left;border-bottom: solid 2px #000; padding-bottom: 5px\">mean</div></td><td style=\"white-space: nowrap; max-width: 500px; overflow: hidden; text-overflow: ellipsis; \" colspan=\"1\"><div style=\"text-align: left;border-bottom: solid 2px #000; padding-bottom: 5px\">stdev</div></td><td style=\"white-space: nowrap; max-width: 500px; overflow: hidden; text-overflow: ellipsis; \" colspan=\"1\"><div style=\"text-align: left;border-bottom: solid 2px #000; padding-bottom: 5px\">min</div></td><td style=\"white-space: nowrap; max-width: 500px; overflow: hidden; text-overflow: ellipsis; \" colspan=\"1\"><div style=\"text-align: left;border-bottom: solid 2px #000; padding-bottom: 5px\">max</div></td><td style=\"white-space: nowrap; max-width: 500px; overflow: hidden; text-overflow: ellipsis; \" colspan=\"1\"><div style=\"text-align: left;border-bottom: solid 2px #000; padding-bottom: 5px\">AC</div></td><td style=\"white-space: nowrap; max-width: 500px; overflow: hidden; text-overflow: ellipsis; \" colspan=\"1\"><div style=\"text-align: left;border-bottom: solid 2px #000; padding-bottom: 5px\">AF</div></td><td style=\"white-space: nowrap; max-width: 500px; overflow: hidden; text-overflow: ellipsis; \" colspan=\"1\"><div style=\"text-align: left;border-bottom: solid 2px #000; padding-bottom: 5px\">AN</div></td><td style=\"white-space: nowrap; max-width: 500px; overflow: hidden; text-overflow: ellipsis; \" colspan=\"1\"><div style=\"text-align: left;border-bottom: solid 2px #000; padding-bottom: 5px\">homozygote_count</div></td><td style=\"white-space: nowrap; max-width: 500px; overflow: hidden; text-overflow: ellipsis; \" colspan=\"1\"><div style=\"text-align: left;border-bottom: solid 2px #000; padding-bottom: 5px\">call_rate</div></td><td style=\"white-space: nowrap; max-width: 500px; overflow: hidden; text-overflow: ellipsis; \" colspan=\"1\"><div style=\"text-align: left;border-bottom: solid 2px #000; padding-bottom: 5px\">n_called</div></td><td style=\"white-space: nowrap; max-width: 500px; overflow: hidden; text-overflow: ellipsis; \" colspan=\"1\"><div style=\"text-align: left;border-bottom: solid 2px #000; padding-bottom: 5px\">n_not_called</div></td><td style=\"white-space: nowrap; max-width: 500px; overflow: hidden; text-overflow: ellipsis; \" colspan=\"1\"><div style=\"text-align: left;border-bottom: solid 2px #000; padding-bottom: 5px\">n_filtered</div></td><td style=\"white-space: nowrap; max-width: 500px; overflow: hidden; text-overflow: ellipsis; \" colspan=\"1\"><div style=\"text-align: left;border-bottom: solid 2px #000; padding-bottom: 5px\">n_het</div></td><td style=\"white-space: nowrap; max-width: 500px; overflow: hidden; text-overflow: ellipsis; \" colspan=\"1\"><div style=\"text-align: left;border-bottom: solid 2px #000; padding-bottom: 5px\">n_non_ref</div></td><td style=\"white-space: nowrap; max-width: 500px; overflow: hidden; text-overflow: ellipsis; \" colspan=\"1\"><div style=\"text-align: left;border-bottom: solid 2px #000; padding-bottom: 5px\">het_freq_hwe</div></td><td style=\"white-space: nowrap; max-width: 500px; overflow: hidden; text-overflow: ellipsis; \" colspan=\"1\"><div style=\"text-align: left;border-bottom: solid 2px #000; padding-bottom: 5px\">p_value_hwe</div></td></tr><tr><td style=\"white-space: nowrap; max-width: 500px; overflow: hidden; text-overflow: ellipsis; text-align: left;\">locus&lt;GRCh37&gt;</td><td style=\"white-space: nowrap; max-width: 500px; overflow: hidden; text-overflow: ellipsis; text-align: left;\">array&lt;str&gt;</td><td style=\"white-space: nowrap; max-width: 500px; overflow: hidden; text-overflow: ellipsis; text-align: left;\">float64</td><td style=\"white-space: nowrap; max-width: 500px; overflow: hidden; text-overflow: ellipsis; text-align: left;\">float64</td><td style=\"white-space: nowrap; max-width: 500px; overflow: hidden; text-overflow: ellipsis; text-align: left;\">float64</td><td style=\"white-space: nowrap; max-width: 500px; overflow: hidden; text-overflow: ellipsis; text-align: left;\">float64</td><td style=\"white-space: nowrap; max-width: 500px; overflow: hidden; text-overflow: ellipsis; text-align: left;\">float64</td><td style=\"white-space: nowrap; max-width: 500px; overflow: hidden; text-overflow: ellipsis; text-align: left;\">float64</td><td style=\"white-space: nowrap; max-width: 500px; overflow: hidden; text-overflow: ellipsis; text-align: left;\">float64</td><td style=\"white-space: nowrap; max-width: 500px; overflow: hidden; text-overflow: ellipsis; text-align: left;\">float64</td><td style=\"white-space: nowrap; max-width: 500px; overflow: hidden; text-overflow: ellipsis; text-align: left;\">array&lt;int32&gt;</td><td style=\"white-space: nowrap; max-width: 500px; overflow: hidden; text-overflow: ellipsis; text-align: left;\">array&lt;float64&gt;</td><td style=\"white-space: nowrap; max-width: 500px; overflow: hidden; text-overflow: ellipsis; text-align: left;\">int32</td><td style=\"white-space: nowrap; max-width: 500px; overflow: hidden; text-overflow: ellipsis; text-align: left;\">array&lt;int32&gt;</td><td style=\"white-space: nowrap; max-width: 500px; overflow: hidden; text-overflow: ellipsis; text-align: left;\">float64</td><td style=\"white-space: nowrap; max-width: 500px; overflow: hidden; text-overflow: ellipsis; text-align: left;\">int64</td><td style=\"white-space: nowrap; max-width: 500px; overflow: hidden; text-overflow: ellipsis; text-align: left;\">int64</td><td style=\"white-space: nowrap; max-width: 500px; overflow: hidden; text-overflow: ellipsis; text-align: left;\">int64</td><td style=\"white-space: nowrap; max-width: 500px; overflow: hidden; text-overflow: ellipsis; text-align: left;\">int64</td><td style=\"white-space: nowrap; max-width: 500px; overflow: hidden; text-overflow: ellipsis; text-align: left;\">int64</td><td style=\"white-space: nowrap; max-width: 500px; overflow: hidden; text-overflow: ellipsis; text-align: left;\">float64</td><td style=\"white-space: nowrap; max-width: 500px; overflow: hidden; text-overflow: ellipsis; text-align: left;\">float64</td></tr>\n",
       "</thead><tbody><tr><td style=\"white-space: nowrap; max-width: 500px; overflow: hidden; text-overflow: ellipsis; \">1:904165</td><td style=\"white-space: nowrap; max-width: 500px; overflow: hidden; text-overflow: ellipsis; \">[&quot;G&quot;,&quot;A&quot;]</td><td style=\"white-space: nowrap; max-width: 500px; overflow: hidden; text-overflow: ellipsis; \">7.55e+00</td><td style=\"white-space: nowrap; max-width: 500px; overflow: hidden; text-overflow: ellipsis; \">3.79e+00</td><td style=\"white-space: nowrap; max-width: 500px; overflow: hidden; text-overflow: ellipsis; \">1.00e+00</td><td style=\"white-space: nowrap; max-width: 500px; overflow: hidden; text-overflow: ellipsis; \">2.10e+01</td><td style=\"white-space: nowrap; max-width: 500px; overflow: hidden; text-overflow: ellipsis; \">2.92e+01</td><td style=\"white-space: nowrap; max-width: 500px; overflow: hidden; text-overflow: ellipsis; \">2.32e+01</td><td style=\"white-space: nowrap; max-width: 500px; overflow: hidden; text-overflow: ellipsis; \">3.00e+00</td><td style=\"white-space: nowrap; max-width: 500px; overflow: hidden; text-overflow: ellipsis; \">9.90e+01</td><td style=\"white-space: nowrap; max-width: 500px; overflow: hidden; text-overflow: ellipsis; \">[442,56]</td><td style=\"white-space: nowrap; max-width: 500px; overflow: hidden; text-overflow: ellipsis; \">[8.88e-01,1.12e-01]</td><td style=\"white-space: nowrap; max-width: 500px; overflow: hidden; text-overflow: ellipsis; \">498</td><td style=\"white-space: nowrap; max-width: 500px; overflow: hidden; text-overflow: ellipsis; \">[202,9]</td><td style=\"white-space: nowrap; max-width: 500px; overflow: hidden; text-overflow: ellipsis; \">9.84e-01</td><td style=\"white-space: nowrap; max-width: 500px; overflow: hidden; text-overflow: ellipsis; \">249</td><td style=\"white-space: nowrap; max-width: 500px; overflow: hidden; text-overflow: ellipsis; \">0</td><td style=\"white-space: nowrap; max-width: 500px; overflow: hidden; text-overflow: ellipsis; \">4</td><td style=\"white-space: nowrap; max-width: 500px; overflow: hidden; text-overflow: ellipsis; \">38</td><td style=\"white-space: nowrap; max-width: 500px; overflow: hidden; text-overflow: ellipsis; \">47</td><td style=\"white-space: nowrap; max-width: 500px; overflow: hidden; text-overflow: ellipsis; \">2.00e-01</td><td style=\"white-space: nowrap; max-width: 500px; overflow: hidden; text-overflow: ellipsis; \">6.54e-04</td></tr>\n",
       "<tr><td style=\"white-space: nowrap; max-width: 500px; overflow: hidden; text-overflow: ellipsis; \">1:1707740</td><td style=\"white-space: nowrap; max-width: 500px; overflow: hidden; text-overflow: ellipsis; \">[&quot;T&quot;,&quot;G&quot;]</td><td style=\"white-space: nowrap; max-width: 500px; overflow: hidden; text-overflow: ellipsis; \">8.18e+00</td><td style=\"white-space: nowrap; max-width: 500px; overflow: hidden; text-overflow: ellipsis; \">4.20e+00</td><td style=\"white-space: nowrap; max-width: 500px; overflow: hidden; text-overflow: ellipsis; \">1.00e+00</td><td style=\"white-space: nowrap; max-width: 500px; overflow: hidden; text-overflow: ellipsis; \">2.60e+01</td><td style=\"white-space: nowrap; max-width: 500px; overflow: hidden; text-overflow: ellipsis; \">3.59e+01</td><td style=\"white-space: nowrap; max-width: 500px; overflow: hidden; text-overflow: ellipsis; \">2.66e+01</td><td style=\"white-space: nowrap; max-width: 500px; overflow: hidden; text-overflow: ellipsis; \">3.00e+00</td><td style=\"white-space: nowrap; max-width: 500px; overflow: hidden; text-overflow: ellipsis; \">9.90e+01</td><td style=\"white-space: nowrap; max-width: 500px; overflow: hidden; text-overflow: ellipsis; \">[411,87]</td><td style=\"white-space: nowrap; max-width: 500px; overflow: hidden; text-overflow: ellipsis; \">[8.25e-01,1.75e-01]</td><td style=\"white-space: nowrap; max-width: 500px; overflow: hidden; text-overflow: ellipsis; \">498</td><td style=\"white-space: nowrap; max-width: 500px; overflow: hidden; text-overflow: ellipsis; \">[174,12]</td><td style=\"white-space: nowrap; max-width: 500px; overflow: hidden; text-overflow: ellipsis; \">9.84e-01</td><td style=\"white-space: nowrap; max-width: 500px; overflow: hidden; text-overflow: ellipsis; \">249</td><td style=\"white-space: nowrap; max-width: 500px; overflow: hidden; text-overflow: ellipsis; \">0</td><td style=\"white-space: nowrap; max-width: 500px; overflow: hidden; text-overflow: ellipsis; \">4</td><td style=\"white-space: nowrap; max-width: 500px; overflow: hidden; text-overflow: ellipsis; \">63</td><td style=\"white-space: nowrap; max-width: 500px; overflow: hidden; text-overflow: ellipsis; \">75</td><td style=\"white-space: nowrap; max-width: 500px; overflow: hidden; text-overflow: ellipsis; \">2.89e-01</td><td style=\"white-space: nowrap; max-width: 500px; overflow: hidden; text-overflow: ellipsis; \">6.14e-02</td></tr>\n",
       "<tr><td style=\"white-space: nowrap; max-width: 500px; overflow: hidden; text-overflow: ellipsis; \">1:2284195</td><td style=\"white-space: nowrap; max-width: 500px; overflow: hidden; text-overflow: ellipsis; \">[&quot;T&quot;,&quot;C&quot;]</td><td style=\"white-space: nowrap; max-width: 500px; overflow: hidden; text-overflow: ellipsis; \">7.88e+00</td><td style=\"white-space: nowrap; max-width: 500px; overflow: hidden; text-overflow: ellipsis; \">4.29e+00</td><td style=\"white-space: nowrap; max-width: 500px; overflow: hidden; text-overflow: ellipsis; \">1.00e+00</td><td style=\"white-space: nowrap; max-width: 500px; overflow: hidden; text-overflow: ellipsis; \">2.20e+01</td><td style=\"white-space: nowrap; max-width: 500px; overflow: hidden; text-overflow: ellipsis; \">3.80e+01</td><td style=\"white-space: nowrap; max-width: 500px; overflow: hidden; text-overflow: ellipsis; \">3.00e+01</td><td style=\"white-space: nowrap; max-width: 500px; overflow: hidden; text-overflow: ellipsis; \">0.00e+00</td><td style=\"white-space: nowrap; max-width: 500px; overflow: hidden; text-overflow: ellipsis; \">9.90e+01</td><td style=\"white-space: nowrap; max-width: 500px; overflow: hidden; text-overflow: ellipsis; \">[330,138]</td><td style=\"white-space: nowrap; max-width: 500px; overflow: hidden; text-overflow: ellipsis; \">[7.05e-01,2.95e-01]</td><td style=\"white-space: nowrap; max-width: 500px; overflow: hidden; text-overflow: ellipsis; \">468</td><td style=\"white-space: nowrap; max-width: 500px; overflow: hidden; text-overflow: ellipsis; \">[126,30]</td><td style=\"white-space: nowrap; max-width: 500px; overflow: hidden; text-overflow: ellipsis; \">9.25e-01</td><td style=\"white-space: nowrap; max-width: 500px; overflow: hidden; text-overflow: ellipsis; \">234</td><td style=\"white-space: nowrap; max-width: 500px; overflow: hidden; text-overflow: ellipsis; \">0</td><td style=\"white-space: nowrap; max-width: 500px; overflow: hidden; text-overflow: ellipsis; \">19</td><td style=\"white-space: nowrap; max-width: 500px; overflow: hidden; text-overflow: ellipsis; \">78</td><td style=\"white-space: nowrap; max-width: 500px; overflow: hidden; text-overflow: ellipsis; \">108</td><td style=\"white-space: nowrap; max-width: 500px; overflow: hidden; text-overflow: ellipsis; \">4.17e-01</td><td style=\"white-space: nowrap; max-width: 500px; overflow: hidden; text-overflow: ellipsis; \">2.12e-03</td></tr>\n",
       "<tr><td style=\"white-space: nowrap; max-width: 500px; overflow: hidden; text-overflow: ellipsis; \">1:2779043</td><td style=\"white-space: nowrap; max-width: 500px; overflow: hidden; text-overflow: ellipsis; \">[&quot;T&quot;,&quot;C&quot;]</td><td style=\"white-space: nowrap; max-width: 500px; overflow: hidden; text-overflow: ellipsis; \">5.26e+00</td><td style=\"white-space: nowrap; max-width: 500px; overflow: hidden; text-overflow: ellipsis; \">2.82e+00</td><td style=\"white-space: nowrap; max-width: 500px; overflow: hidden; text-overflow: ellipsis; \">1.00e+00</td><td style=\"white-space: nowrap; max-width: 500px; overflow: hidden; text-overflow: ellipsis; \">1.50e+01</td><td style=\"white-space: nowrap; max-width: 500px; overflow: hidden; text-overflow: ellipsis; \">2.56e+01</td><td style=\"white-space: nowrap; max-width: 500px; overflow: hidden; text-overflow: ellipsis; \">2.31e+01</td><td style=\"white-space: nowrap; max-width: 500px; overflow: hidden; text-overflow: ellipsis; \">3.00e+00</td><td style=\"white-space: nowrap; max-width: 500px; overflow: hidden; text-overflow: ellipsis; \">9.90e+01</td><td style=\"white-space: nowrap; max-width: 500px; overflow: hidden; text-overflow: ellipsis; \">[116,346]</td><td style=\"white-space: nowrap; max-width: 500px; overflow: hidden; text-overflow: ellipsis; \">[2.51e-01,7.49e-01]</td><td style=\"white-space: nowrap; max-width: 500px; overflow: hidden; text-overflow: ellipsis; \">462</td><td style=\"white-space: nowrap; max-width: 500px; overflow: hidden; text-overflow: ellipsis; \">[24,139]</td><td style=\"white-space: nowrap; max-width: 500px; overflow: hidden; text-overflow: ellipsis; \">9.13e-01</td><td style=\"white-space: nowrap; max-width: 500px; overflow: hidden; text-overflow: ellipsis; \">231</td><td style=\"white-space: nowrap; max-width: 500px; overflow: hidden; text-overflow: ellipsis; \">0</td><td style=\"white-space: nowrap; max-width: 500px; overflow: hidden; text-overflow: ellipsis; \">22</td><td style=\"white-space: nowrap; max-width: 500px; overflow: hidden; text-overflow: ellipsis; \">68</td><td style=\"white-space: nowrap; max-width: 500px; overflow: hidden; text-overflow: ellipsis; \">207</td><td style=\"white-space: nowrap; max-width: 500px; overflow: hidden; text-overflow: ellipsis; \">3.77e-01</td><td style=\"white-space: nowrap; max-width: 500px; overflow: hidden; text-overflow: ellipsis; \">1.08e-03</td></tr>\n",
       "<tr><td style=\"white-space: nowrap; max-width: 500px; overflow: hidden; text-overflow: ellipsis; \">1:2944527</td><td style=\"white-space: nowrap; max-width: 500px; overflow: hidden; text-overflow: ellipsis; \">[&quot;G&quot;,&quot;A&quot;]</td><td style=\"white-space: nowrap; max-width: 500px; overflow: hidden; text-overflow: ellipsis; \">7.98e+00</td><td style=\"white-space: nowrap; max-width: 500px; overflow: hidden; text-overflow: ellipsis; \">4.79e+00</td><td style=\"white-space: nowrap; max-width: 500px; overflow: hidden; text-overflow: ellipsis; \">1.00e+00</td><td style=\"white-space: nowrap; max-width: 500px; overflow: hidden; text-overflow: ellipsis; \">3.10e+01</td><td style=\"white-space: nowrap; max-width: 500px; overflow: hidden; text-overflow: ellipsis; \">3.82e+01</td><td style=\"white-space: nowrap; max-width: 500px; overflow: hidden; text-overflow: ellipsis; \">3.09e+01</td><td style=\"white-space: nowrap; max-width: 500px; overflow: hidden; text-overflow: ellipsis; \">3.00e+00</td><td style=\"white-space: nowrap; max-width: 500px; overflow: hidden; text-overflow: ellipsis; \">9.90e+01</td><td style=\"white-space: nowrap; max-width: 500px; overflow: hidden; text-overflow: ellipsis; \">[379,91]</td><td style=\"white-space: nowrap; max-width: 500px; overflow: hidden; text-overflow: ellipsis; \">[8.06e-01,1.94e-01]</td><td style=\"white-space: nowrap; max-width: 500px; overflow: hidden; text-overflow: ellipsis; \">470</td><td style=\"white-space: nowrap; max-width: 500px; overflow: hidden; text-overflow: ellipsis; \">[154,10]</td><td style=\"white-space: nowrap; max-width: 500px; overflow: hidden; text-overflow: ellipsis; \">9.29e-01</td><td style=\"white-space: nowrap; max-width: 500px; overflow: hidden; text-overflow: ellipsis; \">235</td><td style=\"white-space: nowrap; max-width: 500px; overflow: hidden; text-overflow: ellipsis; \">0</td><td style=\"white-space: nowrap; max-width: 500px; overflow: hidden; text-overflow: ellipsis; \">18</td><td style=\"white-space: nowrap; max-width: 500px; overflow: hidden; text-overflow: ellipsis; \">71</td><td style=\"white-space: nowrap; max-width: 500px; overflow: hidden; text-overflow: ellipsis; \">81</td><td style=\"white-space: nowrap; max-width: 500px; overflow: hidden; text-overflow: ellipsis; \">3.13e-01</td><td style=\"white-space: nowrap; max-width: 500px; overflow: hidden; text-overflow: ellipsis; \">6.05e-01</td></tr>\n",
       "<tr><td style=\"white-space: nowrap; max-width: 500px; overflow: hidden; text-overflow: ellipsis; \">1:3761547</td><td style=\"white-space: nowrap; max-width: 500px; overflow: hidden; text-overflow: ellipsis; \">[&quot;C&quot;,&quot;A&quot;]</td><td style=\"white-space: nowrap; max-width: 500px; overflow: hidden; text-overflow: ellipsis; \">6.98e+00</td><td style=\"white-space: nowrap; max-width: 500px; overflow: hidden; text-overflow: ellipsis; \">3.59e+00</td><td style=\"white-space: nowrap; max-width: 500px; overflow: hidden; text-overflow: ellipsis; \">1.00e+00</td><td style=\"white-space: nowrap; max-width: 500px; overflow: hidden; text-overflow: ellipsis; \">2.40e+01</td><td style=\"white-space: nowrap; max-width: 500px; overflow: hidden; text-overflow: ellipsis; \">2.84e+01</td><td style=\"white-space: nowrap; max-width: 500px; overflow: hidden; text-overflow: ellipsis; \">1.65e+01</td><td style=\"white-space: nowrap; max-width: 500px; overflow: hidden; text-overflow: ellipsis; \">3.00e+00</td><td style=\"white-space: nowrap; max-width: 500px; overflow: hidden; text-overflow: ellipsis; \">9.90e+01</td><td style=\"white-space: nowrap; max-width: 500px; overflow: hidden; text-overflow: ellipsis; \">[498,6]</td><td style=\"white-space: nowrap; max-width: 500px; overflow: hidden; text-overflow: ellipsis; \">[9.88e-01,1.19e-02]</td><td style=\"white-space: nowrap; max-width: 500px; overflow: hidden; text-overflow: ellipsis; \">504</td><td style=\"white-space: nowrap; max-width: 500px; overflow: hidden; text-overflow: ellipsis; \">[246,0]</td><td style=\"white-space: nowrap; max-width: 500px; overflow: hidden; text-overflow: ellipsis; \">9.96e-01</td><td style=\"white-space: nowrap; max-width: 500px; overflow: hidden; text-overflow: ellipsis; \">252</td><td style=\"white-space: nowrap; max-width: 500px; overflow: hidden; text-overflow: ellipsis; \">0</td><td style=\"white-space: nowrap; max-width: 500px; overflow: hidden; text-overflow: ellipsis; \">1</td><td style=\"white-space: nowrap; max-width: 500px; overflow: hidden; text-overflow: ellipsis; \">6</td><td style=\"white-space: nowrap; max-width: 500px; overflow: hidden; text-overflow: ellipsis; \">6</td><td style=\"white-space: nowrap; max-width: 500px; overflow: hidden; text-overflow: ellipsis; \">2.36e-02</td><td style=\"white-space: nowrap; max-width: 500px; overflow: hidden; text-overflow: ellipsis; \">5.15e-01</td></tr>\n",
       "<tr><td style=\"white-space: nowrap; max-width: 500px; overflow: hidden; text-overflow: ellipsis; \">1:3803755</td><td style=\"white-space: nowrap; max-width: 500px; overflow: hidden; text-overflow: ellipsis; \">[&quot;T&quot;,&quot;C&quot;]</td><td style=\"white-space: nowrap; max-width: 500px; overflow: hidden; text-overflow: ellipsis; \">7.49e+00</td><td style=\"white-space: nowrap; max-width: 500px; overflow: hidden; text-overflow: ellipsis; \">3.48e+00</td><td style=\"white-space: nowrap; max-width: 500px; overflow: hidden; text-overflow: ellipsis; \">1.00e+00</td><td style=\"white-space: nowrap; max-width: 500px; overflow: hidden; text-overflow: ellipsis; \">2.20e+01</td><td style=\"white-space: nowrap; max-width: 500px; overflow: hidden; text-overflow: ellipsis; \">3.81e+01</td><td style=\"white-space: nowrap; max-width: 500px; overflow: hidden; text-overflow: ellipsis; \">2.74e+01</td><td style=\"white-space: nowrap; max-width: 500px; overflow: hidden; text-overflow: ellipsis; \">3.00e+00</td><td style=\"white-space: nowrap; max-width: 500px; overflow: hidden; text-overflow: ellipsis; \">9.90e+01</td><td style=\"white-space: nowrap; max-width: 500px; overflow: hidden; text-overflow: ellipsis; \">[139,345]</td><td style=\"white-space: nowrap; max-width: 500px; overflow: hidden; text-overflow: ellipsis; \">[2.87e-01,7.13e-01]</td><td style=\"white-space: nowrap; max-width: 500px; overflow: hidden; text-overflow: ellipsis; \">484</td><td style=\"white-space: nowrap; max-width: 500px; overflow: hidden; text-overflow: ellipsis; \">[32,135]</td><td style=\"white-space: nowrap; max-width: 500px; overflow: hidden; text-overflow: ellipsis; \">9.57e-01</td><td style=\"white-space: nowrap; max-width: 500px; overflow: hidden; text-overflow: ellipsis; \">242</td><td style=\"white-space: nowrap; max-width: 500px; overflow: hidden; text-overflow: ellipsis; \">0</td><td style=\"white-space: nowrap; max-width: 500px; overflow: hidden; text-overflow: ellipsis; \">11</td><td style=\"white-space: nowrap; max-width: 500px; overflow: hidden; text-overflow: ellipsis; \">75</td><td style=\"white-space: nowrap; max-width: 500px; overflow: hidden; text-overflow: ellipsis; \">210</td><td style=\"white-space: nowrap; max-width: 500px; overflow: hidden; text-overflow: ellipsis; \">4.10e-01</td><td style=\"white-space: nowrap; max-width: 500px; overflow: hidden; text-overflow: ellipsis; \">1.93e-04</td></tr>\n",
       "<tr><td style=\"white-space: nowrap; max-width: 500px; overflow: hidden; text-overflow: ellipsis; \">1:4121584</td><td style=\"white-space: nowrap; max-width: 500px; overflow: hidden; text-overflow: ellipsis; \">[&quot;A&quot;,&quot;G&quot;]</td><td style=\"white-space: nowrap; max-width: 500px; overflow: hidden; text-overflow: ellipsis; \">7.00e+00</td><td style=\"white-space: nowrap; max-width: 500px; overflow: hidden; text-overflow: ellipsis; \">4.12e+00</td><td style=\"white-space: nowrap; max-width: 500px; overflow: hidden; text-overflow: ellipsis; \">1.00e+00</td><td style=\"white-space: nowrap; max-width: 500px; overflow: hidden; text-overflow: ellipsis; \">2.00e+01</td><td style=\"white-space: nowrap; max-width: 500px; overflow: hidden; text-overflow: ellipsis; \">3.59e+01</td><td style=\"white-space: nowrap; max-width: 500px; overflow: hidden; text-overflow: ellipsis; \">2.80e+01</td><td style=\"white-space: nowrap; max-width: 500px; overflow: hidden; text-overflow: ellipsis; \">3.00e+00</td><td style=\"white-space: nowrap; max-width: 500px; overflow: hidden; text-overflow: ellipsis; \">9.90e+01</td><td style=\"white-space: nowrap; max-width: 500px; overflow: hidden; text-overflow: ellipsis; \">[326,150]</td><td style=\"white-space: nowrap; max-width: 500px; overflow: hidden; text-overflow: ellipsis; \">[6.85e-01,3.15e-01]</td><td style=\"white-space: nowrap; max-width: 500px; overflow: hidden; text-overflow: ellipsis; \">476</td><td style=\"white-space: nowrap; max-width: 500px; overflow: hidden; text-overflow: ellipsis; \">[129,41]</td><td style=\"white-space: nowrap; max-width: 500px; overflow: hidden; text-overflow: ellipsis; \">9.41e-01</td><td style=\"white-space: nowrap; max-width: 500px; overflow: hidden; text-overflow: ellipsis; \">238</td><td style=\"white-space: nowrap; max-width: 500px; overflow: hidden; text-overflow: ellipsis; \">0</td><td style=\"white-space: nowrap; max-width: 500px; overflow: hidden; text-overflow: ellipsis; \">15</td><td style=\"white-space: nowrap; max-width: 500px; overflow: hidden; text-overflow: ellipsis; \">68</td><td style=\"white-space: nowrap; max-width: 500px; overflow: hidden; text-overflow: ellipsis; \">109</td><td style=\"white-space: nowrap; max-width: 500px; overflow: hidden; text-overflow: ellipsis; \">4.33e-01</td><td style=\"white-space: nowrap; max-width: 500px; overflow: hidden; text-overflow: ellipsis; \">2.93e-07</td></tr>\n",
       "<tr><td style=\"white-space: nowrap; max-width: 500px; overflow: hidden; text-overflow: ellipsis; \">1:4170048</td><td style=\"white-space: nowrap; max-width: 500px; overflow: hidden; text-overflow: ellipsis; \">[&quot;C&quot;,&quot;T&quot;]</td><td style=\"white-space: nowrap; max-width: 500px; overflow: hidden; text-overflow: ellipsis; \">6.90e+00</td><td style=\"white-space: nowrap; max-width: 500px; overflow: hidden; text-overflow: ellipsis; \">4.28e+00</td><td style=\"white-space: nowrap; max-width: 500px; overflow: hidden; text-overflow: ellipsis; \">1.00e+00</td><td style=\"white-space: nowrap; max-width: 500px; overflow: hidden; text-overflow: ellipsis; \">3.00e+01</td><td style=\"white-space: nowrap; max-width: 500px; overflow: hidden; text-overflow: ellipsis; \">3.40e+01</td><td style=\"white-space: nowrap; max-width: 500px; overflow: hidden; text-overflow: ellipsis; \">2.82e+01</td><td style=\"white-space: nowrap; max-width: 500px; overflow: hidden; text-overflow: ellipsis; \">2.00e+00</td><td style=\"white-space: nowrap; max-width: 500px; overflow: hidden; text-overflow: ellipsis; \">9.90e+01</td><td style=\"white-space: nowrap; max-width: 500px; overflow: hidden; text-overflow: ellipsis; \">[370,112]</td><td style=\"white-space: nowrap; max-width: 500px; overflow: hidden; text-overflow: ellipsis; \">[7.68e-01,2.32e-01]</td><td style=\"white-space: nowrap; max-width: 500px; overflow: hidden; text-overflow: ellipsis; \">482</td><td style=\"white-space: nowrap; max-width: 500px; overflow: hidden; text-overflow: ellipsis; \">[147,18]</td><td style=\"white-space: nowrap; max-width: 500px; overflow: hidden; text-overflow: ellipsis; \">9.53e-01</td><td style=\"white-space: nowrap; max-width: 500px; overflow: hidden; text-overflow: ellipsis; \">241</td><td style=\"white-space: nowrap; max-width: 500px; overflow: hidden; text-overflow: ellipsis; \">0</td><td style=\"white-space: nowrap; max-width: 500px; overflow: hidden; text-overflow: ellipsis; \">12</td><td style=\"white-space: nowrap; max-width: 500px; overflow: hidden; text-overflow: ellipsis; \">76</td><td style=\"white-space: nowrap; max-width: 500px; overflow: hidden; text-overflow: ellipsis; \">94</td><td style=\"white-space: nowrap; max-width: 500px; overflow: hidden; text-overflow: ellipsis; \">3.57e-01</td><td style=\"white-space: nowrap; max-width: 500px; overflow: hidden; text-overflow: ellipsis; \">5.87e-02</td></tr>\n",
       "<tr><td style=\"white-space: nowrap; max-width: 500px; overflow: hidden; text-overflow: ellipsis; \">1:4180842</td><td style=\"white-space: nowrap; max-width: 500px; overflow: hidden; text-overflow: ellipsis; \">[&quot;C&quot;,&quot;T&quot;]</td><td style=\"white-space: nowrap; max-width: 500px; overflow: hidden; text-overflow: ellipsis; \">6.78e+00</td><td style=\"white-space: nowrap; max-width: 500px; overflow: hidden; text-overflow: ellipsis; \">3.64e+00</td><td style=\"white-space: nowrap; max-width: 500px; overflow: hidden; text-overflow: ellipsis; \">1.00e+00</td><td style=\"white-space: nowrap; max-width: 500px; overflow: hidden; text-overflow: ellipsis; \">2.40e+01</td><td style=\"white-space: nowrap; max-width: 500px; overflow: hidden; text-overflow: ellipsis; \">3.56e+01</td><td style=\"white-space: nowrap; max-width: 500px; overflow: hidden; text-overflow: ellipsis; \">3.02e+01</td><td style=\"white-space: nowrap; max-width: 500px; overflow: hidden; text-overflow: ellipsis; \">2.00e+00</td><td style=\"white-space: nowrap; max-width: 500px; overflow: hidden; text-overflow: ellipsis; \">9.90e+01</td><td style=\"white-space: nowrap; max-width: 500px; overflow: hidden; text-overflow: ellipsis; \">[353,129]</td><td style=\"white-space: nowrap; max-width: 500px; overflow: hidden; text-overflow: ellipsis; \">[7.32e-01,2.68e-01]</td><td style=\"white-space: nowrap; max-width: 500px; overflow: hidden; text-overflow: ellipsis; \">482</td><td style=\"white-space: nowrap; max-width: 500px; overflow: hidden; text-overflow: ellipsis; \">[136,24]</td><td style=\"white-space: nowrap; max-width: 500px; overflow: hidden; text-overflow: ellipsis; \">9.53e-01</td><td style=\"white-space: nowrap; max-width: 500px; overflow: hidden; text-overflow: ellipsis; \">241</td><td style=\"white-space: nowrap; max-width: 500px; overflow: hidden; text-overflow: ellipsis; \">0</td><td style=\"white-space: nowrap; max-width: 500px; overflow: hidden; text-overflow: ellipsis; \">12</td><td style=\"white-space: nowrap; max-width: 500px; overflow: hidden; text-overflow: ellipsis; \">81</td><td style=\"white-space: nowrap; max-width: 500px; overflow: hidden; text-overflow: ellipsis; \">105</td><td style=\"white-space: nowrap; max-width: 500px; overflow: hidden; text-overflow: ellipsis; \">3.93e-01</td><td style=\"white-space: nowrap; max-width: 500px; overflow: hidden; text-overflow: ellipsis; \">2.64e-02</td></tr>\n",
       "</tbody></table><p style=\"background: #fdd; padding: 0.4em;\">showing top 10 rows</p>\n"
      ],
      "text/plain": [
       "+---------------+------------+--------------------------+\n",
       "| locus         | alleles    | variant_qc.dp_stats.mean |\n",
       "+---------------+------------+--------------------------+\n",
       "| locus<GRCh37> | array<str> |                  float64 |\n",
       "+---------------+------------+--------------------------+\n",
       "| 1:904165      | [\"G\",\"A\"]  |                 7.55e+00 |\n",
       "| 1:1707740     | [\"T\",\"G\"]  |                 8.18e+00 |\n",
       "| 1:2284195     | [\"T\",\"C\"]  |                 7.88e+00 |\n",
       "| 1:2779043     | [\"T\",\"C\"]  |                 5.26e+00 |\n",
       "| 1:2944527     | [\"G\",\"A\"]  |                 7.98e+00 |\n",
       "| 1:3761547     | [\"C\",\"A\"]  |                 6.98e+00 |\n",
       "| 1:3803755     | [\"T\",\"C\"]  |                 7.49e+00 |\n",
       "| 1:4121584     | [\"A\",\"G\"]  |                 7.00e+00 |\n",
       "| 1:4170048     | [\"C\",\"T\"]  |                 6.90e+00 |\n",
       "| 1:4180842     | [\"C\",\"T\"]  |                 6.78e+00 |\n",
       "+---------------+------------+--------------------------+\n",
       "\n",
       "+---------------------------+-------------------------+\n",
       "| variant_qc.dp_stats.stdev | variant_qc.dp_stats.min |\n",
       "+---------------------------+-------------------------+\n",
       "|                   float64 |                 float64 |\n",
       "+---------------------------+-------------------------+\n",
       "|                  3.79e+00 |                1.00e+00 |\n",
       "|                  4.20e+00 |                1.00e+00 |\n",
       "|                  4.29e+00 |                1.00e+00 |\n",
       "|                  2.82e+00 |                1.00e+00 |\n",
       "|                  4.79e+00 |                1.00e+00 |\n",
       "|                  3.59e+00 |                1.00e+00 |\n",
       "|                  3.48e+00 |                1.00e+00 |\n",
       "|                  4.12e+00 |                1.00e+00 |\n",
       "|                  4.28e+00 |                1.00e+00 |\n",
       "|                  3.64e+00 |                1.00e+00 |\n",
       "+---------------------------+-------------------------+\n",
       "\n",
       "+-------------------------+--------------------------+\n",
       "| variant_qc.dp_stats.max | variant_qc.gq_stats.mean |\n",
       "+-------------------------+--------------------------+\n",
       "|                 float64 |                  float64 |\n",
       "+-------------------------+--------------------------+\n",
       "|                2.10e+01 |                 2.92e+01 |\n",
       "|                2.60e+01 |                 3.59e+01 |\n",
       "|                2.20e+01 |                 3.80e+01 |\n",
       "|                1.50e+01 |                 2.56e+01 |\n",
       "|                3.10e+01 |                 3.82e+01 |\n",
       "|                2.40e+01 |                 2.84e+01 |\n",
       "|                2.20e+01 |                 3.81e+01 |\n",
       "|                2.00e+01 |                 3.59e+01 |\n",
       "|                3.00e+01 |                 3.40e+01 |\n",
       "|                2.40e+01 |                 3.56e+01 |\n",
       "+-------------------------+--------------------------+\n",
       "\n",
       "+---------------------------+-------------------------+\n",
       "| variant_qc.gq_stats.stdev | variant_qc.gq_stats.min |\n",
       "+---------------------------+-------------------------+\n",
       "|                   float64 |                 float64 |\n",
       "+---------------------------+-------------------------+\n",
       "|                  2.32e+01 |                3.00e+00 |\n",
       "|                  2.66e+01 |                3.00e+00 |\n",
       "|                  3.00e+01 |                0.00e+00 |\n",
       "|                  2.31e+01 |                3.00e+00 |\n",
       "|                  3.09e+01 |                3.00e+00 |\n",
       "|                  1.65e+01 |                3.00e+00 |\n",
       "|                  2.74e+01 |                3.00e+00 |\n",
       "|                  2.80e+01 |                3.00e+00 |\n",
       "|                  2.82e+01 |                2.00e+00 |\n",
       "|                  3.02e+01 |                2.00e+00 |\n",
       "+---------------------------+-------------------------+\n",
       "\n",
       "+-------------------------+---------------+---------------------+\n",
       "| variant_qc.gq_stats.max | variant_qc.AC | variant_qc.AF       |\n",
       "+-------------------------+---------------+---------------------+\n",
       "|                 float64 | array<int32>  | array<float64>      |\n",
       "+-------------------------+---------------+---------------------+\n",
       "|                9.90e+01 | [442,56]      | [8.88e-01,1.12e-01] |\n",
       "|                9.90e+01 | [411,87]      | [8.25e-01,1.75e-01] |\n",
       "|                9.90e+01 | [330,138]     | [7.05e-01,2.95e-01] |\n",
       "|                9.90e+01 | [116,346]     | [2.51e-01,7.49e-01] |\n",
       "|                9.90e+01 | [379,91]      | [8.06e-01,1.94e-01] |\n",
       "|                9.90e+01 | [498,6]       | [9.88e-01,1.19e-02] |\n",
       "|                9.90e+01 | [139,345]     | [2.87e-01,7.13e-01] |\n",
       "|                9.90e+01 | [326,150]     | [6.85e-01,3.15e-01] |\n",
       "|                9.90e+01 | [370,112]     | [7.68e-01,2.32e-01] |\n",
       "|                9.90e+01 | [353,129]     | [7.32e-01,2.68e-01] |\n",
       "+-------------------------+---------------+---------------------+\n",
       "\n",
       "+---------------+-----------------------------+----------------------+\n",
       "| variant_qc.AN | variant_qc.homozygote_count | variant_qc.call_rate |\n",
       "+---------------+-----------------------------+----------------------+\n",
       "|         int32 | array<int32>                |              float64 |\n",
       "+---------------+-----------------------------+----------------------+\n",
       "|           498 | [202,9]                     |             9.84e-01 |\n",
       "|           498 | [174,12]                    |             9.84e-01 |\n",
       "|           468 | [126,30]                    |             9.25e-01 |\n",
       "|           462 | [24,139]                    |             9.13e-01 |\n",
       "|           470 | [154,10]                    |             9.29e-01 |\n",
       "|           504 | [246,0]                     |             9.96e-01 |\n",
       "|           484 | [32,135]                    |             9.57e-01 |\n",
       "|           476 | [129,41]                    |             9.41e-01 |\n",
       "|           482 | [147,18]                    |             9.53e-01 |\n",
       "|           482 | [136,24]                    |             9.53e-01 |\n",
       "+---------------+-----------------------------+----------------------+\n",
       "\n",
       "+---------------------+-------------------------+-----------------------+\n",
       "| variant_qc.n_called | variant_qc.n_not_called | variant_qc.n_filtered |\n",
       "+---------------------+-------------------------+-----------------------+\n",
       "|               int64 |                   int64 |                 int64 |\n",
       "+---------------------+-------------------------+-----------------------+\n",
       "|                 249 |                       0 |                     4 |\n",
       "|                 249 |                       0 |                     4 |\n",
       "|                 234 |                       0 |                    19 |\n",
       "|                 231 |                       0 |                    22 |\n",
       "|                 235 |                       0 |                    18 |\n",
       "|                 252 |                       0 |                     1 |\n",
       "|                 242 |                       0 |                    11 |\n",
       "|                 238 |                       0 |                    15 |\n",
       "|                 241 |                       0 |                    12 |\n",
       "|                 241 |                       0 |                    12 |\n",
       "+---------------------+-------------------------+-----------------------+\n",
       "\n",
       "+------------------+----------------------+-------------------------+\n",
       "| variant_qc.n_het | variant_qc.n_non_ref | variant_qc.het_freq_hwe |\n",
       "+------------------+----------------------+-------------------------+\n",
       "|            int64 |                int64 |                 float64 |\n",
       "+------------------+----------------------+-------------------------+\n",
       "|               38 |                   47 |                2.00e-01 |\n",
       "|               63 |                   75 |                2.89e-01 |\n",
       "|               78 |                  108 |                4.17e-01 |\n",
       "|               68 |                  207 |                3.77e-01 |\n",
       "|               71 |                   81 |                3.13e-01 |\n",
       "|                6 |                    6 |                2.36e-02 |\n",
       "|               75 |                  210 |                4.10e-01 |\n",
       "|               68 |                  109 |                4.33e-01 |\n",
       "|               76 |                   94 |                3.57e-01 |\n",
       "|               81 |                  105 |                3.93e-01 |\n",
       "+------------------+----------------------+-------------------------+\n",
       "\n",
       "+------------------------+\n",
       "| variant_qc.p_value_hwe |\n",
       "+------------------------+\n",
       "|                float64 |\n",
       "+------------------------+\n",
       "|               6.54e-04 |\n",
       "|               6.14e-02 |\n",
       "|               2.12e-03 |\n",
       "|               1.08e-03 |\n",
       "|               6.05e-01 |\n",
       "|               5.15e-01 |\n",
       "|               1.93e-04 |\n",
       "|               2.93e-07 |\n",
       "|               5.87e-02 |\n",
       "|               2.64e-02 |\n",
       "+------------------------+\n",
       "showing top 10 rows"
      ]
     },
     "metadata": {},
     "output_type": "display_data"
    }
   ],
   "source": [
    "mt.variant_qc.show()"
   ]
  },
  {
   "cell_type": "markdown",
   "id": "b77c971b",
   "metadata": {},
   "source": [
    "AF: Calculated allele frequency, one element per allele, including the reference. Sums to one. Equivalent to AC / AN.\n",
    "\n",
    "AC: Calculated allele count, one element per allele, including the reference. Sums to AN.\n",
    "\n",
    "AN: Total number of called alleles.\n",
    "\n",
    "homozygote_count: Number of homozygotes per allele. One element per allele, including the reference.\n",
    "\n",
    "n_het: Number of heterozygous samples.\n",
    "\n",
    "n_non_ref: Number of samples with at least one called non-reference allele.\n",
    "\n",
    "het_freq_hwe: Expected frequency of heterozygous samples under Hardy-Weinberg equilibrium.\n",
    "\n",
    "This will be compared with our observed value.\n",
    "\n",
    "p_value_hwe: p-value from test of Hardy-Weinberg equilibrium. \n",
    "\n",
    "p < 0.05. It is considered the statistical deviation between expected and observed is significant. (The SNP is significant)"
   ]
  },
  {
   "cell_type": "markdown",
   "id": "3d18510b",
   "metadata": {},
   "source": [
    "*The Difference Between Primary Data (in INFO) and Samples in Quality Check - Sample Calling*\n",
    "\n",
    "From GATK:\n",
    "    \n",
    "    Data pre-processing for variant discovery. From the provided raw unmapped read, map each individual read pair to the reference genome. Mark duplicates to dentify read pairs that are likely to have originated from duplicates of the same original DNA fragments through some artifactual processes. Base Quality Score recalibration performed per-sample.\n",
    "    \n",
    "    -> Now we have 'analysis ready' reads! Variant Calling is performed."
   ]
  },
  {
   "cell_type": "markdown",
   "id": "28390dff",
   "metadata": {},
   "source": [
    "Plotting out metrices:"
   ]
  },
  {
   "cell_type": "code",
   "execution_count": 102,
   "id": "1e3dbf01",
   "metadata": {},
   "outputs": [
    {
     "name": "stderr",
     "output_type": "stream",
     "text": [
      "[Stage 102:>                                                        (0 + 1) / 1]\r"
     ]
    }
   ],
   "source": [
    "p = hl.plot.histogram(mt.variant_qc.call_rate, range=(.88,1), legend='Call Rate')"
   ]
  },
  {
   "cell_type": "code",
   "execution_count": 103,
   "id": "a759c696",
   "metadata": {},
   "outputs": [
    {
     "data": {
      "text/html": [
       "\n",
       "\n",
       "\n",
       "\n",
       "\n",
       "\n",
       "  <div class=\"bk-root\" id=\"8660c5f7-3cd7-4de8-9db4-4f0c1a528536\" data-root-id=\"2142\"></div>\n"
      ]
     },
     "metadata": {},
     "output_type": "display_data"
    },
    {
     "data": {
      "application/javascript": [
       "(function(root) {\n",
       "  function embed_document(root) {\n",
       "    \n",
       "  var docs_json = {\"2250a5b6-33c4-45e8-a296-dfe195b8a024\":{\"roots\":{\"references\":[{\"attributes\":{\"background_fill_color\":{\"value\":\"#EEEEEE\"},\"below\":[{\"id\":\"2152\",\"type\":\"LinearAxis\"}],\"center\":[{\"id\":\"2156\",\"type\":\"Grid\"},{\"id\":\"2161\",\"type\":\"Grid\"},{\"id\":\"2186\",\"type\":\"Legend\"}],\"left\":[{\"id\":\"2157\",\"type\":\"LinearAxis\"}],\"renderers\":[{\"id\":\"2178\",\"type\":\"GlyphRenderer\"},{\"id\":\"2191\",\"type\":\"GlyphRenderer\"}],\"title\":null,\"toolbar\":{\"id\":\"2168\",\"type\":\"Toolbar\"},\"x_range\":{\"id\":\"2144\",\"type\":\"Range1d\"},\"x_scale\":{\"id\":\"2148\",\"type\":\"LinearScale\"},\"y_range\":{\"id\":\"2146\",\"type\":\"DataRange1d\"},\"y_scale\":{\"id\":\"2150\",\"type\":\"LinearScale\"}},\"id\":\"2142\",\"subtype\":\"Figure\",\"type\":\"Plot\"},{\"attributes\":{},\"id\":\"2166\",\"type\":\"ResetTool\"},{\"attributes\":{\"callback\":null,\"data\":{},\"selected\":{\"id\":\"2281\",\"type\":\"Selection\"},\"selection_policy\":{\"id\":\"2280\",\"type\":\"UnionRenderers\"}},\"id\":\"2188\",\"type\":\"ColumnDataSource\"},{\"attributes\":{},\"id\":\"2182\",\"type\":\"BasicTickFormatter\"},{\"attributes\":{},\"id\":\"2158\",\"type\":\"BasicTicker\"},{\"attributes\":{},\"id\":\"2281\",\"type\":\"Selection\"},{\"attributes\":{\"active_drag\":\"auto\",\"active_inspect\":\"auto\",\"active_multi\":null,\"active_scroll\":\"auto\",\"active_tap\":\"auto\",\"tools\":[{\"id\":\"2162\",\"type\":\"PanTool\"},{\"id\":\"2163\",\"type\":\"WheelZoomTool\"},{\"id\":\"2164\",\"type\":\"BoxZoomTool\"},{\"id\":\"2165\",\"type\":\"SaveTool\"},{\"id\":\"2166\",\"type\":\"ResetTool\"},{\"id\":\"2167\",\"type\":\"HelpTool\"}]},\"id\":\"2168\",\"type\":\"Toolbar\"},{\"attributes\":{},\"id\":\"2280\",\"type\":\"UnionRenderers\"},{\"attributes\":{},\"id\":\"2163\",\"type\":\"WheelZoomTool\"},{\"attributes\":{\"bottom\":{\"value\":0},\"fill_alpha\":{\"value\":0.1},\"fill_color\":{\"value\":\"#1f77b4\"},\"left\":{\"value\":0.8776},\"line_alpha\":{\"value\":0.1},\"line_color\":{\"value\":\"#1f77b4\"},\"right\":{\"value\":0.88},\"top\":{\"value\":151}},\"id\":\"2190\",\"type\":\"Quad\"},{\"attributes\":{\"label\":{\"value\":\"Call Rate\"},\"renderers\":[{\"id\":\"2178\",\"type\":\"GlyphRenderer\"}]},\"id\":\"2187\",\"type\":\"LegendItem\"},{\"attributes\":{\"axis_label\":\"Call Rate\",\"formatter\":{\"id\":\"2182\",\"type\":\"BasicTickFormatter\"},\"ticker\":{\"id\":\"2153\",\"type\":\"BasicTicker\"}},\"id\":\"2152\",\"type\":\"LinearAxis\"},{\"attributes\":{},\"id\":\"2148\",\"type\":\"LinearScale\"},{\"attributes\":{},\"id\":\"2200\",\"type\":\"Selection\"},{\"attributes\":{},\"id\":\"2165\",\"type\":\"SaveTool\"},{\"attributes\":{\"bottom\":{\"value\":0},\"fill_color\":{\"value\":\"#1f77b4\"},\"left\":{\"field\":\"left\"},\"right\":{\"field\":\"right\"},\"top\":{\"field\":\"top\"}},\"id\":\"2176\",\"type\":\"Quad\"},{\"attributes\":{\"callback\":null,\"end\":1.006,\"start\":0.874},\"id\":\"2144\",\"type\":\"Range1d\"},{\"attributes\":{},\"id\":\"2167\",\"type\":\"HelpTool\"},{\"attributes\":{},\"id\":\"2184\",\"type\":\"BasicTickFormatter\"},{\"attributes\":{\"items\":[{\"id\":\"2187\",\"type\":\"LegendItem\"},{\"id\":\"2201\",\"type\":\"LegendItem\"}]},\"id\":\"2186\",\"type\":\"Legend\"},{\"attributes\":{\"bottom\":{\"value\":0},\"fill_alpha\":{\"value\":0.1},\"fill_color\":{\"value\":\"#1f77b4\"},\"left\":{\"field\":\"left\"},\"line_alpha\":{\"value\":0.1},\"line_color\":{\"value\":\"#1f77b4\"},\"right\":{\"field\":\"right\"},\"top\":{\"field\":\"top\"}},\"id\":\"2177\",\"type\":\"Quad\"},{\"attributes\":{},\"id\":\"2199\",\"type\":\"UnionRenderers\"},{\"attributes\":{\"data_source\":{\"id\":\"2188\",\"type\":\"ColumnDataSource\"},\"glyph\":{\"id\":\"2189\",\"type\":\"Quad\"},\"hover_glyph\":null,\"muted_glyph\":null,\"nonselection_glyph\":{\"id\":\"2190\",\"type\":\"Quad\"},\"selection_glyph\":null,\"view\":{\"id\":\"2192\",\"type\":\"CDSView\"}},\"id\":\"2191\",\"type\":\"GlyphRenderer\"},{\"attributes\":{\"callback\":null},\"id\":\"2146\",\"type\":\"DataRange1d\"},{\"attributes\":{\"callback\":null,\"data\":{\"left\":[0.88,0.8824,0.8848,0.8872,0.8896000000000001,0.892,0.8944,0.8968,0.8992,0.9016,0.904,0.9064,0.9088,0.9112,0.9136,0.916,0.9184,0.9208,0.9232,0.9256,0.928,0.9304,0.9328,0.9352,0.9376,0.94,0.9424,0.9448,0.9472,0.9496,0.952,0.9544,0.9568,0.9592,0.9616,0.964,0.9664,0.9688,0.9712,0.9736,0.976,0.9783999999999999,0.9808,0.9832,0.9856,0.988,0.9904,0.9928,0.9952,0.9976],\"right\":[0.8824,0.8848,0.8872,0.8896000000000001,0.892,0.8944,0.8968,0.8992,0.9016,0.904,0.9064,0.9088,0.9112,0.9136,0.916,0.9184,0.9208,0.9232,0.9256,0.928,0.9304,0.9328,0.9352,0.9376,0.94,0.9424,0.9448,0.9472,0.9496,0.952,0.9544,0.9568,0.9592,0.9616,0.964,0.9664,0.9688,0.9712,0.9736,0.976,0.9783999999999999,0.9808,0.9832,0.9856,0.988,0.9904,0.9928,0.9952,0.9976,1.0],\"top\":[7,0,16,13,0,24,0,32,36,0,45,0,70,91,0,140,0,172,202,0,305,0,364,470,0,518,594,0,643,0,692,691,0,658,0,595,512,0,510,0,377,329,0,337,0,347,425,0,487,314]},\"selected\":{\"id\":\"2200\",\"type\":\"Selection\"},\"selection_policy\":{\"id\":\"2199\",\"type\":\"UnionRenderers\"}},\"id\":\"2175\",\"type\":\"ColumnDataSource\"},{\"attributes\":{\"bottom\":{\"value\":0},\"fill_color\":{\"value\":\"red\"},\"left\":{\"value\":0.8776},\"right\":{\"value\":0.88},\"top\":{\"value\":151}},\"id\":\"2189\",\"type\":\"Quad\"},{\"attributes\":{\"bottom_units\":\"screen\",\"fill_alpha\":{\"value\":0.5},\"fill_color\":{\"value\":\"lightgrey\"},\"left_units\":\"screen\",\"level\":\"overlay\",\"line_alpha\":{\"value\":1.0},\"line_color\":{\"value\":\"black\"},\"line_dash\":[4,4],\"line_width\":{\"value\":2},\"render_mode\":\"css\",\"right_units\":\"screen\",\"top_units\":\"screen\"},\"id\":\"2185\",\"type\":\"BoxAnnotation\"},{\"attributes\":{\"label\":{\"value\":\"Outliers Below\"},\"renderers\":[{\"id\":\"2191\",\"type\":\"GlyphRenderer\"}]},\"id\":\"2201\",\"type\":\"LegendItem\"},{\"attributes\":{},\"id\":\"2150\",\"type\":\"LinearScale\"},{\"attributes\":{\"axis_label\":\"Frequency\",\"formatter\":{\"id\":\"2184\",\"type\":\"BasicTickFormatter\"},\"ticker\":{\"id\":\"2158\",\"type\":\"BasicTicker\"}},\"id\":\"2157\",\"type\":\"LinearAxis\"},{\"attributes\":{\"overlay\":{\"id\":\"2185\",\"type\":\"BoxAnnotation\"}},\"id\":\"2164\",\"type\":\"BoxZoomTool\"},{\"attributes\":{\"source\":{\"id\":\"2188\",\"type\":\"ColumnDataSource\"}},\"id\":\"2192\",\"type\":\"CDSView\"},{\"attributes\":{\"source\":{\"id\":\"2175\",\"type\":\"ColumnDataSource\"}},\"id\":\"2179\",\"type\":\"CDSView\"},{\"attributes\":{\"data_source\":{\"id\":\"2175\",\"type\":\"ColumnDataSource\"},\"glyph\":{\"id\":\"2176\",\"type\":\"Quad\"},\"hover_glyph\":null,\"muted_glyph\":null,\"nonselection_glyph\":{\"id\":\"2177\",\"type\":\"Quad\"},\"selection_glyph\":null,\"view\":{\"id\":\"2179\",\"type\":\"CDSView\"}},\"id\":\"2178\",\"type\":\"GlyphRenderer\"},{\"attributes\":{\"dimension\":1,\"ticker\":{\"id\":\"2158\",\"type\":\"BasicTicker\"}},\"id\":\"2161\",\"type\":\"Grid\"},{\"attributes\":{},\"id\":\"2153\",\"type\":\"BasicTicker\"},{\"attributes\":{\"ticker\":{\"id\":\"2153\",\"type\":\"BasicTicker\"}},\"id\":\"2156\",\"type\":\"Grid\"},{\"attributes\":{},\"id\":\"2162\",\"type\":\"PanTool\"}],\"root_ids\":[\"2142\"]},\"title\":\"Bokeh Application\",\"version\":\"1.4.0\"}};\n",
       "  var render_items = [{\"docid\":\"2250a5b6-33c4-45e8-a296-dfe195b8a024\",\"roots\":{\"2142\":\"8660c5f7-3cd7-4de8-9db4-4f0c1a528536\"}}];\n",
       "  root.Bokeh.embed.embed_items_notebook(docs_json, render_items);\n",
       "\n",
       "  }\n",
       "  if (root.Bokeh !== undefined) {\n",
       "    embed_document(root);\n",
       "  } else {\n",
       "    var attempts = 0;\n",
       "    var timer = setInterval(function(root) {\n",
       "      if (root.Bokeh !== undefined) {\n",
       "        clearInterval(timer);\n",
       "        embed_document(root);\n",
       "      } else {\n",
       "        attempts++;\n",
       "        if (attempts > 100) {\n",
       "          clearInterval(timer);\n",
       "          console.log(\"Bokeh: ERROR: Unable to run BokehJS code because BokehJS library is missing\");\n",
       "        }\n",
       "      }\n",
       "    }, 10, root)\n",
       "  }\n",
       "})(window);"
      ],
      "application/vnd.bokehjs_exec.v0+json": ""
     },
     "metadata": {
      "application/vnd.bokehjs_exec.v0+json": {
       "id": "2142"
      }
     },
     "output_type": "display_data"
    }
   ],
   "source": [
    "show(p)"
   ]
  },
  {
   "cell_type": "code",
   "execution_count": 104,
   "id": "8100a880",
   "metadata": {},
   "outputs": [
    {
     "name": "stderr",
     "output_type": "stream",
     "text": [
      "[Stage 104:>                                                        (0 + 1) / 1]\r"
     ]
    },
    {
     "data": {
      "text/html": [
       "\n",
       "\n",
       "\n",
       "\n",
       "\n",
       "\n",
       "  <div class=\"bk-root\" id=\"95a1a8ff-6d43-4a62-b3e4-275253d683ce\" data-root-id=\"2342\"></div>\n"
      ]
     },
     "metadata": {},
     "output_type": "display_data"
    },
    {
     "data": {
      "application/javascript": [
       "(function(root) {\n",
       "  function embed_document(root) {\n",
       "    \n",
       "  var docs_json = {\"4e078c4f-236c-45e3-b261-b87bbf790d39\":{\"roots\":{\"references\":[{\"attributes\":{\"background_fill_color\":{\"value\":\"#EEEEEE\"},\"below\":[{\"id\":\"2352\",\"type\":\"LinearAxis\"}],\"center\":[{\"id\":\"2356\",\"type\":\"Grid\"},{\"id\":\"2361\",\"type\":\"Grid\"},{\"id\":\"2386\",\"type\":\"Legend\"}],\"left\":[{\"id\":\"2357\",\"type\":\"LinearAxis\"}],\"renderers\":[{\"id\":\"2378\",\"type\":\"GlyphRenderer\"},{\"id\":\"2391\",\"type\":\"GlyphRenderer\"}],\"title\":null,\"toolbar\":{\"id\":\"2368\",\"type\":\"Toolbar\"},\"x_range\":{\"id\":\"2344\",\"type\":\"Range1d\"},\"x_scale\":{\"id\":\"2348\",\"type\":\"LinearScale\"},\"y_range\":{\"id\":\"2346\",\"type\":\"DataRange1d\"},\"y_scale\":{\"id\":\"2350\",\"type\":\"LinearScale\"}},\"id\":\"2342\",\"subtype\":\"Figure\",\"type\":\"Plot\"},{\"attributes\":{\"source\":{\"id\":\"2375\",\"type\":\"ColumnDataSource\"}},\"id\":\"2379\",\"type\":\"CDSView\"},{\"attributes\":{\"bottom\":{\"value\":0},\"fill_color\":{\"value\":\"#1f77b4\"},\"left\":{\"field\":\"left\"},\"right\":{\"field\":\"right\"},\"top\":{\"field\":\"top\"}},\"id\":\"2376\",\"type\":\"Quad\"},{\"attributes\":{\"label\":{\"value\":\"Mean Sample DP\"},\"renderers\":[{\"id\":\"2378\",\"type\":\"GlyphRenderer\"}]},\"id\":\"2387\",\"type\":\"LegendItem\"},{\"attributes\":{\"callback\":null,\"data\":{},\"selected\":{\"id\":\"2491\",\"type\":\"Selection\"},\"selection_policy\":{\"id\":\"2490\",\"type\":\"UnionRenderers\"}},\"id\":\"2388\",\"type\":\"ColumnDataSource\"},{\"attributes\":{},\"id\":\"2363\",\"type\":\"WheelZoomTool\"},{\"attributes\":{\"callback\":null,\"data\":{\"left\":[1.0,1.22,1.44,1.6600000000000001,1.88,2.1,2.3200000000000003,2.54,2.76,2.98,3.2,3.42,3.64,3.86,4.08,4.3,4.52,4.74,4.96,5.18,5.4,5.62,5.84,6.06,6.28,6.5,6.72,6.94,7.16,7.38,7.6,7.82,8.04,8.26,8.48,8.7,8.92,9.14,9.36,9.58,9.8,10.02,10.24,10.46,10.68,10.9,11.12,11.34,11.56,11.78],\"right\":[1.22,1.44,1.6600000000000001,1.88,2.1,2.3200000000000003,2.54,2.76,2.98,3.2,3.42,3.64,3.86,4.08,4.3,4.52,4.74,4.96,5.18,5.4,5.62,5.84,6.06,6.28,6.5,6.72,6.94,7.16,7.38,7.6,7.82,8.04,8.26,8.48,8.7,8.92,9.14,9.36,9.58,9.8,10.02,10.24,10.46,10.68,10.9,11.12,11.34,11.56,11.78,12.0],\"top\":[0,0,0,0,0,0,0,0,0,0,0,0,1,1,2,5,16,24,41,64,100,139,195,223,352,445,570,710,871,998,1006,953,874,741,604,434,338,174,137,64,35,25,11,2,6,2,1,1,0,0]},\"selected\":{\"id\":\"2400\",\"type\":\"Selection\"},\"selection_policy\":{\"id\":\"2399\",\"type\":\"UnionRenderers\"}},\"id\":\"2375\",\"type\":\"ColumnDataSource\"},{\"attributes\":{},\"id\":\"2384\",\"type\":\"BasicTickFormatter\"},{\"attributes\":{\"label\":{\"value\":\"Outliers Above\"},\"renderers\":[{\"id\":\"2391\",\"type\":\"GlyphRenderer\"}]},\"id\":\"2401\",\"type\":\"LegendItem\"},{\"attributes\":{\"data_source\":{\"id\":\"2375\",\"type\":\"ColumnDataSource\"},\"glyph\":{\"id\":\"2376\",\"type\":\"Quad\"},\"hover_glyph\":null,\"muted_glyph\":null,\"nonselection_glyph\":{\"id\":\"2377\",\"type\":\"Quad\"},\"selection_glyph\":null,\"view\":{\"id\":\"2379\",\"type\":\"CDSView\"}},\"id\":\"2378\",\"type\":\"GlyphRenderer\"},{\"attributes\":{},\"id\":\"2365\",\"type\":\"SaveTool\"},{\"attributes\":{},\"id\":\"2367\",\"type\":\"HelpTool\"},{\"attributes\":{},\"id\":\"2490\",\"type\":\"UnionRenderers\"},{\"attributes\":{\"callback\":null},\"id\":\"2346\",\"type\":\"DataRange1d\"},{\"attributes\":{},\"id\":\"2350\",\"type\":\"LinearScale\"},{\"attributes\":{\"callback\":null,\"end\":12.55,\"start\":0.44999999999999996},\"id\":\"2344\",\"type\":\"Range1d\"},{\"attributes\":{\"bottom\":{\"value\":0},\"fill_color\":{\"value\":\"green\"},\"left\":{\"value\":12.0},\"right\":{\"value\":12.22},\"top\":{\"value\":2}},\"id\":\"2389\",\"type\":\"Quad\"},{\"attributes\":{},\"id\":\"2399\",\"type\":\"UnionRenderers\"},{\"attributes\":{\"bottom\":{\"value\":0},\"fill_alpha\":{\"value\":0.1},\"fill_color\":{\"value\":\"#1f77b4\"},\"left\":{\"field\":\"left\"},\"line_alpha\":{\"value\":0.1},\"line_color\":{\"value\":\"#1f77b4\"},\"right\":{\"field\":\"right\"},\"top\":{\"field\":\"top\"}},\"id\":\"2377\",\"type\":\"Quad\"},{\"attributes\":{},\"id\":\"2400\",\"type\":\"Selection\"},{\"attributes\":{\"data_source\":{\"id\":\"2388\",\"type\":\"ColumnDataSource\"},\"glyph\":{\"id\":\"2389\",\"type\":\"Quad\"},\"hover_glyph\":null,\"muted_glyph\":null,\"nonselection_glyph\":{\"id\":\"2390\",\"type\":\"Quad\"},\"selection_glyph\":null,\"view\":{\"id\":\"2392\",\"type\":\"CDSView\"}},\"id\":\"2391\",\"type\":\"GlyphRenderer\"},{\"attributes\":{\"bottom_units\":\"screen\",\"fill_alpha\":{\"value\":0.5},\"fill_color\":{\"value\":\"lightgrey\"},\"left_units\":\"screen\",\"level\":\"overlay\",\"line_alpha\":{\"value\":1.0},\"line_color\":{\"value\":\"black\"},\"line_dash\":[4,4],\"line_width\":{\"value\":2},\"render_mode\":\"css\",\"right_units\":\"screen\",\"top_units\":\"screen\"},\"id\":\"2385\",\"type\":\"BoxAnnotation\"},{\"attributes\":{\"overlay\":{\"id\":\"2385\",\"type\":\"BoxAnnotation\"}},\"id\":\"2364\",\"type\":\"BoxZoomTool\"},{\"attributes\":{},\"id\":\"2362\",\"type\":\"PanTool\"},{\"attributes\":{},\"id\":\"2366\",\"type\":\"ResetTool\"},{\"attributes\":{\"ticker\":{\"id\":\"2353\",\"type\":\"BasicTicker\"}},\"id\":\"2356\",\"type\":\"Grid\"},{\"attributes\":{},\"id\":\"2358\",\"type\":\"BasicTicker\"},{\"attributes\":{},\"id\":\"2382\",\"type\":\"BasicTickFormatter\"},{\"attributes\":{},\"id\":\"2353\",\"type\":\"BasicTicker\"},{\"attributes\":{\"source\":{\"id\":\"2388\",\"type\":\"ColumnDataSource\"}},\"id\":\"2392\",\"type\":\"CDSView\"},{\"attributes\":{},\"id\":\"2348\",\"type\":\"LinearScale\"},{\"attributes\":{\"axis_label\":\"Mean Sample DP\",\"formatter\":{\"id\":\"2382\",\"type\":\"BasicTickFormatter\"},\"ticker\":{\"id\":\"2353\",\"type\":\"BasicTicker\"}},\"id\":\"2352\",\"type\":\"LinearAxis\"},{\"attributes\":{\"active_drag\":\"auto\",\"active_inspect\":\"auto\",\"active_multi\":null,\"active_scroll\":\"auto\",\"active_tap\":\"auto\",\"tools\":[{\"id\":\"2362\",\"type\":\"PanTool\"},{\"id\":\"2363\",\"type\":\"WheelZoomTool\"},{\"id\":\"2364\",\"type\":\"BoxZoomTool\"},{\"id\":\"2365\",\"type\":\"SaveTool\"},{\"id\":\"2366\",\"type\":\"ResetTool\"},{\"id\":\"2367\",\"type\":\"HelpTool\"}]},\"id\":\"2368\",\"type\":\"Toolbar\"},{\"attributes\":{},\"id\":\"2491\",\"type\":\"Selection\"},{\"attributes\":{\"bottom\":{\"value\":0},\"fill_alpha\":{\"value\":0.1},\"fill_color\":{\"value\":\"#1f77b4\"},\"left\":{\"value\":12.0},\"line_alpha\":{\"value\":0.1},\"line_color\":{\"value\":\"#1f77b4\"},\"right\":{\"value\":12.22},\"top\":{\"value\":2}},\"id\":\"2390\",\"type\":\"Quad\"},{\"attributes\":{\"axis_label\":\"Frequency\",\"formatter\":{\"id\":\"2384\",\"type\":\"BasicTickFormatter\"},\"ticker\":{\"id\":\"2358\",\"type\":\"BasicTicker\"}},\"id\":\"2357\",\"type\":\"LinearAxis\"},{\"attributes\":{\"dimension\":1,\"ticker\":{\"id\":\"2358\",\"type\":\"BasicTicker\"}},\"id\":\"2361\",\"type\":\"Grid\"},{\"attributes\":{\"items\":[{\"id\":\"2387\",\"type\":\"LegendItem\"},{\"id\":\"2401\",\"type\":\"LegendItem\"}]},\"id\":\"2386\",\"type\":\"Legend\"}],\"root_ids\":[\"2342\"]},\"title\":\"Bokeh Application\",\"version\":\"1.4.0\"}};\n",
       "  var render_items = [{\"docid\":\"4e078c4f-236c-45e3-b261-b87bbf790d39\",\"roots\":{\"2342\":\"95a1a8ff-6d43-4a62-b3e4-275253d683ce\"}}];\n",
       "  root.Bokeh.embed.embed_items_notebook(docs_json, render_items);\n",
       "\n",
       "  }\n",
       "  if (root.Bokeh !== undefined) {\n",
       "    embed_document(root);\n",
       "  } else {\n",
       "    var attempts = 0;\n",
       "    var timer = setInterval(function(root) {\n",
       "      if (root.Bokeh !== undefined) {\n",
       "        clearInterval(timer);\n",
       "        embed_document(root);\n",
       "      } else {\n",
       "        attempts++;\n",
       "        if (attempts > 100) {\n",
       "          clearInterval(timer);\n",
       "          console.log(\"Bokeh: ERROR: Unable to run BokehJS code because BokehJS library is missing\");\n",
       "        }\n",
       "      }\n",
       "    }, 10, root)\n",
       "  }\n",
       "})(window);"
      ],
      "application/vnd.bokehjs_exec.v0+json": ""
     },
     "metadata": {
      "application/vnd.bokehjs_exec.v0+json": {
       "id": "2342"
      }
     },
     "output_type": "display_data"
    }
   ],
   "source": [
    "p = hl.plot.histogram(mt.variant_qc.dp_stats.mean, range=(1,12), legend='Mean Sample DP')\n",
    "show(p)"
   ]
  },
  {
   "cell_type": "code",
   "execution_count": 105,
   "id": "f4e77170",
   "metadata": {},
   "outputs": [
    {
     "name": "stderr",
     "output_type": "stream",
     "text": [
      "[Stage 106:>                                                        (0 + 1) / 1]\r"
     ]
    }
   ],
   "source": [
    "p = hl.plot.scatter(mt.variant_qc.dp_stats.mean, mt.variant_qc.gq_stats.mean, xlabel='Mean DP', ylabel='Mean GQ')"
   ]
  },
  {
   "cell_type": "code",
   "execution_count": 106,
   "id": "e2f68250",
   "metadata": {},
   "outputs": [
    {
     "data": {
      "text/html": [
       "\n",
       "\n",
       "\n",
       "\n",
       "\n",
       "\n",
       "  <div class=\"bk-root\" id=\"db7175f9-bbec-4213-9bb9-c657d73c26c0\" data-root-id=\"2552\"></div>\n"
      ]
     },
     "metadata": {},
     "output_type": "display_data"
    },
    {
     "data": {
      "application/javascript": [
       "(function(root) {\n",
       "  function embed_document(root) {\n",
       "    \n",
       "  var docs_json = {\"f629a55a-07ba-423d-acbe-6615431479ec\":{\"roots\":{\"references\":[{\"attributes\":{\"below\":[{\"id\":\"2562\",\"type\":\"LinearAxis\"}],\"center\":[{\"id\":\"2566\",\"type\":\"Grid\"},{\"id\":\"2571\",\"type\":\"Grid\"}],\"left\":[{\"id\":\"2567\",\"type\":\"LinearAxis\"}],\"plot_height\":800,\"plot_width\":800,\"renderers\":[{\"id\":\"2591\",\"type\":\"GlyphRenderer\"}],\"title\":null,\"toolbar\":{\"id\":\"2578\",\"type\":\"Toolbar\"},\"x_range\":{\"id\":\"2554\",\"type\":\"DataRange1d\"},\"x_scale\":{\"id\":\"2558\",\"type\":\"LinearScale\"},\"y_range\":{\"id\":\"2556\",\"type\":\"DataRange1d\"},\"y_scale\":{\"id\":\"2560\",\"type\":\"LinearScale\"}},\"id\":\"2552\",\"subtype\":\"Figure\",\"type\":\"Plot\"},{\"attributes\":{},\"id\":\"2576\",\"type\":\"ResetTool\"},{\"attributes\":{},\"id\":\"2685\",\"type\":\"BasicTickFormatter\"},{\"attributes\":{},\"id\":\"2687\",\"type\":\"BasicTickFormatter\"},{\"attributes\":{\"axis_label\":\"Mean DP\",\"formatter\":{\"id\":\"2685\",\"type\":\"BasicTickFormatter\"},\"ticker\":{\"id\":\"2563\",\"type\":\"BasicTicker\"}},\"id\":\"2562\",\"type\":\"LinearAxis\"},{\"attributes\":{\"callback\":null},\"id\":\"2556\",\"type\":\"DataRange1d\"},{\"attributes\":{\"active_drag\":\"auto\",\"active_inspect\":\"auto\",\"active_multi\":null,\"active_scroll\":\"auto\",\"active_tap\":\"auto\",\"tools\":[{\"id\":\"2572\",\"type\":\"PanTool\"},{\"id\":\"2573\",\"type\":\"WheelZoomTool\"},{\"id\":\"2574\",\"type\":\"BoxZoomTool\"},{\"id\":\"2575\",\"type\":\"SaveTool\"},{\"id\":\"2576\",\"type\":\"ResetTool\"},{\"id\":\"2577\",\"type\":\"HelpTool\"},{\"id\":\"2586\",\"type\":\"HoverTool\"}]},\"id\":\"2578\",\"type\":\"Toolbar\"},{\"attributes\":{},\"id\":\"2568\",\"type\":\"BasicTicker\"},{\"attributes\":{\"overlay\":{\"id\":\"2688\",\"type\":\"BoxAnnotation\"}},\"id\":\"2574\",\"type\":\"BoxZoomTool\"},{\"attributes\":{\"fill_alpha\":{\"value\":0.1},\"fill_color\":{\"value\":\"#1f77b4\"},\"line_alpha\":{\"value\":0.1},\"line_color\":{\"value\":\"#1f77b4\"},\"x\":{\"field\":\"x\"},\"y\":{\"field\":\"y\"}},\"id\":\"2590\",\"type\":\"Circle\"},{\"attributes\":{\"fill_color\":{\"value\":\"#1f77b4\"},\"line_color\":{\"value\":\"#1f77b4\"},\"x\":{\"field\":\"x\"},\"y\":{\"field\":\"y\"}},\"id\":\"2589\",\"type\":\"Circle\"},{\"attributes\":{},\"id\":\"2573\",\"type\":\"WheelZoomTool\"},{\"attributes\":{\"data_source\":{\"id\":\"2587\",\"type\":\"ColumnDataSource\"},\"glyph\":{\"id\":\"2589\",\"type\":\"Circle\"},\"hover_glyph\":null,\"muted_glyph\":null,\"nonselection_glyph\":{\"id\":\"2590\",\"type\":\"Circle\"},\"selection_glyph\":null,\"view\":{\"id\":\"2592\",\"type\":\"CDSView\"}},\"id\":\"2591\",\"type\":\"GlyphRenderer\"},{\"attributes\":{},\"id\":\"2689\",\"type\":\"UnionRenderers\"},{\"attributes\":{},\"id\":\"2575\",\"type\":\"SaveTool\"},{\"attributes\":{},\"id\":\"2560\",\"type\":\"LinearScale\"},{\"attributes\":{\"ticker\":{\"id\":\"2563\",\"type\":\"BasicTicker\"}},\"id\":\"2566\",\"type\":\"Grid\"},{\"attributes\":{\"dimension\":1,\"ticker\":{\"id\":\"2568\",\"type\":\"BasicTicker\"}},\"id\":\"2571\",\"type\":\"Grid\"},{\"attributes\":{},\"id\":\"2558\",\"type\":\"LinearScale\"},{\"attributes\":{\"callback\":null,\"tooltips\":[[\"x\",\"@x\"],[\"y\",\"@y\"]]},\"id\":\"2586\",\"type\":\"HoverTool\"},{\"attributes\":{},\"id\":\"2577\",\"type\":\"HelpTool\"},{\"attributes\":{\"axis_label\":\"Mean GQ\",\"formatter\":{\"id\":\"2687\",\"type\":\"BasicTickFormatter\"},\"ticker\":{\"id\":\"2568\",\"type\":\"BasicTicker\"}},\"id\":\"2567\",\"type\":\"LinearAxis\"},{\"attributes\":{},\"id\":\"2563\",\"type\":\"BasicTicker\"},{\"attributes\":{\"callback\":null,\"data\":{\"index\":[0,1,2,3,4,5,6,7,8,9,10,11,12,13,14,15,16,17,18,19,20,21,22,23,24,25,26,27,28,29,30,31,32,33,34,35,36,37,38,39,40,41,42,43,44,45,46,47,48,49,50,51,52,53,54,55,56,57,58,59,60,61,62,63,64,65,66,67,68,69,70,71,72,73,74,75,76,77,78,79,80,81,82,83,84,85,86,87,88,89,90,91,92,93,94,95,96,97,98,99,100,101,102,103,104,105,106,107,108,109,110,111,112,113,114,115,116,117,118,119,120,121,122,123,124,125,126,127,128,129,130,131,132,133,134,135,136,137,138,139,140,141,142,143,144,145,146,147,148,149,150,151,152,153,154,155,156,157,158,159,160,161,162,163,164,165,166,167,168,169,170,171,172,173,174,175,176,177,178,179,180,181,182,183,184,185,186,187,188,189,190,191,192,193,194,195,196,197,198,199,200,201,202,203,204,205,206,207,208,209,210,211,212,213,214,215,216,217,218,219,220,221,222,223,224,225,226,227,228,229,230,231,232,233,234,235,236,237,238,239,240,241,242,243,244,245,246,247,248,249,250,251,252,253,254,255,256,257,258,259,260,261,262,263,264,265,266,267,268,269,270,271,272,273,274,275,276,277,278,279,280,281,282,283,284,285,286,287,288,289,290,291,292,293,294,295,296,297,298,299,300,301,302,303,304,305,306,307,308,309,310,311,312,313,314,315,316,317,318,319,320,321,322,323,324,325,326,327,328,329,330,331,332,333,334,335,336,337,338,339,340,341,342,343,344,345,346,347,348,349,350,351,352,353,354,355,356,357,358,359,360,361,362,363,364,365,366,367,368,369,370,371,372,373,374,375,376,377,378,379,380,381,382,383,384,385,386,387,388,389,390,391,392,393,394,395,396,397,398,399,400,401,402,403,404,405,406,407,408,409,410,411,412,413,414,415,416,417,418,419,420,421,422,423,424,425,426,427,428,429,430,431,432,433,434,435,436,437,438,439,440,441,442,443,444,445,446,447,448,449,450,451,452,453,454,455,456,457,458,459,460,461,462,463,464,465,466,467,468,469,470,471,472,473,474,475,476,477,478,479,480,481,482,483,484,485,486,487,488,489,490,491,492,493,494,495,496,497,498,499,500,501,502,503,504,505,506,507,508,509,510,511,512,513,514,515,516,517,518,519,520,521,522,523,524,525,526,527,528,529,530,531,532,533,534,535,536,537,538,539,540,541,542,543,544,545,546,547,548,549,550,551,552,553,554,555,556,557,558,559,560,561,562,563,564,565,566,567,568,569,570,571,572,573,574,575,576,577,578,579,580,581,582,583,584,585,586,587,588,589,590,591,592,593,594,595,596,597,598,599,600,601,602,603,604,605,606,607,608,609,610,611,612,613,614,615,616,617,618,619,620,621,622,623,624,625,626,627,628,629,630,631,632,633,634,635,636,637,638,639,640,641,642,643,644,645,646,647,648,649,650,651,652,653,654,655,656,657,658,659,660,661,662,663,664,665,666,667,668,669,670,671,672,673,674,675,676,677,678,679,680,681,682,683,684,685,686,687,688,689,690,691,692,693,694,695,696,697,698,699,700,701,702,703,704,705,706,707,708,709,710,711,712,713,714,715,716,717,718,719,720,721,722,723,724,725,726,727,728,729,730,731,732,733,734,735,736,737,738,739,740,741,742,743,744,745,746,747,748,749,750,751,752,753,754,755,756,757,758,759,760,761,762,763,764,765,766,767,768,769,770,771,772,773,774,775,776,777,778,779,780,781,782,783,784,785,786,787,788,789,790,791,792,793,794,795,796,797,798,799,800,801,802,803,804,805,806,807,808,809,810,811,812,813,814,815,816,817,818,819,820,821,822,823,824,825,826,827,828,829,830,831,832,833,834,835,836,837,838,839,840,841,842,843,844,845,846,847,848,849,850,851,852,853,854,855,856,857,858,859,860,861,862,863,864,865,866,867,868,869,870,871,872,873,874,875,876,877,878,879,880,881,882,883,884,885,886,887,888,889,890,891,892,893,894,895,896,897,898,899,900,901,902,903,904,905,906,907,908,909,910,911,912,913,914,915,916,917,918,919,920,921,922,923,924,925,926,927,928,929,930,931,932,933,934,935,936,937,938,939,940,941,942,943,944,945,946,947,948,949,950,951,952,953,954,955,956,957,958,959,960,961,962,963,964,965,966,967,968,969,970,971,972,973,974,975,976,977,978,979,980,981,982,983,984,985,986,987,988,989,990,991,992,993,994,995,996,997,998,999,1000,1001,1002,1003,1004,1005,1006,1007,1008,1009,1010,1011,1012,1013,1014,1015,1016,1017,1018,1019,1020,1021,1022,1023,1024,1025,1026,1027,1028,1029,1030,1031,1032,1033,1034,1035,1036,1037,1038,1039,1040,1041,1042,1043,1044,1045,1046,1047,1048,1049,1050,1051,1052,1053,1054,1055,1056,1057,1058,1059,1060,1061,1062,1063,1064,1065,1066,1067,1068,1069,1070,1071,1072,1073,1074,1075,1076,1077,1078,1079,1080,1081,1082,1083,1084,1085,1086,1087,1088,1089,1090,1091,1092,1093,1094,1095,1096,1097,1098,1099,1100,1101,1102,1103,1104,1105,1106,1107,1108,1109,1110,1111,1112,1113,1114,1115,1116,1117,1118,1119,1120,1121,1122,1123,1124,1125,1126,1127,1128,1129,1130,1131,1132,1133,1134,1135,1136,1137,1138,1139,1140,1141,1142,1143,1144,1145,1146,1147,1148,1149,1150,1151,1152,1153,1154,1155,1156,1157,1158,1159,1160,1161,1162,1163,1164,1165,1166,1167,1168,1169,1170,1171,1172,1173,1174,1175,1176,1177,1178,1179,1180,1181,1182,1183,1184,1185,1186,1187,1188,1189,1190,1191,1192,1193,1194,1195,1196,1197,1198,1199,1200,1201,1202,1203,1204,1205,1206,1207,1208,1209,1210,1211,1212,1213,1214,1215,1216,1217,1218,1219,1220,1221,1222,1223,1224,1225,1226,1227,1228,1229,1230,1231,1232,1233,1234,1235,1236,1237,1238,1239,1240,1241,1242,1243,1244,1245,1246,1247,1248,1249,1250,1251,1252,1253,1254,1255,1256,1257,1258,1259,1260,1261,1262,1263,1264,1265,1266,1267,1268,1269,1270,1271,1272,1273,1274,1275,1276,1277,1278,1279,1280,1281,1282,1283,1284,1285,1286,1287,1288,1289,1290,1291,1292,1293,1294,1295,1296,1297,1298,1299,1300,1301,1302,1303,1304,1305,1306,1307,1308,1309,1310,1311,1312,1313,1314,1315,1316,1317,1318,1319,1320,1321,1322,1323,1324,1325,1326,1327,1328,1329,1330,1331,1332,1333,1334,1335,1336,1337,1338,1339,1340,1341,1342,1343,1344,1345,1346,1347,1348,1349,1350,1351,1352,1353,1354,1355,1356,1357,1358,1359,1360,1361,1362,1363,1364,1365,1366,1367,1368,1369,1370,1371,1372,1373,1374,1375,1376,1377,1378,1379,1380,1381,1382,1383,1384,1385,1386,1387,1388,1389,1390,1391,1392,1393,1394,1395,1396,1397,1398,1399,1400,1401,1402,1403,1404,1405,1406,1407,1408,1409,1410,1411,1412,1413,1414,1415,1416,1417,1418,1419,1420,1421,1422,1423,1424,1425,1426,1427,1428,1429,1430,1431,1432,1433,1434,1435,1436,1437,1438,1439,1440,1441,1442,1443,1444,1445,1446,1447,1448,1449,1450,1451,1452,1453,1454,1455,1456,1457,1458,1459,1460,1461,1462,1463,1464,1465,1466,1467,1468,1469,1470,1471,1472,1473,1474,1475,1476,1477,1478,1479,1480,1481,1482,1483,1484,1485,1486,1487,1488,1489,1490,1491,1492,1493,1494,1495,1496,1497,1498,1499,1500,1501,1502,1503,1504,1505,1506,1507,1508,1509,1510,1511,1512,1513,1514,1515,1516,1517,1518,1519,1520,1521,1522,1523,1524,1525,1526,1527,1528,1529,1530,1531,1532,1533,1534,1535,1536,1537,1538,1539,1540,1541,1542,1543,1544,1545,1546,1547,1548,1549,1550,1551,1552,1553,1554,1555,1556,1557,1558,1559,1560,1561,1562,1563,1564,1565,1566,1567,1568,1569,1570,1571,1572,1573,1574,1575,1576,1577,1578,1579,1580,1581,1582,1583,1584,1585,1586,1587,1588,1589,1590,1591,1592,1593,1594,1595,1596,1597,1598,1599,1600,1601,1602,1603,1604,1605,1606,1607,1608,1609,1610,1611,1612,1613,1614,1615,1616,1617,1618,1619,1620,1621,1622,1623,1624,1625,1626,1627,1628,1629,1630,1631,1632,1633,1634,1635,1636,1637,1638,1639,1640,1641,1642,1643,1644,1645,1646,1647,1648,1649,1650,1651,1652,1653,1654,1655,1656,1657,1658,1659,1660,1661,1662,1663,1664,1665,1666,1667,1668,1669,1670,1671,1672,1673,1674,1675,1676,1677,1678,1679,1680,1681,1682,1683,1684,1685,1686,1687,1688,1689,1690,1691,1692,1693,1694,1695,1696,1697,1698,1699,1700,1701,1702,1703,1704,1705,1706,1707,1708,1709,1710,1711,1712,1713,1714,1715,1716,1717,1718,1719,1720,1721,1722,1723,1724,1725,1726,1727,1728,1729,1730,1731,1732,1733,1734,1735,1736,1737,1738,1739,1740,1741,1742,1743,1744,1745,1746,1747,1748,1749,1750,1751,1752,1753,1754,1755,1756,1757,1758,1759,1760,1761,1762,1763,1764,1765,1766,1767,1768,1769,1770,1771,1772,1773,1774,1775,1776,1777,1778,1779,1780,1781,1782,1783,1784,1785,1786,1787,1788,1789,1790,1791,1792,1793,1794,1795,1796,1797,1798,1799,1800,1801,1802,1803,1804,1805,1806,1807,1808,1809,1810,1811,1812,1813,1814,1815,1816,1817,1818,1819,1820,1821,1822,1823,1824,1825,1826,1827,1828,1829,1830,1831,1832,1833,1834,1835,1836,1837,1838,1839,1840,1841,1842,1843,1844,1845,1846,1847,1848,1849,1850,1851,1852,1853,1854,1855,1856,1857,1858,1859,1860,1861,1862,1863,1864,1865,1866,1867,1868,1869,1870,1871,1872,1873,1874,1875,1876,1877,1878,1879,1880,1881,1882,1883,1884,1885,1886,1887,1888,1889,1890,1891,1892,1893,1894,1895,1896,1897,1898,1899,1900,1901,1902,1903,1904,1905,1906,1907,1908,1909,1910,1911,1912,1913,1914,1915,1916,1917,1918,1919,1920,1921,1922,1923,1924,1925,1926,1927,1928,1929,1930,1931,1932,1933,1934,1935,1936,1937,1938,1939,1940,1941,1942,1943,1944,1945,1946,1947,1948,1949,1950,1951,1952,1953,1954,1955,1956,1957,1958,1959,1960,1961,1962,1963,1964,1965,1966,1967,1968,1969,1970,1971,1972,1973,1974,1975,1976,1977,1978,1979,1980,1981,1982,1983,1984,1985,1986,1987,1988,1989,1990,1991,1992,1993,1994,1995,1996,1997,1998,1999,2000,2001,2002,2003,2004,2005,2006,2007,2008,2009,2010,2011,2012,2013,2014,2015,2016,2017,2018,2019,2020,2021,2022,2023,2024,2025,2026,2027,2028,2029,2030,2031,2032,2033,2034,2035,2036,2037,2038,2039,2040,2041,2042,2043,2044,2045,2046,2047,2048,2049,2050,2051,2052,2053,2054,2055,2056,2057,2058,2059,2060,2061,2062,2063,2064,2065,2066,2067,2068,2069,2070,2071,2072,2073,2074,2075,2076,2077,2078,2079,2080,2081,2082,2083,2084,2085,2086,2087,2088,2089,2090,2091,2092,2093,2094,2095,2096,2097,2098,2099,2100,2101,2102,2103,2104,2105,2106,2107,2108,2109,2110,2111,2112,2113,2114,2115,2116,2117,2118,2119,2120,2121,2122,2123,2124,2125,2126,2127,2128,2129,2130,2131,2132,2133,2134,2135,2136,2137,2138,2139,2140,2141,2142,2143,2144,2145,2146,2147,2148,2149,2150,2151,2152,2153,2154,2155,2156,2157,2158,2159,2160,2161,2162,2163,2164,2165,2166,2167,2168,2169,2170,2171,2172,2173,2174,2175,2176,2177,2178,2179,2180,2181,2182,2183,2184,2185,2186,2187,2188,2189,2190,2191,2192,2193,2194,2195,2196,2197,2198,2199,2200,2201,2202,2203,2204,2205,2206,2207,2208,2209,2210,2211,2212,2213,2214,2215,2216,2217,2218,2219,2220,2221,2222,2223,2224,2225,2226,2227,2228,2229,2230,2231,2232,2233,2234,2235,2236,2237,2238,2239,2240,2241,2242,2243,2244,2245,2246,2247,2248,2249,2250,2251,2252,2253,2254,2255,2256,2257,2258,2259,2260,2261,2262,2263,2264,2265,2266,2267,2268,2269,2270,2271,2272,2273,2274,2275,2276,2277,2278,2279,2280,2281,2282,2283,2284,2285,2286,2287,2288,2289,2290,2291,2292,2293,2294,2295,2296,2297,2298,2299,2300,2301,2302,2303,2304,2305,2306,2307,2308,2309,2310,2311,2312,2313,2314,2315,2316,2317,2318,2319,2320,2321,2322,2323,2324,2325,2326,2327,2328,2329,2330,2331,2332,2333,2334,2335,2336,2337,2338,2339,2340,2341,2342,2343,2344,2345,2346,2347,2348,2349,2350,2351,2352,2353,2354,2355,2356,2357,2358,2359,2360,2361,2362,2363,2364,2365,2366,2367,2368,2369,2370,2371,2372,2373,2374,2375,2376,2377,2378,2379,2380,2381,2382,2383,2384,2385,2386,2387,2388,2389,2390,2391,2392,2393,2394,2395,2396,2397,2398,2399,2400,2401,2402,2403,2404,2405,2406,2407,2408,2409,2410,2411,2412,2413,2414,2415,2416,2417,2418,2419,2420,2421,2422,2423,2424,2425,2426,2427,2428,2429,2430,2431,2432,2433,2434,2435,2436,2437,2438,2439,2440,2441,2442,2443,2444,2445,2446,2447,2448,2449,2450,2451,2452,2453,2454,2455,2456,2457,2458,2459,2460,2461,2462,2463,2464,2465,2466,2467,2468,2469,2470,2471,2472,2473,2474,2475,2476,2477,2478,2479,2480,2481,2482,2483,2484,2485,2486,2487,2488,2489,2490,2491,2492,2493,2494,2495,2496,2497,2498,2499,2500,2501,2502,2503,2504,2505,2506,2507,2508,2509,2510,2511,2512,2513,2514,2515,2516,2517,2518,2519,2520,2521,2522,2523,2524,2525,2526,2527,2528,2529,2530,2531,2532,2533,2534,2535,2536,2537,2538,2539,2540,2541,2542,2543,2544,2545,2546,2547,2548,2549,2550,2551,2552,2553,2554,2555,2556,2557,2558,2559,2560,2561,2562,2563,2564,2565,2566,2567,2568,2569,2570,2571,2572,2573,2574,2575,2576,2577,2578,2579,2580,2581,2582,2583,2584,2585,2586,2587,2588,2589,2590,2591,2592,2593,2594,2595,2596,2597,2598,2599,2600,2601,2602,2603,2604,2605,2606,2607,2608,2609,2610,2611,2612,2613,2614,2615,2616,2617,2618,2619,2620,2621,2622,2623,2624,2625,2626,2627,2628,2629,2630,2631,2632,2633,2634,2635,2636,2637,2638,2639,2640,2641,2642,2643,2644,2645,2646,2647,2648,2649,2650,2651,2652,2653,2654,2655,2656,2657,2658,2659,2660,2661,2662,2663,2664,2665,2666,2667,2668,2669,2670,2671,2672,2673,2674,2675,2676,2677,2678,2679,2680,2681,2682,2683,2684,2685,2686,2687,2688,2689,2690,2691,2692,2693,2694,2695,2696,2697,2698,2699,2700,2701,2702,2703,2704,2705,2706,2707,2708,2709,2710,2711,2712,2713,2714,2715,2716,2717,2718,2719,2720,2721,2722,2723,2724,2725,2726,2727,2728,2729,2730,2731,2732,2733,2734,2735,2736,2737,2738,2739,2740,2741,2742,2743,2744,2745,2746,2747,2748,2749,2750,2751,2752,2753,2754,2755,2756,2757,2758,2759,2760,2761,2762,2763,2764,2765,2766,2767,2768,2769,2770,2771,2772,2773,2774,2775,2776,2777,2778,2779,2780,2781,2782,2783,2784,2785,2786,2787,2788,2789,2790,2791,2792,2793,2794,2795,2796,2797,2798,2799,2800,2801,2802,2803,2804,2805,2806,2807,2808,2809,2810,2811,2812,2813,2814,2815,2816,2817,2818,2819,2820,2821,2822,2823,2824,2825,2826,2827,2828,2829,2830,2831,2832,2833,2834,2835,2836,2837,2838,2839,2840,2841,2842,2843,2844,2845,2846,2847,2848,2849,2850,2851,2852,2853,2854,2855,2856,2857,2858,2859,2860,2861,2862,2863,2864,2865,2866,2867,2868,2869,2870,2871,2872,2873,2874,2875,2876,2877,2878,2879,2880,2881,2882,2883,2884,2885,2886,2887,2888,2889,2890,2891,2892,2893,2894,2895,2896,2897,2898,2899,2900,2901,2902,2903,2904,2905,2906,2907,2908,2909,2910,2911,2912,2913,2914,2915,2916,2917,2918,2919,2920,2921,2922,2923,2924,2925,2926,2927,2928,2929,2930,2931,2932,2933,2934,2935,2936,2937,2938,2939,2940,2941,2942,2943,2944,2945,2946,2947,2948,2949,2950,2951,2952,2953,2954,2955,2956,2957,2958,2959,2960,2961,2962,2963,2964,2965,2966,2967,2968,2969,2970,2971,2972,2973,2974,2975,2976,2977,2978,2979,2980,2981,2982,2983,2984,2985,2986,2987,2988,2989,2990,2991,2992,2993,2994,2995,2996,2997,2998,2999,3000,3001,3002,3003,3004,3005,3006,3007,3008,3009,3010,3011,3012,3013,3014,3015,3016,3017,3018,3019,3020,3021,3022,3023,3024,3025,3026,3027,3028,3029,3030,3031,3032,3033,3034,3035,3036,3037,3038,3039,3040,3041,3042,3043,3044,3045,3046,3047,3048,3049,3050,3051,3052,3053,3054,3055,3056,3057,3058,3059,3060,3061,3062,3063,3064,3065,3066,3067,3068,3069,3070,3071,3072,3073,3074,3075,3076,3077,3078,3079,3080,3081,3082,3083,3084,3085,3086,3087,3088,3089,3090,3091,3092,3093,3094,3095,3096,3097,3098,3099,3100,3101,3102,3103,3104,3105,3106,3107,3108,3109,3110,3111,3112,3113,3114,3115,3116,3117,3118,3119,3120,3121,3122,3123,3124,3125,3126,3127,3128,3129,3130,3131,3132,3133,3134,3135,3136,3137,3138,3139,3140,3141,3142,3143,3144,3145,3146,3147,3148,3149,3150,3151,3152,3153,3154,3155,3156,3157,3158,3159,3160,3161,3162,3163,3164,3165,3166,3167,3168,3169,3170,3171,3172,3173,3174,3175,3176,3177,3178,3179,3180,3181,3182,3183,3184,3185,3186,3187,3188,3189,3190,3191,3192,3193,3194,3195,3196,3197,3198,3199,3200,3201,3202,3203,3204,3205,3206,3207,3208,3209,3210,3211,3212,3213,3214,3215,3216,3217,3218,3219,3220,3221,3222,3223,3224,3225,3226,3227,3228,3229,3230,3231,3232,3233,3234,3235,3236,3237,3238,3239,3240,3241,3242,3243,3244,3245,3246,3247,3248,3249,3250,3251,3252,3253,3254,3255,3256,3257,3258,3259,3260,3261,3262,3263,3264,3265,3266,3267,3268,3269,3270,3271,3272,3273,3274,3275,3276,3277,3278,3279,3280,3281,3282,3283,3284,3285,3286,3287,3288,3289,3290,3291,3292,3293,3294,3295,3296,3297,3298,3299,3300,3301,3302,3303,3304,3305,3306,3307,3308,3309,3310,3311,3312,3313,3314,3315,3316,3317,3318,3319,3320,3321,3322,3323,3324,3325,3326,3327,3328,3329,3330,3331,3332,3333,3334,3335,3336,3337,3338,3339,3340,3341,3342,3343,3344,3345,3346,3347,3348,3349,3350,3351,3352,3353,3354,3355,3356,3357,3358,3359,3360,3361,3362,3363,3364,3365,3366,3367,3368,3369,3370,3371,3372,3373,3374,3375,3376,3377,3378,3379,3380,3381,3382,3383,3384,3385,3386,3387,3388,3389,3390,3391,3392,3393,3394,3395,3396,3397,3398,3399,3400,3401,3402,3403,3404,3405,3406,3407,3408,3409,3410,3411,3412,3413,3414,3415,3416,3417,3418,3419,3420,3421,3422,3423,3424,3425,3426,3427,3428,3429,3430,3431,3432,3433,3434,3435,3436,3437,3438,3439,3440,3441,3442,3443,3444,3445,3446,3447,3448,3449,3450,3451,3452,3453,3454,3455,3456,3457,3458,3459,3460,3461,3462,3463,3464,3465,3466,3467,3468,3469,3470,3471,3472,3473,3474,3475,3476,3477,3478,3479,3480,3481,3482,3483,3484,3485,3486,3487,3488,3489,3490,3491,3492,3493,3494,3495,3496,3497,3498,3499,3500,3501,3502,3503,3504,3505,3506,3507,3508,3509,3510,3511,3512,3513,3514,3515,3516,3517,3518,3519,3520,3521,3522,3523,3524,3525,3526,3527,3528,3529,3530,3531,3532,3533,3534,3535,3536,3537,3538,3539,3540,3541,3542,3543,3544,3545,3546,3547,3548,3549,3550,3551,3552,3553,3554,3555,3556,3557,3558,3559,3560,3561,3562,3563,3564,3565,3566,3567,3568,3569,3570,3571,3572,3573,3574,3575,3576,3577,3578,3579,3580,3581,3582,3583,3584,3585,3586,3587,3588,3589,3590,3591,3592,3593,3594,3595,3596,3597,3598,3599,3600,3601,3602,3603,3604,3605,3606,3607,3608,3609,3610,3611,3612,3613,3614,3615,3616,3617,3618,3619,3620,3621,3622,3623,3624,3625,3626,3627,3628,3629,3630,3631,3632,3633,3634,3635,3636,3637,3638,3639,3640,3641,3642,3643,3644,3645,3646,3647,3648,3649,3650,3651,3652,3653,3654,3655,3656,3657,3658,3659,3660,3661,3662,3663,3664,3665,3666,3667,3668,3669,3670,3671,3672,3673,3674,3675,3676,3677,3678,3679,3680,3681,3682,3683,3684,3685,3686,3687,3688,3689,3690,3691,3692,3693,3694,3695,3696,3697,3698,3699,3700,3701,3702,3703,3704,3705,3706,3707,3708,3709,3710,3711,3712,3713,3714,3715,3716,3717,3718,3719,3720,3721,3722,3723,3724,3725,3726,3727,3728,3729,3730,3731,3732,3733,3734,3735,3736,3737,3738,3739,3740,3741,3742,3743,3744,3745,3746,3747,3748,3749,3750,3751,3752,3753,3754,3755,3756,3757,3758,3759,3760,3761,3762,3763,3764,3765,3766,3767,3768,3769,3770,3771,3772,3773,3774,3775,3776,3777,3778,3779,3780,3781,3782,3783,3784,3785,3786,3787,3788,3789,3790,3791,3792,3793,3794,3795,3796,3797,3798,3799,3800,3801,3802,3803,3804,3805,3806,3807,3808,3809,3810,3811,3812,3813,3814,3815,3816,3817,3818,3819,3820,3821,3822,3823,3824,3825,3826,3827,3828,3829,3830,3831,3832,3833,3834,3835,3836,3837,3838,3839,3840,3841,3842,3843,3844,3845,3846,3847,3848,3849,3850,3851,3852,3853,3854,3855,3856,3857,3858,3859,3860,3861,3862,3863,3864,3865,3866,3867,3868,3869,3870,3871,3872,3873,3874,3875,3876,3877,3878,3879,3880,3881,3882,3883,3884,3885,3886,3887,3888,3889,3890,3891,3892,3893,3894,3895,3896,3897,3898,3899,3900,3901,3902,3903,3904,3905,3906,3907,3908,3909,3910,3911,3912,3913,3914,3915,3916,3917,3918,3919,3920,3921,3922,3923,3924,3925,3926,3927,3928,3929,3930,3931,3932,3933,3934,3935,3936,3937,3938,3939,3940,3941,3942,3943,3944,3945,3946,3947,3948,3949,3950,3951,3952,3953,3954,3955,3956,3957,3958,3959,3960,3961,3962,3963,3964,3965,3966,3967,3968,3969,3970,3971,3972,3973,3974,3975,3976,3977,3978,3979,3980,3981,3982,3983,3984,3985,3986,3987,3988,3989,3990,3991,3992,3993,3994,3995,3996,3997,3998,3999,4000,4001,4002,4003,4004,4005,4006,4007,4008,4009,4010,4011,4012,4013,4014,4015,4016,4017,4018,4019,4020,4021,4022,4023,4024,4025,4026,4027,4028,4029,4030,4031,4032,4033,4034,4035,4036,4037,4038,4039,4040,4041,4042,4043,4044,4045,4046,4047,4048,4049,4050,4051,4052,4053,4054,4055,4056,4057,4058,4059,4060,4061,4062,4063,4064,4065,4066,4067,4068,4069,4070,4071,4072,4073,4074,4075,4076,4077,4078,4079,4080,4081,4082,4083,4084,4085,4086,4087,4088,4089,4090,4091,4092,4093,4094,4095,4096,4097,4098,4099,4100,4101,4102,4103,4104,4105,4106,4107,4108,4109,4110,4111,4112,4113,4114,4115,4116,4117,4118,4119,4120,4121,4122,4123,4124,4125,4126,4127,4128,4129,4130,4131,4132,4133,4134,4135,4136,4137,4138,4139,4140,4141,4142,4143,4144,4145,4146,4147,4148,4149,4150,4151,4152,4153,4154,4155,4156,4157,4158,4159,4160,4161,4162,4163,4164,4165,4166,4167,4168,4169,4170,4171,4172,4173,4174,4175,4176,4177,4178,4179,4180,4181,4182,4183,4184,4185,4186,4187,4188,4189,4190,4191,4192,4193,4194,4195,4196,4197,4198,4199,4200,4201,4202,4203,4204,4205,4206,4207,4208,4209,4210,4211,4212,4213,4214,4215,4216,4217,4218,4219,4220,4221,4222,4223,4224,4225,4226,4227,4228,4229,4230,4231,4232,4233,4234,4235,4236,4237,4238,4239,4240,4241,4242,4243,4244,4245,4246,4247,4248,4249,4250,4251,4252,4253,4254,4255,4256,4257,4258,4259,4260,4261,4262,4263,4264,4265,4266,4267,4268,4269,4270,4271,4272,4273,4274,4275,4276,4277,4278,4279,4280,4281,4282,4283,4284,4285,4286,4287,4288,4289,4290,4291,4292,4293,4294,4295,4296,4297,4298,4299,4300,4301,4302,4303,4304,4305,4306,4307,4308,4309,4310,4311,4312,4313,4314,4315,4316,4317,4318,4319,4320,4321,4322,4323,4324,4325,4326,4327,4328,4329,4330,4331,4332,4333,4334,4335,4336,4337,4338,4339,4340,4341,4342,4343,4344,4345,4346,4347,4348,4349,4350,4351,4352,4353,4354,4355,4356,4357,4358,4359,4360,4361,4362,4363,4364,4365,4366,4367,4368,4369,4370,4371,4372,4373,4374,4375,4376,4377,4378,4379,4380,4381,4382,4383,4384,4385,4386,4387,4388,4389,4390,4391,4392,4393,4394,4395,4396,4397,4398,4399,4400,4401,4402,4403,4404,4405,4406,4407,4408,4409,4410,4411,4412,4413,4414,4415,4416,4417,4418,4419,4420,4421,4422,4423,4424,4425,4426,4427,4428,4429,4430,4431,4432,4433,4434,4435,4436,4437,4438,4439,4440,4441,4442,4443,4444,4445,4446,4447,4448,4449,4450,4451,4452,4453,4454,4455,4456,4457,4458,4459,4460,4461,4462,4463,4464,4465,4466,4467,4468,4469,4470,4471,4472,4473,4474,4475,4476,4477,4478,4479,4480,4481,4482,4483,4484,4485,4486,4487,4488,4489,4490,4491,4492,4493,4494,4495,4496,4497,4498,4499,4500,4501,4502,4503,4504,4505,4506,4507,4508,4509,4510,4511,4512,4513,4514,4515,4516,4517,4518,4519,4520,4521,4522,4523,4524,4525,4526,4527,4528,4529,4530,4531,4532,4533,4534,4535,4536,4537,4538,4539,4540,4541,4542,4543,4544,4545,4546,4547,4548,4549,4550,4551,4552,4553,4554,4555,4556,4557,4558,4559,4560,4561,4562,4563,4564,4565,4566,4567,4568,4569,4570,4571,4572,4573,4574,4575,4576,4577,4578,4579,4580,4581,4582,4583,4584,4585,4586,4587,4588,4589,4590,4591,4592,4593,4594,4595,4596,4597,4598,4599,4600,4601,4602,4603,4604,4605,4606,4607,4608,4609,4610,4611,4612,4613,4614,4615,4616,4617,4618,4619,4620,4621,4622,4623,4624,4625,4626,4627,4628,4629,4630,4631,4632,4633,4634,4635,4636,4637,4638,4639,4640,4641,4642,4643,4644,4645,4646,4647,4648,4649,4650,4651,4652,4653,4654,4655,4656,4657,4658,4659,4660,4661,4662,4663,4664,4665,4666,4667,4668,4669,4670,4671,4672,4673,4674,4675,4676,4677,4678,4679,4680,4681,4682,4683,4684,4685,4686,4687,4688,4689,4690,4691,4692,4693,4694,4695,4696,4697,4698,4699,4700,4701,4702,4703,4704,4705,4706,4707,4708,4709,4710,4711,4712,4713,4714,4715,4716,4717,4718,4719,4720,4721,4722,4723,4724,4725,4726,4727,4728,4729,4730,4731,4732,4733,4734,4735,4736,4737,4738,4739,4740,4741,4742,4743,4744,4745,4746,4747,4748,4749,4750,4751,4752,4753,4754,4755,4756,4757,4758,4759,4760,4761,4762,4763,4764,4765,4766,4767,4768,4769,4770,4771,4772,4773,4774,4775,4776,4777,4778,4779,4780,4781,4782,4783,4784,4785,4786,4787,4788,4789,4790,4791,4792,4793,4794,4795,4796,4797,4798,4799,4800,4801,4802,4803,4804,4805,4806,4807,4808,4809,4810,4811,4812,4813,4814,4815,4816,4817,4818,4819,4820,4821,4822,4823,4824,4825,4826,4827,4828,4829,4830,4831,4832,4833,4834,4835,4836,4837,4838,4839,4840,4841,4842,4843,4844,4845,4846,4847,4848,4849,4850,4851,4852,4853,4854,4855,4856,4857,4858,4859,4860,4861,4862,4863,4864,4865,4866,4867,4868,4869,4870,4871,4872,4873,4874,4875,4876,4877,4878,4879,4880,4881,4882,4883,4884,4885,4886,4887,4888,4889,4890,4891,4892,4893,4894,4895,4896,4897,4898,4899,4900,4901,4902,4903,4904,4905,4906,4907,4908,4909,4910,4911,4912,4913,4914,4915,4916,4917,4918,4919,4920,4921,4922,4923,4924,4925,4926,4927,4928,4929,4930,4931,4932,4933,4934,4935,4936,4937,4938,4939,4940,4941,4942,4943,4944,4945,4946,4947,4948,4949,4950,4951,4952,4953,4954,4955,4956,4957,4958,4959,4960,4961,4962,4963,4964,4965,4966,4967,4968,4969,4970,4971,4972,4973,4974,4975,4976,4977,4978,4979,4980,4981,4982,4983,4984,4985,4986,4987,4988,4989,4990,4991,4992,4993,4994,4995,4996,4997,4998,4999,5000,5001,5002,5003,5004,5005,5006,5007,5008,5009,5010,5011,5012,5013,5014,5015,5016,5017,5018,5019,5020,5021,5022,5023,5024,5025,5026,5027,5028,5029,5030,5031,5032,5033,5034,5035,5036,5037,5038,5039,5040,5041,5042,5043,5044,5045,5046,5047,5048,5049,5050,5051,5052,5053,5054,5055,5056,5057,5058,5059,5060,5061,5062,5063,5064,5065,5066,5067,5068,5069,5070,5071,5072,5073,5074,5075,5076,5077,5078,5079,5080,5081,5082,5083,5084,5085,5086,5087,5088,5089,5090,5091,5092,5093,5094,5095,5096,5097,5098,5099,5100,5101,5102,5103,5104,5105,5106,5107,5108,5109,5110,5111,5112,5113,5114,5115,5116,5117,5118,5119,5120,5121,5122,5123,5124,5125,5126,5127,5128,5129,5130,5131,5132,5133,5134,5135,5136,5137,5138,5139,5140,5141,5142,5143,5144,5145,5146,5147,5148,5149,5150,5151,5152,5153,5154,5155,5156,5157,5158,5159,5160,5161,5162,5163,5164,5165,5166,5167,5168,5169,5170,5171,5172,5173,5174,5175,5176,5177,5178,5179,5180,5181,5182,5183,5184,5185,5186,5187,5188,5189,5190,5191,5192,5193,5194,5195,5196,5197,5198,5199,5200,5201,5202,5203,5204,5205,5206,5207,5208,5209,5210,5211,5212,5213,5214,5215,5216,5217,5218,5219,5220,5221,5222,5223,5224,5225,5226,5227,5228,5229,5230,5231,5232,5233,5234,5235,5236,5237,5238,5239,5240,5241,5242,5243,5244,5245,5246,5247,5248,5249,5250,5251,5252,5253,5254,5255,5256,5257,5258,5259,5260,5261,5262,5263,5264,5265,5266,5267,5268,5269,5270,5271,5272,5273,5274,5275,5276,5277,5278,5279,5280,5281,5282,5283,5284,5285,5286,5287,5288,5289,5290,5291,5292,5293,5294,5295,5296,5297,5298,5299,5300,5301,5302,5303,5304,5305,5306,5307,5308,5309,5310,5311,5312,5313,5314,5315,5316,5317,5318,5319,5320,5321,5322,5323,5324,5325,5326,5327,5328,5329,5330,5331,5332,5333,5334,5335,5336,5337,5338,5339,5340,5341,5342,5343,5344,5345,5346,5347,5348,5349,5350,5351,5352,5353,5354,5355,5356,5357,5358,5359,5360,5361,5362,5363,5364,5365,5366,5367,5368,5369,5370,5371,5372,5373,5374,5375,5376,5377,5378,5379,5380,5381,5382,5383,5384,5385,5386,5387,5388,5389,5390,5391,5392,5393,5394,5395,5396,5397,5398,5399,5400,5401,5402,5403,5404,5405,5406,5407,5408,5409,5410,5411,5412,5413,5414,5415,5416,5417,5418,5419,5420,5421,5422,5423,5424,5425,5426,5427,5428,5429,5430,5431,5432,5433,5434,5435,5436,5437,5438,5439,5440,5441,5442,5443,5444,5445,5446,5447,5448,5449,5450,5451,5452,5453,5454,5455,5456,5457,5458,5459,5460,5461,5462,5463,5464,5465,5466,5467,5468,5469,5470,5471,5472,5473,5474,5475,5476,5477,5478,5479,5480,5481,5482,5483,5484,5485,5486,5487,5488,5489,5490,5491,5492,5493,5494,5495,5496,5497,5498,5499,5500,5501,5502,5503,5504,5505,5506,5507,5508,5509,5510,5511,5512,5513,5514,5515,5516,5517,5518,5519,5520,5521,5522,5523,5524,5525,5526,5527,5528,5529,5530,5531,5532,5533,5534,5535,5536,5537,5538,5539,5540,5541,5542,5543,5544,5545,5546,5547,5548,5549,5550,5551,5552,5553,5554,5555,5556,5557,5558,5559,5560,5561,5562,5563,5564,5565,5566,5567,5568,5569,5570,5571,5572,5573,5574,5575,5576,5577,5578,5579,5580,5581,5582,5583,5584,5585,5586,5587,5588,5589,5590,5591,5592,5593,5594,5595,5596,5597,5598,5599,5600,5601,5602,5603,5604,5605,5606,5607,5608,5609,5610,5611,5612,5613,5614,5615,5616,5617,5618,5619,5620,5621,5622,5623,5624,5625,5626,5627,5628,5629,5630,5631,5632,5633,5634,5635,5636,5637,5638,5639,5640,5641,5642,5643,5644,5645,5646,5647,5648,5649,5650,5651,5652,5653,5654,5655,5656,5657,5658,5659,5660,5661,5662,5663,5664,5665,5666,5667,5668,5669,5670,5671,5672,5673,5674,5675,5676,5677,5678,5679,5680,5681,5682,5683,5684,5685,5686,5687,5688,5689,5690,5691,5692,5693,5694,5695,5696,5697,5698,5699,5700,5701,5702,5703,5704,5705,5706,5707,5708,5709,5710,5711,5712,5713,5714,5715,5716,5717,5718,5719,5720,5721,5722,5723,5724,5725,5726,5727,5728,5729,5730,5731,5732,5733,5734,5735,5736,5737,5738,5739,5740,5741,5742,5743,5744,5745,5746,5747,5748,5749,5750,5751,5752,5753,5754,5755,5756,5757,5758,5759,5760,5761,5762,5763,5764,5765,5766,5767,5768,5769,5770,5771,5772,5773,5774,5775,5776,5777,5778,5779,5780,5781,5782,5783,5784,5785,5786,5787,5788,5789,5790,5791,5792,5793,5794,5795,5796,5797,5798,5799,5800,5801,5802,5803,5804,5805,5806,5807,5808,5809,5810,5811,5812,5813,5814,5815,5816,5817,5818,5819,5820,5821,5822,5823,5824,5825,5826,5827,5828,5829,5830,5831,5832,5833,5834,5835,5836,5837,5838,5839,5840,5841,5842,5843,5844,5845,5846,5847,5848,5849,5850,5851,5852,5853,5854,5855,5856,5857,5858,5859,5860,5861,5862,5863,5864,5865,5866,5867,5868,5869,5870,5871,5872,5873,5874,5875,5876,5877,5878,5879,5880,5881,5882,5883,5884,5885,5886,5887,5888,5889,5890,5891,5892,5893,5894,5895,5896,5897,5898,5899,5900,5901,5902,5903,5904,5905,5906,5907,5908,5909,5910,5911,5912,5913,5914,5915,5916,5917,5918,5919,5920,5921,5922,5923,5924,5925,5926,5927,5928,5929,5930,5931,5932,5933,5934,5935,5936,5937,5938,5939,5940,5941,5942,5943,5944,5945,5946,5947,5948,5949,5950,5951,5952,5953,5954,5955,5956,5957,5958,5959,5960,5961,5962,5963,5964,5965,5966,5967,5968,5969,5970,5971,5972,5973,5974,5975,5976,5977,5978,5979,5980,5981,5982,5983,5984,5985,5986,5987,5988,5989,5990,5991,5992,5993,5994,5995,5996,5997,5998,5999,6000,6001,6002,6003,6004,6005,6006,6007,6008,6009,6010,6011,6012,6013,6014,6015,6016,6017,6018,6019,6020,6021,6022,6023,6024,6025,6026,6027,6028,6029,6030,6031,6032,6033,6034,6035,6036,6037,6038,6039,6040,6041,6042,6043,6044,6045,6046,6047,6048,6049,6050,6051,6052,6053,6054,6055,6056,6057,6058,6059,6060,6061,6062,6063,6064,6065,6066,6067,6068,6069,6070,6071,6072,6073,6074,6075,6076,6077,6078,6079,6080,6081,6082,6083,6084,6085,6086,6087,6088,6089,6090,6091,6092,6093,6094,6095,6096,6097,6098,6099,6100,6101,6102,6103,6104,6105,6106,6107,6108,6109,6110,6111,6112,6113,6114,6115,6116,6117,6118,6119,6120,6121,6122,6123,6124,6125,6126,6127,6128,6129,6130,6131,6132,6133,6134,6135,6136,6137,6138,6139,6140,6141,6142,6143,6144,6145,6146,6147,6148,6149,6150,6151,6152,6153,6154,6155,6156,6157,6158,6159,6160,6161,6162,6163,6164,6165,6166,6167,6168,6169,6170,6171,6172,6173,6174,6175,6176,6177,6178,6179,6180,6181,6182,6183,6184,6185,6186,6187,6188,6189,6190,6191,6192,6193,6194,6195,6196,6197,6198,6199,6200,6201,6202,6203,6204,6205,6206,6207,6208,6209,6210,6211,6212,6213,6214,6215,6216,6217,6218,6219,6220,6221,6222,6223,6224,6225,6226,6227,6228,6229,6230,6231,6232,6233,6234,6235,6236,6237,6238,6239,6240,6241,6242,6243,6244,6245,6246,6247,6248,6249,6250],\"x\":{\"__ndarray__\":\"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\",\"dtype\":\"float64\",\"shape\":[6251]},\"y\":{\"__ndarray__\":\"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\",\"dtype\":\"float64\",\"shape\":[6251]}},\"selected\":{\"id\":\"2690\",\"type\":\"Selection\"},\"selection_policy\":{\"id\":\"2689\",\"type\":\"UnionRenderers\"}},\"id\":\"2587\",\"type\":\"ColumnDataSource\"},{\"attributes\":{},\"id\":\"2572\",\"type\":\"PanTool\"},{\"attributes\":{\"callback\":null},\"id\":\"2554\",\"type\":\"DataRange1d\"},{\"attributes\":{\"bottom_units\":\"screen\",\"fill_alpha\":{\"value\":0.5},\"fill_color\":{\"value\":\"lightgrey\"},\"left_units\":\"screen\",\"level\":\"overlay\",\"line_alpha\":{\"value\":1.0},\"line_color\":{\"value\":\"black\"},\"line_dash\":[4,4],\"line_width\":{\"value\":2},\"render_mode\":\"css\",\"right_units\":\"screen\",\"top_units\":\"screen\"},\"id\":\"2688\",\"type\":\"BoxAnnotation\"},{\"attributes\":{},\"id\":\"2690\",\"type\":\"Selection\"},{\"attributes\":{\"source\":{\"id\":\"2587\",\"type\":\"ColumnDataSource\"}},\"id\":\"2592\",\"type\":\"CDSView\"}],\"root_ids\":[\"2552\"]},\"title\":\"Bokeh Application\",\"version\":\"1.4.0\"}};\n",
       "  var render_items = [{\"docid\":\"f629a55a-07ba-423d-acbe-6615431479ec\",\"roots\":{\"2552\":\"db7175f9-bbec-4213-9bb9-c657d73c26c0\"}}];\n",
       "  root.Bokeh.embed.embed_items_notebook(docs_json, render_items);\n",
       "\n",
       "  }\n",
       "  if (root.Bokeh !== undefined) {\n",
       "    embed_document(root);\n",
       "  } else {\n",
       "    var attempts = 0;\n",
       "    var timer = setInterval(function(root) {\n",
       "      if (root.Bokeh !== undefined) {\n",
       "        clearInterval(timer);\n",
       "        embed_document(root);\n",
       "      } else {\n",
       "        attempts++;\n",
       "        if (attempts > 100) {\n",
       "          clearInterval(timer);\n",
       "          console.log(\"Bokeh: ERROR: Unable to run BokehJS code because BokehJS library is missing\");\n",
       "        }\n",
       "      }\n",
       "    }, 10, root)\n",
       "  }\n",
       "})(window);"
      ],
      "application/vnd.bokehjs_exec.v0+json": ""
     },
     "metadata": {
      "application/vnd.bokehjs_exec.v0+json": {
       "id": "2552"
      }
     },
     "output_type": "display_data"
    }
   ],
   "source": [
    "show(p)"
   ]
  },
  {
   "cell_type": "markdown",
   "id": "84ac5f03",
   "metadata": {},
   "source": [
    "**Removing Outliers from Dataset**"
   ]
  },
  {
   "cell_type": "code",
   "execution_count": 107,
   "id": "ff35648a",
   "metadata": {},
   "outputs": [],
   "source": [
    "mt = mt.filter_rows((mt.variant_qc.dp_stats.mean >= 3.2) & (mt.variant_qc.call_rate >= 0.88) & (mt.variant_qc.gq_stats.mean >= 20))"
   ]
  },
  {
   "cell_type": "code",
   "execution_count": 108,
   "id": "7bbb0dd6",
   "metadata": {},
   "outputs": [
    {
     "name": "stderr",
     "output_type": "stream",
     "text": [
      "[Stage 108:>                                                        (0 + 1) / 1]\r"
     ]
    },
    {
     "name": "stdout",
     "output_type": "stream",
     "text": [
      "After filter, 10016/10879 variants remain.\n"
     ]
    }
   ],
   "source": [
    "print('After filter, %d/10879 variants remain.' %mt.count_rows())"
   ]
  },
  {
   "cell_type": "code",
   "execution_count": 109,
   "id": "c2afcc59",
   "metadata": {},
   "outputs": [],
   "source": [
    "#Try HWE!"
   ]
  }
 ],
 "metadata": {
  "kernelspec": {
   "display_name": "Python 3 (ipykernel)",
   "language": "python",
   "name": "python3"
  },
  "language_info": {
   "codemirror_mode": {
    "name": "ipython",
    "version": 3
   },
   "file_extension": ".py",
   "mimetype": "text/x-python",
   "name": "python",
   "nbconvert_exporter": "python",
   "pygments_lexer": "ipython3",
   "version": "3.8.10"
  }
 },
 "nbformat": 4,
 "nbformat_minor": 5
}
